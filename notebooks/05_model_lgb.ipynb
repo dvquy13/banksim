{
 "cells": [
  {
   "cell_type": "code",
   "execution_count": 1,
   "metadata": {},
   "outputs": [],
   "source": [
    "import sys\n",
    "import os\n",
    "\n",
    "%load_ext autoreload\n",
    "%autoreload 2\n",
    "%matplotlib inline\n",
    "\n",
    "import pandas as pd\n",
    "import numpy as np\n",
    "from matplotlib import pyplot as plt\n",
    "\n",
    "import seaborn as sns\n",
    "\n",
    "from sklearn.preprocessing import LabelEncoder\n",
    "\n",
    "import lightgbm as lgb\n",
    "\n",
    "from sklearn.feature_selection import SelectFromModel\n",
    "\n",
    "from sklearn.model_selection import cross_validate\n",
    "from sklearn.model_selection import KFold, cross_val_score\n",
    "\n",
    "from sklearn.pipeline import make_pipeline\n",
    "\n",
    "from sklearn import metrics\n",
    "\n",
    "import mlflow\n",
    "local_tracking_uri = os.path.abspath('../' + 'mlruns')\n",
    "mlflow.set_tracking_uri(local_tracking_uri)\n",
    "\n",
    "mlflow_client = mlflow.tracking.MlflowClient()\n",
    "\n",
    "# Custom modules\n",
    "\n",
    "import sys\n",
    "import os\n",
    "ROOT_DIR = os.path.abspath('../')\n",
    "sys.path.insert(0, ROOT_DIR + \"/src\")\n",
    "\n",
    "import utils"
   ]
  },
  {
   "cell_type": "markdown",
   "metadata": {},
   "source": [
    "# Approach"
   ]
  },
  {
   "cell_type": "markdown",
   "metadata": {},
   "source": [
    "- Based on EDA results from notebook `01_eda`, the baseline we're going to use is 55% accuracy by predicting all customers being female.\n",
    "- Given this dataset and a timeline of a few days, a reasonable goal is to build a classifier with 70% accuracy."
   ]
  },
  {
   "cell_type": "markdown",
   "metadata": {},
   "source": [
    "# Constants"
   ]
  },
  {
   "cell_type": "code",
   "execution_count": 4,
   "metadata": {},
   "outputs": [],
   "source": [
    "TRAIN_INPUT_PATH = '../data/process/train_data_fe3.csv'\n",
    "TEST_INPUT_PATH = '../data/process/test_data_fe3.csv'\n",
    "LABEL_COL = 'gender'\n",
    "\n",
    "SCORING = ['roc_auc', 'f1_micro', 'f1_weighted', 'precision', 'recall']"
   ]
  },
  {
   "cell_type": "markdown",
   "metadata": {},
   "source": [
    "# Load input"
   ]
  },
  {
   "cell_type": "code",
   "execution_count": 5,
   "metadata": {},
   "outputs": [],
   "source": [
    "train_df = pd.read_csv(TRAIN_INPUT_PATH)\n",
    "test_df = pd.read_csv(TEST_INPUT_PATH)"
   ]
  },
  {
   "cell_type": "code",
   "execution_count": 6,
   "metadata": {},
   "outputs": [
    {
     "data": {
      "text/html": [
       "<div>\n",
       "<style scoped>\n",
       "    .dataframe tbody tr th:only-of-type {\n",
       "        vertical-align: middle;\n",
       "    }\n",
       "\n",
       "    .dataframe tbody tr th {\n",
       "        vertical-align: top;\n",
       "    }\n",
       "\n",
       "    .dataframe thead th {\n",
       "        text-align: right;\n",
       "    }\n",
       "</style>\n",
       "<table border=\"1\" class=\"dataframe\">\n",
       "  <thead>\n",
       "    <tr style=\"text-align: right;\">\n",
       "      <th></th>\n",
       "      <th>age = 2</th>\n",
       "      <th>age = 3</th>\n",
       "      <th>age = 4</th>\n",
       "      <th>age = 5</th>\n",
       "      <th>age = 1</th>\n",
       "      <th>age = 6</th>\n",
       "      <th>age = 0</th>\n",
       "      <th>age is unknown</th>\n",
       "      <th>SUM(txn_logs.step)</th>\n",
       "      <th>SUM(txn_logs.amount)</th>\n",
       "      <th>...</th>\n",
       "      <th>MODE(txn_logs.merchant) is unknown</th>\n",
       "      <th>NUM_UNIQUE(txn_logs.merchants.category)</th>\n",
       "      <th>MODE(txn_logs.merchants.category) = es_transportation</th>\n",
       "      <th>MODE(txn_logs.merchants.category) = es_health</th>\n",
       "      <th>MODE(txn_logs.merchants.category) = es_wellnessandbeauty</th>\n",
       "      <th>MODE(txn_logs.merchants.category) = es_sportsandtoys</th>\n",
       "      <th>MODE(txn_logs.merchants.category) = es_fashion</th>\n",
       "      <th>MODE(txn_logs.merchants.category) = es_home</th>\n",
       "      <th>MODE(txn_logs.merchants.category) is unknown</th>\n",
       "      <th>gender</th>\n",
       "    </tr>\n",
       "  </thead>\n",
       "  <tbody>\n",
       "    <tr>\n",
       "      <th>0</th>\n",
       "      <td>0</td>\n",
       "      <td>0</td>\n",
       "      <td>1</td>\n",
       "      <td>0</td>\n",
       "      <td>0</td>\n",
       "      <td>0</td>\n",
       "      <td>0</td>\n",
       "      <td>0</td>\n",
       "      <td>14681</td>\n",
       "      <td>4716.20</td>\n",
       "      <td>...</td>\n",
       "      <td>0</td>\n",
       "      <td>5</td>\n",
       "      <td>1</td>\n",
       "      <td>0</td>\n",
       "      <td>0</td>\n",
       "      <td>0</td>\n",
       "      <td>0</td>\n",
       "      <td>0</td>\n",
       "      <td>0</td>\n",
       "      <td>M</td>\n",
       "    </tr>\n",
       "    <tr>\n",
       "      <th>1</th>\n",
       "      <td>1</td>\n",
       "      <td>0</td>\n",
       "      <td>0</td>\n",
       "      <td>0</td>\n",
       "      <td>0</td>\n",
       "      <td>0</td>\n",
       "      <td>0</td>\n",
       "      <td>0</td>\n",
       "      <td>15401</td>\n",
       "      <td>5519.77</td>\n",
       "      <td>...</td>\n",
       "      <td>0</td>\n",
       "      <td>10</td>\n",
       "      <td>1</td>\n",
       "      <td>0</td>\n",
       "      <td>0</td>\n",
       "      <td>0</td>\n",
       "      <td>0</td>\n",
       "      <td>0</td>\n",
       "      <td>0</td>\n",
       "      <td>M</td>\n",
       "    </tr>\n",
       "    <tr>\n",
       "      <th>2</th>\n",
       "      <td>0</td>\n",
       "      <td>0</td>\n",
       "      <td>1</td>\n",
       "      <td>0</td>\n",
       "      <td>0</td>\n",
       "      <td>0</td>\n",
       "      <td>0</td>\n",
       "      <td>0</td>\n",
       "      <td>2494</td>\n",
       "      <td>2693.84</td>\n",
       "      <td>...</td>\n",
       "      <td>0</td>\n",
       "      <td>6</td>\n",
       "      <td>1</td>\n",
       "      <td>0</td>\n",
       "      <td>0</td>\n",
       "      <td>0</td>\n",
       "      <td>0</td>\n",
       "      <td>0</td>\n",
       "      <td>0</td>\n",
       "      <td>F</td>\n",
       "    </tr>\n",
       "    <tr>\n",
       "      <th>3</th>\n",
       "      <td>0</td>\n",
       "      <td>0</td>\n",
       "      <td>0</td>\n",
       "      <td>1</td>\n",
       "      <td>0</td>\n",
       "      <td>0</td>\n",
       "      <td>0</td>\n",
       "      <td>0</td>\n",
       "      <td>14099</td>\n",
       "      <td>4596.03</td>\n",
       "      <td>...</td>\n",
       "      <td>0</td>\n",
       "      <td>8</td>\n",
       "      <td>1</td>\n",
       "      <td>0</td>\n",
       "      <td>0</td>\n",
       "      <td>0</td>\n",
       "      <td>0</td>\n",
       "      <td>0</td>\n",
       "      <td>0</td>\n",
       "      <td>M</td>\n",
       "    </tr>\n",
       "    <tr>\n",
       "      <th>4</th>\n",
       "      <td>0</td>\n",
       "      <td>1</td>\n",
       "      <td>0</td>\n",
       "      <td>0</td>\n",
       "      <td>0</td>\n",
       "      <td>0</td>\n",
       "      <td>0</td>\n",
       "      <td>0</td>\n",
       "      <td>15827</td>\n",
       "      <td>5739.56</td>\n",
       "      <td>...</td>\n",
       "      <td>0</td>\n",
       "      <td>6</td>\n",
       "      <td>1</td>\n",
       "      <td>0</td>\n",
       "      <td>0</td>\n",
       "      <td>0</td>\n",
       "      <td>0</td>\n",
       "      <td>0</td>\n",
       "      <td>0</td>\n",
       "      <td>F</td>\n",
       "    </tr>\n",
       "    <tr>\n",
       "      <th>...</th>\n",
       "      <td>...</td>\n",
       "      <td>...</td>\n",
       "      <td>...</td>\n",
       "      <td>...</td>\n",
       "      <td>...</td>\n",
       "      <td>...</td>\n",
       "      <td>...</td>\n",
       "      <td>...</td>\n",
       "      <td>...</td>\n",
       "      <td>...</td>\n",
       "      <td>...</td>\n",
       "      <td>...</td>\n",
       "      <td>...</td>\n",
       "      <td>...</td>\n",
       "      <td>...</td>\n",
       "      <td>...</td>\n",
       "      <td>...</td>\n",
       "      <td>...</td>\n",
       "      <td>...</td>\n",
       "      <td>...</td>\n",
       "      <td>...</td>\n",
       "    </tr>\n",
       "    <tr>\n",
       "      <th>3275</th>\n",
       "      <td>0</td>\n",
       "      <td>1</td>\n",
       "      <td>0</td>\n",
       "      <td>0</td>\n",
       "      <td>0</td>\n",
       "      <td>0</td>\n",
       "      <td>0</td>\n",
       "      <td>0</td>\n",
       "      <td>963</td>\n",
       "      <td>2917.90</td>\n",
       "      <td>...</td>\n",
       "      <td>0</td>\n",
       "      <td>6</td>\n",
       "      <td>0</td>\n",
       "      <td>0</td>\n",
       "      <td>0</td>\n",
       "      <td>1</td>\n",
       "      <td>0</td>\n",
       "      <td>0</td>\n",
       "      <td>0</td>\n",
       "      <td>M</td>\n",
       "    </tr>\n",
       "    <tr>\n",
       "      <th>3276</th>\n",
       "      <td>1</td>\n",
       "      <td>0</td>\n",
       "      <td>0</td>\n",
       "      <td>0</td>\n",
       "      <td>0</td>\n",
       "      <td>0</td>\n",
       "      <td>0</td>\n",
       "      <td>0</td>\n",
       "      <td>9566</td>\n",
       "      <td>2854.58</td>\n",
       "      <td>...</td>\n",
       "      <td>0</td>\n",
       "      <td>5</td>\n",
       "      <td>1</td>\n",
       "      <td>0</td>\n",
       "      <td>0</td>\n",
       "      <td>0</td>\n",
       "      <td>0</td>\n",
       "      <td>0</td>\n",
       "      <td>0</td>\n",
       "      <td>F</td>\n",
       "    </tr>\n",
       "    <tr>\n",
       "      <th>3277</th>\n",
       "      <td>0</td>\n",
       "      <td>0</td>\n",
       "      <td>0</td>\n",
       "      <td>0</td>\n",
       "      <td>1</td>\n",
       "      <td>0</td>\n",
       "      <td>0</td>\n",
       "      <td>0</td>\n",
       "      <td>10407</td>\n",
       "      <td>2008.11</td>\n",
       "      <td>...</td>\n",
       "      <td>0</td>\n",
       "      <td>5</td>\n",
       "      <td>1</td>\n",
       "      <td>0</td>\n",
       "      <td>0</td>\n",
       "      <td>0</td>\n",
       "      <td>0</td>\n",
       "      <td>0</td>\n",
       "      <td>0</td>\n",
       "      <td>F</td>\n",
       "    </tr>\n",
       "    <tr>\n",
       "      <th>3278</th>\n",
       "      <td>0</td>\n",
       "      <td>0</td>\n",
       "      <td>1</td>\n",
       "      <td>0</td>\n",
       "      <td>0</td>\n",
       "      <td>0</td>\n",
       "      <td>0</td>\n",
       "      <td>0</td>\n",
       "      <td>960</td>\n",
       "      <td>390.57</td>\n",
       "      <td>...</td>\n",
       "      <td>0</td>\n",
       "      <td>4</td>\n",
       "      <td>0</td>\n",
       "      <td>0</td>\n",
       "      <td>0</td>\n",
       "      <td>1</td>\n",
       "      <td>0</td>\n",
       "      <td>0</td>\n",
       "      <td>0</td>\n",
       "      <td>F</td>\n",
       "    </tr>\n",
       "    <tr>\n",
       "      <th>3279</th>\n",
       "      <td>0</td>\n",
       "      <td>1</td>\n",
       "      <td>0</td>\n",
       "      <td>0</td>\n",
       "      <td>0</td>\n",
       "      <td>0</td>\n",
       "      <td>0</td>\n",
       "      <td>0</td>\n",
       "      <td>740</td>\n",
       "      <td>1351.55</td>\n",
       "      <td>...</td>\n",
       "      <td>0</td>\n",
       "      <td>3</td>\n",
       "      <td>0</td>\n",
       "      <td>0</td>\n",
       "      <td>0</td>\n",
       "      <td>0</td>\n",
       "      <td>0</td>\n",
       "      <td>1</td>\n",
       "      <td>0</td>\n",
       "      <td>F</td>\n",
       "    </tr>\n",
       "  </tbody>\n",
       "</table>\n",
       "<p>3280 rows × 46 columns</p>\n",
       "</div>"
      ],
      "text/plain": [
       "      age = 2  age = 3  age = 4  age = 5  age = 1  age = 6  age = 0  \\\n",
       "0           0        0        1        0        0        0        0   \n",
       "1           1        0        0        0        0        0        0   \n",
       "2           0        0        1        0        0        0        0   \n",
       "3           0        0        0        1        0        0        0   \n",
       "4           0        1        0        0        0        0        0   \n",
       "...       ...      ...      ...      ...      ...      ...      ...   \n",
       "3275        0        1        0        0        0        0        0   \n",
       "3276        1        0        0        0        0        0        0   \n",
       "3277        0        0        0        0        1        0        0   \n",
       "3278        0        0        1        0        0        0        0   \n",
       "3279        0        1        0        0        0        0        0   \n",
       "\n",
       "      age is unknown  SUM(txn_logs.step)  SUM(txn_logs.amount)  ...  \\\n",
       "0                  0               14681               4716.20  ...   \n",
       "1                  0               15401               5519.77  ...   \n",
       "2                  0                2494               2693.84  ...   \n",
       "3                  0               14099               4596.03  ...   \n",
       "4                  0               15827               5739.56  ...   \n",
       "...              ...                 ...                   ...  ...   \n",
       "3275               0                 963               2917.90  ...   \n",
       "3276               0                9566               2854.58  ...   \n",
       "3277               0               10407               2008.11  ...   \n",
       "3278               0                 960                390.57  ...   \n",
       "3279               0                 740               1351.55  ...   \n",
       "\n",
       "      MODE(txn_logs.merchant) is unknown  \\\n",
       "0                                      0   \n",
       "1                                      0   \n",
       "2                                      0   \n",
       "3                                      0   \n",
       "4                                      0   \n",
       "...                                  ...   \n",
       "3275                                   0   \n",
       "3276                                   0   \n",
       "3277                                   0   \n",
       "3278                                   0   \n",
       "3279                                   0   \n",
       "\n",
       "      NUM_UNIQUE(txn_logs.merchants.category)  \\\n",
       "0                                           5   \n",
       "1                                          10   \n",
       "2                                           6   \n",
       "3                                           8   \n",
       "4                                           6   \n",
       "...                                       ...   \n",
       "3275                                        6   \n",
       "3276                                        5   \n",
       "3277                                        5   \n",
       "3278                                        4   \n",
       "3279                                        3   \n",
       "\n",
       "      MODE(txn_logs.merchants.category) = es_transportation  \\\n",
       "0                                                     1       \n",
       "1                                                     1       \n",
       "2                                                     1       \n",
       "3                                                     1       \n",
       "4                                                     1       \n",
       "...                                                 ...       \n",
       "3275                                                  0       \n",
       "3276                                                  1       \n",
       "3277                                                  1       \n",
       "3278                                                  0       \n",
       "3279                                                  0       \n",
       "\n",
       "      MODE(txn_logs.merchants.category) = es_health  \\\n",
       "0                                                 0   \n",
       "1                                                 0   \n",
       "2                                                 0   \n",
       "3                                                 0   \n",
       "4                                                 0   \n",
       "...                                             ...   \n",
       "3275                                              0   \n",
       "3276                                              0   \n",
       "3277                                              0   \n",
       "3278                                              0   \n",
       "3279                                              0   \n",
       "\n",
       "      MODE(txn_logs.merchants.category) = es_wellnessandbeauty  \\\n",
       "0                                                     0          \n",
       "1                                                     0          \n",
       "2                                                     0          \n",
       "3                                                     0          \n",
       "4                                                     0          \n",
       "...                                                 ...          \n",
       "3275                                                  0          \n",
       "3276                                                  0          \n",
       "3277                                                  0          \n",
       "3278                                                  0          \n",
       "3279                                                  0          \n",
       "\n",
       "      MODE(txn_logs.merchants.category) = es_sportsandtoys  \\\n",
       "0                                                     0      \n",
       "1                                                     0      \n",
       "2                                                     0      \n",
       "3                                                     0      \n",
       "4                                                     0      \n",
       "...                                                 ...      \n",
       "3275                                                  1      \n",
       "3276                                                  0      \n",
       "3277                                                  0      \n",
       "3278                                                  1      \n",
       "3279                                                  0      \n",
       "\n",
       "      MODE(txn_logs.merchants.category) = es_fashion  \\\n",
       "0                                                  0   \n",
       "1                                                  0   \n",
       "2                                                  0   \n",
       "3                                                  0   \n",
       "4                                                  0   \n",
       "...                                              ...   \n",
       "3275                                               0   \n",
       "3276                                               0   \n",
       "3277                                               0   \n",
       "3278                                               0   \n",
       "3279                                               0   \n",
       "\n",
       "      MODE(txn_logs.merchants.category) = es_home  \\\n",
       "0                                               0   \n",
       "1                                               0   \n",
       "2                                               0   \n",
       "3                                               0   \n",
       "4                                               0   \n",
       "...                                           ...   \n",
       "3275                                            0   \n",
       "3276                                            0   \n",
       "3277                                            0   \n",
       "3278                                            0   \n",
       "3279                                            1   \n",
       "\n",
       "      MODE(txn_logs.merchants.category) is unknown  gender  \n",
       "0                                                0       M  \n",
       "1                                                0       M  \n",
       "2                                                0       F  \n",
       "3                                                0       M  \n",
       "4                                                0       F  \n",
       "...                                            ...     ...  \n",
       "3275                                             0       M  \n",
       "3276                                             0       F  \n",
       "3277                                             0       F  \n",
       "3278                                             0       F  \n",
       "3279                                             0       F  \n",
       "\n",
       "[3280 rows x 46 columns]"
      ]
     },
     "execution_count": 6,
     "metadata": {},
     "output_type": "execute_result"
    }
   ],
   "source": [
    "train_df"
   ]
  },
  {
   "cell_type": "code",
   "execution_count": 7,
   "metadata": {},
   "outputs": [],
   "source": [
    "all_df = pd.concat([train_df, test_df], axis=0)"
   ]
  },
  {
   "cell_type": "markdown",
   "metadata": {},
   "source": [
    "# Generate X, y"
   ]
  },
  {
   "cell_type": "code",
   "execution_count": 8,
   "metadata": {},
   "outputs": [],
   "source": [
    "le = LabelEncoder()"
   ]
  },
  {
   "cell_type": "code",
   "execution_count": 9,
   "metadata": {},
   "outputs": [],
   "source": [
    "X_train, y_train = train_df.drop(columns=[LABEL_COL]), le.fit_transform(train_df[LABEL_COL])\n",
    "X_test, y_test = test_df.drop(columns=[LABEL_COL]), le.transform(test_df[LABEL_COL])\n",
    "X_all, y_all = all_df.drop(columns=[LABEL_COL]), le.transform(all_df[LABEL_COL])"
   ]
  },
  {
   "cell_type": "markdown",
   "metadata": {},
   "source": [
    "# First fit"
   ]
  },
  {
   "cell_type": "code",
   "execution_count": 10,
   "metadata": {},
   "outputs": [],
   "source": [
    "clf_name = 'LightGBM'"
   ]
  },
  {
   "cell_type": "code",
   "execution_count": 11,
   "metadata": {},
   "outputs": [],
   "source": [
    "train_data = lgb.Dataset(X_train, y_train, feature_name=X_train.columns.tolist())\n",
    "validation_data = lgb.Dataset(X_test, y_test, reference=train_data)"
   ]
  },
  {
   "cell_type": "code",
   "execution_count": 18,
   "metadata": {},
   "outputs": [],
   "source": [
    "param = {'num_leaves': 31, 'objective': 'binary'}\n",
    "param['metric'] = 'auc'"
   ]
  },
  {
   "cell_type": "code",
   "execution_count": 19,
   "metadata": {
    "scrolled": true
   },
   "outputs": [
    {
     "name": "stdout",
     "output_type": "stream",
     "text": [
      "[1]\tvalid_0's auc: 0.527513\n",
      "Training until validation scores don't improve for 20 rounds\n",
      "[2]\tvalid_0's auc: 0.52254\n",
      "[3]\tvalid_0's auc: 0.515981\n",
      "[4]\tvalid_0's auc: 0.511082\n",
      "[5]\tvalid_0's auc: 0.516178\n",
      "[6]\tvalid_0's auc: 0.511819\n",
      "[7]\tvalid_0's auc: 0.510364\n",
      "[8]\tvalid_0's auc: 0.511685\n",
      "[9]\tvalid_0's auc: 0.504425\n",
      "[10]\tvalid_0's auc: 0.51181\n",
      "[11]\tvalid_0's auc: 0.508685\n",
      "[12]\tvalid_0's auc: 0.508778\n",
      "[13]\tvalid_0's auc: 0.500382\n",
      "[14]\tvalid_0's auc: 0.497552\n",
      "[15]\tvalid_0's auc: 0.500179\n",
      "[16]\tvalid_0's auc: 0.496583\n",
      "[17]\tvalid_0's auc: 0.495602\n",
      "[18]\tvalid_0's auc: 0.492281\n",
      "[19]\tvalid_0's auc: 0.496711\n",
      "[20]\tvalid_0's auc: 0.498828\n",
      "[21]\tvalid_0's auc: 0.501702\n",
      "Early stopping, best iteration is:\n",
      "[1]\tvalid_0's auc: 0.527513\n"
     ]
    }
   ],
   "source": [
    "num_round = 100\n",
    "bst = lgb.train(param, train_data, num_round, \n",
    "                valid_sets=[validation_data],\n",
    "                early_stopping_rounds=20)"
   ]
  },
  {
   "cell_type": "markdown",
   "metadata": {},
   "source": [
    "# Evaluate"
   ]
  },
  {
   "cell_type": "markdown",
   "metadata": {},
   "source": [
    "## Cross Validation"
   ]
  },
  {
   "cell_type": "code",
   "execution_count": 20,
   "metadata": {},
   "outputs": [],
   "source": [
    "full_train_data = lgb.Dataset(X_all, y_all, feature_name=X_all.columns.tolist())"
   ]
  },
  {
   "cell_type": "code",
   "execution_count": 21,
   "metadata": {},
   "outputs": [],
   "source": [
    "eval_hist = lgb.cv(param, full_train_data, bst.best_iteration, nfold=5)"
   ]
  },
  {
   "cell_type": "code",
   "execution_count": 22,
   "metadata": {
    "scrolled": true
   },
   "outputs": [
    {
     "data": {
      "text/plain": [
       "{'auc-mean': [0.4997642871886788], 'auc-stdv': [0.012234340811025346]}"
      ]
     },
     "execution_count": 22,
     "metadata": {},
     "output_type": "execute_result"
    }
   ],
   "source": [
    "eval_hist"
   ]
  },
  {
   "cell_type": "code",
   "execution_count": 23,
   "metadata": {},
   "outputs": [],
   "source": [
    "train_score_agg_dict = {'test_roc_auc': np.mean(eval_hist['auc-mean'])}"
   ]
  },
  {
   "cell_type": "code",
   "execution_count": 24,
   "metadata": {
    "scrolled": true
   },
   "outputs": [
    {
     "data": {
      "text/plain": [
       "{'test_roc_auc': 0.4997642871886788}"
      ]
     },
     "execution_count": 24,
     "metadata": {},
     "output_type": "execute_result"
    }
   ],
   "source": [
    "train_score_agg_dict"
   ]
  },
  {
   "cell_type": "markdown",
   "metadata": {},
   "source": [
    "### Store run info in MLflow"
   ]
  },
  {
   "cell_type": "code",
   "execution_count": 25,
   "metadata": {},
   "outputs": [
    {
     "name": "stdout",
     "output_type": "stream",
     "text": [
      "INFO: '8-featuretools' does not exist. Creating a new experiment\n"
     ]
    }
   ],
   "source": [
    "experiment = mlflow.set_experiment(\"8-featuretools\")"
   ]
  },
  {
   "cell_type": "code",
   "execution_count": 26,
   "metadata": {},
   "outputs": [],
   "source": [
    "with mlflow.start_run(experiment_id=experiment):\n",
    "    mlflow.log_param('data', 'fe3')\n",
    "    mlflow.log_param('num_tf', None)\n",
    "    mlflow.log_param('clf', clf_name)\n",
    "    mlflow.log_params(param)\n",
    "    mlflow.log_metrics({**train_score_agg_dict})\n",
    "    mlflow.set_tag(\"issue\", \"8\")"
   ]
  },
  {
   "cell_type": "markdown",
   "metadata": {},
   "source": [
    "# Archive"
   ]
  },
  {
   "cell_type": "markdown",
   "metadata": {},
   "source": [
    "# Hyperparm tuning"
   ]
  },
  {
   "cell_type": "code",
   "execution_count": 60,
   "metadata": {},
   "outputs": [],
   "source": [
    "random_state = 42\n",
    "num_folds = 3"
   ]
  },
  {
   "cell_type": "code",
   "execution_count": 17,
   "metadata": {},
   "outputs": [],
   "source": [
    "kf = KFold(n_splits=num_folds, shuffle=True, random_state=random_state)"
   ]
  },
  {
   "cell_type": "code",
   "execution_count": 57,
   "metadata": {},
   "outputs": [],
   "source": [
    "cnt_features = X_all.shape[1]"
   ]
  },
  {
   "cell_type": "markdown",
   "metadata": {},
   "source": [
    "## Hyperopt"
   ]
  },
  {
   "cell_type": "markdown",
   "metadata": {},
   "source": [
    "Reference: https://www.kaggle.com/ilialar/hyperparameters-tunning-with-hyperopt"
   ]
  },
  {
   "cell_type": "code",
   "execution_count": 12,
   "metadata": {},
   "outputs": [],
   "source": [
    "from hyperopt import fmin, tpe, hp, anneal, Trials"
   ]
  },
  {
   "cell_type": "code",
   "execution_count": 58,
   "metadata": {},
   "outputs": [],
   "source": [
    "def rf_f1_cv(params, random_state=random_state, cv=kf, X=X_all, y=y_all):\n",
    "    params = {'n_estimators': int(params['n_estimators']), \n",
    "              'max_depth': int(params['max_depth']),\n",
    "              'min_samples_split': int(params['min_samples_split']),\n",
    "              'min_samples_leaf': int(params['min_samples_leaf']),\n",
    "              'max_features': int(params['max_features']),\n",
    "              'bootstrap': bool(params['bootstrap'])\n",
    "             }\n",
    "    \n",
    "    model = RandomForestClassifier(random_state=random_state, **params)\n",
    "    \n",
    "    score = -cross_val_score(model, X, y, cv=cv, scoring=\"f1_micro\", n_jobs=-1).mean()\n",
    "\n",
    "    return score"
   ]
  },
  {
   "cell_type": "code",
   "execution_count": 62,
   "metadata": {
    "scrolled": true
   },
   "outputs": [
    {
     "name": "stdout",
     "output_type": "stream",
     "text": [
      "  0%|          | 85/9223372036854775807 [15:04<27257659511562695:06:40, 10.64s/trial, best loss: -0.5502468240614099]\n"
     ]
    }
   ],
   "source": [
    "space={'n_estimators': hp.quniform('n_estimators', 100, 2000, 1),\n",
    "       'max_depth' : hp.quniform('max_depth', 2, 20, 1),\n",
    "       'min_samples_split': hp.quniform('min_samples_split', 3, 50, 1),\n",
    "       'min_samples_leaf': hp.quniform('min_samples_leaf', 3, 50, 1),\n",
    "       'max_features': hp.quniform('max_features', 3, cnt_features, 1),\n",
    "       'bootstrap': hp.choice('bootstrap', (True, False))\n",
    "      }\n",
    "# n_iter = 2\n",
    "timeout = 900\n",
    "\n",
    "trials = Trials()\n",
    "\n",
    "best=fmin(fn=rf_f1_cv, # function to optimize\n",
    "          space=space,\n",
    "          algo=tpe.suggest, # optimization algorithm, hyperotp will select its parameters automatically\n",
    "#           max_evals=n_iter, # maximum number of iterations\n",
    "          timeout=timeout,\n",
    "          trials=trials, # logging\n",
    "          rstate=np.random.RandomState(random_state), # fixing random state for the reproducibility\n",
    "         )"
   ]
  },
  {
   "cell_type": "code",
   "execution_count": 76,
   "metadata": {
    "scrolled": true
   },
   "outputs": [
    {
     "data": {
      "text/plain": [
       "{'bootstrap': 0,\n",
       " 'max_depth': 2.0,\n",
       " 'max_features': 13.0,\n",
       " 'min_samples_leaf': 37.0,\n",
       " 'min_samples_split': 30.0,\n",
       " 'n_estimators': 136.0}"
      ]
     },
     "execution_count": 76,
     "metadata": {},
     "output_type": "execute_result"
    }
   ],
   "source": [
    "best"
   ]
  },
  {
   "cell_type": "code",
   "execution_count": 79,
   "metadata": {},
   "outputs": [
    {
     "name": "stdout",
     "output_type": "stream",
     "text": [
      "  0%|          | 152/9223372036854775807 [15:03<15234626903791172:16:00,  5.95s/trial, best loss: -0.5502471810789283] \n"
     ]
    }
   ],
   "source": [
    "best=fmin(fn=rf_f1_cv, # function to optimize\n",
    "          space=space,\n",
    "          algo=tpe.suggest, # optimization algorithm, hyperotp will select its parameters automatically\n",
    "#           max_evals=n_iter, # maximum number of iterations\n",
    "          timeout=900,\n",
    "          trials=trials, # logging\n",
    "          rstate=np.random.RandomState(random_state), # fixing random state for the reproducibility\n",
    "         )"
   ]
  },
  {
   "cell_type": "markdown",
   "metadata": {},
   "source": [
    "#### Visualize"
   ]
  },
  {
   "cell_type": "code",
   "execution_count": null,
   "metadata": {},
   "outputs": [],
   "source": [
    "tpe_results = np.array([[x['result']['loss'],\n",
    "                         x['misc']['vals']['min_samples_split'][0],\n",
    "                         x['misc']['vals']['min_samples_leaf'][0],\n",
    "                         x['misc']['vals']['max_depth'][0],\n",
    "                         x['misc']['vals']['n_estimators'][0]] for x in trials.trials])\n",
    "\n",
    "tpe_results_df = pd.DataFrame(tpe_results,\n",
    "                              columns=['score', 'min_samples_split',\n",
    "                                     'min_samples_leaf', 'max_depth',\n",
    "                                     'n_estimators'])"
   ]
  },
  {
   "cell_type": "code",
   "execution_count": 89,
   "metadata": {
    "scrolled": false
   },
   "outputs": [
    {
     "data": {
      "text/plain": [
       "array([<matplotlib.axes._subplots.AxesSubplot object at 0x7fabde6a4d00>,\n",
       "       <matplotlib.axes._subplots.AxesSubplot object at 0x7fabde6b9160>,\n",
       "       <matplotlib.axes._subplots.AxesSubplot object at 0x7fabde6543a0>,\n",
       "       <matplotlib.axes._subplots.AxesSubplot object at 0x7fabde674520>,\n",
       "       <matplotlib.axes._subplots.AxesSubplot object at 0x7fabde6126a0>],\n",
       "      dtype=object)"
      ]
     },
     "execution_count": 89,
     "metadata": {},
     "output_type": "execute_result"
    },
    {
     "data": {
      "image/png": "[encoded data removed]",
      "text/plain": [
       "<Figure size 720x720 with 5 Axes>"
      ]
     },
     "metadata": {
      "needs_background": "light"
     },
     "output_type": "display_data"
    }
   ],
   "source": [
    "tpe_results_df.plot(subplots=True,figsize=(10, 10))"
   ]
  },
  {
   "cell_type": "markdown",
   "metadata": {},
   "source": [
    "#### Persist trials"
   ]
  },
  {
   "cell_type": "code",
   "execution_count": 80,
   "metadata": {},
   "outputs": [],
   "source": [
    "TRIAL_PERSIST_DIR = '../data/process/'"
   ]
  },
  {
   "cell_type": "code",
   "execution_count": 81,
   "metadata": {},
   "outputs": [],
   "source": [
    "import pickle\n",
    "\n",
    "filename = f\"{TRIAL_PERSIST_DIR}/11-trials-rf.pkl\"\n",
    "\n",
    "# The trials database now contains 100 entries, it can be saved/reloaded with pickle or another method\n",
    "pickle.dump(trials, open(filename, \"wb\"))\n",
    "trials = pickle.load(open(filename, \"rb\"))"
   ]
  },
  {
   "cell_type": "markdown",
   "metadata": {},
   "source": [
    "# Fit"
   ]
  },
  {
   "cell_type": "code",
   "execution_count": 90,
   "metadata": {},
   "outputs": [],
   "source": [
    "clf_name = \"RandomForest\""
   ]
  },
  {
   "cell_type": "code",
   "execution_count": 96,
   "metadata": {},
   "outputs": [
    {
     "data": {
      "text/plain": [
       "{'bootstrap': 0,\n",
       " 'max_depth': 4.0,\n",
       " 'max_features': 6.0,\n",
       " 'min_samples_leaf': 41.0,\n",
       " 'min_samples_split': 49.0,\n",
       " 'n_estimators': 1062.0}"
      ]
     },
     "execution_count": 96,
     "metadata": {},
     "output_type": "execute_result"
    }
   ],
   "source": [
    "best"
   ]
  },
  {
   "cell_type": "code",
   "execution_count": 100,
   "metadata": {},
   "outputs": [],
   "source": [
    "clf_params = {}\n",
    "for k, v in best.items():\n",
    "    if k in ('bootstrap'):\n",
    "        v = bool(v)\n",
    "    else:\n",
    "        v = int(v)\n",
    "    clf_params[k] = v"
   ]
  },
  {
   "cell_type": "code",
   "execution_count": 101,
   "metadata": {},
   "outputs": [],
   "source": [
    "clf = RandomForestClassifier(**clf_params)"
   ]
  },
  {
   "cell_type": "code",
   "execution_count": 102,
   "metadata": {},
   "outputs": [],
   "source": [
    "pipeline = make_pipeline(clf)"
   ]
  },
  {
   "cell_type": "markdown",
   "metadata": {},
   "source": [
    "## Holdout"
   ]
  },
  {
   "cell_type": "code",
   "execution_count": null,
   "metadata": {},
   "outputs": [],
   "source": [
    "holdout_score_agg_dict = dict()\n",
    "for scorer_name in SCORING:\n",
    "    scorer = metrics.get_scorer(scorer_name)\n",
    "    score = scorer(pipeline, X_test, y_test)\n",
    "    holdout_score_agg_dict[f\"holdout_{scorer_name}\"] = score    "
   ]
  },
  {
   "cell_type": "code",
   "execution_count": null,
   "metadata": {},
   "outputs": [],
   "source": [
    "holdout_score_agg_dict"
   ]
  },
  {
   "cell_type": "markdown",
   "metadata": {},
   "source": [
    "# Feature importance"
   ]
  },
  {
   "cell_type": "code",
   "execution_count": 108,
   "metadata": {},
   "outputs": [
    {
     "data": {
      "text/html": [
       "<style  type=\"text/css\" >\n",
       "    #T_258246c8_c709_11ea_8249_81641e024dbbrow0_col0 {\n",
       "            width:  10em;\n",
       "             height:  80%;\n",
       "            background:  linear-gradient(90deg,#d65f5f 100.0%, transparent 100.0%);\n",
       "        }    #T_258246c8_c709_11ea_8249_81641e024dbbrow1_col0 {\n",
       "            width:  10em;\n",
       "             height:  80%;\n",
       "            background:  linear-gradient(90deg,#d65f5f 66.6%, transparent 66.6%);\n",
       "        }    #T_258246c8_c709_11ea_8249_81641e024dbbrow2_col0 {\n",
       "            width:  10em;\n",
       "             height:  80%;\n",
       "            background:  linear-gradient(90deg,#d65f5f 53.0%, transparent 53.0%);\n",
       "        }    #T_258246c8_c709_11ea_8249_81641e024dbbrow3_col0 {\n",
       "            width:  10em;\n",
       "             height:  80%;\n",
       "            background:  linear-gradient(90deg,#d65f5f 39.1%, transparent 39.1%);\n",
       "        }    #T_258246c8_c709_11ea_8249_81641e024dbbrow4_col0 {\n",
       "            width:  10em;\n",
       "             height:  80%;\n",
       "            background:  linear-gradient(90deg,#d65f5f 38.5%, transparent 38.5%);\n",
       "        }    #T_258246c8_c709_11ea_8249_81641e024dbbrow5_col0 {\n",
       "            width:  10em;\n",
       "             height:  80%;\n",
       "            background:  linear-gradient(90deg,#d65f5f 36.5%, transparent 36.5%);\n",
       "        }    #T_258246c8_c709_11ea_8249_81641e024dbbrow6_col0 {\n",
       "            width:  10em;\n",
       "             height:  80%;\n",
       "            background:  linear-gradient(90deg,#d65f5f 32.4%, transparent 32.4%);\n",
       "        }    #T_258246c8_c709_11ea_8249_81641e024dbbrow7_col0 {\n",
       "            width:  10em;\n",
       "             height:  80%;\n",
       "            background:  linear-gradient(90deg,#d65f5f 28.8%, transparent 28.8%);\n",
       "        }    #T_258246c8_c709_11ea_8249_81641e024dbbrow8_col0 {\n",
       "            width:  10em;\n",
       "             height:  80%;\n",
       "            background:  linear-gradient(90deg,#d65f5f 27.7%, transparent 27.7%);\n",
       "        }    #T_258246c8_c709_11ea_8249_81641e024dbbrow9_col0 {\n",
       "            width:  10em;\n",
       "             height:  80%;\n",
       "            background:  linear-gradient(90deg,#d65f5f 27.6%, transparent 27.6%);\n",
       "        }    #T_258246c8_c709_11ea_8249_81641e024dbbrow10_col0 {\n",
       "            width:  10em;\n",
       "             height:  80%;\n",
       "            background:  linear-gradient(90deg,#d65f5f 23.9%, transparent 23.9%);\n",
       "        }    #T_258246c8_c709_11ea_8249_81641e024dbbrow11_col0 {\n",
       "            width:  10em;\n",
       "             height:  80%;\n",
       "            background:  linear-gradient(90deg,#d65f5f 21.8%, transparent 21.8%);\n",
       "        }    #T_258246c8_c709_11ea_8249_81641e024dbbrow12_col0 {\n",
       "            width:  10em;\n",
       "             height:  80%;\n",
       "            background:  linear-gradient(90deg,#d65f5f 18.9%, transparent 18.9%);\n",
       "        }    #T_258246c8_c709_11ea_8249_81641e024dbbrow13_col0 {\n",
       "            width:  10em;\n",
       "             height:  80%;\n",
       "            background:  linear-gradient(90deg,#d65f5f 14.2%, transparent 14.2%);\n",
       "        }    #T_258246c8_c709_11ea_8249_81641e024dbbrow14_col0 {\n",
       "            width:  10em;\n",
       "             height:  80%;\n",
       "            background:  linear-gradient(90deg,#d65f5f 11.3%, transparent 11.3%);\n",
       "        }    #T_258246c8_c709_11ea_8249_81641e024dbbrow15_col0 {\n",
       "            width:  10em;\n",
       "             height:  80%;\n",
       "            background:  linear-gradient(90deg,#d65f5f 8.8%, transparent 8.8%);\n",
       "        }    #T_258246c8_c709_11ea_8249_81641e024dbbrow16_col0 {\n",
       "            width:  10em;\n",
       "             height:  80%;\n",
       "            background:  linear-gradient(90deg,#d65f5f 7.0%, transparent 7.0%);\n",
       "        }    #T_258246c8_c709_11ea_8249_81641e024dbbrow17_col0 {\n",
       "            width:  10em;\n",
       "             height:  80%;\n",
       "            background:  linear-gradient(90deg,#d65f5f 4.1%, transparent 4.1%);\n",
       "        }    #T_258246c8_c709_11ea_8249_81641e024dbbrow18_col0 {\n",
       "            width:  10em;\n",
       "             height:  80%;\n",
       "            background:  linear-gradient(90deg,#d65f5f 3.6%, transparent 3.6%);\n",
       "        }    #T_258246c8_c709_11ea_8249_81641e024dbbrow19_col0 {\n",
       "            width:  10em;\n",
       "             height:  80%;\n",
       "        }</style><table id=\"T_258246c8_c709_11ea_8249_81641e024dbb\" ><thead>    <tr>        <th class=\"blank level0\" ></th>        <th class=\"col_heading level0 col0\" >fi</th>    </tr></thead><tbody>\n",
       "                <tr>\n",
       "                        <th id=\"T_258246c8_c709_11ea_8249_81641e024dbblevel0_row0\" class=\"row_heading level0 row0\" >category_es_health</th>\n",
       "                        <td id=\"T_258246c8_c709_11ea_8249_81641e024dbbrow0_col0\" class=\"data row0 col0\" >0.064910</td>\n",
       "            </tr>\n",
       "            <tr>\n",
       "                        <th id=\"T_258246c8_c709_11ea_8249_81641e024dbblevel0_row1\" class=\"row_heading level0 row1\" >amount_min</th>\n",
       "                        <td id=\"T_258246c8_c709_11ea_8249_81641e024dbbrow1_col0\" class=\"data row1 col0\" >0.050616</td>\n",
       "            </tr>\n",
       "            <tr>\n",
       "                        <th id=\"T_258246c8_c709_11ea_8249_81641e024dbblevel0_row2\" class=\"row_heading level0 row2\" >merchant_nunique</th>\n",
       "                        <td id=\"T_258246c8_c709_11ea_8249_81641e024dbbrow2_col0\" class=\"data row2 col0\" >0.044829</td>\n",
       "            </tr>\n",
       "            <tr>\n",
       "                        <th id=\"T_258246c8_c709_11ea_8249_81641e024dbblevel0_row3\" class=\"row_heading level0 row3\" >fraud_sum</th>\n",
       "                        <td id=\"T_258246c8_c709_11ea_8249_81641e024dbbrow3_col0\" class=\"data row3 col0\" >0.038862</td>\n",
       "            </tr>\n",
       "            <tr>\n",
       "                        <th id=\"T_258246c8_c709_11ea_8249_81641e024dbblevel0_row4\" class=\"row_heading level0 row4\" >amount_median</th>\n",
       "                        <td id=\"T_258246c8_c709_11ea_8249_81641e024dbbrow4_col0\" class=\"data row4 col0\" >0.038598</td>\n",
       "            </tr>\n",
       "            <tr>\n",
       "                        <th id=\"T_258246c8_c709_11ea_8249_81641e024dbblevel0_row5\" class=\"row_heading level0 row5\" >amount_std</th>\n",
       "                        <td id=\"T_258246c8_c709_11ea_8249_81641e024dbbrow5_col0\" class=\"data row5 col0\" >0.037752</td>\n",
       "            </tr>\n",
       "            <tr>\n",
       "                        <th id=\"T_258246c8_c709_11ea_8249_81641e024dbblevel0_row6\" class=\"row_heading level0 row6\" >amount_mean</th>\n",
       "                        <td id=\"T_258246c8_c709_11ea_8249_81641e024dbbrow6_col0\" class=\"data row6 col0\" >0.036004</td>\n",
       "            </tr>\n",
       "            <tr>\n",
       "                        <th id=\"T_258246c8_c709_11ea_8249_81641e024dbblevel0_row7\" class=\"row_heading level0 row7\" >amount_max</th>\n",
       "                        <td id=\"T_258246c8_c709_11ea_8249_81641e024dbbrow7_col0\" class=\"data row7 col0\" >0.034455</td>\n",
       "            </tr>\n",
       "            <tr>\n",
       "                        <th id=\"T_258246c8_c709_11ea_8249_81641e024dbblevel0_row8\" class=\"row_heading level0 row8\" >step_mean</th>\n",
       "                        <td id=\"T_258246c8_c709_11ea_8249_81641e024dbbrow8_col0\" class=\"data row8 col0\" >0.033999</td>\n",
       "            </tr>\n",
       "            <tr>\n",
       "                        <th id=\"T_258246c8_c709_11ea_8249_81641e024dbblevel0_row9\" class=\"row_heading level0 row9\" >step_median</th>\n",
       "                        <td id=\"T_258246c8_c709_11ea_8249_81641e024dbbrow9_col0\" class=\"data row9 col0\" >0.033960</td>\n",
       "            </tr>\n",
       "            <tr>\n",
       "                        <th id=\"T_258246c8_c709_11ea_8249_81641e024dbblevel0_row10\" class=\"row_heading level0 row10\" >merchant_M348934600</th>\n",
       "                        <td id=\"T_258246c8_c709_11ea_8249_81641e024dbbrow10_col0\" class=\"data row10 col0\" >0.032386</td>\n",
       "            </tr>\n",
       "            <tr>\n",
       "                        <th id=\"T_258246c8_c709_11ea_8249_81641e024dbblevel0_row11\" class=\"row_heading level0 row11\" >merchant_M1823072687</th>\n",
       "                        <td id=\"T_258246c8_c709_11ea_8249_81641e024dbbrow11_col0\" class=\"data row11 col0\" >0.031492</td>\n",
       "            </tr>\n",
       "            <tr>\n",
       "                        <th id=\"T_258246c8_c709_11ea_8249_81641e024dbblevel0_row12\" class=\"row_heading level0 row12\" >fraud_mean</th>\n",
       "                        <td id=\"T_258246c8_c709_11ea_8249_81641e024dbbrow12_col0\" class=\"data row12 col0\" >0.030252</td>\n",
       "            </tr>\n",
       "            <tr>\n",
       "                        <th id=\"T_258246c8_c709_11ea_8249_81641e024dbblevel0_row13\" class=\"row_heading level0 row13\" >category_es_food</th>\n",
       "                        <td id=\"T_258246c8_c709_11ea_8249_81641e024dbbrow13_col0\" class=\"data row13 col0\" >0.028202</td>\n",
       "            </tr>\n",
       "            <tr>\n",
       "                        <th id=\"T_258246c8_c709_11ea_8249_81641e024dbblevel0_row14\" class=\"row_heading level0 row14\" >category_es_wellnessandbeauty</th>\n",
       "                        <td id=\"T_258246c8_c709_11ea_8249_81641e024dbbrow14_col0\" class=\"data row14 col0\" >0.026964</td>\n",
       "            </tr>\n",
       "            <tr>\n",
       "                        <th id=\"T_258246c8_c709_11ea_8249_81641e024dbblevel0_row15\" class=\"row_heading level0 row15\" >merchant_M85975013</th>\n",
       "                        <td id=\"T_258246c8_c709_11ea_8249_81641e024dbbrow15_col0\" class=\"data row15 col0\" >0.025931</td>\n",
       "            </tr>\n",
       "            <tr>\n",
       "                        <th id=\"T_258246c8_c709_11ea_8249_81641e024dbblevel0_row16\" class=\"row_heading level0 row16\" >merchant_M1198415165</th>\n",
       "                        <td id=\"T_258246c8_c709_11ea_8249_81641e024dbbrow16_col0\" class=\"data row16 col0\" >0.025157</td>\n",
       "            </tr>\n",
       "            <tr>\n",
       "                        <th id=\"T_258246c8_c709_11ea_8249_81641e024dbblevel0_row17\" class=\"row_heading level0 row17\" >category_es_fashion</th>\n",
       "                        <td id=\"T_258246c8_c709_11ea_8249_81641e024dbbrow17_col0\" class=\"data row17 col0\" >0.023913</td>\n",
       "            </tr>\n",
       "            <tr>\n",
       "                        <th id=\"T_258246c8_c709_11ea_8249_81641e024dbblevel0_row18\" class=\"row_heading level0 row18\" >category_nunique</th>\n",
       "                        <td id=\"T_258246c8_c709_11ea_8249_81641e024dbbrow18_col0\" class=\"data row18 col0\" >0.023669</td>\n",
       "            </tr>\n",
       "            <tr>\n",
       "                        <th id=\"T_258246c8_c709_11ea_8249_81641e024dbblevel0_row19\" class=\"row_heading level0 row19\" >merchant_M1053599405</th>\n",
       "                        <td id=\"T_258246c8_c709_11ea_8249_81641e024dbbrow19_col0\" class=\"data row19 col0\" >0.022149</td>\n",
       "            </tr>\n",
       "    </tbody></table>"
      ],
      "text/plain": [
       "<pandas.io.formats.style.Styler at 0x7fabde6ec160>"
      ]
     },
     "execution_count": 108,
     "metadata": {},
     "output_type": "execute_result"
    }
   ],
   "source": [
    "fi_df = pd.DataFrame({'fi': clf.feature_importances_}, index=X_train.columns)\n",
    "fi_df.sort_values(['fi'], ascending=False).head(20) \\\n",
    "    .style.bar()"
   ]
  },
  {
   "cell_type": "markdown",
   "metadata": {},
   "source": [
    "# Learning curve"
   ]
  },
  {
   "cell_type": "code",
   "execution_count": 109,
   "metadata": {},
   "outputs": [
    {
     "data": {
      "image/png": "[encoded data removed]",
      "text/plain": [
       "<Figure size 720x1080 with 6 Axes>"
      ]
     },
     "metadata": {
      "needs_background": "light"
     },
     "output_type": "display_data"
    }
   ],
   "source": [
    "fig, axes = plt.subplots(3, 2, figsize=(10, 15))\n",
    "cv = 5\n",
    "title = f\"Learning Curves {clf_name} (ROC-AUC)\"\n",
    "train_sizes, train_scores, test_scores = \\\n",
    "    utils.plot_learning_curve(clf, title, X_all, y_all, axes=axes[:, 0], ylim=(0.7, 1.01),\n",
    "                              cv=cv, n_jobs=8, scoring='roc_auc')\n",
    "\n",
    "title = f\"Learning Curves {clf_name} (F1-micro)\"\n",
    "train_sizes, train_scores, test_scores = \\\n",
    "    utils.plot_learning_curve(clf, title, X_all, y_all, axes=axes[:, 1], ylim=(0.7, 1.01),\n",
    "                              cv=cv, n_jobs=8, scoring='f1_micro')\n",
    "\n",
    "plt.show()"
   ]
  },
  {
   "cell_type": "markdown",
   "metadata": {},
   "source": [
    "Learning Curve shows that the model is highly underfit, focus should be on feature engineering instead of adding new observations."
   ]
  },
  {
   "cell_type": "markdown",
   "metadata": {},
   "source": [
    "# SelectFromModel"
   ]
  },
  {
   "cell_type": "code",
   "execution_count": 110,
   "metadata": {},
   "outputs": [
    {
     "data": {
      "text/plain": [
       "(4100, 30)"
      ]
     },
     "execution_count": 110,
     "metadata": {},
     "output_type": "execute_result"
    }
   ],
   "source": [
    "clf = pipeline.named_steps['randomforestclassifier']\n",
    "\n",
    "fs = SelectFromModel(clf, prefit=True)\n",
    "\n",
    "X_fs = fs.transform(X_all)\n",
    "\n",
    "X_fs.shape"
   ]
  },
  {
   "cell_type": "code",
   "execution_count": 111,
   "metadata": {
    "scrolled": true
   },
   "outputs": [
    {
     "data": {
      "text/html": [
       "<div>\n",
       "<style scoped>\n",
       "    .dataframe tbody tr th:only-of-type {\n",
       "        vertical-align: middle;\n",
       "    }\n",
       "\n",
       "    .dataframe tbody tr th {\n",
       "        vertical-align: top;\n",
       "    }\n",
       "\n",
       "    .dataframe thead th {\n",
       "        text-align: right;\n",
       "    }\n",
       "</style>\n",
       "<table border=\"1\" class=\"dataframe\">\n",
       "  <thead>\n",
       "    <tr style=\"text-align: right;\">\n",
       "      <th></th>\n",
       "      <th>fit_time</th>\n",
       "      <th>score_time</th>\n",
       "      <th>test_roc_auc</th>\n",
       "      <th>train_roc_auc</th>\n",
       "      <th>test_f1_micro</th>\n",
       "      <th>train_f1_micro</th>\n",
       "      <th>test_f1_weighted</th>\n",
       "      <th>train_f1_weighted</th>\n",
       "      <th>test_precision</th>\n",
       "      <th>train_precision</th>\n",
       "      <th>test_recall</th>\n",
       "      <th>train_recall</th>\n",
       "    </tr>\n",
       "  </thead>\n",
       "  <tbody>\n",
       "    <tr>\n",
       "      <th>0</th>\n",
       "      <td>3.595159</td>\n",
       "      <td>0.218142</td>\n",
       "      <td>0.503422</td>\n",
       "      <td>0.645671</td>\n",
       "      <td>0.552439</td>\n",
       "      <td>0.574085</td>\n",
       "      <td>0.438912</td>\n",
       "      <td>0.462486</td>\n",
       "      <td>0.520833</td>\n",
       "      <td>0.724138</td>\n",
       "      <td>0.067751</td>\n",
       "      <td>0.085424</td>\n",
       "    </tr>\n",
       "    <tr>\n",
       "      <th>1</th>\n",
       "      <td>3.663644</td>\n",
       "      <td>0.240230</td>\n",
       "      <td>0.542781</td>\n",
       "      <td>0.659033</td>\n",
       "      <td>0.551220</td>\n",
       "      <td>0.567073</td>\n",
       "      <td>0.424570</td>\n",
       "      <td>0.437124</td>\n",
       "      <td>0.515152</td>\n",
       "      <td>0.783505</td>\n",
       "      <td>0.046070</td>\n",
       "      <td>0.051525</td>\n",
       "    </tr>\n",
       "    <tr>\n",
       "      <th>2</th>\n",
       "      <td>3.824491</td>\n",
       "      <td>0.230345</td>\n",
       "      <td>0.499570</td>\n",
       "      <td>0.643025</td>\n",
       "      <td>0.542683</td>\n",
       "      <td>0.578963</td>\n",
       "      <td>0.437873</td>\n",
       "      <td>0.479226</td>\n",
       "      <td>0.451613</td>\n",
       "      <td>0.704348</td>\n",
       "      <td>0.075881</td>\n",
       "      <td>0.109831</td>\n",
       "    </tr>\n",
       "    <tr>\n",
       "      <th>3</th>\n",
       "      <td>4.117708</td>\n",
       "      <td>0.228578</td>\n",
       "      <td>0.504011</td>\n",
       "      <td>0.641555</td>\n",
       "      <td>0.551220</td>\n",
       "      <td>0.550915</td>\n",
       "      <td>0.393062</td>\n",
       "      <td>0.392050</td>\n",
       "      <td>1.000000</td>\n",
       "      <td>1.000000</td>\n",
       "      <td>0.002710</td>\n",
       "      <td>0.001356</td>\n",
       "    </tr>\n",
       "    <tr>\n",
       "      <th>4</th>\n",
       "      <td>3.887132</td>\n",
       "      <td>0.223648</td>\n",
       "      <td>0.520032</td>\n",
       "      <td>0.658224</td>\n",
       "      <td>0.552439</td>\n",
       "      <td>0.556098</td>\n",
       "      <td>0.394488</td>\n",
       "      <td>0.404939</td>\n",
       "      <td>1.000000</td>\n",
       "      <td>0.916667</td>\n",
       "      <td>0.002717</td>\n",
       "      <td>0.014905</td>\n",
       "    </tr>\n",
       "  </tbody>\n",
       "</table>\n",
       "</div>"
      ],
      "text/plain": [
       "   fit_time  score_time  test_roc_auc  train_roc_auc  test_f1_micro  \\\n",
       "0  3.595159    0.218142      0.503422       0.645671       0.552439   \n",
       "1  3.663644    0.240230      0.542781       0.659033       0.551220   \n",
       "2  3.824491    0.230345      0.499570       0.643025       0.542683   \n",
       "3  4.117708    0.228578      0.504011       0.641555       0.551220   \n",
       "4  3.887132    0.223648      0.520032       0.658224       0.552439   \n",
       "\n",
       "   train_f1_micro  test_f1_weighted  train_f1_weighted  test_precision  \\\n",
       "0        0.574085          0.438912           0.462486        0.520833   \n",
       "1        0.567073          0.424570           0.437124        0.515152   \n",
       "2        0.578963          0.437873           0.479226        0.451613   \n",
       "3        0.550915          0.393062           0.392050        1.000000   \n",
       "4        0.556098          0.394488           0.404939        1.000000   \n",
       "\n",
       "   train_precision  test_recall  train_recall  \n",
       "0         0.724138     0.067751      0.085424  \n",
       "1         0.783505     0.046070      0.051525  \n",
       "2         0.704348     0.075881      0.109831  \n",
       "3         1.000000     0.002710      0.001356  \n",
       "4         0.916667     0.002717      0.014905  "
      ]
     },
     "metadata": {},
     "output_type": "display_data"
    },
    {
     "data": {
      "text/plain": [
       "{'fit_time': 3.8176269054412844,\n",
       " 'score_time': 0.22818856239318847,\n",
       " 'test_roc_auc': 0.5139631443941703,\n",
       " 'train_roc_auc': 0.6495014747557484,\n",
       " 'test_f1_micro': 0.55,\n",
       " 'train_f1_micro': 0.5654268292682927,\n",
       " 'test_f1_weighted': 0.4177810795734784,\n",
       " 'train_f1_weighted': 0.4351651277640082,\n",
       " 'test_precision': 0.697519550342131,\n",
       " 'train_precision': 0.8257315156854563,\n",
       " 'test_recall': 0.039025863084717796,\n",
       " 'train_recall': 0.0526081484543659}"
      ]
     },
     "execution_count": 111,
     "metadata": {},
     "output_type": "execute_result"
    }
   ],
   "source": [
    "fs_score = cross_validate(pipeline, X_fs, y_all, scoring=SCORING,\n",
    "                          cv=5, return_train_score=True)\n",
    "\n",
    "fs_score_df = pd.DataFrame(fs_score)\n",
    "display(fs_score_df)\n",
    "\n",
    "fs_score_agg_dict = fs_score_df.mean(axis=0).to_dict()\n",
    "\n",
    "fs_score_agg_dict"
   ]
  },
  {
   "cell_type": "code",
   "execution_count": 112,
   "metadata": {},
   "outputs": [],
   "source": [
    "with mlflow.start_run(experiment_id=experiment):\n",
    "    mlflow.log_param('data', 'fe21')\n",
    "    mlflow.log_param('num_tf', None)\n",
    "    mlflow.log_param('clf', clf_name)\n",
    "    mlflow.log_param('cnt_features', X_fs.shape[1])\n",
    "    mlflow.log_params(clf_params)\n",
    "    mlflow.log_metrics(fs_score_agg_dict)\n",
    "    mlflow.set_tag(\"issue\", \"11\")"
   ]
  },
  {
   "cell_type": "markdown",
   "metadata": {},
   "source": [
    "Reducing from 86 features to 24 features does not affect model's performance. In production, this will be a huge advantages because of less complexity, less time required to produce and maintain the features."
   ]
  },
  {
   "cell_type": "markdown",
   "metadata": {},
   "source": [
    "# Archive"
   ]
  },
  {
   "cell_type": "code",
   "execution_count": 52,
   "metadata": {},
   "outputs": [
    {
     "data": {
      "text/plain": [
       "['accuracy',\n",
       " 'adjusted_mutual_info_score',\n",
       " 'adjusted_rand_score',\n",
       " 'average_precision',\n",
       " 'balanced_accuracy',\n",
       " 'completeness_score',\n",
       " 'explained_variance',\n",
       " 'f1',\n",
       " 'f1_macro',\n",
       " 'f1_micro',\n",
       " 'f1_samples',\n",
       " 'f1_weighted',\n",
       " 'fowlkes_mallows_score',\n",
       " 'homogeneity_score',\n",
       " 'jaccard',\n",
       " 'jaccard_macro',\n",
       " 'jaccard_micro',\n",
       " 'jaccard_samples',\n",
       " 'jaccard_weighted',\n",
       " 'max_error',\n",
       " 'mutual_info_score',\n",
       " 'neg_brier_score',\n",
       " 'neg_log_loss',\n",
       " 'neg_mean_absolute_error',\n",
       " 'neg_mean_gamma_deviance',\n",
       " 'neg_mean_poisson_deviance',\n",
       " 'neg_mean_squared_error',\n",
       " 'neg_mean_squared_log_error',\n",
       " 'neg_median_absolute_error',\n",
       " 'neg_root_mean_squared_error',\n",
       " 'normalized_mutual_info_score',\n",
       " 'precision',\n",
       " 'precision_macro',\n",
       " 'precision_micro',\n",
       " 'precision_samples',\n",
       " 'precision_weighted',\n",
       " 'r2',\n",
       " 'recall',\n",
       " 'recall_macro',\n",
       " 'recall_micro',\n",
       " 'recall_samples',\n",
       " 'recall_weighted',\n",
       " 'roc_auc',\n",
       " 'roc_auc_ovo',\n",
       " 'roc_auc_ovo_weighted',\n",
       " 'roc_auc_ovr',\n",
       " 'roc_auc_ovr_weighted',\n",
       " 'v_measure_score']"
      ]
     },
     "execution_count": 52,
     "metadata": {},
     "output_type": "execute_result"
    }
   ],
   "source": [
    "from sklearn.metrics import SCORERS\n",
    "sorted(SCORERS.keys())"
   ]
  },
  {
   "cell_type": "markdown",
   "metadata": {},
   "source": [
    "# MLflow"
   ]
  },
  {
   "cell_type": "code",
   "execution_count": 167,
   "metadata": {},
   "outputs": [
    {
     "data": {
      "text/html": [
       "<div>\n",
       "<style scoped>\n",
       "    .dataframe tbody tr th:only-of-type {\n",
       "        vertical-align: middle;\n",
       "    }\n",
       "\n",
       "    .dataframe tbody tr th {\n",
       "        vertical-align: top;\n",
       "    }\n",
       "\n",
       "    .dataframe thead th {\n",
       "        text-align: right;\n",
       "    }\n",
       "</style>\n",
       "<table border=\"1\" class=\"dataframe\">\n",
       "  <thead>\n",
       "    <tr style=\"text-align: right;\">\n",
       "      <th></th>\n",
       "      <th>run_id</th>\n",
       "      <th>experiment_id</th>\n",
       "      <th>status</th>\n",
       "      <th>artifact_uri</th>\n",
       "      <th>start_time</th>\n",
       "      <th>end_time</th>\n",
       "      <th>metrics.holdout_precision</th>\n",
       "      <th>metrics.train_precision</th>\n",
       "      <th>metrics.holdout_f1_weighted</th>\n",
       "      <th>metrics.score_time</th>\n",
       "      <th>...</th>\n",
       "      <th>params.clf</th>\n",
       "      <th>params.data</th>\n",
       "      <th>params.max_iter</th>\n",
       "      <th>params.num_tf</th>\n",
       "      <th>params.cv</th>\n",
       "      <th>tags.mlflow.source.name</th>\n",
       "      <th>tags.mlflow.source.type</th>\n",
       "      <th>tags.mlflow.user</th>\n",
       "      <th>tags.mlflow.note.content</th>\n",
       "      <th>tags.eval_set</th>\n",
       "    </tr>\n",
       "  </thead>\n",
       "  <tbody>\n",
       "    <tr>\n",
       "      <th>0</th>\n",
       "      <td>cfe84ff3ee5341cc889f79ba61d8acda</td>\n",
       "      <td>0</td>\n",
       "      <td>FINISHED</td>\n",
       "      <td>/home/quydv1/frostmourne/lich/banksim/mlruns/0...</td>\n",
       "      <td>2020-07-14 17:34:04.895000+00:00</td>\n",
       "      <td>2020-07-14 17:34:05.056000+00:00</td>\n",
       "      <td>0.479592</td>\n",
       "      <td>0.556411</td>\n",
       "      <td>0.500156</td>\n",
       "      <td>0.021375</td>\n",
       "      <td>...</td>\n",
       "      <td>LogisticRegression</td>\n",
       "      <td>fe2</td>\n",
       "      <td>2000</td>\n",
       "      <td>PowerTransformer</td>\n",
       "      <td>None</td>\n",
       "      <td>/home/quydv1/anaconda3/envs/banksim/lib/python...</td>\n",
       "      <td>LOCAL</td>\n",
       "      <td>quydv1</td>\n",
       "      <td>None</td>\n",
       "      <td>None</td>\n",
       "    </tr>\n",
       "    <tr>\n",
       "      <th>1</th>\n",
       "      <td>a1448fafcd924ea385ed2b33e2717a04</td>\n",
       "      <td>0</td>\n",
       "      <td>FINISHED</td>\n",
       "      <td>/home/quydv1/frostmourne/lich/banksim/mlruns/0...</td>\n",
       "      <td>2020-07-14 17:28:26.927000+00:00</td>\n",
       "      <td>2020-07-14 17:28:27.089000+00:00</td>\n",
       "      <td>0.460432</td>\n",
       "      <td>0.544958</td>\n",
       "      <td>0.471899</td>\n",
       "      <td>0.009517</td>\n",
       "      <td>...</td>\n",
       "      <td>LogisticRegression</td>\n",
       "      <td>fe2</td>\n",
       "      <td>2000</td>\n",
       "      <td>StandardScaler</td>\n",
       "      <td>None</td>\n",
       "      <td>/home/quydv1/anaconda3/envs/banksim/lib/python...</td>\n",
       "      <td>LOCAL</td>\n",
       "      <td>quydv1</td>\n",
       "      <td>None</td>\n",
       "      <td>None</td>\n",
       "    </tr>\n",
       "    <tr>\n",
       "      <th>2</th>\n",
       "      <td>41b94130e16048d88fa703a44f39ff8f</td>\n",
       "      <td>0</td>\n",
       "      <td>FINISHED</td>\n",
       "      <td>/home/quydv1/frostmourne/lich/banksim/mlruns/0...</td>\n",
       "      <td>2020-07-14 16:26:50.776000+00:00</td>\n",
       "      <td>2020-07-14 16:26:50.840000+00:00</td>\n",
       "      <td>NaN</td>\n",
       "      <td>NaN</td>\n",
       "      <td>NaN</td>\n",
       "      <td>NaN</td>\n",
       "      <td>...</td>\n",
       "      <td>None</td>\n",
       "      <td>None</td>\n",
       "      <td>None</td>\n",
       "      <td>None</td>\n",
       "      <td>None</td>\n",
       "      <td>/home/quydv1/anaconda3/envs/banksim/lib/python...</td>\n",
       "      <td>LOCAL</td>\n",
       "      <td>quydv1</td>\n",
       "      <td>None</td>\n",
       "      <td>None</td>\n",
       "    </tr>\n",
       "    <tr>\n",
       "      <th>3</th>\n",
       "      <td>2b054f5f9ec7457fbbdcc66fb1212b7e</td>\n",
       "      <td>0</td>\n",
       "      <td>FINISHED</td>\n",
       "      <td>/home/quydv1/frostmourne/lich/banksim/mlruns/0...</td>\n",
       "      <td>2020-07-14 16:06:36.456000+00:00</td>\n",
       "      <td>2020-07-14 16:06:36.604000+00:00</td>\n",
       "      <td>NaN</td>\n",
       "      <td>0.200000</td>\n",
       "      <td>NaN</td>\n",
       "      <td>0.012698</td>\n",
       "      <td>...</td>\n",
       "      <td>LogisticRegressionCV</td>\n",
       "      <td>fe1</td>\n",
       "      <td>1000</td>\n",
       "      <td>PowerTransformer</td>\n",
       "      <td>5</td>\n",
       "      <td>/home/quydv1/anaconda3/envs/banksim/lib/python...</td>\n",
       "      <td>LOCAL</td>\n",
       "      <td>quydv1</td>\n",
       "      <td>Ignore results due to a bug at https://github....</td>\n",
       "      <td>train</td>\n",
       "    </tr>\n",
       "  </tbody>\n",
       "</table>\n",
       "<p>4 rows × 33 columns</p>\n",
       "</div>"
      ],
      "text/plain": [
       "                             run_id experiment_id    status  \\\n",
       "0  cfe84ff3ee5341cc889f79ba61d8acda             0  FINISHED   \n",
       "1  a1448fafcd924ea385ed2b33e2717a04             0  FINISHED   \n",
       "2  41b94130e16048d88fa703a44f39ff8f             0  FINISHED   \n",
       "3  2b054f5f9ec7457fbbdcc66fb1212b7e             0  FINISHED   \n",
       "\n",
       "                                        artifact_uri  \\\n",
       "0  /home/quydv1/frostmourne/lich/banksim/mlruns/0...   \n",
       "1  /home/quydv1/frostmourne/lich/banksim/mlruns/0...   \n",
       "2  /home/quydv1/frostmourne/lich/banksim/mlruns/0...   \n",
       "3  /home/quydv1/frostmourne/lich/banksim/mlruns/0...   \n",
       "\n",
       "                        start_time                         end_time  \\\n",
       "0 2020-07-14 17:34:04.895000+00:00 2020-07-14 17:34:05.056000+00:00   \n",
       "1 2020-07-14 17:28:26.927000+00:00 2020-07-14 17:28:27.089000+00:00   \n",
       "2 2020-07-14 16:26:50.776000+00:00 2020-07-14 16:26:50.840000+00:00   \n",
       "3 2020-07-14 16:06:36.456000+00:00 2020-07-14 16:06:36.604000+00:00   \n",
       "\n",
       "   metrics.holdout_precision  metrics.train_precision  \\\n",
       "0                   0.479592                 0.556411   \n",
       "1                   0.460432                 0.544958   \n",
       "2                        NaN                      NaN   \n",
       "3                        NaN                 0.200000   \n",
       "\n",
       "   metrics.holdout_f1_weighted  metrics.score_time  ...            params.clf  \\\n",
       "0                     0.500156            0.021375  ...    LogisticRegression   \n",
       "1                     0.471899            0.009517  ...    LogisticRegression   \n",
       "2                          NaN                 NaN  ...                  None   \n",
       "3                          NaN            0.012698  ...  LogisticRegressionCV   \n",
       "\n",
       "   params.data  params.max_iter     params.num_tf  params.cv  \\\n",
       "0          fe2             2000  PowerTransformer       None   \n",
       "1          fe2             2000    StandardScaler       None   \n",
       "2         None             None              None       None   \n",
       "3          fe1             1000  PowerTransformer          5   \n",
       "\n",
       "                             tags.mlflow.source.name  tags.mlflow.source.type  \\\n",
       "0  /home/quydv1/anaconda3/envs/banksim/lib/python...                    LOCAL   \n",
       "1  /home/quydv1/anaconda3/envs/banksim/lib/python...                    LOCAL   \n",
       "2  /home/quydv1/anaconda3/envs/banksim/lib/python...                    LOCAL   \n",
       "3  /home/quydv1/anaconda3/envs/banksim/lib/python...                    LOCAL   \n",
       "\n",
       "   tags.mlflow.user                           tags.mlflow.note.content  \\\n",
       "0            quydv1                                               None   \n",
       "1            quydv1                                               None   \n",
       "2            quydv1                                               None   \n",
       "3            quydv1  Ignore results due to a bug at https://github....   \n",
       "\n",
       "   tags.eval_set  \n",
       "0           None  \n",
       "1           None  \n",
       "2           None  \n",
       "3          train  \n",
       "\n",
       "[4 rows x 33 columns]"
      ]
     },
     "execution_count": 167,
     "metadata": {},
     "output_type": "execute_result"
    }
   ],
   "source": [
    "mlflow.search_runs()"
   ]
  },
  {
   "cell_type": "code",
   "execution_count": 168,
   "metadata": {},
   "outputs": [],
   "source": [
    "run_obj = mlflow_client.get_run('cfe84ff3ee5341cc889f79ba61d8acda')"
   ]
  },
  {
   "cell_type": "code",
   "execution_count": 169,
   "metadata": {},
   "outputs": [],
   "source": [
    "mlflow_client.set_tag(run_obj.info.run_id, \"issue\", \"9\")"
   ]
  },
  {
   "cell_type": "code",
   "execution_count": null,
   "metadata": {},
   "outputs": [],
   "source": [
    "run_obj.data"
   ]
  }
 ],
 "metadata": {
  "kernelspec": {
   "display_name": "Python 3",
   "language": "python",
   "name": "python3"
  },
  "language_info": {
   "codemirror_mode": {
    "name": "ipython",
    "version": 3
   },
   "file_extension": ".py",
   "mimetype": "text/x-python",
   "name": "python",
   "nbconvert_exporter": "python",
   "pygments_lexer": "ipython3",
   "version": "3.8.3"
  }
 },
 "nbformat": 4,
 "nbformat_minor": 4
}
