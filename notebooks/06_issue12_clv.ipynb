{
 "cells": [
  {
   "cell_type": "markdown",
   "metadata": {},
   "source": [
    "# Rank customers by predicting their long-term values using BankSim data"
   ]
  },
  {
   "cell_type": "code",
   "execution_count": 1,
   "metadata": {},
   "outputs": [],
   "source": [
    "%load_ext autoreload\n",
    "%autoreload 2\n",
    "%matplotlib inline\n",
    "from IPython.display import Markdown as md\n",
    "\n",
    "from functools import partial\n",
    "\n",
    "import pandas as pd\n",
    "import numpy as np\n",
    "from matplotlib import pyplot as plt\n",
    "\n",
    "import seaborn as sns\n",
    "\n",
    "from lifetimes.utils import summary_data_from_transaction_data\n",
    "from lifetimes import BetaGeoFitter\n",
    "from lifetimes.plotting import plot_frequency_recency_matrix\n",
    "from lifetimes.plotting import plot_probability_alive_matrix\n",
    "from lifetimes.plotting import plot_period_transactions\n",
    "from lifetimes.utils import calibration_and_holdout_data\n",
    "from lifetimes.plotting import plot_calibration_purchases_vs_holdout_purchases\n",
    "from lifetimes.datasets import load_cdnow_summary_data_with_monetary_value\n",
    "\n",
    "from hyperopt import fmin, tpe, hp, anneal, Trials\n",
    "\n",
    "from sklearn import metrics\n",
    "\n",
    "# Custom modules\n",
    "\n",
    "import sys\n",
    "import os\n",
    "ROOT_DIR = os.path.abspath('../')\n",
    "sys.path.insert(0, ROOT_DIR + \"/src\")"
   ]
  },
  {
   "cell_type": "code",
   "execution_count": 2,
   "metadata": {},
   "outputs": [],
   "source": [
    "# Constants\n",
    "RAW_INPUT_PATH = '../data/raw/bs140513_032310.csv'\n",
    "IGNORE_COLS = ['zipcodeOri', 'zipMerchant']"
   ]
  },
  {
   "cell_type": "markdown",
   "metadata": {},
   "source": [
    "# Table of contents\n",
    "1. [Load input](#load-input)\n",
    "2. [Methodology](#methodology)\n",
    "3. [Baseline](#baseline)\n",
    "4. [Probabilistic Approach: BG-NBD](#bg-nbd)\n",
    "5. [Analyze Frequency/Recency](#analyze-fr)\n",
    "6. [Ranking customers by their values](#rank)\n",
    "7. [Calibrate and hold out data](#holdout)\n",
    "8. [Tune `penalizer_coef` hyper-parameter when fitting BG/NBD](#tune)\n",
    "9. [Try Gamma-Gamma approach](#gamma-gamma)"
   ]
  },
  {
   "cell_type": "markdown",
   "metadata": {},
   "source": [
    "# Load input <a class=\"anchor\" id=\"load-input\"></a>"
   ]
  },
  {
   "cell_type": "code",
   "execution_count": 3,
   "metadata": {},
   "outputs": [],
   "source": [
    "raw_df = pd.read_csv(RAW_INPUT_PATH,\n",
    "                     quotechar=\"'\",\n",
    "                     usecols=lambda c: c not in IGNORE_COLS)"
   ]
  },
  {
   "cell_type": "code",
   "execution_count": 4,
   "metadata": {},
   "outputs": [],
   "source": [
    "cnt_customers = raw_df['customer'].nunique()"
   ]
  },
  {
   "cell_type": "code",
   "execution_count": 7,
   "metadata": {},
   "outputs": [
    {
     "data": {
      "text/markdown": [
       "The input value are transaction records of about 4,112 with each `step` corresponding to a date."
      ],
      "text/plain": [
       "<IPython.core.display.Markdown object>"
      ]
     },
     "execution_count": 7,
     "metadata": {},
     "output_type": "execute_result"
    }
   ],
   "source": [
    "md(f\"The input value are transaction records of about {cnt_customers:,.0f}\"\n",
    "   \" with each `step` corresponding to a date.\")"
   ]
  },
  {
   "cell_type": "code",
   "execution_count": 6,
   "metadata": {
    "scrolled": true
   },
   "outputs": [
    {
     "data": {
      "text/html": [
       "<div>\n",
       "<style scoped>\n",
       "    .dataframe tbody tr th:only-of-type {\n",
       "        vertical-align: middle;\n",
       "    }\n",
       "\n",
       "    .dataframe tbody tr th {\n",
       "        vertical-align: top;\n",
       "    }\n",
       "\n",
       "    .dataframe thead th {\n",
       "        text-align: right;\n",
       "    }\n",
       "</style>\n",
       "<table border=\"1\" class=\"dataframe\">\n",
       "  <thead>\n",
       "    <tr style=\"text-align: right;\">\n",
       "      <th></th>\n",
       "      <th>step</th>\n",
       "      <th>customer</th>\n",
       "      <th>age</th>\n",
       "      <th>gender</th>\n",
       "      <th>merchant</th>\n",
       "      <th>category</th>\n",
       "      <th>amount</th>\n",
       "      <th>fraud</th>\n",
       "    </tr>\n",
       "  </thead>\n",
       "  <tbody>\n",
       "    <tr>\n",
       "      <th>0</th>\n",
       "      <td>0</td>\n",
       "      <td>C1093826151</td>\n",
       "      <td>4</td>\n",
       "      <td>M</td>\n",
       "      <td>M348934600</td>\n",
       "      <td>es_transportation</td>\n",
       "      <td>4.55</td>\n",
       "      <td>0</td>\n",
       "    </tr>\n",
       "    <tr>\n",
       "      <th>1</th>\n",
       "      <td>0</td>\n",
       "      <td>C352968107</td>\n",
       "      <td>2</td>\n",
       "      <td>M</td>\n",
       "      <td>M348934600</td>\n",
       "      <td>es_transportation</td>\n",
       "      <td>39.68</td>\n",
       "      <td>0</td>\n",
       "    </tr>\n",
       "    <tr>\n",
       "      <th>2</th>\n",
       "      <td>0</td>\n",
       "      <td>C2054744914</td>\n",
       "      <td>4</td>\n",
       "      <td>F</td>\n",
       "      <td>M1823072687</td>\n",
       "      <td>es_transportation</td>\n",
       "      <td>26.89</td>\n",
       "      <td>0</td>\n",
       "    </tr>\n",
       "    <tr>\n",
       "      <th>3</th>\n",
       "      <td>0</td>\n",
       "      <td>C1760612790</td>\n",
       "      <td>3</td>\n",
       "      <td>M</td>\n",
       "      <td>M348934600</td>\n",
       "      <td>es_transportation</td>\n",
       "      <td>17.25</td>\n",
       "      <td>0</td>\n",
       "    </tr>\n",
       "    <tr>\n",
       "      <th>4</th>\n",
       "      <td>0</td>\n",
       "      <td>C757503768</td>\n",
       "      <td>5</td>\n",
       "      <td>M</td>\n",
       "      <td>M348934600</td>\n",
       "      <td>es_transportation</td>\n",
       "      <td>35.72</td>\n",
       "      <td>0</td>\n",
       "    </tr>\n",
       "    <tr>\n",
       "      <th>...</th>\n",
       "      <td>...</td>\n",
       "      <td>...</td>\n",
       "      <td>...</td>\n",
       "      <td>...</td>\n",
       "      <td>...</td>\n",
       "      <td>...</td>\n",
       "      <td>...</td>\n",
       "      <td>...</td>\n",
       "    </tr>\n",
       "    <tr>\n",
       "      <th>594638</th>\n",
       "      <td>179</td>\n",
       "      <td>C1753498738</td>\n",
       "      <td>3</td>\n",
       "      <td>F</td>\n",
       "      <td>M1823072687</td>\n",
       "      <td>es_transportation</td>\n",
       "      <td>20.53</td>\n",
       "      <td>0</td>\n",
       "    </tr>\n",
       "    <tr>\n",
       "      <th>594639</th>\n",
       "      <td>179</td>\n",
       "      <td>C650108285</td>\n",
       "      <td>4</td>\n",
       "      <td>F</td>\n",
       "      <td>M1823072687</td>\n",
       "      <td>es_transportation</td>\n",
       "      <td>50.73</td>\n",
       "      <td>0</td>\n",
       "    </tr>\n",
       "    <tr>\n",
       "      <th>594640</th>\n",
       "      <td>179</td>\n",
       "      <td>C123623130</td>\n",
       "      <td>2</td>\n",
       "      <td>F</td>\n",
       "      <td>M349281107</td>\n",
       "      <td>es_fashion</td>\n",
       "      <td>22.44</td>\n",
       "      <td>0</td>\n",
       "    </tr>\n",
       "    <tr>\n",
       "      <th>594641</th>\n",
       "      <td>179</td>\n",
       "      <td>C1499363341</td>\n",
       "      <td>5</td>\n",
       "      <td>M</td>\n",
       "      <td>M1823072687</td>\n",
       "      <td>es_transportation</td>\n",
       "      <td>14.46</td>\n",
       "      <td>0</td>\n",
       "    </tr>\n",
       "    <tr>\n",
       "      <th>594642</th>\n",
       "      <td>179</td>\n",
       "      <td>C616528518</td>\n",
       "      <td>4</td>\n",
       "      <td>F</td>\n",
       "      <td>M1823072687</td>\n",
       "      <td>es_transportation</td>\n",
       "      <td>26.93</td>\n",
       "      <td>0</td>\n",
       "    </tr>\n",
       "  </tbody>\n",
       "</table>\n",
       "<p>594643 rows × 8 columns</p>\n",
       "</div>"
      ],
      "text/plain": [
       "        step     customer age gender     merchant           category  amount  \\\n",
       "0          0  C1093826151   4      M   M348934600  es_transportation    4.55   \n",
       "1          0   C352968107   2      M   M348934600  es_transportation   39.68   \n",
       "2          0  C2054744914   4      F  M1823072687  es_transportation   26.89   \n",
       "3          0  C1760612790   3      M   M348934600  es_transportation   17.25   \n",
       "4          0   C757503768   5      M   M348934600  es_transportation   35.72   \n",
       "...      ...          ...  ..    ...          ...                ...     ...   \n",
       "594638   179  C1753498738   3      F  M1823072687  es_transportation   20.53   \n",
       "594639   179   C650108285   4      F  M1823072687  es_transportation   50.73   \n",
       "594640   179   C123623130   2      F   M349281107         es_fashion   22.44   \n",
       "594641   179  C1499363341   5      M  M1823072687  es_transportation   14.46   \n",
       "594642   179   C616528518   4      F  M1823072687  es_transportation   26.93   \n",
       "\n",
       "        fraud  \n",
       "0           0  \n",
       "1           0  \n",
       "2           0  \n",
       "3           0  \n",
       "4           0  \n",
       "...       ...  \n",
       "594638      0  \n",
       "594639      0  \n",
       "594640      0  \n",
       "594641      0  \n",
       "594642      0  \n",
       "\n",
       "[594643 rows x 8 columns]"
      ]
     },
     "execution_count": 6,
     "metadata": {},
     "output_type": "execute_result"
    }
   ],
   "source": [
    "raw_df"
   ]
  },
  {
   "cell_type": "markdown",
   "metadata": {},
   "source": [
    "# Methodology"
   ]
  },
  {
   "cell_type": "markdown",
   "metadata": {},
   "source": [
    "First, we need a simple baseline predictions. Then, by comparing results of new sophisticated approaches with this baseline, we will be able to evaluate the gains versus cost of deploying them."
   ]
  },
  {
   "cell_type": "markdown",
   "metadata": {},
   "source": [
    "On the other hand, [there are two modeling methods for CLV](https://cloud.google.com/solutions/machine-learning/clv-prediction-with-offline-training-intro):\n",
    ">- Probabilistic models. These models work by fitting a probability distribution to the observed RFM values for customers. These models are based on buying behavior that's defined by the transaction history for each customer. That data is enough to extract RFM values.\n",
    ">- ML models. These models are an extensive, widely used class of statistical models in which the parameters are fitted to the data by training with stochastic gradient descent. ML models can make use of more features than the probabilistic models. In this series, we use deep neural network (DNN) models, a popular class of ML models. We also show how to use AutoML Tables to automatically create an ML model."
   ]
  },
  {
   "cell_type": "markdown",
   "metadata": {},
   "source": [
    "I approach this problem using Probabilistic methods namely BG/NBD model and Gamma-Gamma, with implementation based on [Python lifetimes package](https://lifetimes.readthedocs.io/en/latest/Quickstart.html#estimating-customer-lifetime-value-using-the-gamma-gamma-model).\n",
    "\n",
    "The paper for BG/NBD can be found [here](http://www.brucehardie.com/papers/bgnbd_2004-04-20.pdf)."
   ]
  },
  {
   "cell_type": "markdown",
   "metadata": {},
   "source": [
    "# Baseline <a class=\"anchor\" id=\"baseline\"></a>"
   ]
  },
  {
   "cell_type": "markdown",
   "metadata": {},
   "source": [
    "Assumption: a user will behave exactly the same in the next `n` days compared to recent `n` days, i.e.:\n",
    "> Value of a user in the next 30 days = Value of that user in recent 30 days"
   ]
  },
  {
   "cell_type": "code",
   "execution_count": 8,
   "metadata": {},
   "outputs": [],
   "source": [
    "n = 30\n",
    "max_step = raw_df['step'].max()\n",
    "cutoff_step = max_step - n\n",
    "start_step = cutoff_step - n"
   ]
  },
  {
   "cell_type": "code",
   "execution_count": 9,
   "metadata": {},
   "outputs": [],
   "source": [
    "y_pred_base = (raw_df.query(f\"step > {start_step} and step <= {cutoff_step}\")\n",
    "                     .groupby('customer')['amount'].sum())"
   ]
  },
  {
   "cell_type": "code",
   "execution_count": 10,
   "metadata": {},
   "outputs": [],
   "source": [
    "y_true = (raw_df.query(f\"step > {cutoff_step}\")\n",
    "                .groupby('customer')['amount'].sum())"
   ]
  },
  {
   "cell_type": "code",
   "execution_count": 12,
   "metadata": {},
   "outputs": [
    {
     "data": {
      "text/markdown": [
       "Choosing a window of 30 days as holdout validation, below are the predictions of future values of the customer:"
      ],
      "text/plain": [
       "<IPython.core.display.Markdown object>"
      ]
     },
     "execution_count": 12,
     "metadata": {},
     "output_type": "execute_result"
    }
   ],
   "source": [
    "md(f\"Choosing a window of {n} days as holdout validation, below are the predictions of future values of the customer:\")"
   ]
  },
  {
   "cell_type": "code",
   "execution_count": 11,
   "metadata": {},
   "outputs": [
    {
     "data": {
      "text/html": [
       "<div>\n",
       "<style scoped>\n",
       "    .dataframe tbody tr th:only-of-type {\n",
       "        vertical-align: middle;\n",
       "    }\n",
       "\n",
       "    .dataframe tbody tr th {\n",
       "        vertical-align: top;\n",
       "    }\n",
       "\n",
       "    .dataframe thead th {\n",
       "        text-align: right;\n",
       "    }\n",
       "</style>\n",
       "<table border=\"1\" class=\"dataframe\">\n",
       "  <thead>\n",
       "    <tr style=\"text-align: right;\">\n",
       "      <th></th>\n",
       "      <th>y_holdout</th>\n",
       "      <th>y_pred_base</th>\n",
       "    </tr>\n",
       "    <tr>\n",
       "      <th>customer</th>\n",
       "      <th></th>\n",
       "      <th></th>\n",
       "    </tr>\n",
       "  </thead>\n",
       "  <tbody>\n",
       "    <tr>\n",
       "      <th>C1000148617</th>\n",
       "      <td>1211.77</td>\n",
       "      <td>683.21</td>\n",
       "    </tr>\n",
       "    <tr>\n",
       "      <th>C100045114</th>\n",
       "      <td>1042.75</td>\n",
       "      <td>2565.20</td>\n",
       "    </tr>\n",
       "    <tr>\n",
       "      <th>C1000699316</th>\n",
       "      <td>349.98</td>\n",
       "      <td>43.54</td>\n",
       "    </tr>\n",
       "    <tr>\n",
       "      <th>C1001065306</th>\n",
       "      <td>501.13</td>\n",
       "      <td>2284.37</td>\n",
       "    </tr>\n",
       "    <tr>\n",
       "      <th>C1002658784</th>\n",
       "      <td>993.67</td>\n",
       "      <td>1042.45</td>\n",
       "    </tr>\n",
       "    <tr>\n",
       "      <th>...</th>\n",
       "      <td>...</td>\n",
       "      <td>...</td>\n",
       "    </tr>\n",
       "    <tr>\n",
       "      <th>C99729647</th>\n",
       "      <td>1520.57</td>\n",
       "      <td>932.45</td>\n",
       "    </tr>\n",
       "    <tr>\n",
       "      <th>C998690782</th>\n",
       "      <td>802.33</td>\n",
       "      <td>763.34</td>\n",
       "    </tr>\n",
       "    <tr>\n",
       "      <th>C998987490</th>\n",
       "      <td>1691.79</td>\n",
       "      <td>660.19</td>\n",
       "    </tr>\n",
       "    <tr>\n",
       "      <th>C999393223</th>\n",
       "      <td>1149.22</td>\n",
       "      <td>978.16</td>\n",
       "    </tr>\n",
       "    <tr>\n",
       "      <th>C999723254</th>\n",
       "      <td>615.26</td>\n",
       "      <td>691.65</td>\n",
       "    </tr>\n",
       "  </tbody>\n",
       "</table>\n",
       "<p>4109 rows × 2 columns</p>\n",
       "</div>"
      ],
      "text/plain": [
       "             y_holdout  y_pred_base\n",
       "customer                           \n",
       "C1000148617    1211.77       683.21\n",
       "C100045114     1042.75      2565.20\n",
       "C1000699316     349.98        43.54\n",
       "C1001065306     501.13      2284.37\n",
       "C1002658784     993.67      1042.45\n",
       "...                ...          ...\n",
       "C99729647      1520.57       932.45\n",
       "C998690782      802.33       763.34\n",
       "C998987490     1691.79       660.19\n",
       "C999393223     1149.22       978.16\n",
       "C999723254      615.26       691.65\n",
       "\n",
       "[4109 rows x 2 columns]"
      ]
     },
     "execution_count": 11,
     "metadata": {},
     "output_type": "execute_result"
    }
   ],
   "source": [
    "y_df = pd.merge(y_true.to_frame('y_holdout'),\n",
    "                y_pred_base.to_frame('y_pred_base'),\n",
    "                how='outer',\n",
    "                left_index=True,\n",
    "                right_index=True) \\\n",
    "         .fillna(0)\n",
    "y_df"
   ]
  },
  {
   "cell_type": "code",
   "execution_count": 17,
   "metadata": {},
   "outputs": [],
   "source": [
    "mae_base = metrics.mean_absolute_error(y_df['y_holdout'],\n",
    "                                       y_df['y_pred_base'])"
   ]
  },
  {
   "cell_type": "code",
   "execution_count": 98,
   "metadata": {},
   "outputs": [
    {
     "data": {
      "text/markdown": [
       "\\>> Mean absolute error of Baseline: 381.72"
      ],
      "text/plain": [
       "<IPython.core.display.Markdown object>"
      ]
     },
     "execution_count": 98,
     "metadata": {},
     "output_type": "execute_result"
    }
   ],
   "source": [
    "md(f\"\\>> Mean absolute error of Baseline: {mae_base:,.2f}\")"
   ]
  },
  {
   "cell_type": "markdown",
   "metadata": {},
   "source": [
    "# Probabilistic approach: BG/NBD <a class=\"anchor\" id=\"bg-nbd\"></a>"
   ]
  },
  {
   "cell_type": "markdown",
   "metadata": {},
   "source": [
    "## Calculate features <a class=\"anchor\" id=\"calc-features\"></a>"
   ]
  },
  {
   "cell_type": "markdown",
   "metadata": {},
   "source": [
    "To be able to use utils function from `lifetimes`, I need to convert each `step` to a pseudo date.\n",
    "The series below lists `step` in its index and a corresponding date in the value column."
   ]
  },
  {
   "cell_type": "code",
   "execution_count": 24,
   "metadata": {},
   "outputs": [],
   "source": [
    "cnt_steps = raw_df['step'].nunique()\n",
    "pseudo_date_mapper = pd.Series(index=list(range(cnt_steps)),\n",
    "                               data=pd.date_range(\"2020-01-01\",\n",
    "                                                  periods=cnt_steps))\n",
    "raw_df['pseudo_date'] = raw_df['step'].map(pseudo_date_mapper)"
   ]
  },
  {
   "cell_type": "code",
   "execution_count": 25,
   "metadata": {},
   "outputs": [
    {
     "data": {
      "text/plain": [
       "0     2020-01-01\n",
       "1     2020-01-02\n",
       "2     2020-01-03\n",
       "3     2020-01-04\n",
       "4     2020-01-05\n",
       "         ...    \n",
       "175   2020-06-24\n",
       "176   2020-06-25\n",
       "177   2020-06-26\n",
       "178   2020-06-27\n",
       "179   2020-06-28\n",
       "Length: 180, dtype: datetime64[ns]"
      ]
     },
     "execution_count": 25,
     "metadata": {},
     "output_type": "execute_result"
    }
   ],
   "source": [
    "pseudo_date_mapper"
   ]
  },
  {
   "cell_type": "markdown",
   "metadata": {},
   "source": [
    "With the help of util funtion `lifetimes.utils.summary_data_from_transaction_data`, we have the following aggregated DataFrame that summarizes the historical activity levels of all customers.\n",
    "\n",
    "Note that these features are calculated from all the transaction logs, including holdout data. We use this information to visualize and explore our BG/NBD approach."
   ]
  },
  {
   "cell_type": "code",
   "execution_count": 139,
   "metadata": {},
   "outputs": [
    {
     "name": "stdout",
     "output_type": "stream",
     "text": [
      "CPU times: user 969 ms, sys: 109 ms, total: 1.08 s\n",
      "Wall time: 1.06 s\n"
     ]
    }
   ],
   "source": [
    "%%time\n",
    "summary_df = summary_data_from_transaction_data(raw_df,\n",
    "                                                customer_id_col='customer',\n",
    "                                                datetime_col='pseudo_date',\n",
    "                                                monetary_value_col='amount')"
   ]
  },
  {
   "cell_type": "code",
   "execution_count": 140,
   "metadata": {},
   "outputs": [
    {
     "data": {
      "text/html": [
       "<div>\n",
       "<style scoped>\n",
       "    .dataframe tbody tr th:only-of-type {\n",
       "        vertical-align: middle;\n",
       "    }\n",
       "\n",
       "    .dataframe tbody tr th {\n",
       "        vertical-align: top;\n",
       "    }\n",
       "\n",
       "    .dataframe thead th {\n",
       "        text-align: right;\n",
       "    }\n",
       "</style>\n",
       "<table border=\"1\" class=\"dataframe\">\n",
       "  <thead>\n",
       "    <tr style=\"text-align: right;\">\n",
       "      <th></th>\n",
       "      <th>frequency</th>\n",
       "      <th>recency</th>\n",
       "      <th>T</th>\n",
       "      <th>monetary_value</th>\n",
       "    </tr>\n",
       "    <tr>\n",
       "      <th>customer</th>\n",
       "      <th></th>\n",
       "      <th></th>\n",
       "      <th></th>\n",
       "      <th></th>\n",
       "    </tr>\n",
       "  </thead>\n",
       "  <tbody>\n",
       "    <tr>\n",
       "      <th>C1000148617</th>\n",
       "      <td>127.0</td>\n",
       "      <td>149.0</td>\n",
       "      <td>149.0</td>\n",
       "      <td>35.064331</td>\n",
       "    </tr>\n",
       "    <tr>\n",
       "      <th>C100045114</th>\n",
       "      <td>90.0</td>\n",
       "      <td>179.0</td>\n",
       "      <td>179.0</td>\n",
       "      <td>109.016889</td>\n",
       "    </tr>\n",
       "    <tr>\n",
       "      <th>C1000699316</th>\n",
       "      <td>92.0</td>\n",
       "      <td>173.0</td>\n",
       "      <td>179.0</td>\n",
       "      <td>38.677174</td>\n",
       "    </tr>\n",
       "    <tr>\n",
       "      <th>C1001065306</th>\n",
       "      <td>20.0</td>\n",
       "      <td>134.0</td>\n",
       "      <td>158.0</td>\n",
       "      <td>305.277000</td>\n",
       "    </tr>\n",
       "    <tr>\n",
       "      <th>C1002658784</th>\n",
       "      <td>127.0</td>\n",
       "      <td>157.0</td>\n",
       "      <td>157.0</td>\n",
       "      <td>33.778583</td>\n",
       "    </tr>\n",
       "    <tr>\n",
       "      <th>...</th>\n",
       "      <td>...</td>\n",
       "      <td>...</td>\n",
       "      <td>...</td>\n",
       "      <td>...</td>\n",
       "    </tr>\n",
       "    <tr>\n",
       "      <th>C99729647</th>\n",
       "      <td>168.0</td>\n",
       "      <td>178.0</td>\n",
       "      <td>179.0</td>\n",
       "      <td>33.738452</td>\n",
       "    </tr>\n",
       "    <tr>\n",
       "      <th>C998690782</th>\n",
       "      <td>167.0</td>\n",
       "      <td>179.0</td>\n",
       "      <td>179.0</td>\n",
       "      <td>62.397066</td>\n",
       "    </tr>\n",
       "    <tr>\n",
       "      <th>C998987490</th>\n",
       "      <td>169.0</td>\n",
       "      <td>179.0</td>\n",
       "      <td>179.0</td>\n",
       "      <td>33.607337</td>\n",
       "    </tr>\n",
       "    <tr>\n",
       "      <th>C999393223</th>\n",
       "      <td>129.0</td>\n",
       "      <td>173.0</td>\n",
       "      <td>173.0</td>\n",
       "      <td>39.565271</td>\n",
       "    </tr>\n",
       "    <tr>\n",
       "      <th>C999723254</th>\n",
       "      <td>118.0</td>\n",
       "      <td>168.0</td>\n",
       "      <td>168.0</td>\n",
       "      <td>30.025593</td>\n",
       "    </tr>\n",
       "  </tbody>\n",
       "</table>\n",
       "<p>4112 rows × 4 columns</p>\n",
       "</div>"
      ],
      "text/plain": [
       "             frequency  recency      T  monetary_value\n",
       "customer                                              \n",
       "C1000148617      127.0    149.0  149.0       35.064331\n",
       "C100045114        90.0    179.0  179.0      109.016889\n",
       "C1000699316       92.0    173.0  179.0       38.677174\n",
       "C1001065306       20.0    134.0  158.0      305.277000\n",
       "C1002658784      127.0    157.0  157.0       33.778583\n",
       "...                ...      ...    ...             ...\n",
       "C99729647        168.0    178.0  179.0       33.738452\n",
       "C998690782       167.0    179.0  179.0       62.397066\n",
       "C998987490       169.0    179.0  179.0       33.607337\n",
       "C999393223       129.0    173.0  173.0       39.565271\n",
       "C999723254       118.0    168.0  168.0       30.025593\n",
       "\n",
       "[4112 rows x 4 columns]"
      ]
     },
     "execution_count": 140,
     "metadata": {},
     "output_type": "execute_result"
    }
   ],
   "source": [
    "summary_df"
   ]
  },
  {
   "cell_type": "markdown",
   "metadata": {},
   "source": [
    "[Definition of our features](https://lifetimes.readthedocs.io/en/latest/Quickstart.html#visualizing-our-frequency-recency-matrix):\n",
    "> - `frequency` represents the number of repeat purchases the customer has made. This means that it’s one less than the total number of purchases. This is actually slightly wrong. It’s the count of time periods the customer had a purchase in. So if using days as units, then it’s the count of days the customer had a purchase on.\n",
    "> - `T` represents the age of the customer in whatever time units chosen (weekly, in the above dataset). This is equal to the duration between a customer’s first purchase and the end of the period under study.\n",
    "> - `recency` represents the age of the customer when they made their most recent purchases. This is equal to the duration between a customer’s first purchase and their latest purchase. (Thus if they have made only 1 purchase, the recency is 0.).the\n",
    "> - `monetary_value` represents the average value of a given customer’s purchases. This is equal to the sum of all a customer’s purchases divided by the total number of purchases. Note that the denominator here is different than the frequency described above.\n",
    "\n",
    "Note that the above `recency` is not the same as `R` (which is also named recency) from [RFM model in the market research context](https://en.wikipedia.org/wiki/RFM_(market_research))."
   ]
  },
  {
   "cell_type": "markdown",
   "metadata": {},
   "source": [
    "## Analyze Frequency/Recency <a class=\"anchor\" id=\"analyze-fr\"></a>"
   ]
  },
  {
   "cell_type": "markdown",
   "metadata": {},
   "source": [
    "Fitting the features data with BG/NBD implementation `lifetimes.BetaGeoFitter`:"
   ]
  },
  {
   "cell_type": "code",
   "execution_count": 72,
   "metadata": {},
   "outputs": [],
   "source": [
    "data = summary_df.copy()"
   ]
  },
  {
   "cell_type": "code",
   "execution_count": 136,
   "metadata": {},
   "outputs": [
    {
     "name": "stdout",
     "output_type": "stream",
     "text": [
      "CPU times: user 250 ms, sys: 0 ns, total: 250 ms\n",
      "Wall time: 240 ms\n"
     ]
    },
    {
     "data": {
      "text/plain": [
       "<lifetimes.BetaGeoFitter: fitted with 4112 subjects, a: 0.00, alpha: 4.24, b: 0.40, r: 3.34>"
      ]
     },
     "execution_count": 136,
     "metadata": {},
     "output_type": "execute_result"
    }
   ],
   "source": [
    "%%time\n",
    "# penalizer_coef=0 yields convergence error\n",
    "bgf = BetaGeoFitter(penalizer_coef=0.01)\n",
    "bgf.fit(data['frequency'], data['recency'], data['T'])"
   ]
  },
  {
   "cell_type": "code",
   "execution_count": 34,
   "metadata": {},
   "outputs": [
    {
     "data": {
      "text/html": [
       "<div>\n",
       "<style scoped>\n",
       "    .dataframe tbody tr th:only-of-type {\n",
       "        vertical-align: middle;\n",
       "    }\n",
       "\n",
       "    .dataframe tbody tr th {\n",
       "        vertical-align: top;\n",
       "    }\n",
       "\n",
       "    .dataframe thead th {\n",
       "        text-align: right;\n",
       "    }\n",
       "</style>\n",
       "<table border=\"1\" class=\"dataframe\">\n",
       "  <thead>\n",
       "    <tr style=\"text-align: right;\">\n",
       "      <th></th>\n",
       "      <th>coef</th>\n",
       "      <th>se(coef)</th>\n",
       "      <th>lower 95% bound</th>\n",
       "      <th>upper 95% bound</th>\n",
       "    </tr>\n",
       "  </thead>\n",
       "  <tbody>\n",
       "    <tr>\n",
       "      <th>r</th>\n",
       "      <td>3.343352</td>\n",
       "      <td>0.060667</td>\n",
       "      <td>3.224444</td>\n",
       "      <td>3.462260</td>\n",
       "    </tr>\n",
       "    <tr>\n",
       "      <th>alpha</th>\n",
       "      <td>4.236400</td>\n",
       "      <td>0.085112</td>\n",
       "      <td>4.069581</td>\n",
       "      <td>4.403219</td>\n",
       "    </tr>\n",
       "    <tr>\n",
       "      <th>a</th>\n",
       "      <td>0.001129</td>\n",
       "      <td>0.000222</td>\n",
       "      <td>0.000693</td>\n",
       "      <td>0.001564</td>\n",
       "    </tr>\n",
       "    <tr>\n",
       "      <th>b</th>\n",
       "      <td>0.401115</td>\n",
       "      <td>0.071826</td>\n",
       "      <td>0.260336</td>\n",
       "      <td>0.541893</td>\n",
       "    </tr>\n",
       "  </tbody>\n",
       "</table>\n",
       "</div>"
      ],
      "text/plain": [
       "           coef  se(coef)  lower 95% bound  upper 95% bound\n",
       "r      3.343352  0.060667         3.224444         3.462260\n",
       "alpha  4.236400  0.085112         4.069581         4.403219\n",
       "a      0.001129  0.000222         0.000693         0.001564\n",
       "b      0.401115  0.071826         0.260336         0.541893"
      ]
     },
     "execution_count": 34,
     "metadata": {},
     "output_type": "execute_result"
    }
   ],
   "source": [
    "bgf.summary"
   ]
  },
  {
   "cell_type": "markdown",
   "metadata": {},
   "source": [
    "Visualize F/R Matrix:"
   ]
  },
  {
   "cell_type": "code",
   "execution_count": 35,
   "metadata": {},
   "outputs": [
    {
     "data": {
      "text/plain": [
       "<matplotlib.axes._subplots.AxesSubplot at 0x7f798e8318b0>"
      ]
     },
     "execution_count": 35,
     "metadata": {},
     "output_type": "execute_result"
    },
    {
     "data": {
      "image/png": "[encoded data removed]",
      "text/plain": [
       "<Figure size 720x720 with 2 Axes>"
      ]
     },
     "metadata": {
      "needs_background": "light"
     },
     "output_type": "display_data"
    }
   ],
   "source": [
    "plt.figure(figsize=(10,10))\n",
    "plot_frequency_recency_matrix(bgf)"
   ]
  },
  {
   "cell_type": "markdown",
   "metadata": {},
   "source": [
    "The lighter is the more valuable customers with a high chance of repeated transactions. The visualization shows that our best customers are those that have made more than ~130 transactions out of 180 days, with their tenure ranging from 160 to 180 days. Intuitively, these customers on average purchase 4 times every 5 days in the last six months!"
   ]
  },
  {
   "cell_type": "markdown",
   "metadata": {},
   "source": [
    "Visualize Probability of Alive:"
   ]
  },
  {
   "cell_type": "code",
   "execution_count": 36,
   "metadata": {},
   "outputs": [
    {
     "data": {
      "text/plain": [
       "<matplotlib.axes._subplots.AxesSubplot at 0x7f798e5a0d30>"
      ]
     },
     "execution_count": 36,
     "metadata": {},
     "output_type": "execute_result"
    },
    {
     "data": {
      "image/png": "[encoded data removed]",
      "text/plain": [
       "<Figure size 720x720 with 2 Axes>"
      ]
     },
     "metadata": {
      "needs_background": "light"
     },
     "output_type": "display_data"
    }
   ],
   "source": [
    "plt.figure(figsize=(10,10))\n",
    "plot_probability_alive_matrix(bgf)"
   ]
  },
  {
   "cell_type": "markdown",
   "metadata": {},
   "source": [
    "The above plot suggests that if we care about probability of alive, we should focus encouraging long tenure relationship with users instead of encouraging them to over-spend from the beginning. It also says that of all the customers that have been with us for 3 months, the ones making less than 10 purchases indicates sustainability."
   ]
  },
  {
   "cell_type": "code",
   "execution_count": 73,
   "metadata": {},
   "outputs": [],
   "source": [
    "t = 1\n",
    "fn_pred_expected_purchases = bgf.conditional_expected_number_of_purchases_up_to_time\n",
    "ppt_name = f'predicted_purchases_{t}'\n",
    "data[ppt_name] = fn_pred_expected_purchases(t,\n",
    "                                            data['frequency'],\n",
    "                                            data['recency'],\n",
    "                                            data['T'])"
   ]
  },
  {
   "cell_type": "markdown",
   "metadata": {},
   "source": [
    "# Ranking customers by their values <a class='anchor' id='rank'>"
   ]
  },
  {
   "cell_type": "code",
   "execution_count": 84,
   "metadata": {},
   "outputs": [
    {
     "data": {
      "text/markdown": [
       "#### Ranking customers from best to worst by probability of purchasing in the next 30 day"
      ],
      "text/plain": [
       "<IPython.core.display.Markdown object>"
      ]
     },
     "execution_count": 84,
     "metadata": {},
     "output_type": "execute_result"
    }
   ],
   "source": [
    "md(f\"#### Ranking customers from best to worst by probability of purchasing in the next {t} day\")"
   ]
  },
  {
   "cell_type": "code",
   "execution_count": 75,
   "metadata": {},
   "outputs": [
    {
     "data": {
      "text/html": [
       "<div>\n",
       "<style scoped>\n",
       "    .dataframe tbody tr th:only-of-type {\n",
       "        vertical-align: middle;\n",
       "    }\n",
       "\n",
       "    .dataframe tbody tr th {\n",
       "        vertical-align: top;\n",
       "    }\n",
       "\n",
       "    .dataframe thead th {\n",
       "        text-align: right;\n",
       "    }\n",
       "</style>\n",
       "<table border=\"1\" class=\"dataframe\">\n",
       "  <thead>\n",
       "    <tr style=\"text-align: right;\">\n",
       "      <th></th>\n",
       "      <th>frequency</th>\n",
       "      <th>recency</th>\n",
       "      <th>T</th>\n",
       "      <th>monetary_value</th>\n",
       "      <th>predicted_purchases_1</th>\n",
       "    </tr>\n",
       "    <tr>\n",
       "      <th>customer</th>\n",
       "      <th></th>\n",
       "      <th></th>\n",
       "      <th></th>\n",
       "      <th></th>\n",
       "      <th></th>\n",
       "    </tr>\n",
       "  </thead>\n",
       "  <tbody>\n",
       "    <tr>\n",
       "      <th>C1882101149</th>\n",
       "      <td>176.0</td>\n",
       "      <td>179.0</td>\n",
       "      <td>179.0</td>\n",
       "      <td>33.980057</td>\n",
       "      <td>0.978745</td>\n",
       "    </tr>\n",
       "    <tr>\n",
       "      <th>C1999699557</th>\n",
       "      <td>176.0</td>\n",
       "      <td>179.0</td>\n",
       "      <td>179.0</td>\n",
       "      <td>34.455170</td>\n",
       "      <td>0.978745</td>\n",
       "    </tr>\n",
       "    <tr>\n",
       "      <th>C1155962240</th>\n",
       "      <td>176.0</td>\n",
       "      <td>179.0</td>\n",
       "      <td>179.0</td>\n",
       "      <td>34.845852</td>\n",
       "      <td>0.978745</td>\n",
       "    </tr>\n",
       "    <tr>\n",
       "      <th>C333484923</th>\n",
       "      <td>176.0</td>\n",
       "      <td>179.0</td>\n",
       "      <td>179.0</td>\n",
       "      <td>32.946818</td>\n",
       "      <td>0.978745</td>\n",
       "    </tr>\n",
       "    <tr>\n",
       "      <th>C222098023</th>\n",
       "      <td>176.0</td>\n",
       "      <td>179.0</td>\n",
       "      <td>179.0</td>\n",
       "      <td>31.382443</td>\n",
       "      <td>0.978745</td>\n",
       "    </tr>\n",
       "  </tbody>\n",
       "</table>\n",
       "</div>"
      ],
      "text/plain": [
       "             frequency  recency      T  monetary_value  predicted_purchases_1\n",
       "customer                                                                     \n",
       "C1882101149      176.0    179.0  179.0       33.980057               0.978745\n",
       "C1999699557      176.0    179.0  179.0       34.455170               0.978745\n",
       "C1155962240      176.0    179.0  179.0       34.845852               0.978745\n",
       "C333484923       176.0    179.0  179.0       32.946818               0.978745\n",
       "C222098023       176.0    179.0  179.0       31.382443               0.978745"
      ]
     },
     "execution_count": 75,
     "metadata": {},
     "output_type": "execute_result"
    }
   ],
   "source": [
    "data.sort_values(by=ppt_name).tail(5)"
   ]
  },
  {
   "cell_type": "markdown",
   "metadata": {},
   "source": [
    "To estimate the expected value in $, we can use multiply the `monetary_value` with `predicted_purchases` as monetary_value is [equal to the sum of all a customer’s purchases divided by the total number of purchases](https://lifetimes.readthedocs.io/en/latest/Quickstart.html#example-using-transactional-datasets)."
   ]
  },
  {
   "cell_type": "code",
   "execution_count": 76,
   "metadata": {},
   "outputs": [],
   "source": [
    "pvt_name = f'predicted_value_{t}'\n",
    "data[pvt_name] = (data[ppt_name]\n",
    "                  * data['monetary_value'])"
   ]
  },
  {
   "cell_type": "code",
   "execution_count": 77,
   "metadata": {},
   "outputs": [
    {
     "data": {
      "text/html": [
       "<style  type=\"text/css\" >\n",
       "    #T_722ac0ee_c7b9_11ea_a13d_1d58d81b198drow0_col5 {\n",
       "            width:  10em;\n",
       "             height:  80%;\n",
       "            background:  linear-gradient(90deg,#d65f5f 100.0%, transparent 100.0%);\n",
       "        }    #T_722ac0ee_c7b9_11ea_a13d_1d58d81b198drow1_col5 {\n",
       "            width:  10em;\n",
       "             height:  80%;\n",
       "            background:  linear-gradient(90deg,#d65f5f 69.0%, transparent 69.0%);\n",
       "        }    #T_722ac0ee_c7b9_11ea_a13d_1d58d81b198drow2_col5 {\n",
       "            width:  10em;\n",
       "             height:  80%;\n",
       "            background:  linear-gradient(90deg,#d65f5f 64.4%, transparent 64.4%);\n",
       "        }    #T_722ac0ee_c7b9_11ea_a13d_1d58d81b198drow3_col5 {\n",
       "            width:  10em;\n",
       "             height:  80%;\n",
       "            background:  linear-gradient(90deg,#d65f5f 59.6%, transparent 59.6%);\n",
       "        }    #T_722ac0ee_c7b9_11ea_a13d_1d58d81b198drow4_col5 {\n",
       "            width:  10em;\n",
       "             height:  80%;\n",
       "            background:  linear-gradient(90deg,#d65f5f 59.5%, transparent 59.5%);\n",
       "        }</style><table id=\"T_722ac0ee_c7b9_11ea_a13d_1d58d81b198d\" ><thead>    <tr>        <th class=\"blank level0\" ></th>        <th class=\"col_heading level0 col0\" >frequency</th>        <th class=\"col_heading level0 col1\" >recency</th>        <th class=\"col_heading level0 col2\" >T</th>        <th class=\"col_heading level0 col3\" >monetary_value</th>        <th class=\"col_heading level0 col4\" >predicted_purchases_1</th>        <th class=\"col_heading level0 col5\" >predicted_value_1</th>    </tr>    <tr>        <th class=\"index_name level0\" >customer</th>        <th class=\"blank\" ></th>        <th class=\"blank\" ></th>        <th class=\"blank\" ></th>        <th class=\"blank\" ></th>        <th class=\"blank\" ></th>        <th class=\"blank\" ></th>    </tr></thead><tbody>\n",
       "                <tr>\n",
       "                        <th id=\"T_722ac0ee_c7b9_11ea_a13d_1d58d81b198dlevel0_row0\" class=\"row_heading level0 row0\" >C806399525</th>\n",
       "                        <td id=\"T_722ac0ee_c7b9_11ea_a13d_1d58d81b198drow0_col0\" class=\"data row0 col0\" >134</td>\n",
       "                        <td id=\"T_722ac0ee_c7b9_11ea_a13d_1d58d81b198drow0_col1\" class=\"data row0 col1\" >148</td>\n",
       "                        <td id=\"T_722ac0ee_c7b9_11ea_a13d_1d58d81b198drow0_col2\" class=\"data row0 col2\" >148</td>\n",
       "                        <td id=\"T_722ac0ee_c7b9_11ea_a13d_1d58d81b198drow0_col3\" class=\"data row0 col3\" >625</td>\n",
       "                        <td id=\"T_722ac0ee_c7b9_11ea_a13d_1d58d81b198drow0_col4\" class=\"data row0 col4\" >0.90</td>\n",
       "                        <td id=\"T_722ac0ee_c7b9_11ea_a13d_1d58d81b198drow0_col5\" class=\"data row0 col5\" >563</td>\n",
       "            </tr>\n",
       "            <tr>\n",
       "                        <th id=\"T_722ac0ee_c7b9_11ea_a13d_1d58d81b198dlevel0_row1\" class=\"row_heading level0 row1\" >C2004941826</th>\n",
       "                        <td id=\"T_722ac0ee_c7b9_11ea_a13d_1d58d81b198drow1_col0\" class=\"data row1 col0\" >89</td>\n",
       "                        <td id=\"T_722ac0ee_c7b9_11ea_a13d_1d58d81b198drow1_col1\" class=\"data row1 col1\" >165</td>\n",
       "                        <td id=\"T_722ac0ee_c7b9_11ea_a13d_1d58d81b198drow1_col2\" class=\"data row1 col2\" >168</td>\n",
       "                        <td id=\"T_722ac0ee_c7b9_11ea_a13d_1d58d81b198drow1_col3\" class=\"data row1 col3\" >725</td>\n",
       "                        <td id=\"T_722ac0ee_c7b9_11ea_a13d_1d58d81b198drow1_col4\" class=\"data row1 col4\" >0.54</td>\n",
       "                        <td id=\"T_722ac0ee_c7b9_11ea_a13d_1d58d81b198drow1_col5\" class=\"data row1 col5\" >389</td>\n",
       "            </tr>\n",
       "            <tr>\n",
       "                        <th id=\"T_722ac0ee_c7b9_11ea_a13d_1d58d81b198dlevel0_row2\" class=\"row_heading level0 row2\" >C1849046345</th>\n",
       "                        <td id=\"T_722ac0ee_c7b9_11ea_a13d_1d58d81b198drow2_col0\" class=\"data row2 col0\" >107</td>\n",
       "                        <td id=\"T_722ac0ee_c7b9_11ea_a13d_1d58d81b198drow2_col1\" class=\"data row2 col1\" >167</td>\n",
       "                        <td id=\"T_722ac0ee_c7b9_11ea_a13d_1d58d81b198drow2_col2\" class=\"data row2 col2\" >167</td>\n",
       "                        <td id=\"T_722ac0ee_c7b9_11ea_a13d_1d58d81b198drow2_col3\" class=\"data row2 col3\" >563</td>\n",
       "                        <td id=\"T_722ac0ee_c7b9_11ea_a13d_1d58d81b198drow2_col4\" class=\"data row2 col4\" >0.64</td>\n",
       "                        <td id=\"T_722ac0ee_c7b9_11ea_a13d_1d58d81b198drow2_col5\" class=\"data row2 col5\" >363</td>\n",
       "            </tr>\n",
       "            <tr>\n",
       "                        <th id=\"T_722ac0ee_c7b9_11ea_a13d_1d58d81b198dlevel0_row3\" class=\"row_heading level0 row3\" >C1350963410</th>\n",
       "                        <td id=\"T_722ac0ee_c7b9_11ea_a13d_1d58d81b198drow3_col0\" class=\"data row3 col0\" >118</td>\n",
       "                        <td id=\"T_722ac0ee_c7b9_11ea_a13d_1d58d81b198drow3_col1\" class=\"data row3 col1\" >167</td>\n",
       "                        <td id=\"T_722ac0ee_c7b9_11ea_a13d_1d58d81b198drow3_col2\" class=\"data row3 col2\" >167</td>\n",
       "                        <td id=\"T_722ac0ee_c7b9_11ea_a13d_1d58d81b198drow3_col3\" class=\"data row3 col3\" >474</td>\n",
       "                        <td id=\"T_722ac0ee_c7b9_11ea_a13d_1d58d81b198drow3_col4\" class=\"data row3 col4\" >0.71</td>\n",
       "                        <td id=\"T_722ac0ee_c7b9_11ea_a13d_1d58d81b198drow3_col5\" class=\"data row3 col5\" >336</td>\n",
       "            </tr>\n",
       "            <tr>\n",
       "                        <th id=\"T_722ac0ee_c7b9_11ea_a13d_1d58d81b198dlevel0_row4\" class=\"row_heading level0 row4\" >C1572610482</th>\n",
       "                        <td id=\"T_722ac0ee_c7b9_11ea_a13d_1d58d81b198drow4_col0\" class=\"data row4 col0\" >70</td>\n",
       "                        <td id=\"T_722ac0ee_c7b9_11ea_a13d_1d58d81b198drow4_col1\" class=\"data row4 col1\" >171</td>\n",
       "                        <td id=\"T_722ac0ee_c7b9_11ea_a13d_1d58d81b198drow4_col2\" class=\"data row4 col2\" >177</td>\n",
       "                        <td id=\"T_722ac0ee_c7b9_11ea_a13d_1d58d81b198drow4_col3\" class=\"data row4 col3\" >829</td>\n",
       "                        <td id=\"T_722ac0ee_c7b9_11ea_a13d_1d58d81b198drow4_col4\" class=\"data row4 col4\" >0.40</td>\n",
       "                        <td id=\"T_722ac0ee_c7b9_11ea_a13d_1d58d81b198drow4_col5\" class=\"data row4 col5\" >335</td>\n",
       "            </tr>\n",
       "    </tbody></table>"
      ],
      "text/plain": [
       "<pandas.io.formats.style.Styler at 0x7f7988bc3f10>"
      ]
     },
     "execution_count": 77,
     "metadata": {},
     "output_type": "execute_result"
    }
   ],
   "source": [
    "data.sort_values([pvt_name], ascending=False) \\\n",
    "    .head() \\\n",
    "    .style.format(\"{:,.0f}\", subset=[pvt_name, 'frequency',\n",
    "                                     'recency', 'T',\n",
    "                                     'monetary_value']) \\\n",
    "          .format(\"{:,.2f}\", subset=[ppt_name]) \\\n",
    "          .bar(vmin=0, subset=[pvt_name])"
   ]
  },
  {
   "cell_type": "markdown",
   "metadata": {},
   "source": [
    "Distribution of `predicted_value_1`"
   ]
  },
  {
   "cell_type": "code",
   "execution_count": 53,
   "metadata": {},
   "outputs": [
    {
     "data": {
      "text/plain": [
       "<matplotlib.axes._subplots.AxesSubplot at 0x7f798e5c1220>"
      ]
     },
     "execution_count": 53,
     "metadata": {},
     "output_type": "execute_result"
    },
    {
     "data": {
      "image/png": "[encoded data removed]",
      "text/plain": [
       "<Figure size 720x360 with 1 Axes>"
      ]
     },
     "metadata": {
      "needs_background": "light"
     },
     "output_type": "display_data"
    }
   ],
   "source": [
    "plt.figure(figsize=(10,5))\n",
    "sns.distplot(data[pvt_name])"
   ]
  },
  {
   "cell_type": "markdown",
   "metadata": {},
   "source": [
    "The distribution is right-skewed, with expected values lie in range (20, 30)."
   ]
  },
  {
   "cell_type": "markdown",
   "metadata": {},
   "source": [
    "#### As the problem requires calculating users' long term values, I proceed by making the following assumptions:"
   ]
  },
  {
   "cell_type": "markdown",
   "metadata": {},
   "source": [
    "1. \\# of purchases in K days = P(purchase|1 day) * \\# days\n",
    "2. Average spending of customer does not change in the next K days period"
   ]
  },
  {
   "cell_type": "code",
   "execution_count": 78,
   "metadata": {},
   "outputs": [],
   "source": [
    "long_term_periods = 30"
   ]
  },
  {
   "cell_type": "code",
   "execution_count": 79,
   "metadata": {},
   "outputs": [
    {
     "data": {
      "text/html": [
       "<div>\n",
       "<style scoped>\n",
       "    .dataframe tbody tr th:only-of-type {\n",
       "        vertical-align: middle;\n",
       "    }\n",
       "\n",
       "    .dataframe tbody tr th {\n",
       "        vertical-align: top;\n",
       "    }\n",
       "\n",
       "    .dataframe thead th {\n",
       "        text-align: right;\n",
       "    }\n",
       "</style>\n",
       "<table border=\"1\" class=\"dataframe\">\n",
       "  <thead>\n",
       "    <tr style=\"text-align: right;\">\n",
       "      <th></th>\n",
       "      <th>frequency</th>\n",
       "      <th>recency</th>\n",
       "      <th>T</th>\n",
       "      <th>monetary_value</th>\n",
       "      <th>predicted_purchases_1</th>\n",
       "      <th>predicted_value_1</th>\n",
       "      <th>predicted_purchases_30</th>\n",
       "    </tr>\n",
       "    <tr>\n",
       "      <th>customer</th>\n",
       "      <th></th>\n",
       "      <th></th>\n",
       "      <th></th>\n",
       "      <th></th>\n",
       "      <th></th>\n",
       "      <th></th>\n",
       "      <th></th>\n",
       "    </tr>\n",
       "  </thead>\n",
       "  <tbody>\n",
       "    <tr>\n",
       "      <th>C1882101149</th>\n",
       "      <td>176.0</td>\n",
       "      <td>179.0</td>\n",
       "      <td>179.0</td>\n",
       "      <td>33.980057</td>\n",
       "      <td>0.978745</td>\n",
       "      <td>33.257797</td>\n",
       "      <td>29.3598</td>\n",
       "    </tr>\n",
       "    <tr>\n",
       "      <th>C1999699557</th>\n",
       "      <td>176.0</td>\n",
       "      <td>179.0</td>\n",
       "      <td>179.0</td>\n",
       "      <td>34.455170</td>\n",
       "      <td>0.978745</td>\n",
       "      <td>33.722811</td>\n",
       "      <td>29.3598</td>\n",
       "    </tr>\n",
       "    <tr>\n",
       "      <th>C1155962240</th>\n",
       "      <td>176.0</td>\n",
       "      <td>179.0</td>\n",
       "      <td>179.0</td>\n",
       "      <td>34.845852</td>\n",
       "      <td>0.978745</td>\n",
       "      <td>34.105189</td>\n",
       "      <td>29.3598</td>\n",
       "    </tr>\n",
       "    <tr>\n",
       "      <th>C333484923</th>\n",
       "      <td>176.0</td>\n",
       "      <td>179.0</td>\n",
       "      <td>179.0</td>\n",
       "      <td>32.946818</td>\n",
       "      <td>0.978745</td>\n",
       "      <td>32.246520</td>\n",
       "      <td>29.3598</td>\n",
       "    </tr>\n",
       "    <tr>\n",
       "      <th>C222098023</th>\n",
       "      <td>176.0</td>\n",
       "      <td>179.0</td>\n",
       "      <td>179.0</td>\n",
       "      <td>31.382443</td>\n",
       "      <td>0.978745</td>\n",
       "      <td>30.715396</td>\n",
       "      <td>29.3598</td>\n",
       "    </tr>\n",
       "  </tbody>\n",
       "</table>\n",
       "</div>"
      ],
      "text/plain": [
       "             frequency  recency      T  monetary_value  predicted_purchases_1  \\\n",
       "customer                                                                        \n",
       "C1882101149      176.0    179.0  179.0       33.980057               0.978745   \n",
       "C1999699557      176.0    179.0  179.0       34.455170               0.978745   \n",
       "C1155962240      176.0    179.0  179.0       34.845852               0.978745   \n",
       "C333484923       176.0    179.0  179.0       32.946818               0.978745   \n",
       "C222098023       176.0    179.0  179.0       31.382443               0.978745   \n",
       "\n",
       "             predicted_value_1  predicted_purchases_30  \n",
       "customer                                                \n",
       "C1882101149          33.257797                 29.3598  \n",
       "C1999699557          33.722811                 29.3598  \n",
       "C1155962240          34.105189                 29.3598  \n",
       "C333484923           32.246520                 29.3598  \n",
       "C222098023           30.715396                 29.3598  "
      ]
     },
     "execution_count": 79,
     "metadata": {},
     "output_type": "execute_result"
    }
   ],
   "source": [
    "t = long_term_periods\n",
    "fn_pred_expected_purchases = bgf.conditional_expected_number_of_purchases_up_to_time\n",
    "ppt_name = f'predicted_purchases_{t}'\n",
    "data[ppt_name] = fn_pred_expected_purchases(t,\n",
    "                                            data['frequency'],\n",
    "                                            data['recency'],\n",
    "                                            data['T'])\n",
    "data.sort_values(by=ppt_name).tail(5)"
   ]
  },
  {
   "cell_type": "code",
   "execution_count": 80,
   "metadata": {},
   "outputs": [],
   "source": [
    "pvt_name = f'predicted_value_{t}'\n",
    "data[pvt_name] = (data[ppt_name]\n",
    "                  * data['monetary_value'])"
   ]
  },
  {
   "cell_type": "code",
   "execution_count": 81,
   "metadata": {},
   "outputs": [
    {
     "data": {
      "text/html": [
       "<style  type=\"text/css\" >\n",
       "    #T_78c46cfc_c7b9_11ea_a13d_1d58d81b198drow0_col7 {\n",
       "            width:  10em;\n",
       "             height:  80%;\n",
       "            background:  linear-gradient(90deg,#d65f5f 100.0%, transparent 100.0%);\n",
       "        }    #T_78c46cfc_c7b9_11ea_a13d_1d58d81b198drow1_col7 {\n",
       "            width:  10em;\n",
       "             height:  80%;\n",
       "            background:  linear-gradient(90deg,#d65f5f 69.0%, transparent 69.0%);\n",
       "        }    #T_78c46cfc_c7b9_11ea_a13d_1d58d81b198drow2_col7 {\n",
       "            width:  10em;\n",
       "             height:  80%;\n",
       "            background:  linear-gradient(90deg,#d65f5f 64.4%, transparent 64.4%);\n",
       "        }    #T_78c46cfc_c7b9_11ea_a13d_1d58d81b198drow3_col7 {\n",
       "            width:  10em;\n",
       "             height:  80%;\n",
       "            background:  linear-gradient(90deg,#d65f5f 59.6%, transparent 59.6%);\n",
       "        }    #T_78c46cfc_c7b9_11ea_a13d_1d58d81b198drow4_col7 {\n",
       "            width:  10em;\n",
       "             height:  80%;\n",
       "            background:  linear-gradient(90deg,#d65f5f 59.5%, transparent 59.5%);\n",
       "        }    #T_78c46cfc_c7b9_11ea_a13d_1d58d81b198drow5_col7 {\n",
       "            width:  10em;\n",
       "             height:  80%;\n",
       "            background:  linear-gradient(90deg,#d65f5f 57.0%, transparent 57.0%);\n",
       "        }    #T_78c46cfc_c7b9_11ea_a13d_1d58d81b198drow6_col7 {\n",
       "            width:  10em;\n",
       "             height:  80%;\n",
       "            background:  linear-gradient(90deg,#d65f5f 53.6%, transparent 53.6%);\n",
       "        }    #T_78c46cfc_c7b9_11ea_a13d_1d58d81b198drow7_col7 {\n",
       "            width:  10em;\n",
       "             height:  80%;\n",
       "            background:  linear-gradient(90deg,#d65f5f 52.2%, transparent 52.2%);\n",
       "        }    #T_78c46cfc_c7b9_11ea_a13d_1d58d81b198drow8_col7 {\n",
       "            width:  10em;\n",
       "             height:  80%;\n",
       "            background:  linear-gradient(90deg,#d65f5f 51.4%, transparent 51.4%);\n",
       "        }    #T_78c46cfc_c7b9_11ea_a13d_1d58d81b198drow9_col7 {\n",
       "            width:  10em;\n",
       "             height:  80%;\n",
       "            background:  linear-gradient(90deg,#d65f5f 46.6%, transparent 46.6%);\n",
       "        }</style><table id=\"T_78c46cfc_c7b9_11ea_a13d_1d58d81b198d\" ><thead>    <tr>        <th class=\"blank level0\" ></th>        <th class=\"col_heading level0 col0\" >frequency</th>        <th class=\"col_heading level0 col1\" >recency</th>        <th class=\"col_heading level0 col2\" >T</th>        <th class=\"col_heading level0 col3\" >monetary_value</th>        <th class=\"col_heading level0 col4\" >predicted_purchases_1</th>        <th class=\"col_heading level0 col5\" >predicted_value_1</th>        <th class=\"col_heading level0 col6\" >predicted_purchases_30</th>        <th class=\"col_heading level0 col7\" >predicted_value_30</th>    </tr>    <tr>        <th class=\"index_name level0\" >customer</th>        <th class=\"blank\" ></th>        <th class=\"blank\" ></th>        <th class=\"blank\" ></th>        <th class=\"blank\" ></th>        <th class=\"blank\" ></th>        <th class=\"blank\" ></th>        <th class=\"blank\" ></th>        <th class=\"blank\" ></th>    </tr></thead><tbody>\n",
       "                <tr>\n",
       "                        <th id=\"T_78c46cfc_c7b9_11ea_a13d_1d58d81b198dlevel0_row0\" class=\"row_heading level0 row0\" >C806399525</th>\n",
       "                        <td id=\"T_78c46cfc_c7b9_11ea_a13d_1d58d81b198drow0_col0\" class=\"data row0 col0\" >134</td>\n",
       "                        <td id=\"T_78c46cfc_c7b9_11ea_a13d_1d58d81b198drow0_col1\" class=\"data row0 col1\" >148</td>\n",
       "                        <td id=\"T_78c46cfc_c7b9_11ea_a13d_1d58d81b198drow0_col2\" class=\"data row0 col2\" >148</td>\n",
       "                        <td id=\"T_78c46cfc_c7b9_11ea_a13d_1d58d81b198drow0_col3\" class=\"data row0 col3\" >625</td>\n",
       "                        <td id=\"T_78c46cfc_c7b9_11ea_a13d_1d58d81b198drow0_col4\" class=\"data row0 col4\" >0.902161</td>\n",
       "                        <td id=\"T_78c46cfc_c7b9_11ea_a13d_1d58d81b198drow0_col5\" class=\"data row0 col5\" >563.463664</td>\n",
       "                        <td id=\"T_78c46cfc_c7b9_11ea_a13d_1d58d81b198drow0_col6\" class=\"data row0 col6\" >27.06</td>\n",
       "                        <td id=\"T_78c46cfc_c7b9_11ea_a13d_1d58d81b198drow0_col7\" class=\"data row0 col7\" >16,902</td>\n",
       "            </tr>\n",
       "            <tr>\n",
       "                        <th id=\"T_78c46cfc_c7b9_11ea_a13d_1d58d81b198dlevel0_row1\" class=\"row_heading level0 row1\" >C2004941826</th>\n",
       "                        <td id=\"T_78c46cfc_c7b9_11ea_a13d_1d58d81b198drow1_col0\" class=\"data row1 col0\" >89</td>\n",
       "                        <td id=\"T_78c46cfc_c7b9_11ea_a13d_1d58d81b198drow1_col1\" class=\"data row1 col1\" >165</td>\n",
       "                        <td id=\"T_78c46cfc_c7b9_11ea_a13d_1d58d81b198drow1_col2\" class=\"data row1 col2\" >168</td>\n",
       "                        <td id=\"T_78c46cfc_c7b9_11ea_a13d_1d58d81b198drow1_col3\" class=\"data row1 col3\" >725</td>\n",
       "                        <td id=\"T_78c46cfc_c7b9_11ea_a13d_1d58d81b198drow1_col4\" class=\"data row1 col4\" >0.536107</td>\n",
       "                        <td id=\"T_78c46cfc_c7b9_11ea_a13d_1d58d81b198drow1_col5\" class=\"data row1 col5\" >388.581783</td>\n",
       "                        <td id=\"T_78c46cfc_c7b9_11ea_a13d_1d58d81b198drow1_col6\" class=\"data row1 col6\" >16.08</td>\n",
       "                        <td id=\"T_78c46cfc_c7b9_11ea_a13d_1d58d81b198drow1_col7\" class=\"data row1 col7\" >11,656</td>\n",
       "            </tr>\n",
       "            <tr>\n",
       "                        <th id=\"T_78c46cfc_c7b9_11ea_a13d_1d58d81b198dlevel0_row2\" class=\"row_heading level0 row2\" >C1849046345</th>\n",
       "                        <td id=\"T_78c46cfc_c7b9_11ea_a13d_1d58d81b198drow2_col0\" class=\"data row2 col0\" >107</td>\n",
       "                        <td id=\"T_78c46cfc_c7b9_11ea_a13d_1d58d81b198drow2_col1\" class=\"data row2 col1\" >167</td>\n",
       "                        <td id=\"T_78c46cfc_c7b9_11ea_a13d_1d58d81b198drow2_col2\" class=\"data row2 col2\" >167</td>\n",
       "                        <td id=\"T_78c46cfc_c7b9_11ea_a13d_1d58d81b198drow2_col3\" class=\"data row2 col3\" >563</td>\n",
       "                        <td id=\"T_78c46cfc_c7b9_11ea_a13d_1d58d81b198drow2_col4\" class=\"data row2 col4\" >0.644383</td>\n",
       "                        <td id=\"T_78c46cfc_c7b9_11ea_a13d_1d58d81b198drow2_col5\" class=\"data row2 col5\" >362.936675</td>\n",
       "                        <td id=\"T_78c46cfc_c7b9_11ea_a13d_1d58d81b198drow2_col6\" class=\"data row2 col6\" >19.33</td>\n",
       "                        <td id=\"T_78c46cfc_c7b9_11ea_a13d_1d58d81b198drow2_col7\" class=\"data row2 col7\" >10,887</td>\n",
       "            </tr>\n",
       "            <tr>\n",
       "                        <th id=\"T_78c46cfc_c7b9_11ea_a13d_1d58d81b198dlevel0_row3\" class=\"row_heading level0 row3\" >C1350963410</th>\n",
       "                        <td id=\"T_78c46cfc_c7b9_11ea_a13d_1d58d81b198drow3_col0\" class=\"data row3 col0\" >118</td>\n",
       "                        <td id=\"T_78c46cfc_c7b9_11ea_a13d_1d58d81b198drow3_col1\" class=\"data row3 col1\" >167</td>\n",
       "                        <td id=\"T_78c46cfc_c7b9_11ea_a13d_1d58d81b198drow3_col2\" class=\"data row3 col2\" >167</td>\n",
       "                        <td id=\"T_78c46cfc_c7b9_11ea_a13d_1d58d81b198drow3_col3\" class=\"data row3 col3\" >474</td>\n",
       "                        <td id=\"T_78c46cfc_c7b9_11ea_a13d_1d58d81b198drow3_col4\" class=\"data row3 col4\" >0.708621</td>\n",
       "                        <td id=\"T_78c46cfc_c7b9_11ea_a13d_1d58d81b198drow3_col5\" class=\"data row3 col5\" >336.065068</td>\n",
       "                        <td id=\"T_78c46cfc_c7b9_11ea_a13d_1d58d81b198drow3_col6\" class=\"data row3 col6\" >21.26</td>\n",
       "                        <td id=\"T_78c46cfc_c7b9_11ea_a13d_1d58d81b198drow3_col7\" class=\"data row3 col7\" >10,081</td>\n",
       "            </tr>\n",
       "            <tr>\n",
       "                        <th id=\"T_78c46cfc_c7b9_11ea_a13d_1d58d81b198dlevel0_row4\" class=\"row_heading level0 row4\" >C1572610482</th>\n",
       "                        <td id=\"T_78c46cfc_c7b9_11ea_a13d_1d58d81b198drow4_col0\" class=\"data row4 col0\" >70</td>\n",
       "                        <td id=\"T_78c46cfc_c7b9_11ea_a13d_1d58d81b198drow4_col1\" class=\"data row4 col1\" >171</td>\n",
       "                        <td id=\"T_78c46cfc_c7b9_11ea_a13d_1d58d81b198drow4_col2\" class=\"data row4 col2\" >177</td>\n",
       "                        <td id=\"T_78c46cfc_c7b9_11ea_a13d_1d58d81b198drow4_col3\" class=\"data row4 col3\" >829</td>\n",
       "                        <td id=\"T_78c46cfc_c7b9_11ea_a13d_1d58d81b198drow4_col4\" class=\"data row4 col4\" >0.404604</td>\n",
       "                        <td id=\"T_78c46cfc_c7b9_11ea_a13d_1d58d81b198drow4_col5\" class=\"data row4 col5\" >335.489438</td>\n",
       "                        <td id=\"T_78c46cfc_c7b9_11ea_a13d_1d58d81b198drow4_col6\" class=\"data row4 col6\" >12.14</td>\n",
       "                        <td id=\"T_78c46cfc_c7b9_11ea_a13d_1d58d81b198drow4_col7\" class=\"data row4 col7\" >10,064</td>\n",
       "            </tr>\n",
       "            <tr>\n",
       "                        <th id=\"T_78c46cfc_c7b9_11ea_a13d_1d58d81b198dlevel0_row5\" class=\"row_heading level0 row5\" >C1978250683</th>\n",
       "                        <td id=\"T_78c46cfc_c7b9_11ea_a13d_1d58d81b198drow5_col0\" class=\"data row5 col0\" >163</td>\n",
       "                        <td id=\"T_78c46cfc_c7b9_11ea_a13d_1d58d81b198drow5_col1\" class=\"data row5 col1\" >170</td>\n",
       "                        <td id=\"T_78c46cfc_c7b9_11ea_a13d_1d58d81b198drow5_col2\" class=\"data row5 col2\" >170</td>\n",
       "                        <td id=\"T_78c46cfc_c7b9_11ea_a13d_1d58d81b198drow5_col3\" class=\"data row5 col3\" >336</td>\n",
       "                        <td id=\"T_78c46cfc_c7b9_11ea_a13d_1d58d81b198drow5_col4\" class=\"data row5 col4\" >0.954689</td>\n",
       "                        <td id=\"T_78c46cfc_c7b9_11ea_a13d_1d58d81b198drow5_col5\" class=\"data row5 col5\" >321.096896</td>\n",
       "                        <td id=\"T_78c46cfc_c7b9_11ea_a13d_1d58d81b198drow5_col6\" class=\"data row5 col6\" >28.64</td>\n",
       "                        <td id=\"T_78c46cfc_c7b9_11ea_a13d_1d58d81b198drow5_col7\" class=\"data row5 col7\" >9,632</td>\n",
       "            </tr>\n",
       "            <tr>\n",
       "                        <th id=\"T_78c46cfc_c7b9_11ea_a13d_1d58d81b198dlevel0_row6\" class=\"row_heading level0 row6\" >C381007057</th>\n",
       "                        <td id=\"T_78c46cfc_c7b9_11ea_a13d_1d58d81b198drow6_col0\" class=\"data row6 col0\" >67</td>\n",
       "                        <td id=\"T_78c46cfc_c7b9_11ea_a13d_1d58d81b198drow6_col1\" class=\"data row6 col1\" >174</td>\n",
       "                        <td id=\"T_78c46cfc_c7b9_11ea_a13d_1d58d81b198drow6_col2\" class=\"data row6 col2\" >174</td>\n",
       "                        <td id=\"T_78c46cfc_c7b9_11ea_a13d_1d58d81b198drow6_col3\" class=\"data row6 col3\" >765</td>\n",
       "                        <td id=\"T_78c46cfc_c7b9_11ea_a13d_1d58d81b198drow6_col4\" class=\"data row6 col4\" >0.394655</td>\n",
       "                        <td id=\"T_78c46cfc_c7b9_11ea_a13d_1d58d81b198drow6_col5\" class=\"data row6 col5\" >301.762138</td>\n",
       "                        <td id=\"T_78c46cfc_c7b9_11ea_a13d_1d58d81b198drow6_col6\" class=\"data row6 col6\" >11.84</td>\n",
       "                        <td id=\"T_78c46cfc_c7b9_11ea_a13d_1d58d81b198drow6_col7\" class=\"data row6 col7\" >9,052</td>\n",
       "            </tr>\n",
       "            <tr>\n",
       "                        <th id=\"T_78c46cfc_c7b9_11ea_a13d_1d58d81b198dlevel0_row7\" class=\"row_heading level0 row7\" >C483912131</th>\n",
       "                        <td id=\"T_78c46cfc_c7b9_11ea_a13d_1d58d81b198drow7_col0\" class=\"data row7 col0\" >67</td>\n",
       "                        <td id=\"T_78c46cfc_c7b9_11ea_a13d_1d58d81b198drow7_col1\" class=\"data row7 col1\" >176</td>\n",
       "                        <td id=\"T_78c46cfc_c7b9_11ea_a13d_1d58d81b198drow7_col2\" class=\"data row7 col2\" >176</td>\n",
       "                        <td id=\"T_78c46cfc_c7b9_11ea_a13d_1d58d81b198drow7_col3\" class=\"data row7 col3\" >753</td>\n",
       "                        <td id=\"T_78c46cfc_c7b9_11ea_a13d_1d58d81b198drow7_col4\" class=\"data row7 col4\" >0.390276</td>\n",
       "                        <td id=\"T_78c46cfc_c7b9_11ea_a13d_1d58d81b198drow7_col5\" class=\"data row7 col5\" >293.934898</td>\n",
       "                        <td id=\"T_78c46cfc_c7b9_11ea_a13d_1d58d81b198drow7_col6\" class=\"data row7 col6\" >11.71</td>\n",
       "                        <td id=\"T_78c46cfc_c7b9_11ea_a13d_1d58d81b198drow7_col7\" class=\"data row7 col7\" >8,817</td>\n",
       "            </tr>\n",
       "            <tr>\n",
       "                        <th id=\"T_78c46cfc_c7b9_11ea_a13d_1d58d81b198dlevel0_row8\" class=\"row_heading level0 row8\" >C1275518867</th>\n",
       "                        <td id=\"T_78c46cfc_c7b9_11ea_a13d_1d58d81b198drow8_col0\" class=\"data row8 col0\" >166</td>\n",
       "                        <td id=\"T_78c46cfc_c7b9_11ea_a13d_1d58d81b198drow8_col1\" class=\"data row8 col1\" >179</td>\n",
       "                        <td id=\"T_78c46cfc_c7b9_11ea_a13d_1d58d81b198drow8_col2\" class=\"data row8 col2\" >179</td>\n",
       "                        <td id=\"T_78c46cfc_c7b9_11ea_a13d_1d58d81b198drow8_col3\" class=\"data row8 col3\" >313</td>\n",
       "                        <td id=\"T_78c46cfc_c7b9_11ea_a13d_1d58d81b198drow8_col4\" class=\"data row8 col4\" >0.924170</td>\n",
       "                        <td id=\"T_78c46cfc_c7b9_11ea_a13d_1d58d81b198drow8_col5\" class=\"data row8 col5\" >289.659677</td>\n",
       "                        <td id=\"T_78c46cfc_c7b9_11ea_a13d_1d58d81b198drow8_col6\" class=\"data row8 col6\" >27.72</td>\n",
       "                        <td id=\"T_78c46cfc_c7b9_11ea_a13d_1d58d81b198drow8_col7\" class=\"data row8 col7\" >8,689</td>\n",
       "            </tr>\n",
       "            <tr>\n",
       "                        <th id=\"T_78c46cfc_c7b9_11ea_a13d_1d58d81b198dlevel0_row9\" class=\"row_heading level0 row9\" >C1817318774</th>\n",
       "                        <td id=\"T_78c46cfc_c7b9_11ea_a13d_1d58d81b198drow9_col0\" class=\"data row9 col0\" >74</td>\n",
       "                        <td id=\"T_78c46cfc_c7b9_11ea_a13d_1d58d81b198drow9_col1\" class=\"data row9 col1\" >179</td>\n",
       "                        <td id=\"T_78c46cfc_c7b9_11ea_a13d_1d58d81b198drow9_col2\" class=\"data row9 col2\" >179</td>\n",
       "                        <td id=\"T_78c46cfc_c7b9_11ea_a13d_1d58d81b198drow9_col3\" class=\"data row9 col3\" >622</td>\n",
       "                        <td id=\"T_78c46cfc_c7b9_11ea_a13d_1d58d81b198drow9_col4\" class=\"data row9 col4\" >0.422088</td>\n",
       "                        <td id=\"T_78c46cfc_c7b9_11ea_a13d_1d58d81b198drow9_col5\" class=\"data row9 col5\" >262.343925</td>\n",
       "                        <td id=\"T_78c46cfc_c7b9_11ea_a13d_1d58d81b198drow9_col6\" class=\"data row9 col6\" >12.66</td>\n",
       "                        <td id=\"T_78c46cfc_c7b9_11ea_a13d_1d58d81b198drow9_col7\" class=\"data row9 col7\" >7,870</td>\n",
       "            </tr>\n",
       "    </tbody></table>"
      ],
      "text/plain": [
       "<pandas.io.formats.style.Styler at 0x7f7988bc38e0>"
      ]
     },
     "execution_count": 81,
     "metadata": {},
     "output_type": "execute_result"
    }
   ],
   "source": [
    "data.sort_values([pvt_name], ascending=False) \\\n",
    "    .head(10) \\\n",
    "    .style.format(\"{:,.0f}\", subset=[pvt_name, 'frequency',\n",
    "                                     'recency', 'T',\n",
    "                                     'monetary_value']) \\\n",
    "          .format(\"{:,.2f}\", subset=[ppt_name]) \\\n",
    "          .bar(vmin=0, subset=[pvt_name])"
   ]
  },
  {
   "cell_type": "markdown",
   "metadata": {},
   "source": [
    "# Assessing model fit <a class=\"anchor\" id=\"eval\"></a>"
   ]
  },
  {
   "cell_type": "markdown",
   "metadata": {},
   "source": [
    "We can use the our fitted BG/NBD model to generate data points and compared them to the historical actual values. A best fitted model will have identical height bars at each of the calibration period."
   ]
  },
  {
   "cell_type": "code",
   "execution_count": 83,
   "metadata": {},
   "outputs": [
    {
     "data": {
      "text/plain": [
       "<matplotlib.axes._subplots.AxesSubplot at 0x7f7988980fd0>"
      ]
     },
     "execution_count": 83,
     "metadata": {},
     "output_type": "execute_result"
    },
    {
     "data": {
      "image/png": "[encoded data removed]",
      "text/plain": [
       "<Figure size 864x432 with 1 Axes>"
      ]
     },
     "metadata": {
      "needs_background": "light"
     },
     "output_type": "display_data"
    }
   ],
   "source": [
    "plot_period_transactions(bgf, max_frequency=30, figsize=(12,6))"
   ]
  },
  {
   "cell_type": "markdown",
   "metadata": {},
   "source": [
    "The above plot implies that model works well with predictions ranging from 14 to 23 transactions. It tends to under-estimate for the lower end while being over-confident at the higher end."
   ]
  },
  {
   "cell_type": "markdown",
   "metadata": {},
   "source": [
    "## Calibrate and hold out data <a class=\"anchor\" id=\"holdout\"></a>"
   ]
  },
  {
   "cell_type": "markdown",
   "metadata": {},
   "source": [
    "To estimate the fitness of our model compared with baseline, I set the last 30 days as the holdout period. We re-calculate the model with the first 150 days of data.\n",
    "\n",
    "Below is the summary of re-calculated features."
   ]
  },
  {
   "cell_type": "code",
   "execution_count": 85,
   "metadata": {},
   "outputs": [],
   "source": [
    "summary_cal_holdout = calibration_and_holdout_data(\n",
    "    raw_df, 'customer', 'pseudo_date',\n",
    "    monetary_value_col='amount',\n",
    "    calibration_period_end='2020-05-29',\n",
    "    observation_period_end='2020-06-28' )"
   ]
  },
  {
   "cell_type": "code",
   "execution_count": 86,
   "metadata": {},
   "outputs": [
    {
     "data": {
      "text/html": [
       "<div>\n",
       "<style scoped>\n",
       "    .dataframe tbody tr th:only-of-type {\n",
       "        vertical-align: middle;\n",
       "    }\n",
       "\n",
       "    .dataframe tbody tr th {\n",
       "        vertical-align: top;\n",
       "    }\n",
       "\n",
       "    .dataframe thead th {\n",
       "        text-align: right;\n",
       "    }\n",
       "</style>\n",
       "<table border=\"1\" class=\"dataframe\">\n",
       "  <thead>\n",
       "    <tr style=\"text-align: right;\">\n",
       "      <th></th>\n",
       "      <th>frequency_cal</th>\n",
       "      <th>recency_cal</th>\n",
       "      <th>T_cal</th>\n",
       "      <th>monetary_value_cal</th>\n",
       "      <th>frequency_holdout</th>\n",
       "      <th>monetary_value_holdout</th>\n",
       "      <th>duration_holdout</th>\n",
       "    </tr>\n",
       "    <tr>\n",
       "      <th>customer</th>\n",
       "      <th></th>\n",
       "      <th></th>\n",
       "      <th></th>\n",
       "      <th></th>\n",
       "      <th></th>\n",
       "      <th></th>\n",
       "      <th></th>\n",
       "    </tr>\n",
       "  </thead>\n",
       "  <tbody>\n",
       "    <tr>\n",
       "      <th>C1000148617</th>\n",
       "      <td>101.0</td>\n",
       "      <td>117.0</td>\n",
       "      <td>119.0</td>\n",
       "      <td>32.093069</td>\n",
       "      <td>26.0</td>\n",
       "      <td>43.277500</td>\n",
       "      <td>30.0</td>\n",
       "    </tr>\n",
       "    <tr>\n",
       "      <th>C100045114</th>\n",
       "      <td>61.0</td>\n",
       "      <td>149.0</td>\n",
       "      <td>149.0</td>\n",
       "      <td>143.750328</td>\n",
       "      <td>29.0</td>\n",
       "      <td>31.598485</td>\n",
       "      <td>30.0</td>\n",
       "    </tr>\n",
       "    <tr>\n",
       "      <th>C1000699316</th>\n",
       "      <td>90.0</td>\n",
       "      <td>141.0</td>\n",
       "      <td>149.0</td>\n",
       "      <td>35.648000</td>\n",
       "      <td>2.0</td>\n",
       "      <td>116.660000</td>\n",
       "      <td>30.0</td>\n",
       "    </tr>\n",
       "    <tr>\n",
       "      <th>C1001065306</th>\n",
       "      <td>18.0</td>\n",
       "      <td>123.0</td>\n",
       "      <td>128.0</td>\n",
       "      <td>311.356111</td>\n",
       "      <td>2.0</td>\n",
       "      <td>250.565000</td>\n",
       "      <td>30.0</td>\n",
       "    </tr>\n",
       "    <tr>\n",
       "      <th>C1002658784</th>\n",
       "      <td>100.0</td>\n",
       "      <td>127.0</td>\n",
       "      <td>127.0</td>\n",
       "      <td>32.962100</td>\n",
       "      <td>27.0</td>\n",
       "      <td>36.802593</td>\n",
       "      <td>30.0</td>\n",
       "    </tr>\n",
       "    <tr>\n",
       "      <th>...</th>\n",
       "      <td>...</td>\n",
       "      <td>...</td>\n",
       "      <td>...</td>\n",
       "      <td>...</td>\n",
       "      <td>...</td>\n",
       "      <td>...</td>\n",
       "      <td>...</td>\n",
       "    </tr>\n",
       "    <tr>\n",
       "      <th>C99729647</th>\n",
       "      <td>140.0</td>\n",
       "      <td>149.0</td>\n",
       "      <td>149.0</td>\n",
       "      <td>29.624929</td>\n",
       "      <td>28.0</td>\n",
       "      <td>50.685667</td>\n",
       "      <td>30.0</td>\n",
       "    </tr>\n",
       "    <tr>\n",
       "      <th>C998690782</th>\n",
       "      <td>139.0</td>\n",
       "      <td>149.0</td>\n",
       "      <td>149.0</td>\n",
       "      <td>69.194101</td>\n",
       "      <td>28.0</td>\n",
       "      <td>26.744333</td>\n",
       "      <td>30.0</td>\n",
       "    </tr>\n",
       "    <tr>\n",
       "      <th>C998987490</th>\n",
       "      <td>142.0</td>\n",
       "      <td>149.0</td>\n",
       "      <td>149.0</td>\n",
       "      <td>28.083451</td>\n",
       "      <td>27.0</td>\n",
       "      <td>54.573871</td>\n",
       "      <td>30.0</td>\n",
       "    </tr>\n",
       "    <tr>\n",
       "      <th>C999393223</th>\n",
       "      <td>102.0</td>\n",
       "      <td>143.0</td>\n",
       "      <td>143.0</td>\n",
       "      <td>38.771569</td>\n",
       "      <td>27.0</td>\n",
       "      <td>41.043571</td>\n",
       "      <td>30.0</td>\n",
       "    </tr>\n",
       "    <tr>\n",
       "      <th>C999723254</th>\n",
       "      <td>90.0</td>\n",
       "      <td>138.0</td>\n",
       "      <td>138.0</td>\n",
       "      <td>32.530667</td>\n",
       "      <td>28.0</td>\n",
       "      <td>21.973571</td>\n",
       "      <td>30.0</td>\n",
       "    </tr>\n",
       "  </tbody>\n",
       "</table>\n",
       "<p>4112 rows × 7 columns</p>\n",
       "</div>"
      ],
      "text/plain": [
       "             frequency_cal  recency_cal  T_cal  monetary_value_cal  \\\n",
       "customer                                                             \n",
       "C1000148617          101.0        117.0  119.0           32.093069   \n",
       "C100045114            61.0        149.0  149.0          143.750328   \n",
       "C1000699316           90.0        141.0  149.0           35.648000   \n",
       "C1001065306           18.0        123.0  128.0          311.356111   \n",
       "C1002658784          100.0        127.0  127.0           32.962100   \n",
       "...                    ...          ...    ...                 ...   \n",
       "C99729647            140.0        149.0  149.0           29.624929   \n",
       "C998690782           139.0        149.0  149.0           69.194101   \n",
       "C998987490           142.0        149.0  149.0           28.083451   \n",
       "C999393223           102.0        143.0  143.0           38.771569   \n",
       "C999723254            90.0        138.0  138.0           32.530667   \n",
       "\n",
       "             frequency_holdout  monetary_value_holdout  duration_holdout  \n",
       "customer                                                                  \n",
       "C1000148617               26.0               43.277500              30.0  \n",
       "C100045114                29.0               31.598485              30.0  \n",
       "C1000699316                2.0              116.660000              30.0  \n",
       "C1001065306                2.0              250.565000              30.0  \n",
       "C1002658784               27.0               36.802593              30.0  \n",
       "...                        ...                     ...               ...  \n",
       "C99729647                 28.0               50.685667              30.0  \n",
       "C998690782                28.0               26.744333              30.0  \n",
       "C998987490                27.0               54.573871              30.0  \n",
       "C999393223                27.0               41.043571              30.0  \n",
       "C999723254                28.0               21.973571              30.0  \n",
       "\n",
       "[4112 rows x 7 columns]"
      ]
     },
     "execution_count": 86,
     "metadata": {},
     "output_type": "execute_result"
    }
   ],
   "source": [
    "summary_cal_holdout"
   ]
  },
  {
   "cell_type": "markdown",
   "metadata": {},
   "source": [
    "Visualize the actual frequency versus model predictions"
   ]
  },
  {
   "cell_type": "code",
   "execution_count": 87,
   "metadata": {},
   "outputs": [
    {
     "data": {
      "text/plain": [
       "<matplotlib.axes._subplots.AxesSubplot at 0x7f79844cb070>"
      ]
     },
     "execution_count": 87,
     "metadata": {},
     "output_type": "execute_result"
    },
    {
     "data": {
      "image/png": "[encoded data removed]",
      "text/plain": [
       "<Figure size 432x288 with 1 Axes>"
      ]
     },
     "metadata": {
      "needs_background": "light"
     },
     "output_type": "display_data"
    }
   ],
   "source": [
    "bgf.fit(summary_cal_holdout['frequency_cal'],\n",
    "        summary_cal_holdout['recency_cal'],\n",
    "        summary_cal_holdout['T_cal'])\n",
    "plot_calibration_purchases_vs_holdout_purchases(bgf,\n",
    "                                                summary_cal_holdout)"
   ]
  },
  {
   "cell_type": "markdown",
   "metadata": {},
   "source": [
    "They are not the best fitted couples in the world with low calibration purchases, but somehow align their movements with higher purchases."
   ]
  },
  {
   "cell_type": "markdown",
   "metadata": {},
   "source": [
    "# Compare to baseline"
   ]
  },
  {
   "cell_type": "code",
   "execution_count": 88,
   "metadata": {},
   "outputs": [],
   "source": [
    "long_term_periods = 30"
   ]
  },
  {
   "cell_type": "markdown",
   "metadata": {},
   "source": [
    "Estimate the predicted number of purchases:"
   ]
  },
  {
   "cell_type": "code",
   "execution_count": 89,
   "metadata": {},
   "outputs": [
    {
     "data": {
      "text/html": [
       "<div>\n",
       "<style scoped>\n",
       "    .dataframe tbody tr th:only-of-type {\n",
       "        vertical-align: middle;\n",
       "    }\n",
       "\n",
       "    .dataframe tbody tr th {\n",
       "        vertical-align: top;\n",
       "    }\n",
       "\n",
       "    .dataframe thead th {\n",
       "        text-align: right;\n",
       "    }\n",
       "</style>\n",
       "<table border=\"1\" class=\"dataframe\">\n",
       "  <thead>\n",
       "    <tr style=\"text-align: right;\">\n",
       "      <th></th>\n",
       "      <th>frequency_cal</th>\n",
       "      <th>recency_cal</th>\n",
       "      <th>T_cal</th>\n",
       "      <th>monetary_value_cal</th>\n",
       "      <th>frequency_holdout</th>\n",
       "      <th>monetary_value_holdout</th>\n",
       "      <th>duration_holdout</th>\n",
       "      <th>predicted_purchases_30</th>\n",
       "    </tr>\n",
       "    <tr>\n",
       "      <th>customer</th>\n",
       "      <th></th>\n",
       "      <th></th>\n",
       "      <th></th>\n",
       "      <th></th>\n",
       "      <th></th>\n",
       "      <th></th>\n",
       "      <th></th>\n",
       "      <th></th>\n",
       "    </tr>\n",
       "  </thead>\n",
       "  <tbody>\n",
       "    <tr>\n",
       "      <th>C369046885</th>\n",
       "      <td>146.0</td>\n",
       "      <td>149.0</td>\n",
       "      <td>149.0</td>\n",
       "      <td>32.659452</td>\n",
       "      <td>29.0</td>\n",
       "      <td>31.046364</td>\n",
       "      <td>30.0</td>\n",
       "      <td>29.235200</td>\n",
       "    </tr>\n",
       "    <tr>\n",
       "      <th>C1155962240</th>\n",
       "      <td>147.0</td>\n",
       "      <td>149.0</td>\n",
       "      <td>149.0</td>\n",
       "      <td>32.920136</td>\n",
       "      <td>29.0</td>\n",
       "      <td>43.120333</td>\n",
       "      <td>30.0</td>\n",
       "      <td>29.431421</td>\n",
       "    </tr>\n",
       "    <tr>\n",
       "      <th>C1698085181</th>\n",
       "      <td>147.0</td>\n",
       "      <td>149.0</td>\n",
       "      <td>149.0</td>\n",
       "      <td>31.735918</td>\n",
       "      <td>27.0</td>\n",
       "      <td>31.842857</td>\n",
       "      <td>30.0</td>\n",
       "      <td>29.431421</td>\n",
       "    </tr>\n",
       "    <tr>\n",
       "      <th>C220904895</th>\n",
       "      <td>147.0</td>\n",
       "      <td>149.0</td>\n",
       "      <td>149.0</td>\n",
       "      <td>32.800544</td>\n",
       "      <td>26.0</td>\n",
       "      <td>22.560385</td>\n",
       "      <td>30.0</td>\n",
       "      <td>29.431421</td>\n",
       "    </tr>\n",
       "    <tr>\n",
       "      <th>C333484923</th>\n",
       "      <td>148.0</td>\n",
       "      <td>149.0</td>\n",
       "      <td>149.0</td>\n",
       "      <td>31.455676</td>\n",
       "      <td>28.0</td>\n",
       "      <td>39.420690</td>\n",
       "      <td>30.0</td>\n",
       "      <td>29.627642</td>\n",
       "    </tr>\n",
       "  </tbody>\n",
       "</table>\n",
       "</div>"
      ],
      "text/plain": [
       "             frequency_cal  recency_cal  T_cal  monetary_value_cal  \\\n",
       "customer                                                             \n",
       "C369046885           146.0        149.0  149.0           32.659452   \n",
       "C1155962240          147.0        149.0  149.0           32.920136   \n",
       "C1698085181          147.0        149.0  149.0           31.735918   \n",
       "C220904895           147.0        149.0  149.0           32.800544   \n",
       "C333484923           148.0        149.0  149.0           31.455676   \n",
       "\n",
       "             frequency_holdout  monetary_value_holdout  duration_holdout  \\\n",
       "customer                                                                   \n",
       "C369046885                29.0               31.046364              30.0   \n",
       "C1155962240               29.0               43.120333              30.0   \n",
       "C1698085181               27.0               31.842857              30.0   \n",
       "C220904895                26.0               22.560385              30.0   \n",
       "C333484923                28.0               39.420690              30.0   \n",
       "\n",
       "             predicted_purchases_30  \n",
       "customer                             \n",
       "C369046885                29.235200  \n",
       "C1155962240               29.431421  \n",
       "C1698085181               29.431421  \n",
       "C220904895                29.431421  \n",
       "C333484923                29.627642  "
      ]
     },
     "execution_count": 89,
     "metadata": {},
     "output_type": "execute_result"
    }
   ],
   "source": [
    "t = long_term_periods\n",
    "fn_pred_expected_purchases = bgf.conditional_expected_number_of_purchases_up_to_time\n",
    "ppt_name = f'predicted_purchases_{t}'\n",
    "summary_cal_holdout[ppt_name] = fn_pred_expected_purchases(\n",
    "    t,\n",
    "    summary_cal_holdout['frequency_cal'],\n",
    "    summary_cal_holdout['recency_cal'],\n",
    "    summary_cal_holdout['T_cal'])\n",
    "summary_cal_holdout.sort_values(by=ppt_name).tail(5)"
   ]
  },
  {
   "cell_type": "markdown",
   "metadata": {},
   "source": [
    "Muliply with average monetary value:"
   ]
  },
  {
   "cell_type": "code",
   "execution_count": 90,
   "metadata": {},
   "outputs": [],
   "source": [
    "pvt_name = f'predicted_value_{t}'\n",
    "summary_cal_holdout[pvt_name] = (summary_cal_holdout[ppt_name]\n",
    "                                 * summary_cal_holdout['monetary_value_cal'])"
   ]
  },
  {
   "cell_type": "code",
   "execution_count": 91,
   "metadata": {},
   "outputs": [
    {
     "data": {
      "text/html": [
       "<div>\n",
       "<style scoped>\n",
       "    .dataframe tbody tr th:only-of-type {\n",
       "        vertical-align: middle;\n",
       "    }\n",
       "\n",
       "    .dataframe tbody tr th {\n",
       "        vertical-align: top;\n",
       "    }\n",
       "\n",
       "    .dataframe thead th {\n",
       "        text-align: right;\n",
       "    }\n",
       "</style>\n",
       "<table border=\"1\" class=\"dataframe\">\n",
       "  <thead>\n",
       "    <tr style=\"text-align: right;\">\n",
       "      <th></th>\n",
       "      <th>frequency_cal</th>\n",
       "      <th>recency_cal</th>\n",
       "      <th>T_cal</th>\n",
       "      <th>monetary_value_cal</th>\n",
       "      <th>frequency_holdout</th>\n",
       "      <th>monetary_value_holdout</th>\n",
       "      <th>duration_holdout</th>\n",
       "      <th>predicted_purchases_30</th>\n",
       "      <th>predicted_value_30</th>\n",
       "    </tr>\n",
       "    <tr>\n",
       "      <th>customer</th>\n",
       "      <th></th>\n",
       "      <th></th>\n",
       "      <th></th>\n",
       "      <th></th>\n",
       "      <th></th>\n",
       "      <th></th>\n",
       "      <th></th>\n",
       "      <th></th>\n",
       "      <th></th>\n",
       "    </tr>\n",
       "  </thead>\n",
       "  <tbody>\n",
       "    <tr>\n",
       "      <th>C806399525</th>\n",
       "      <td>106.0</td>\n",
       "      <td>118.0</td>\n",
       "      <td>118.0</td>\n",
       "      <td>746.732358</td>\n",
       "      <td>28.0</td>\n",
       "      <td>108.070000</td>\n",
       "      <td>30.0</td>\n",
       "      <td>2.682559e+01</td>\n",
       "      <td>2.003154e+04</td>\n",
       "    </tr>\n",
       "    <tr>\n",
       "      <th>C1849046345</th>\n",
       "      <td>81.0</td>\n",
       "      <td>137.0</td>\n",
       "      <td>137.0</td>\n",
       "      <td>710.681852</td>\n",
       "      <td>26.0</td>\n",
       "      <td>84.391563</td>\n",
       "      <td>30.0</td>\n",
       "      <td>1.788457e+01</td>\n",
       "      <td>1.271024e+04</td>\n",
       "    </tr>\n",
       "    <tr>\n",
       "      <th>C1572610482</th>\n",
       "      <td>66.0</td>\n",
       "      <td>147.0</td>\n",
       "      <td>147.0</td>\n",
       "      <td>872.977879</td>\n",
       "      <td>4.0</td>\n",
       "      <td>106.500000</td>\n",
       "      <td>30.0</td>\n",
       "      <td>1.371696e+01</td>\n",
       "      <td>1.197460e+04</td>\n",
       "    </tr>\n",
       "    <tr>\n",
       "      <th>C2004941826</th>\n",
       "      <td>74.0</td>\n",
       "      <td>138.0</td>\n",
       "      <td>138.0</td>\n",
       "      <td>728.775270</td>\n",
       "      <td>15.0</td>\n",
       "      <td>480.899091</td>\n",
       "      <td>30.0</td>\n",
       "      <td>1.627850e+01</td>\n",
       "      <td>1.186336e+04</td>\n",
       "    </tr>\n",
       "    <tr>\n",
       "      <th>C1350963410</th>\n",
       "      <td>90.0</td>\n",
       "      <td>137.0</td>\n",
       "      <td>137.0</td>\n",
       "      <td>563.016222</td>\n",
       "      <td>28.0</td>\n",
       "      <td>110.213958</td>\n",
       "      <td>30.0</td>\n",
       "      <td>1.980098e+01</td>\n",
       "      <td>1.114827e+04</td>\n",
       "    </tr>\n",
       "    <tr>\n",
       "      <th>...</th>\n",
       "      <td>...</td>\n",
       "      <td>...</td>\n",
       "      <td>...</td>\n",
       "      <td>...</td>\n",
       "      <td>...</td>\n",
       "      <td>...</td>\n",
       "      <td>...</td>\n",
       "      <td>...</td>\n",
       "      <td>...</td>\n",
       "    </tr>\n",
       "    <tr>\n",
       "      <th>C1607207670</th>\n",
       "      <td>86.0</td>\n",
       "      <td>106.0</td>\n",
       "      <td>149.0</td>\n",
       "      <td>36.902907</td>\n",
       "      <td>13.0</td>\n",
       "      <td>41.823571</td>\n",
       "      <td>30.0</td>\n",
       "      <td>1.832931e-07</td>\n",
       "      <td>6.764049e-06</td>\n",
       "    </tr>\n",
       "    <tr>\n",
       "      <th>C1683902488</th>\n",
       "      <td>56.0</td>\n",
       "      <td>88.0</td>\n",
       "      <td>149.0</td>\n",
       "      <td>38.226071</td>\n",
       "      <td>5.0</td>\n",
       "      <td>142.190000</td>\n",
       "      <td>30.0</td>\n",
       "      <td>4.129732e-08</td>\n",
       "      <td>1.578634e-06</td>\n",
       "    </tr>\n",
       "    <tr>\n",
       "      <th>C1058785965</th>\n",
       "      <td>50.0</td>\n",
       "      <td>82.0</td>\n",
       "      <td>149.0</td>\n",
       "      <td>46.876400</td>\n",
       "      <td>3.0</td>\n",
       "      <td>115.852500</td>\n",
       "      <td>30.0</td>\n",
       "      <td>1.959130e-08</td>\n",
       "      <td>9.183695e-07</td>\n",
       "    </tr>\n",
       "    <tr>\n",
       "      <th>C1787239285</th>\n",
       "      <td>57.0</td>\n",
       "      <td>79.0</td>\n",
       "      <td>148.0</td>\n",
       "      <td>36.662105</td>\n",
       "      <td>5.0</td>\n",
       "      <td>236.686667</td>\n",
       "      <td>30.0</td>\n",
       "      <td>7.895592e-11</td>\n",
       "      <td>2.894690e-09</td>\n",
       "    </tr>\n",
       "    <tr>\n",
       "      <th>C469767739</th>\n",
       "      <td>82.0</td>\n",
       "      <td>95.0</td>\n",
       "      <td>149.0</td>\n",
       "      <td>30.004634</td>\n",
       "      <td>7.0</td>\n",
       "      <td>26.971429</td>\n",
       "      <td>30.0</td>\n",
       "      <td>7.983034e-11</td>\n",
       "      <td>2.395280e-09</td>\n",
       "    </tr>\n",
       "  </tbody>\n",
       "</table>\n",
       "<p>4112 rows × 9 columns</p>\n",
       "</div>"
      ],
      "text/plain": [
       "             frequency_cal  recency_cal  T_cal  monetary_value_cal  \\\n",
       "customer                                                             \n",
       "C806399525           106.0        118.0  118.0          746.732358   \n",
       "C1849046345           81.0        137.0  137.0          710.681852   \n",
       "C1572610482           66.0        147.0  147.0          872.977879   \n",
       "C2004941826           74.0        138.0  138.0          728.775270   \n",
       "C1350963410           90.0        137.0  137.0          563.016222   \n",
       "...                    ...          ...    ...                 ...   \n",
       "C1607207670           86.0        106.0  149.0           36.902907   \n",
       "C1683902488           56.0         88.0  149.0           38.226071   \n",
       "C1058785965           50.0         82.0  149.0           46.876400   \n",
       "C1787239285           57.0         79.0  148.0           36.662105   \n",
       "C469767739            82.0         95.0  149.0           30.004634   \n",
       "\n",
       "             frequency_holdout  monetary_value_holdout  duration_holdout  \\\n",
       "customer                                                                   \n",
       "C806399525                28.0              108.070000              30.0   \n",
       "C1849046345               26.0               84.391563              30.0   \n",
       "C1572610482                4.0              106.500000              30.0   \n",
       "C2004941826               15.0              480.899091              30.0   \n",
       "C1350963410               28.0              110.213958              30.0   \n",
       "...                        ...                     ...               ...   \n",
       "C1607207670               13.0               41.823571              30.0   \n",
       "C1683902488                5.0              142.190000              30.0   \n",
       "C1058785965                3.0              115.852500              30.0   \n",
       "C1787239285                5.0              236.686667              30.0   \n",
       "C469767739                 7.0               26.971429              30.0   \n",
       "\n",
       "             predicted_purchases_30  predicted_value_30  \n",
       "customer                                                 \n",
       "C806399525             2.682559e+01        2.003154e+04  \n",
       "C1849046345            1.788457e+01        1.271024e+04  \n",
       "C1572610482            1.371696e+01        1.197460e+04  \n",
       "C2004941826            1.627850e+01        1.186336e+04  \n",
       "C1350963410            1.980098e+01        1.114827e+04  \n",
       "...                             ...                 ...  \n",
       "C1607207670            1.832931e-07        6.764049e-06  \n",
       "C1683902488            4.129732e-08        1.578634e-06  \n",
       "C1058785965            1.959130e-08        9.183695e-07  \n",
       "C1787239285            7.895592e-11        2.894690e-09  \n",
       "C469767739             7.983034e-11        2.395280e-09  \n",
       "\n",
       "[4112 rows x 9 columns]"
      ]
     },
     "execution_count": 91,
     "metadata": {},
     "output_type": "execute_result"
    }
   ],
   "source": [
    "summary_cal_holdout.sort_values([pvt_name], ascending=False)"
   ]
  },
  {
   "cell_type": "code",
   "execution_count": 92,
   "metadata": {},
   "outputs": [],
   "source": [
    "y_pred_bgf = summary_cal_holdout[pvt_name]"
   ]
  },
  {
   "cell_type": "code",
   "execution_count": 93,
   "metadata": {},
   "outputs": [],
   "source": [
    "y_df = y_df.join(y_pred_bgf).rename(columns={'predicted_value_30': 'y_pred_bgf'})"
   ]
  },
  {
   "cell_type": "markdown",
   "metadata": {},
   "source": [
    "Predictions of total monetary value in the holdout period:"
   ]
  },
  {
   "cell_type": "code",
   "execution_count": 109,
   "metadata": {},
   "outputs": [
    {
     "data": {
      "text/html": [
       "<div>\n",
       "<style scoped>\n",
       "    .dataframe tbody tr th:only-of-type {\n",
       "        vertical-align: middle;\n",
       "    }\n",
       "\n",
       "    .dataframe tbody tr th {\n",
       "        vertical-align: top;\n",
       "    }\n",
       "\n",
       "    .dataframe thead th {\n",
       "        text-align: right;\n",
       "    }\n",
       "</style>\n",
       "<table border=\"1\" class=\"dataframe\">\n",
       "  <thead>\n",
       "    <tr style=\"text-align: right;\">\n",
       "      <th></th>\n",
       "      <th>y_holdout</th>\n",
       "      <th>y_pred_base</th>\n",
       "      <th>y_pred_bgf</th>\n",
       "    </tr>\n",
       "    <tr>\n",
       "      <th>customer</th>\n",
       "      <th></th>\n",
       "      <th></th>\n",
       "      <th></th>\n",
       "    </tr>\n",
       "  </thead>\n",
       "  <tbody>\n",
       "    <tr>\n",
       "      <th>C1000148617</th>\n",
       "      <td>1211.77</td>\n",
       "      <td>683.21</td>\n",
       "      <td>814.685454</td>\n",
       "    </tr>\n",
       "    <tr>\n",
       "      <th>C100045114</th>\n",
       "      <td>1042.75</td>\n",
       "      <td>2565.20</td>\n",
       "      <td>1804.989216</td>\n",
       "    </tr>\n",
       "    <tr>\n",
       "      <th>C1000699316</th>\n",
       "      <td>349.98</td>\n",
       "      <td>43.54</td>\n",
       "      <td>648.971354</td>\n",
       "    </tr>\n",
       "    <tr>\n",
       "      <th>C1001065306</th>\n",
       "      <td>501.13</td>\n",
       "      <td>2284.37</td>\n",
       "      <td>1486.480857</td>\n",
       "    </tr>\n",
       "    <tr>\n",
       "      <th>C1002658784</th>\n",
       "      <td>993.67</td>\n",
       "      <td>1042.45</td>\n",
       "      <td>778.097429</td>\n",
       "    </tr>\n",
       "    <tr>\n",
       "      <th>...</th>\n",
       "      <td>...</td>\n",
       "      <td>...</td>\n",
       "      <td>...</td>\n",
       "    </tr>\n",
       "    <tr>\n",
       "      <th>C99729647</th>\n",
       "      <td>1520.57</td>\n",
       "      <td>932.45</td>\n",
       "      <td>831.212542</td>\n",
       "    </tr>\n",
       "    <tr>\n",
       "      <th>C998690782</th>\n",
       "      <td>802.33</td>\n",
       "      <td>763.34</td>\n",
       "      <td>1927.862099</td>\n",
       "    </tr>\n",
       "    <tr>\n",
       "      <th>C998987490</th>\n",
       "      <td>1691.79</td>\n",
       "      <td>660.19</td>\n",
       "      <td>798.983068</td>\n",
       "    </tr>\n",
       "    <tr>\n",
       "      <th>C999393223</th>\n",
       "      <td>1149.22</td>\n",
       "      <td>978.16</td>\n",
       "      <td>831.378592</td>\n",
       "    </tr>\n",
       "    <tr>\n",
       "      <th>C999723254</th>\n",
       "      <td>615.26</td>\n",
       "      <td>691.65</td>\n",
       "      <td>639.599335</td>\n",
       "    </tr>\n",
       "  </tbody>\n",
       "</table>\n",
       "<p>4109 rows × 3 columns</p>\n",
       "</div>"
      ],
      "text/plain": [
       "             y_holdout  y_pred_base   y_pred_bgf\n",
       "customer                                        \n",
       "C1000148617    1211.77       683.21   814.685454\n",
       "C100045114     1042.75      2565.20  1804.989216\n",
       "C1000699316     349.98        43.54   648.971354\n",
       "C1001065306     501.13      2284.37  1486.480857\n",
       "C1002658784     993.67      1042.45   778.097429\n",
       "...                ...          ...          ...\n",
       "C99729647      1520.57       932.45   831.212542\n",
       "C998690782      802.33       763.34  1927.862099\n",
       "C998987490     1691.79       660.19   798.983068\n",
       "C999393223     1149.22       978.16   831.378592\n",
       "C999723254      615.26       691.65   639.599335\n",
       "\n",
       "[4109 rows x 3 columns]"
      ]
     },
     "execution_count": 109,
     "metadata": {},
     "output_type": "execute_result"
    }
   ],
   "source": [
    "y_df"
   ]
  },
  {
   "cell_type": "code",
   "execution_count": 94,
   "metadata": {},
   "outputs": [],
   "source": [
    "mae_bgf = metrics.mean_absolute_error(y_df['y_holdout'],\n",
    "                                      y_df['y_pred_bgf'])"
   ]
  },
  {
   "cell_type": "code",
   "execution_count": 100,
   "metadata": {},
   "outputs": [
    {
     "data": {
      "text/markdown": [
       "\\>> Mean absolute error of BG/NBD: 352.04"
      ],
      "text/plain": [
       "<IPython.core.display.Markdown object>"
      ]
     },
     "execution_count": 100,
     "metadata": {},
     "output_type": "execute_result"
    }
   ],
   "source": [
    "md(f\"\\\\>> Mean absolute error of BG/NBD: {mae_bgf:,.2f}\")"
   ]
  },
  {
   "cell_type": "code",
   "execution_count": 103,
   "metadata": {},
   "outputs": [],
   "source": [
    "delta = 1 - mae_bgf / mae_base"
   ]
  },
  {
   "cell_type": "code",
   "execution_count": 108,
   "metadata": {},
   "outputs": [
    {
     "data": {
      "text/markdown": [
       "\\>> Compared to Baseline MAE of 381.72, BG/NBD model decreases error by 8%."
      ],
      "text/plain": [
       "<IPython.core.display.Markdown object>"
      ]
     },
     "execution_count": 108,
     "metadata": {},
     "output_type": "execute_result"
    }
   ],
   "source": [
    "md(f\"\\>> Compared to Baseline MAE of {mae_base:,.2f}, BG/NBD model decreases error by {delta:,.0%}.\")"
   ]
  },
  {
   "cell_type": "markdown",
   "metadata": {},
   "source": [
    "# Tune `penalizer_coef` hyper-parameter when fitting BG/NBD <a class='anchor' id='tune'>"
   ]
  },
  {
   "cell_type": "markdown",
   "metadata": {},
   "source": [
    "Given a mechanism to quantify the fitness of BG/NBD model, we can fine-tune the configuration through searching. Below I set up a loss function which is the discrepancy between model predictions and actual holdout data. Then, I begin looking for a better `penalizer_coef` params for constructing BG/NBD model with the help of The Tree-structured Parzen Estimator (TPE) (a sequential model-based optimization) implemented in the `hyperopt` package."
   ]
  },
  {
   "cell_type": "markdown",
   "metadata": {},
   "source": [
    "```\n",
    "def get_results(summary, model, kind, n):\n",
    "    duration_holdout = summary.iloc[0][\"duration_holdout\"]\n",
    "\n",
    "    summary[\"model_predictions\"] = model.conditional_expected_number_of_purchases_up_to_time(\n",
    "            duration_holdout, summary[\"frequency_cal\"], summary[\"recency_cal\"], summary[\"T_cal\"])\n",
    "\n",
    "    results = (summary.groupby(kind)\n",
    "                      [[\"frequency_holdout\", \"model_predictions\"]]\n",
    "                      .mean().iloc[:n])\n",
    "    return results\n",
    "\n",
    "def tune(params, summary, n, random_state):\n",
    "    params = {'penalizer_coef': float(params['penalizer_coef'])}\n",
    "    kind = 'frequency_cal'\n",
    "    \n",
    "    model = BetaGeoFitter(**params)\n",
    "    model.fit(summary['frequency_cal'],\n",
    "              summary['recency_cal'],\n",
    "              summary['T_cal'])\n",
    "    \n",
    "    results = get_results(summary, model, kind, n)\n",
    "    y_true = results['model_predictions']\n",
    "    y_pred = results['frequency_holdout']\n",
    "    \n",
    "    score = np.sqrt(metrics.mean_squared_error(y_true, y_pred))\n",
    "\n",
    "    return score\n",
    "```"
   ]
  },
  {
   "cell_type": "code",
   "execution_count": 113,
   "metadata": {},
   "outputs": [],
   "source": [
    "def get_results(summary, model, kind, n):\n",
    "    duration_holdout = summary.iloc[0][\"duration_holdout\"]\n",
    "\n",
    "    summary[\"model_predictions\"] = model.conditional_expected_number_of_purchases_up_to_time(\n",
    "            duration_holdout, summary[\"frequency_cal\"], summary[\"recency_cal\"], summary[\"T_cal\"])\n",
    "\n",
    "    results = (summary.groupby(kind)\n",
    "                      [[\"frequency_holdout\", \"model_predictions\"]]\n",
    "                      .mean().iloc[:n])\n",
    "    return results\n",
    "\n",
    "def tune(params, summary, n, random_state):\n",
    "    params = {'penalizer_coef': float(params['penalizer_coef'])}\n",
    "    kind = 'frequency_cal'\n",
    "    \n",
    "    model = BetaGeoFitter(**params)\n",
    "    model.fit(summary['frequency_cal'],\n",
    "              summary['recency_cal'],\n",
    "              summary['T_cal'])\n",
    "    \n",
    "    results = get_results(summary, model, kind, n)\n",
    "    y_true = results['model_predictions']\n",
    "    y_pred = results['frequency_holdout']\n",
    "    \n",
    "    score = np.sqrt(metrics.mean_squared_error(y_true, y_pred))\n",
    "\n",
    "    return score"
   ]
  },
  {
   "cell_type": "markdown",
   "metadata": {},
   "source": [
    "The search range of (0.001, 0.1) is suggested by `lifetimes` [here](https://lifetimes.readthedocs.io/en/latest/Quickstart.html#visualizing-our-frequency-recency-matrix).\n",
    ">For small samples sizes, the parameters can get implausibly large, so by adding an l2 penalty the likelihood, we can control how large these parameters can be. This is implemented as setting as positive penalizer_coef in the initialization of the model. In typical applications, penalizers on the order of 0.001 to 0.1 are effective."
   ]
  },
  {
   "cell_type": "markdown",
   "metadata": {},
   "source": [
    "After running for about 400 iterations, here is the best result:"
   ]
  },
  {
   "cell_type": "code",
   "execution_count": null,
   "metadata": {},
   "outputs": [],
   "source": [
    "params = {'penalizer_coef': hp.uniform(\"penalizer_coef\",\n",
    "                                       0.001, 0.1)}\n",
    "n = 30\n",
    "# n_iter = 10\n",
    "timeout = 120\n",
    "random_state = 42\n",
    "\n",
    "fn_tune = partial(tune, summary=summary_cal_holdout.copy(), n=30,\n",
    "                  random_state=random_state)\n",
    "\n",
    "trials = Trials()\n",
    "\n",
    "best=fmin(fn=fn_tune, # function to optimize\n",
    "          space=params,\n",
    "          algo=tpe.suggest, # optimization algorithm, hyperotp will select its parameters automatically\n",
    "#           max_evals=n_iter, # maximum number of iterations\n",
    "          timeout=timeout,\n",
    "          verbose=0,\n",
    "          trials=trials, # logging\n",
    "          rstate=np.random.RandomState(random_state), # fixing random state for the reproducibility\n",
    "          catch_eval_exceptions=True\n",
    "         )"
   ]
  },
  {
   "cell_type": "code",
   "execution_count": 128,
   "metadata": {},
   "outputs": [
    {
     "data": {
      "text/plain": [
       "{'penalizer_coef': 0.0010005407823014728}"
      ]
     },
     "execution_count": 128,
     "metadata": {},
     "output_type": "execute_result"
    }
   ],
   "source": [
    "best"
   ]
  },
  {
   "cell_type": "markdown",
   "metadata": {},
   "source": [
    "Note that above, for the sake of displaying, I truncated the errors happening at some iterations."
   ]
  },
  {
   "cell_type": "markdown",
   "metadata": {},
   "source": [
    "Visualize the finding process:"
   ]
  },
  {
   "cell_type": "code",
   "execution_count": 129,
   "metadata": {},
   "outputs": [],
   "source": [
    "tpe_results = np.array([[x['result']['loss'],\n",
    "                         x['misc']['vals']['penalizer_coef'][0]] for x in trials.trials])\n",
    "\n",
    "tpe_results_df = pd.DataFrame(tpe_results,\n",
    "                              columns=['score', 'penalizer_coef'])"
   ]
  },
  {
   "cell_type": "code",
   "execution_count": 131,
   "metadata": {
    "scrolled": false
   },
   "outputs": [
    {
     "data": {
      "text/plain": [
       "array([<matplotlib.axes._subplots.AxesSubplot object at 0x7f797f1a7640>,\n",
       "       <matplotlib.axes._subplots.AxesSubplot object at 0x7f797ece55b0>],\n",
       "      dtype=object)"
      ]
     },
     "execution_count": 131,
     "metadata": {},
     "output_type": "execute_result"
    },
    {
     "data": {
      "image/png": "[encoded data removed]",
      "text/plain": [
       "<Figure size 1440x864 with 2 Axes>"
      ]
     },
     "metadata": {
      "needs_background": "light"
     },
     "output_type": "display_data"
    }
   ],
   "source": [
    "tpe_results_df.plot(subplots=True,figsize=(20, 12))"
   ]
  },
  {
   "cell_type": "markdown",
   "metadata": {},
   "source": [
    "# Gamma-Gamma <a class='anchor' id='gamma-gamma'>"
   ]
  },
  {
   "cell_type": "markdown",
   "metadata": {},
   "source": [
    "Inputs are our calculated features:"
   ]
  },
  {
   "cell_type": "code",
   "execution_count": 132,
   "metadata": {},
   "outputs": [
    {
     "data": {
      "text/html": [
       "<div>\n",
       "<style scoped>\n",
       "    .dataframe tbody tr th:only-of-type {\n",
       "        vertical-align: middle;\n",
       "    }\n",
       "\n",
       "    .dataframe tbody tr th {\n",
       "        vertical-align: top;\n",
       "    }\n",
       "\n",
       "    .dataframe thead th {\n",
       "        text-align: right;\n",
       "    }\n",
       "</style>\n",
       "<table border=\"1\" class=\"dataframe\">\n",
       "  <thead>\n",
       "    <tr style=\"text-align: right;\">\n",
       "      <th></th>\n",
       "      <th>frequency</th>\n",
       "      <th>recency</th>\n",
       "      <th>T</th>\n",
       "      <th>monetary_value</th>\n",
       "    </tr>\n",
       "    <tr>\n",
       "      <th>customer</th>\n",
       "      <th></th>\n",
       "      <th></th>\n",
       "      <th></th>\n",
       "      <th></th>\n",
       "    </tr>\n",
       "  </thead>\n",
       "  <tbody>\n",
       "    <tr>\n",
       "      <th>C1000148617</th>\n",
       "      <td>127.0</td>\n",
       "      <td>149.0</td>\n",
       "      <td>149.0</td>\n",
       "      <td>35.064331</td>\n",
       "    </tr>\n",
       "    <tr>\n",
       "      <th>C100045114</th>\n",
       "      <td>90.0</td>\n",
       "      <td>179.0</td>\n",
       "      <td>179.0</td>\n",
       "      <td>109.016889</td>\n",
       "    </tr>\n",
       "    <tr>\n",
       "      <th>C1000699316</th>\n",
       "      <td>92.0</td>\n",
       "      <td>173.0</td>\n",
       "      <td>179.0</td>\n",
       "      <td>38.677174</td>\n",
       "    </tr>\n",
       "    <tr>\n",
       "      <th>C1001065306</th>\n",
       "      <td>20.0</td>\n",
       "      <td>134.0</td>\n",
       "      <td>158.0</td>\n",
       "      <td>305.277000</td>\n",
       "    </tr>\n",
       "    <tr>\n",
       "      <th>C1002658784</th>\n",
       "      <td>127.0</td>\n",
       "      <td>157.0</td>\n",
       "      <td>157.0</td>\n",
       "      <td>33.778583</td>\n",
       "    </tr>\n",
       "    <tr>\n",
       "      <th>...</th>\n",
       "      <td>...</td>\n",
       "      <td>...</td>\n",
       "      <td>...</td>\n",
       "      <td>...</td>\n",
       "    </tr>\n",
       "    <tr>\n",
       "      <th>C99729647</th>\n",
       "      <td>168.0</td>\n",
       "      <td>178.0</td>\n",
       "      <td>179.0</td>\n",
       "      <td>33.738452</td>\n",
       "    </tr>\n",
       "    <tr>\n",
       "      <th>C998690782</th>\n",
       "      <td>167.0</td>\n",
       "      <td>179.0</td>\n",
       "      <td>179.0</td>\n",
       "      <td>62.397066</td>\n",
       "    </tr>\n",
       "    <tr>\n",
       "      <th>C998987490</th>\n",
       "      <td>169.0</td>\n",
       "      <td>179.0</td>\n",
       "      <td>179.0</td>\n",
       "      <td>33.607337</td>\n",
       "    </tr>\n",
       "    <tr>\n",
       "      <th>C999393223</th>\n",
       "      <td>129.0</td>\n",
       "      <td>173.0</td>\n",
       "      <td>173.0</td>\n",
       "      <td>39.565271</td>\n",
       "    </tr>\n",
       "    <tr>\n",
       "      <th>C999723254</th>\n",
       "      <td>118.0</td>\n",
       "      <td>168.0</td>\n",
       "      <td>168.0</td>\n",
       "      <td>30.025593</td>\n",
       "    </tr>\n",
       "  </tbody>\n",
       "</table>\n",
       "<p>4112 rows × 4 columns</p>\n",
       "</div>"
      ],
      "text/plain": [
       "             frequency  recency      T  monetary_value\n",
       "customer                                              \n",
       "C1000148617      127.0    149.0  149.0       35.064331\n",
       "C100045114        90.0    179.0  179.0      109.016889\n",
       "C1000699316       92.0    173.0  179.0       38.677174\n",
       "C1001065306       20.0    134.0  158.0      305.277000\n",
       "C1002658784      127.0    157.0  157.0       33.778583\n",
       "...                ...      ...    ...             ...\n",
       "C99729647        168.0    178.0  179.0       33.738452\n",
       "C998690782       167.0    179.0  179.0       62.397066\n",
       "C998987490       169.0    179.0  179.0       33.607337\n",
       "C999393223       129.0    173.0  173.0       39.565271\n",
       "C999723254       118.0    168.0  168.0       30.025593\n",
       "\n",
       "[4112 rows x 4 columns]"
      ]
     },
     "execution_count": 132,
     "metadata": {},
     "output_type": "execute_result"
    }
   ],
   "source": [
    "summary_df"
   ]
  },
  {
   "cell_type": "markdown",
   "metadata": {},
   "source": [
    "[According to `lifetimes` docs](https://lifetimes.readthedocs.io/en/latest/Quickstart.html#example-using-transactional-datasets):\n",
    ">The Gamma-Gamma submodel, in fact, assumes that there is no relationship between the monetary value and the purchase frequency. In practice we need to check whether the Pearson correlation between the two vectors is close to 0 in order to use this model."
   ]
  },
  {
   "cell_type": "code",
   "execution_count": 133,
   "metadata": {},
   "outputs": [],
   "source": [
    "returning_customers_summary = (summary_df[summary_df['frequency']>0])"
   ]
  },
  {
   "cell_type": "markdown",
   "metadata": {},
   "source": [
    "Checking Pearson correlation in our data:"
   ]
  },
  {
   "cell_type": "code",
   "execution_count": 181,
   "metadata": {},
   "outputs": [
    {
     "data": {
      "text/html": [
       "<div>\n",
       "<style scoped>\n",
       "    .dataframe tbody tr th:only-of-type {\n",
       "        vertical-align: middle;\n",
       "    }\n",
       "\n",
       "    .dataframe tbody tr th {\n",
       "        vertical-align: top;\n",
       "    }\n",
       "\n",
       "    .dataframe thead th {\n",
       "        text-align: right;\n",
       "    }\n",
       "</style>\n",
       "<table border=\"1\" class=\"dataframe\">\n",
       "  <thead>\n",
       "    <tr style=\"text-align: right;\">\n",
       "      <th></th>\n",
       "      <th>monetary_value</th>\n",
       "      <th>frequency</th>\n",
       "    </tr>\n",
       "  </thead>\n",
       "  <tbody>\n",
       "    <tr>\n",
       "      <th>monetary_value</th>\n",
       "      <td>1.000000</td>\n",
       "      <td>-0.531216</td>\n",
       "    </tr>\n",
       "    <tr>\n",
       "      <th>frequency</th>\n",
       "      <td>-0.531216</td>\n",
       "      <td>1.000000</td>\n",
       "    </tr>\n",
       "  </tbody>\n",
       "</table>\n",
       "</div>"
      ],
      "text/plain": [
       "                monetary_value  frequency\n",
       "monetary_value        1.000000  -0.531216\n",
       "frequency            -0.531216   1.000000"
      ]
     },
     "execution_count": 181,
     "metadata": {},
     "output_type": "execute_result"
    }
   ],
   "source": [
    "returning_customers_summary[['monetary_value', 'frequency']].corr()"
   ]
  },
  {
   "cell_type": "markdown",
   "metadata": {},
   "source": [
    "It can be seen that `monetary_value` and `frequency` are moderately negatively correlated, so we should not use Gamma-Gamma approach."
   ]
  },
  {
   "cell_type": "markdown",
   "metadata": {},
   "source": [
    "# Summary"
   ]
  },
  {
   "cell_type": "markdown",
   "metadata": {},
   "source": [
    "In this notebook, I approach the Customer Long-term Values problem by Probabilistic Model BG/NBD. Compared to a simple baseline of predicting next transaction, it yields an improvement of 8% in Mean Absolute Error. The cost of fitting BG/NBD model is trivial with less than 500ms for 4,000 customers and an additional under 2000ms to calculate 3 features from raw 500,000 transactions."
   ]
  },
  {
   "cell_type": "markdown",
   "metadata": {},
   "source": [
    "# Next steps"
   ]
  },
  {
   "cell_type": "markdown",
   "metadata": {},
   "source": [
    "The probabilistic approaches take advantage of simplicity and backed by academic research. However, they can not utilize holistic data about users, thus being restricted in the ability to improve themselves. Given more data and time, I would like to tackle this problem using Machine Learning approach, constructing the long-term value labels for users."
   ]
  }
 ],
 "metadata": {
  "kernelspec": {
   "display_name": "Python 3",
   "language": "python",
   "name": "python3"
  },
  "language_info": {
   "codemirror_mode": {
    "name": "ipython",
    "version": 3
   },
   "file_extension": ".py",
   "mimetype": "text/x-python",
   "name": "python",
   "nbconvert_exporter": "python",
   "pygments_lexer": "ipython3",
   "version": "3.8.3"
  }
 },
 "nbformat": 4,
 "nbformat_minor": 4
}
