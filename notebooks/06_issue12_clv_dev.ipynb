{
 "cells": [
  {
   "cell_type": "code",
   "execution_count": 1,
   "metadata": {},
   "outputs": [],
   "source": [
    "%load_ext autoreload\n",
    "%autoreload 2\n",
    "%matplotlib inline\n",
    "\n",
    "import pandas as pd\n",
    "import numpy as np\n",
    "from matplotlib import pyplot as plt\n",
    "\n",
    "import seaborn as sns\n",
    "\n",
    "from lifetimes.utils import summary_data_from_transaction_data\n",
    "\n",
    "# Custom modules\n",
    "\n",
    "import sys\n",
    "import os\n",
    "ROOT_DIR = os.path.abspath('../')\n",
    "sys.path.insert(0, ROOT_DIR + \"/src\")"
   ]
  },
  {
   "cell_type": "markdown",
   "metadata": {},
   "source": [
    "# Constants"
   ]
  },
  {
   "cell_type": "code",
   "execution_count": 2,
   "metadata": {},
   "outputs": [],
   "source": [
    "RAW_INPUT_PATH = '../data/raw/bs140513_032310.csv'\n",
    "IGNORE_COLS = ['zipcodeOri', 'zipMerchant']"
   ]
  },
  {
   "cell_type": "markdown",
   "metadata": {},
   "source": [
    "# Load input"
   ]
  },
  {
   "cell_type": "code",
   "execution_count": 3,
   "metadata": {},
   "outputs": [],
   "source": [
    "raw_df = pd.read_csv(RAW_INPUT_PATH,\n",
    "                     quotechar=\"'\",\n",
    "                     usecols=lambda c: c not in IGNORE_COLS)"
   ]
  },
  {
   "cell_type": "markdown",
   "metadata": {},
   "source": [
    "# Methodology"
   ]
  },
  {
   "cell_type": "markdown",
   "metadata": {},
   "source": [
    "#TODO: Describe 2 approaches in CLV modeling (ML and Probabilistics)"
   ]
  },
  {
   "cell_type": "markdown",
   "metadata": {},
   "source": [
    "Below I approach this problem using Probabilistic methods namely BG/NBD model and Gamma-Gamma, with implementation based on [Python lifetimes package](https://lifetimes.readthedocs.io/en/latest/Quickstart.html#estimating-customer-lifetime-value-using-the-gamma-gamma-model).\n",
    "\n",
    "The paper for BG/NBD can be found [here](http://www.brucehardie.com/papers/bgnbd_2004-04-20.pdf)."
   ]
  },
  {
   "cell_type": "markdown",
   "metadata": {},
   "source": [
    "Outlines:\n",
    "1. Create a baseline"
   ]
  },
  {
   "cell_type": "markdown",
   "metadata": {},
   "source": [
    "\n",
    "# Baseline"
   ]
  },
  {
   "cell_type": "markdown",
   "metadata": {},
   "source": [
    "Assumption: a user will behave exactly the same in the next `n` days compared to recent `n` days.\n",
    "\n",
    "Long-term value of a user in the next 30 days = Long-term value of a user in recent 30 days"
   ]
  },
  {
   "cell_type": "code",
   "execution_count": 205,
   "metadata": {},
   "outputs": [],
   "source": [
    "n = 30\n",
    "max_step = raw_df['step'].max()\n",
    "cutoff_step = max_step - n\n",
    "start_step = cutoff_step - n"
   ]
  },
  {
   "cell_type": "code",
   "execution_count": 206,
   "metadata": {},
   "outputs": [],
   "source": [
    "y_pred_base = (raw_df.query(f\"step > {start_step} and step <= {cutoff_step}\")\n",
    "                     .groupby('customer')['amount'].sum())"
   ]
  },
  {
   "cell_type": "code",
   "execution_count": 240,
   "metadata": {},
   "outputs": [],
   "source": [
    "y_true = (raw_df.query(f\"step > {cutoff_step}\")\n",
    "                .groupby('customer')['amount'].sum())"
   ]
  },
  {
   "cell_type": "code",
   "execution_count": 254,
   "metadata": {},
   "outputs": [],
   "source": [
    "y_df = pd.merge(y_true.to_frame('y_holdout'),\n",
    "                y_pred_base.to_frame('y_pred_base'),\n",
    "                how='outer',\n",
    "                left_index=True,\n",
    "                right_index=True) \\\n",
    "         .fillna(0)"
   ]
  },
  {
   "cell_type": "code",
   "execution_count": 267,
   "metadata": {},
   "outputs": [],
   "source": [
    "mae_base = metrics.mean_absolute_error(y_df['y_holdout'],\n",
    "                                       y_df['y_pred_base'])"
   ]
  },
  {
   "cell_type": "markdown",
   "metadata": {},
   "source": [
    "# Calculate features"
   ]
  },
  {
   "cell_type": "markdown",
   "metadata": {},
   "source": [
    "## Using utils function from lifetime"
   ]
  },
  {
   "cell_type": "markdown",
   "metadata": {},
   "source": [
    "#### Convert step to pseudo date for easier implementation"
   ]
  },
  {
   "cell_type": "code",
   "execution_count": 13,
   "metadata": {},
   "outputs": [],
   "source": [
    "cnt_steps = raw_df['step'].nunique()\n",
    "pseudo_date_mapper = pd.Series(index=list(range(cnt_steps)),\n",
    "                               data=pd.date_range(\"2020-01-01\",\n",
    "                                                  periods=cnt_steps))\n",
    "raw_df['pseudo_date'] = raw_df['step'].map(pseudo_date_mapper)"
   ]
  },
  {
   "cell_type": "code",
   "execution_count": 20,
   "metadata": {},
   "outputs": [
    {
     "data": {
      "text/plain": [
       "0        2020-01-01\n",
       "1        2020-01-01\n",
       "2        2020-01-01\n",
       "3        2020-01-01\n",
       "4        2020-01-01\n",
       "            ...    \n",
       "594638   2020-06-28\n",
       "594639   2020-06-28\n",
       "594640   2020-06-28\n",
       "594641   2020-06-28\n",
       "594642   2020-06-28\n",
       "Name: pseudo_date, Length: 594643, dtype: datetime64[ns]"
      ]
     },
     "execution_count": 20,
     "metadata": {},
     "output_type": "execute_result"
    }
   ],
   "source": [
    "raw_df['pseudo_date']"
   ]
  },
  {
   "cell_type": "markdown",
   "metadata": {},
   "source": [
    "---"
   ]
  },
  {
   "cell_type": "code",
   "execution_count": 21,
   "metadata": {},
   "outputs": [],
   "source": [
    "summary_df = summary_data_from_transaction_data(raw_df,\n",
    "                                                customer_id_col='customer',\n",
    "                                                datetime_col='pseudo_date',\n",
    "                                                monetary_value_col='amount')"
   ]
  },
  {
   "cell_type": "code",
   "execution_count": 22,
   "metadata": {},
   "outputs": [
    {
     "data": {
      "text/html": [
       "<div>\n",
       "<style scoped>\n",
       "    .dataframe tbody tr th:only-of-type {\n",
       "        vertical-align: middle;\n",
       "    }\n",
       "\n",
       "    .dataframe tbody tr th {\n",
       "        vertical-align: top;\n",
       "    }\n",
       "\n",
       "    .dataframe thead th {\n",
       "        text-align: right;\n",
       "    }\n",
       "</style>\n",
       "<table border=\"1\" class=\"dataframe\">\n",
       "  <thead>\n",
       "    <tr style=\"text-align: right;\">\n",
       "      <th></th>\n",
       "      <th>frequency</th>\n",
       "      <th>recency</th>\n",
       "      <th>T</th>\n",
       "      <th>monetary_value</th>\n",
       "    </tr>\n",
       "    <tr>\n",
       "      <th>customer</th>\n",
       "      <th></th>\n",
       "      <th></th>\n",
       "      <th></th>\n",
       "      <th></th>\n",
       "    </tr>\n",
       "  </thead>\n",
       "  <tbody>\n",
       "    <tr>\n",
       "      <th>C1000148617</th>\n",
       "      <td>127.0</td>\n",
       "      <td>149.0</td>\n",
       "      <td>149.0</td>\n",
       "      <td>35.064331</td>\n",
       "    </tr>\n",
       "    <tr>\n",
       "      <th>C100045114</th>\n",
       "      <td>90.0</td>\n",
       "      <td>179.0</td>\n",
       "      <td>179.0</td>\n",
       "      <td>109.016889</td>\n",
       "    </tr>\n",
       "    <tr>\n",
       "      <th>C1000699316</th>\n",
       "      <td>92.0</td>\n",
       "      <td>173.0</td>\n",
       "      <td>179.0</td>\n",
       "      <td>38.677174</td>\n",
       "    </tr>\n",
       "    <tr>\n",
       "      <th>C1001065306</th>\n",
       "      <td>20.0</td>\n",
       "      <td>134.0</td>\n",
       "      <td>158.0</td>\n",
       "      <td>305.277000</td>\n",
       "    </tr>\n",
       "    <tr>\n",
       "      <th>C1002658784</th>\n",
       "      <td>127.0</td>\n",
       "      <td>157.0</td>\n",
       "      <td>157.0</td>\n",
       "      <td>33.778583</td>\n",
       "    </tr>\n",
       "    <tr>\n",
       "      <th>...</th>\n",
       "      <td>...</td>\n",
       "      <td>...</td>\n",
       "      <td>...</td>\n",
       "      <td>...</td>\n",
       "    </tr>\n",
       "    <tr>\n",
       "      <th>C99729647</th>\n",
       "      <td>168.0</td>\n",
       "      <td>178.0</td>\n",
       "      <td>179.0</td>\n",
       "      <td>33.738452</td>\n",
       "    </tr>\n",
       "    <tr>\n",
       "      <th>C998690782</th>\n",
       "      <td>167.0</td>\n",
       "      <td>179.0</td>\n",
       "      <td>179.0</td>\n",
       "      <td>62.397066</td>\n",
       "    </tr>\n",
       "    <tr>\n",
       "      <th>C998987490</th>\n",
       "      <td>169.0</td>\n",
       "      <td>179.0</td>\n",
       "      <td>179.0</td>\n",
       "      <td>33.607337</td>\n",
       "    </tr>\n",
       "    <tr>\n",
       "      <th>C999393223</th>\n",
       "      <td>129.0</td>\n",
       "      <td>173.0</td>\n",
       "      <td>173.0</td>\n",
       "      <td>39.565271</td>\n",
       "    </tr>\n",
       "    <tr>\n",
       "      <th>C999723254</th>\n",
       "      <td>118.0</td>\n",
       "      <td>168.0</td>\n",
       "      <td>168.0</td>\n",
       "      <td>30.025593</td>\n",
       "    </tr>\n",
       "  </tbody>\n",
       "</table>\n",
       "<p>4112 rows × 4 columns</p>\n",
       "</div>"
      ],
      "text/plain": [
       "             frequency  recency      T  monetary_value\n",
       "customer                                              \n",
       "C1000148617      127.0    149.0  149.0       35.064331\n",
       "C100045114        90.0    179.0  179.0      109.016889\n",
       "C1000699316       92.0    173.0  179.0       38.677174\n",
       "C1001065306       20.0    134.0  158.0      305.277000\n",
       "C1002658784      127.0    157.0  157.0       33.778583\n",
       "...                ...      ...    ...             ...\n",
       "C99729647        168.0    178.0  179.0       33.738452\n",
       "C998690782       167.0    179.0  179.0       62.397066\n",
       "C998987490       169.0    179.0  179.0       33.607337\n",
       "C999393223       129.0    173.0  173.0       39.565271\n",
       "C999723254       118.0    168.0  168.0       30.025593\n",
       "\n",
       "[4112 rows x 4 columns]"
      ]
     },
     "execution_count": 22,
     "metadata": {},
     "output_type": "execute_result"
    }
   ],
   "source": [
    "summary_df"
   ]
  },
  {
   "cell_type": "markdown",
   "metadata": {},
   "source": [
    "# Analyze Frequency/Recency"
   ]
  },
  {
   "cell_type": "code",
   "execution_count": 31,
   "metadata": {},
   "outputs": [],
   "source": [
    "data = summary_df.copy()"
   ]
  },
  {
   "cell_type": "code",
   "execution_count": 29,
   "metadata": {},
   "outputs": [],
   "source": [
    "from lifetimes import BetaGeoFitter"
   ]
  },
  {
   "cell_type": "code",
   "execution_count": 184,
   "metadata": {},
   "outputs": [
    {
     "data": {
      "text/plain": [
       "<lifetimes.BetaGeoFitter: fitted with 4112 subjects, a: 0.00, alpha: 4.24, b: 0.40, r: 3.34>"
      ]
     },
     "execution_count": 184,
     "metadata": {},
     "output_type": "execute_result"
    }
   ],
   "source": [
    "# penalizer_coef=0 yields convergence error\n",
    "bgf = BetaGeoFitter(penalizer_coef=0.01)\n",
    "bgf.fit(data['frequency'], data['recency'], data['T'])\n",
    "bgf"
   ]
  },
  {
   "cell_type": "code",
   "execution_count": 89,
   "metadata": {},
   "outputs": [
    {
     "data": {
      "text/html": [
       "<div>\n",
       "<style scoped>\n",
       "    .dataframe tbody tr th:only-of-type {\n",
       "        vertical-align: middle;\n",
       "    }\n",
       "\n",
       "    .dataframe tbody tr th {\n",
       "        vertical-align: top;\n",
       "    }\n",
       "\n",
       "    .dataframe thead th {\n",
       "        text-align: right;\n",
       "    }\n",
       "</style>\n",
       "<table border=\"1\" class=\"dataframe\">\n",
       "  <thead>\n",
       "    <tr style=\"text-align: right;\">\n",
       "      <th></th>\n",
       "      <th>coef</th>\n",
       "      <th>se(coef)</th>\n",
       "      <th>lower 95% bound</th>\n",
       "      <th>upper 95% bound</th>\n",
       "    </tr>\n",
       "  </thead>\n",
       "  <tbody>\n",
       "    <tr>\n",
       "      <th>r</th>\n",
       "      <td>3.343352</td>\n",
       "      <td>0.060667</td>\n",
       "      <td>3.224444</td>\n",
       "      <td>3.462260</td>\n",
       "    </tr>\n",
       "    <tr>\n",
       "      <th>alpha</th>\n",
       "      <td>4.236400</td>\n",
       "      <td>0.085112</td>\n",
       "      <td>4.069581</td>\n",
       "      <td>4.403219</td>\n",
       "    </tr>\n",
       "    <tr>\n",
       "      <th>a</th>\n",
       "      <td>0.001129</td>\n",
       "      <td>0.000222</td>\n",
       "      <td>0.000693</td>\n",
       "      <td>0.001564</td>\n",
       "    </tr>\n",
       "    <tr>\n",
       "      <th>b</th>\n",
       "      <td>0.401115</td>\n",
       "      <td>0.071826</td>\n",
       "      <td>0.260336</td>\n",
       "      <td>0.541893</td>\n",
       "    </tr>\n",
       "  </tbody>\n",
       "</table>\n",
       "</div>"
      ],
      "text/plain": [
       "           coef  se(coef)  lower 95% bound  upper 95% bound\n",
       "r      3.343352  0.060667         3.224444         3.462260\n",
       "alpha  4.236400  0.085112         4.069581         4.403219\n",
       "a      0.001129  0.000222         0.000693         0.001564\n",
       "b      0.401115  0.071826         0.260336         0.541893"
      ]
     },
     "execution_count": 89,
     "metadata": {},
     "output_type": "execute_result"
    }
   ],
   "source": [
    "bgf.summary"
   ]
  },
  {
   "cell_type": "markdown",
   "metadata": {},
   "source": [
    "#### Visualize F/R Matrix"
   ]
  },
  {
   "cell_type": "code",
   "execution_count": 44,
   "metadata": {},
   "outputs": [],
   "source": [
    "from lifetimes.plotting import plot_frequency_recency_matrix"
   ]
  },
  {
   "cell_type": "code",
   "execution_count": 46,
   "metadata": {},
   "outputs": [
    {
     "data": {
      "text/plain": [
       "<matplotlib.axes._subplots.AxesSubplot at 0x7f961e4a8cd0>"
      ]
     },
     "execution_count": 46,
     "metadata": {},
     "output_type": "execute_result"
    },
    {
     "data": {
      "image/png": "[encoded data removed]",
      "text/plain": [
       "<Figure size 720x720 with 2 Axes>"
      ]
     },
     "metadata": {
      "needs_background": "light"
     },
     "output_type": "display_data"
    }
   ],
   "source": [
    "plt.figure(figsize=(10,10))\n",
    "plot_frequency_recency_matrix(bgf)"
   ]
  },
  {
   "cell_type": "code",
   "execution_count": 47,
   "metadata": {},
   "outputs": [],
   "source": [
    "from lifetimes.plotting import plot_probability_alive_matrix"
   ]
  },
  {
   "cell_type": "code",
   "execution_count": 48,
   "metadata": {},
   "outputs": [
    {
     "data": {
      "text/plain": [
       "<matplotlib.axes._subplots.AxesSubplot at 0x7f961e78a0a0>"
      ]
     },
     "execution_count": 48,
     "metadata": {},
     "output_type": "execute_result"
    },
    {
     "data": {
      "image/png": "[encoded data removed]",
      "text/plain": [
       "<Figure size 720x720 with 2 Axes>"
      ]
     },
     "metadata": {
      "needs_background": "light"
     },
     "output_type": "display_data"
    }
   ],
   "source": [
    "plt.figure(figsize=(10,10))\n",
    "plot_probability_alive_matrix(bgf)"
   ]
  },
  {
   "cell_type": "markdown",
   "metadata": {},
   "source": [
    "#### Ranking customers from best to worst by probability of purchasing"
   ]
  },
  {
   "cell_type": "code",
   "execution_count": 63,
   "metadata": {},
   "outputs": [
    {
     "data": {
      "text/html": [
       "<div>\n",
       "<style scoped>\n",
       "    .dataframe tbody tr th:only-of-type {\n",
       "        vertical-align: middle;\n",
       "    }\n",
       "\n",
       "    .dataframe tbody tr th {\n",
       "        vertical-align: top;\n",
       "    }\n",
       "\n",
       "    .dataframe thead th {\n",
       "        text-align: right;\n",
       "    }\n",
       "</style>\n",
       "<table border=\"1\" class=\"dataframe\">\n",
       "  <thead>\n",
       "    <tr style=\"text-align: right;\">\n",
       "      <th></th>\n",
       "      <th>frequency</th>\n",
       "      <th>recency</th>\n",
       "      <th>T</th>\n",
       "      <th>monetary_value</th>\n",
       "      <th>predicted_purchases</th>\n",
       "      <th>predicted_value_1</th>\n",
       "      <th>predicted_purchases_1</th>\n",
       "    </tr>\n",
       "    <tr>\n",
       "      <th>customer</th>\n",
       "      <th></th>\n",
       "      <th></th>\n",
       "      <th></th>\n",
       "      <th></th>\n",
       "      <th></th>\n",
       "      <th></th>\n",
       "      <th></th>\n",
       "    </tr>\n",
       "  </thead>\n",
       "  <tbody>\n",
       "    <tr>\n",
       "      <th>C1882101149</th>\n",
       "      <td>176.0</td>\n",
       "      <td>179.0</td>\n",
       "      <td>179.0</td>\n",
       "      <td>33.980057</td>\n",
       "      <td>356.978488</td>\n",
       "      <td>33.257797</td>\n",
       "      <td>0.978745</td>\n",
       "    </tr>\n",
       "    <tr>\n",
       "      <th>C1999699557</th>\n",
       "      <td>176.0</td>\n",
       "      <td>179.0</td>\n",
       "      <td>179.0</td>\n",
       "      <td>34.455170</td>\n",
       "      <td>356.978488</td>\n",
       "      <td>33.722811</td>\n",
       "      <td>0.978745</td>\n",
       "    </tr>\n",
       "    <tr>\n",
       "      <th>C1155962240</th>\n",
       "      <td>176.0</td>\n",
       "      <td>179.0</td>\n",
       "      <td>179.0</td>\n",
       "      <td>34.845852</td>\n",
       "      <td>356.978488</td>\n",
       "      <td>34.105189</td>\n",
       "      <td>0.978745</td>\n",
       "    </tr>\n",
       "    <tr>\n",
       "      <th>C333484923</th>\n",
       "      <td>176.0</td>\n",
       "      <td>179.0</td>\n",
       "      <td>179.0</td>\n",
       "      <td>32.946818</td>\n",
       "      <td>356.978488</td>\n",
       "      <td>32.246520</td>\n",
       "      <td>0.978745</td>\n",
       "    </tr>\n",
       "    <tr>\n",
       "      <th>C222098023</th>\n",
       "      <td>176.0</td>\n",
       "      <td>179.0</td>\n",
       "      <td>179.0</td>\n",
       "      <td>31.382443</td>\n",
       "      <td>356.978488</td>\n",
       "      <td>30.715396</td>\n",
       "      <td>0.978745</td>\n",
       "    </tr>\n",
       "  </tbody>\n",
       "</table>\n",
       "</div>"
      ],
      "text/plain": [
       "             frequency  recency      T  monetary_value  predicted_purchases  \\\n",
       "customer                                                                      \n",
       "C1882101149      176.0    179.0  179.0       33.980057           356.978488   \n",
       "C1999699557      176.0    179.0  179.0       34.455170           356.978488   \n",
       "C1155962240      176.0    179.0  179.0       34.845852           356.978488   \n",
       "C333484923       176.0    179.0  179.0       32.946818           356.978488   \n",
       "C222098023       176.0    179.0  179.0       31.382443           356.978488   \n",
       "\n",
       "             predicted_value_1  predicted_purchases_1  \n",
       "customer                                               \n",
       "C1882101149          33.257797               0.978745  \n",
       "C1999699557          33.722811               0.978745  \n",
       "C1155962240          34.105189               0.978745  \n",
       "C333484923           32.246520               0.978745  \n",
       "C222098023           30.715396               0.978745  "
      ]
     },
     "execution_count": 63,
     "metadata": {},
     "output_type": "execute_result"
    }
   ],
   "source": [
    "t = 1\n",
    "fn_pred_expected_purchases = bgf.conditional_expected_number_of_purchases_up_to_time\n",
    "ppt_name = f'predicted_purchases_{t}'\n",
    "data[ppt_name] = fn_pred_expected_purchases(t,\n",
    "                                            data['frequency'],\n",
    "                                            data['recency'],\n",
    "                                            data['T'])\n",
    "data.sort_values(by=ppt_name).tail(5)"
   ]
  },
  {
   "cell_type": "markdown",
   "metadata": {},
   "source": [
    "To estimate the expected value in $, we can use multiply the `monetary_value` with `predicted_purchases` as monetary_value is [equal to the sum of all a customer’s purchases divided by the total number of purchases](https://lifetimes.readthedocs.io/en/latest/Quickstart.html#example-using-transactional-datasets)."
   ]
  },
  {
   "cell_type": "code",
   "execution_count": 55,
   "metadata": {},
   "outputs": [],
   "source": [
    "pvt_name = f'predicted_value_{t}'\n",
    "data[pvt_name] = (data['predicted_purchases']\n",
    "                  * data['monetary_value'])"
   ]
  },
  {
   "cell_type": "code",
   "execution_count": 56,
   "metadata": {},
   "outputs": [
    {
     "data": {
      "text/html": [
       "<div>\n",
       "<style scoped>\n",
       "    .dataframe tbody tr th:only-of-type {\n",
       "        vertical-align: middle;\n",
       "    }\n",
       "\n",
       "    .dataframe tbody tr th {\n",
       "        vertical-align: top;\n",
       "    }\n",
       "\n",
       "    .dataframe thead th {\n",
       "        text-align: right;\n",
       "    }\n",
       "</style>\n",
       "<table border=\"1\" class=\"dataframe\">\n",
       "  <thead>\n",
       "    <tr style=\"text-align: right;\">\n",
       "      <th></th>\n",
       "      <th>frequency</th>\n",
       "      <th>recency</th>\n",
       "      <th>T</th>\n",
       "      <th>monetary_value</th>\n",
       "      <th>predicted_purchases</th>\n",
       "      <th>predicted_value_1</th>\n",
       "    </tr>\n",
       "    <tr>\n",
       "      <th>customer</th>\n",
       "      <th></th>\n",
       "      <th></th>\n",
       "      <th></th>\n",
       "      <th></th>\n",
       "      <th></th>\n",
       "      <th></th>\n",
       "    </tr>\n",
       "  </thead>\n",
       "  <tbody>\n",
       "    <tr>\n",
       "      <th>C806399525</th>\n",
       "      <td>134.0</td>\n",
       "      <td>148.0</td>\n",
       "      <td>148.0</td>\n",
       "      <td>624.571418</td>\n",
       "      <td>9.021605e-01</td>\n",
       "      <td>5.634637e+02</td>\n",
       "    </tr>\n",
       "    <tr>\n",
       "      <th>C2004941826</th>\n",
       "      <td>89.0</td>\n",
       "      <td>165.0</td>\n",
       "      <td>168.0</td>\n",
       "      <td>724.821910</td>\n",
       "      <td>5.361066e-01</td>\n",
       "      <td>3.885818e+02</td>\n",
       "    </tr>\n",
       "    <tr>\n",
       "      <th>C1849046345</th>\n",
       "      <td>107.0</td>\n",
       "      <td>167.0</td>\n",
       "      <td>167.0</td>\n",
       "      <td>563.231402</td>\n",
       "      <td>6.443829e-01</td>\n",
       "      <td>3.629367e+02</td>\n",
       "    </tr>\n",
       "    <tr>\n",
       "      <th>C1350963410</th>\n",
       "      <td>118.0</td>\n",
       "      <td>167.0</td>\n",
       "      <td>167.0</td>\n",
       "      <td>474.251949</td>\n",
       "      <td>7.086214e-01</td>\n",
       "      <td>3.360651e+02</td>\n",
       "    </tr>\n",
       "    <tr>\n",
       "      <th>C1572610482</th>\n",
       "      <td>70.0</td>\n",
       "      <td>171.0</td>\n",
       "      <td>177.0</td>\n",
       "      <td>829.179143</td>\n",
       "      <td>4.046043e-01</td>\n",
       "      <td>3.354894e+02</td>\n",
       "    </tr>\n",
       "    <tr>\n",
       "      <th>...</th>\n",
       "      <td>...</td>\n",
       "      <td>...</td>\n",
       "      <td>...</td>\n",
       "      <td>...</td>\n",
       "      <td>...</td>\n",
       "      <td>...</td>\n",
       "    </tr>\n",
       "    <tr>\n",
       "      <th>C1816212551</th>\n",
       "      <td>127.0</td>\n",
       "      <td>143.0</td>\n",
       "      <td>179.0</td>\n",
       "      <td>39.156929</td>\n",
       "      <td>3.304653e-08</td>\n",
       "      <td>1.294001e-06</td>\n",
       "    </tr>\n",
       "    <tr>\n",
       "      <th>C1945950459</th>\n",
       "      <td>97.0</td>\n",
       "      <td>116.0</td>\n",
       "      <td>155.0</td>\n",
       "      <td>36.575876</td>\n",
       "      <td>3.079402e-08</td>\n",
       "      <td>1.126318e-06</td>\n",
       "    </tr>\n",
       "    <tr>\n",
       "      <th>C537330939</th>\n",
       "      <td>56.0</td>\n",
       "      <td>112.0</td>\n",
       "      <td>179.0</td>\n",
       "      <td>25.314286</td>\n",
       "      <td>2.957809e-08</td>\n",
       "      <td>7.487482e-07</td>\n",
       "    </tr>\n",
       "    <tr>\n",
       "      <th>C895429374</th>\n",
       "      <td>135.0</td>\n",
       "      <td>144.0</td>\n",
       "      <td>179.0</td>\n",
       "      <td>30.824000</td>\n",
       "      <td>1.653326e-08</td>\n",
       "      <td>5.096212e-07</td>\n",
       "    </tr>\n",
       "    <tr>\n",
       "      <th>C480118707</th>\n",
       "      <td>132.0</td>\n",
       "      <td>141.0</td>\n",
       "      <td>179.0</td>\n",
       "      <td>28.305606</td>\n",
       "      <td>1.876888e-09</td>\n",
       "      <td>5.312646e-08</td>\n",
       "    </tr>\n",
       "  </tbody>\n",
       "</table>\n",
       "<p>4112 rows × 6 columns</p>\n",
       "</div>"
      ],
      "text/plain": [
       "             frequency  recency      T  monetary_value  predicted_purchases  \\\n",
       "customer                                                                      \n",
       "C806399525       134.0    148.0  148.0      624.571418         9.021605e-01   \n",
       "C2004941826       89.0    165.0  168.0      724.821910         5.361066e-01   \n",
       "C1849046345      107.0    167.0  167.0      563.231402         6.443829e-01   \n",
       "C1350963410      118.0    167.0  167.0      474.251949         7.086214e-01   \n",
       "C1572610482       70.0    171.0  177.0      829.179143         4.046043e-01   \n",
       "...                ...      ...    ...             ...                  ...   \n",
       "C1816212551      127.0    143.0  179.0       39.156929         3.304653e-08   \n",
       "C1945950459       97.0    116.0  155.0       36.575876         3.079402e-08   \n",
       "C537330939        56.0    112.0  179.0       25.314286         2.957809e-08   \n",
       "C895429374       135.0    144.0  179.0       30.824000         1.653326e-08   \n",
       "C480118707       132.0    141.0  179.0       28.305606         1.876888e-09   \n",
       "\n",
       "             predicted_value_1  \n",
       "customer                        \n",
       "C806399525        5.634637e+02  \n",
       "C2004941826       3.885818e+02  \n",
       "C1849046345       3.629367e+02  \n",
       "C1350963410       3.360651e+02  \n",
       "C1572610482       3.354894e+02  \n",
       "...                        ...  \n",
       "C1816212551       1.294001e-06  \n",
       "C1945950459       1.126318e-06  \n",
       "C537330939        7.487482e-07  \n",
       "C895429374        5.096212e-07  \n",
       "C480118707        5.312646e-08  \n",
       "\n",
       "[4112 rows x 6 columns]"
      ]
     },
     "execution_count": 56,
     "metadata": {},
     "output_type": "execute_result"
    }
   ],
   "source": [
    "data.sort_values([pvt_name], ascending=False)"
   ]
  },
  {
   "cell_type": "code",
   "execution_count": 59,
   "metadata": {},
   "outputs": [
    {
     "data": {
      "text/plain": [
       "<matplotlib.axes._subplots.AxesSubplot at 0x7f96183aac40>"
      ]
     },
     "execution_count": 59,
     "metadata": {},
     "output_type": "execute_result"
    },
    {
     "data": {
      "image/png": "[encoded data removed]",
      "text/plain": [
       "<Figure size 720x360 with 1 Axes>"
      ]
     },
     "metadata": {
      "needs_background": "light"
     },
     "output_type": "display_data"
    }
   ],
   "source": [
    "plt.figure(figsize=(10,5))\n",
    "sns.distplot(data[pvt_name])"
   ]
  },
  {
   "cell_type": "markdown",
   "metadata": {},
   "source": [
    "- The distribution is right-skewed, with expected values lie in range (20, 30)."
   ]
  },
  {
   "cell_type": "markdown",
   "metadata": {},
   "source": [
    "#### Long-term values"
   ]
  },
  {
   "cell_type": "markdown",
   "metadata": {},
   "source": [
    "The following calculations are based on assumptions:\n",
    "1. \\# of purchases in K days = P(purchase|1 day) * \\# days\n",
    "2. Average spending of customer does not change in the next K days period"
   ]
  },
  {
   "cell_type": "code",
   "execution_count": 61,
   "metadata": {},
   "outputs": [],
   "source": [
    "long_term_periods = 365"
   ]
  },
  {
   "cell_type": "code",
   "execution_count": 64,
   "metadata": {},
   "outputs": [
    {
     "data": {
      "text/html": [
       "<div>\n",
       "<style scoped>\n",
       "    .dataframe tbody tr th:only-of-type {\n",
       "        vertical-align: middle;\n",
       "    }\n",
       "\n",
       "    .dataframe tbody tr th {\n",
       "        vertical-align: top;\n",
       "    }\n",
       "\n",
       "    .dataframe thead th {\n",
       "        text-align: right;\n",
       "    }\n",
       "</style>\n",
       "<table border=\"1\" class=\"dataframe\">\n",
       "  <thead>\n",
       "    <tr style=\"text-align: right;\">\n",
       "      <th></th>\n",
       "      <th>frequency</th>\n",
       "      <th>recency</th>\n",
       "      <th>T</th>\n",
       "      <th>monetary_value</th>\n",
       "      <th>predicted_purchases</th>\n",
       "      <th>predicted_value_1</th>\n",
       "      <th>predicted_purchases_1</th>\n",
       "      <th>predicted_purchases_365</th>\n",
       "    </tr>\n",
       "    <tr>\n",
       "      <th>customer</th>\n",
       "      <th></th>\n",
       "      <th></th>\n",
       "      <th></th>\n",
       "      <th></th>\n",
       "      <th></th>\n",
       "      <th></th>\n",
       "      <th></th>\n",
       "      <th></th>\n",
       "    </tr>\n",
       "  </thead>\n",
       "  <tbody>\n",
       "    <tr>\n",
       "      <th>C1882101149</th>\n",
       "      <td>176.0</td>\n",
       "      <td>179.0</td>\n",
       "      <td>179.0</td>\n",
       "      <td>33.980057</td>\n",
       "      <td>356.978488</td>\n",
       "      <td>33.257797</td>\n",
       "      <td>0.978745</td>\n",
       "      <td>356.978488</td>\n",
       "    </tr>\n",
       "    <tr>\n",
       "      <th>C1999699557</th>\n",
       "      <td>176.0</td>\n",
       "      <td>179.0</td>\n",
       "      <td>179.0</td>\n",
       "      <td>34.455170</td>\n",
       "      <td>356.978488</td>\n",
       "      <td>33.722811</td>\n",
       "      <td>0.978745</td>\n",
       "      <td>356.978488</td>\n",
       "    </tr>\n",
       "    <tr>\n",
       "      <th>C1155962240</th>\n",
       "      <td>176.0</td>\n",
       "      <td>179.0</td>\n",
       "      <td>179.0</td>\n",
       "      <td>34.845852</td>\n",
       "      <td>356.978488</td>\n",
       "      <td>34.105189</td>\n",
       "      <td>0.978745</td>\n",
       "      <td>356.978488</td>\n",
       "    </tr>\n",
       "    <tr>\n",
       "      <th>C333484923</th>\n",
       "      <td>176.0</td>\n",
       "      <td>179.0</td>\n",
       "      <td>179.0</td>\n",
       "      <td>32.946818</td>\n",
       "      <td>356.978488</td>\n",
       "      <td>32.246520</td>\n",
       "      <td>0.978745</td>\n",
       "      <td>356.978488</td>\n",
       "    </tr>\n",
       "    <tr>\n",
       "      <th>C222098023</th>\n",
       "      <td>176.0</td>\n",
       "      <td>179.0</td>\n",
       "      <td>179.0</td>\n",
       "      <td>31.382443</td>\n",
       "      <td>356.978488</td>\n",
       "      <td>30.715396</td>\n",
       "      <td>0.978745</td>\n",
       "      <td>356.978488</td>\n",
       "    </tr>\n",
       "  </tbody>\n",
       "</table>\n",
       "</div>"
      ],
      "text/plain": [
       "             frequency  recency      T  monetary_value  predicted_purchases  \\\n",
       "customer                                                                      \n",
       "C1882101149      176.0    179.0  179.0       33.980057           356.978488   \n",
       "C1999699557      176.0    179.0  179.0       34.455170           356.978488   \n",
       "C1155962240      176.0    179.0  179.0       34.845852           356.978488   \n",
       "C333484923       176.0    179.0  179.0       32.946818           356.978488   \n",
       "C222098023       176.0    179.0  179.0       31.382443           356.978488   \n",
       "\n",
       "             predicted_value_1  predicted_purchases_1  predicted_purchases_365  \n",
       "customer                                                                        \n",
       "C1882101149          33.257797               0.978745               356.978488  \n",
       "C1999699557          33.722811               0.978745               356.978488  \n",
       "C1155962240          34.105189               0.978745               356.978488  \n",
       "C333484923           32.246520               0.978745               356.978488  \n",
       "C222098023           30.715396               0.978745               356.978488  "
      ]
     },
     "execution_count": 64,
     "metadata": {},
     "output_type": "execute_result"
    }
   ],
   "source": [
    "t = long_term_periods\n",
    "fn_pred_expected_purchases = bgf.conditional_expected_number_of_purchases_up_to_time\n",
    "ppt_name = f'predicted_purchases_{t}'\n",
    "data[ppt_name] = fn_pred_expected_purchases(t,\n",
    "                                            data['frequency'],\n",
    "                                            data['recency'],\n",
    "                                            data['T'])\n",
    "data.sort_values(by=ppt_name).tail(5)"
   ]
  },
  {
   "cell_type": "code",
   "execution_count": 65,
   "metadata": {},
   "outputs": [],
   "source": [
    "pvt_name = f'predicted_value_{t}'\n",
    "data[pvt_name] = (data['predicted_purchases']\n",
    "                  * data['monetary_value'])"
   ]
  },
  {
   "cell_type": "code",
   "execution_count": 66,
   "metadata": {},
   "outputs": [
    {
     "data": {
      "text/html": [
       "<div>\n",
       "<style scoped>\n",
       "    .dataframe tbody tr th:only-of-type {\n",
       "        vertical-align: middle;\n",
       "    }\n",
       "\n",
       "    .dataframe tbody tr th {\n",
       "        vertical-align: top;\n",
       "    }\n",
       "\n",
       "    .dataframe thead th {\n",
       "        text-align: right;\n",
       "    }\n",
       "</style>\n",
       "<table border=\"1\" class=\"dataframe\">\n",
       "  <thead>\n",
       "    <tr style=\"text-align: right;\">\n",
       "      <th></th>\n",
       "      <th>frequency</th>\n",
       "      <th>recency</th>\n",
       "      <th>T</th>\n",
       "      <th>monetary_value</th>\n",
       "      <th>predicted_purchases</th>\n",
       "      <th>predicted_value_1</th>\n",
       "      <th>predicted_purchases_1</th>\n",
       "      <th>predicted_purchases_365</th>\n",
       "      <th>predicted_value_365</th>\n",
       "    </tr>\n",
       "    <tr>\n",
       "      <th>customer</th>\n",
       "      <th></th>\n",
       "      <th></th>\n",
       "      <th></th>\n",
       "      <th></th>\n",
       "      <th></th>\n",
       "      <th></th>\n",
       "      <th></th>\n",
       "      <th></th>\n",
       "      <th></th>\n",
       "    </tr>\n",
       "  </thead>\n",
       "  <tbody>\n",
       "    <tr>\n",
       "      <th>C806399525</th>\n",
       "      <td>134.0</td>\n",
       "      <td>148.0</td>\n",
       "      <td>148.0</td>\n",
       "      <td>624.571418</td>\n",
       "      <td>3.290122e+02</td>\n",
       "      <td>5.634637e+02</td>\n",
       "      <td>9.021605e-01</td>\n",
       "      <td>3.290122e+02</td>\n",
       "      <td>205491.615515</td>\n",
       "    </tr>\n",
       "    <tr>\n",
       "      <th>C2004941826</th>\n",
       "      <td>89.0</td>\n",
       "      <td>165.0</td>\n",
       "      <td>168.0</td>\n",
       "      <td>724.821910</td>\n",
       "      <td>1.955262e+02</td>\n",
       "      <td>3.885818e+02</td>\n",
       "      <td>5.361066e-01</td>\n",
       "      <td>1.955262e+02</td>\n",
       "      <td>141721.702295</td>\n",
       "    </tr>\n",
       "    <tr>\n",
       "      <th>C1849046345</th>\n",
       "      <td>107.0</td>\n",
       "      <td>167.0</td>\n",
       "      <td>167.0</td>\n",
       "      <td>563.231402</td>\n",
       "      <td>2.350164e+02</td>\n",
       "      <td>3.629367e+02</td>\n",
       "      <td>6.443829e-01</td>\n",
       "      <td>2.350164e+02</td>\n",
       "      <td>132368.632705</td>\n",
       "    </tr>\n",
       "    <tr>\n",
       "      <th>C1350963410</th>\n",
       "      <td>118.0</td>\n",
       "      <td>167.0</td>\n",
       "      <td>167.0</td>\n",
       "      <td>474.251949</td>\n",
       "      <td>2.584457e+02</td>\n",
       "      <td>3.360651e+02</td>\n",
       "      <td>7.086214e-01</td>\n",
       "      <td>2.584457e+02</td>\n",
       "      <td>122568.355520</td>\n",
       "    </tr>\n",
       "    <tr>\n",
       "      <th>C1572610482</th>\n",
       "      <td>70.0</td>\n",
       "      <td>171.0</td>\n",
       "      <td>177.0</td>\n",
       "      <td>829.179143</td>\n",
       "      <td>1.475684e+02</td>\n",
       "      <td>3.354894e+02</td>\n",
       "      <td>4.046043e-01</td>\n",
       "      <td>1.475684e+02</td>\n",
       "      <td>122360.654106</td>\n",
       "    </tr>\n",
       "    <tr>\n",
       "      <th>...</th>\n",
       "      <td>...</td>\n",
       "      <td>...</td>\n",
       "      <td>...</td>\n",
       "      <td>...</td>\n",
       "      <td>...</td>\n",
       "      <td>...</td>\n",
       "      <td>...</td>\n",
       "      <td>...</td>\n",
       "      <td>...</td>\n",
       "    </tr>\n",
       "    <tr>\n",
       "      <th>C1816212551</th>\n",
       "      <td>127.0</td>\n",
       "      <td>143.0</td>\n",
       "      <td>179.0</td>\n",
       "      <td>39.156929</td>\n",
       "      <td>1.205304e-05</td>\n",
       "      <td>1.294001e-06</td>\n",
       "      <td>3.304653e-08</td>\n",
       "      <td>1.205304e-05</td>\n",
       "      <td>0.000472</td>\n",
       "    </tr>\n",
       "    <tr>\n",
       "      <th>C1945950459</th>\n",
       "      <td>97.0</td>\n",
       "      <td>116.0</td>\n",
       "      <td>155.0</td>\n",
       "      <td>36.575876</td>\n",
       "      <td>1.123059e-05</td>\n",
       "      <td>1.126318e-06</td>\n",
       "      <td>3.079402e-08</td>\n",
       "      <td>1.123059e-05</td>\n",
       "      <td>0.000411</td>\n",
       "    </tr>\n",
       "    <tr>\n",
       "      <th>C537330939</th>\n",
       "      <td>56.0</td>\n",
       "      <td>112.0</td>\n",
       "      <td>179.0</td>\n",
       "      <td>25.314286</td>\n",
       "      <td>1.078779e-05</td>\n",
       "      <td>7.487482e-07</td>\n",
       "      <td>2.957809e-08</td>\n",
       "      <td>1.078779e-05</td>\n",
       "      <td>0.000273</td>\n",
       "    </tr>\n",
       "    <tr>\n",
       "      <th>C895429374</th>\n",
       "      <td>135.0</td>\n",
       "      <td>144.0</td>\n",
       "      <td>179.0</td>\n",
       "      <td>30.824000</td>\n",
       "      <td>6.030172e-06</td>\n",
       "      <td>5.096212e-07</td>\n",
       "      <td>1.653326e-08</td>\n",
       "      <td>6.030172e-06</td>\n",
       "      <td>0.000186</td>\n",
       "    </tr>\n",
       "    <tr>\n",
       "      <th>C480118707</th>\n",
       "      <td>132.0</td>\n",
       "      <td>141.0</td>\n",
       "      <td>179.0</td>\n",
       "      <td>28.305606</td>\n",
       "      <td>6.845568e-07</td>\n",
       "      <td>5.312646e-08</td>\n",
       "      <td>1.876888e-09</td>\n",
       "      <td>6.845568e-07</td>\n",
       "      <td>0.000019</td>\n",
       "    </tr>\n",
       "  </tbody>\n",
       "</table>\n",
       "<p>4112 rows × 9 columns</p>\n",
       "</div>"
      ],
      "text/plain": [
       "             frequency  recency      T  monetary_value  predicted_purchases  \\\n",
       "customer                                                                      \n",
       "C806399525       134.0    148.0  148.0      624.571418         3.290122e+02   \n",
       "C2004941826       89.0    165.0  168.0      724.821910         1.955262e+02   \n",
       "C1849046345      107.0    167.0  167.0      563.231402         2.350164e+02   \n",
       "C1350963410      118.0    167.0  167.0      474.251949         2.584457e+02   \n",
       "C1572610482       70.0    171.0  177.0      829.179143         1.475684e+02   \n",
       "...                ...      ...    ...             ...                  ...   \n",
       "C1816212551      127.0    143.0  179.0       39.156929         1.205304e-05   \n",
       "C1945950459       97.0    116.0  155.0       36.575876         1.123059e-05   \n",
       "C537330939        56.0    112.0  179.0       25.314286         1.078779e-05   \n",
       "C895429374       135.0    144.0  179.0       30.824000         6.030172e-06   \n",
       "C480118707       132.0    141.0  179.0       28.305606         6.845568e-07   \n",
       "\n",
       "             predicted_value_1  predicted_purchases_1  \\\n",
       "customer                                                \n",
       "C806399525        5.634637e+02           9.021605e-01   \n",
       "C2004941826       3.885818e+02           5.361066e-01   \n",
       "C1849046345       3.629367e+02           6.443829e-01   \n",
       "C1350963410       3.360651e+02           7.086214e-01   \n",
       "C1572610482       3.354894e+02           4.046043e-01   \n",
       "...                        ...                    ...   \n",
       "C1816212551       1.294001e-06           3.304653e-08   \n",
       "C1945950459       1.126318e-06           3.079402e-08   \n",
       "C537330939        7.487482e-07           2.957809e-08   \n",
       "C895429374        5.096212e-07           1.653326e-08   \n",
       "C480118707        5.312646e-08           1.876888e-09   \n",
       "\n",
       "             predicted_purchases_365  predicted_value_365  \n",
       "customer                                                   \n",
       "C806399525              3.290122e+02        205491.615515  \n",
       "C2004941826             1.955262e+02        141721.702295  \n",
       "C1849046345             2.350164e+02        132368.632705  \n",
       "C1350963410             2.584457e+02        122568.355520  \n",
       "C1572610482             1.475684e+02        122360.654106  \n",
       "...                              ...                  ...  \n",
       "C1816212551             1.205304e-05             0.000472  \n",
       "C1945950459             1.123059e-05             0.000411  \n",
       "C537330939              1.078779e-05             0.000273  \n",
       "C895429374              6.030172e-06             0.000186  \n",
       "C480118707              6.845568e-07             0.000019  \n",
       "\n",
       "[4112 rows x 9 columns]"
      ]
     },
     "execution_count": 66,
     "metadata": {},
     "output_type": "execute_result"
    }
   ],
   "source": [
    "data.sort_values([pvt_name], ascending=False)"
   ]
  },
  {
   "cell_type": "markdown",
   "metadata": {},
   "source": [
    "# Assessing model fit"
   ]
  },
  {
   "cell_type": "markdown",
   "metadata": {},
   "source": [
    "## Period transactions"
   ]
  },
  {
   "cell_type": "code",
   "execution_count": 68,
   "metadata": {},
   "outputs": [],
   "source": [
    "from lifetimes.plotting import plot_period_transactions"
   ]
  },
  {
   "cell_type": "code",
   "execution_count": 93,
   "metadata": {},
   "outputs": [
    {
     "data": {
      "text/plain": [
       "<matplotlib.axes._subplots.AxesSubplot at 0x7f9613d43a30>"
      ]
     },
     "execution_count": 93,
     "metadata": {},
     "output_type": "execute_result"
    },
    {
     "data": {
      "image/png": "[encoded data removed]",
      "text/plain": [
       "<Figure size 864x432 with 1 Axes>"
      ]
     },
     "metadata": {
      "needs_background": "light"
     },
     "output_type": "display_data"
    }
   ],
   "source": [
    "plot_period_transactions(bgf, max_frequency=30, figsize=(12,6))"
   ]
  },
  {
   "cell_type": "markdown",
   "metadata": {},
   "source": [
    "## Calibrate and hold out data"
   ]
  },
  {
   "cell_type": "code",
   "execution_count": 97,
   "metadata": {},
   "outputs": [],
   "source": [
    "from lifetimes.utils import calibration_and_holdout_data"
   ]
  },
  {
   "cell_type": "code",
   "execution_count": 227,
   "metadata": {},
   "outputs": [],
   "source": [
    "summary_cal_holdout = calibration_and_holdout_data(\n",
    "    raw_df, 'customer', 'pseudo_date',\n",
    "    monetary_value_col='amount',\n",
    "    calibration_period_end='2020-05-29',\n",
    "    observation_period_end='2020-06-28' )"
   ]
  },
  {
   "cell_type": "code",
   "execution_count": 228,
   "metadata": {},
   "outputs": [
    {
     "data": {
      "text/html": [
       "<div>\n",
       "<style scoped>\n",
       "    .dataframe tbody tr th:only-of-type {\n",
       "        vertical-align: middle;\n",
       "    }\n",
       "\n",
       "    .dataframe tbody tr th {\n",
       "        vertical-align: top;\n",
       "    }\n",
       "\n",
       "    .dataframe thead th {\n",
       "        text-align: right;\n",
       "    }\n",
       "</style>\n",
       "<table border=\"1\" class=\"dataframe\">\n",
       "  <thead>\n",
       "    <tr style=\"text-align: right;\">\n",
       "      <th></th>\n",
       "      <th>frequency_cal</th>\n",
       "      <th>recency_cal</th>\n",
       "      <th>T_cal</th>\n",
       "      <th>monetary_value_cal</th>\n",
       "      <th>frequency_holdout</th>\n",
       "      <th>monetary_value_holdout</th>\n",
       "      <th>duration_holdout</th>\n",
       "    </tr>\n",
       "    <tr>\n",
       "      <th>customer</th>\n",
       "      <th></th>\n",
       "      <th></th>\n",
       "      <th></th>\n",
       "      <th></th>\n",
       "      <th></th>\n",
       "      <th></th>\n",
       "      <th></th>\n",
       "    </tr>\n",
       "  </thead>\n",
       "  <tbody>\n",
       "    <tr>\n",
       "      <th>C1000148617</th>\n",
       "      <td>101.0</td>\n",
       "      <td>117.0</td>\n",
       "      <td>119.0</td>\n",
       "      <td>32.093069</td>\n",
       "      <td>26.0</td>\n",
       "      <td>43.277500</td>\n",
       "      <td>30.0</td>\n",
       "    </tr>\n",
       "    <tr>\n",
       "      <th>C100045114</th>\n",
       "      <td>61.0</td>\n",
       "      <td>149.0</td>\n",
       "      <td>149.0</td>\n",
       "      <td>143.750328</td>\n",
       "      <td>29.0</td>\n",
       "      <td>31.598485</td>\n",
       "      <td>30.0</td>\n",
       "    </tr>\n",
       "    <tr>\n",
       "      <th>C1000699316</th>\n",
       "      <td>90.0</td>\n",
       "      <td>141.0</td>\n",
       "      <td>149.0</td>\n",
       "      <td>35.648000</td>\n",
       "      <td>2.0</td>\n",
       "      <td>116.660000</td>\n",
       "      <td>30.0</td>\n",
       "    </tr>\n",
       "    <tr>\n",
       "      <th>C1001065306</th>\n",
       "      <td>18.0</td>\n",
       "      <td>123.0</td>\n",
       "      <td>128.0</td>\n",
       "      <td>311.356111</td>\n",
       "      <td>2.0</td>\n",
       "      <td>250.565000</td>\n",
       "      <td>30.0</td>\n",
       "    </tr>\n",
       "    <tr>\n",
       "      <th>C1002658784</th>\n",
       "      <td>100.0</td>\n",
       "      <td>127.0</td>\n",
       "      <td>127.0</td>\n",
       "      <td>32.962100</td>\n",
       "      <td>27.0</td>\n",
       "      <td>36.802593</td>\n",
       "      <td>30.0</td>\n",
       "    </tr>\n",
       "    <tr>\n",
       "      <th>...</th>\n",
       "      <td>...</td>\n",
       "      <td>...</td>\n",
       "      <td>...</td>\n",
       "      <td>...</td>\n",
       "      <td>...</td>\n",
       "      <td>...</td>\n",
       "      <td>...</td>\n",
       "    </tr>\n",
       "    <tr>\n",
       "      <th>C99729647</th>\n",
       "      <td>140.0</td>\n",
       "      <td>149.0</td>\n",
       "      <td>149.0</td>\n",
       "      <td>29.624929</td>\n",
       "      <td>28.0</td>\n",
       "      <td>50.685667</td>\n",
       "      <td>30.0</td>\n",
       "    </tr>\n",
       "    <tr>\n",
       "      <th>C998690782</th>\n",
       "      <td>139.0</td>\n",
       "      <td>149.0</td>\n",
       "      <td>149.0</td>\n",
       "      <td>69.194101</td>\n",
       "      <td>28.0</td>\n",
       "      <td>26.744333</td>\n",
       "      <td>30.0</td>\n",
       "    </tr>\n",
       "    <tr>\n",
       "      <th>C998987490</th>\n",
       "      <td>142.0</td>\n",
       "      <td>149.0</td>\n",
       "      <td>149.0</td>\n",
       "      <td>28.083451</td>\n",
       "      <td>27.0</td>\n",
       "      <td>54.573871</td>\n",
       "      <td>30.0</td>\n",
       "    </tr>\n",
       "    <tr>\n",
       "      <th>C999393223</th>\n",
       "      <td>102.0</td>\n",
       "      <td>143.0</td>\n",
       "      <td>143.0</td>\n",
       "      <td>38.771569</td>\n",
       "      <td>27.0</td>\n",
       "      <td>41.043571</td>\n",
       "      <td>30.0</td>\n",
       "    </tr>\n",
       "    <tr>\n",
       "      <th>C999723254</th>\n",
       "      <td>90.0</td>\n",
       "      <td>138.0</td>\n",
       "      <td>138.0</td>\n",
       "      <td>32.530667</td>\n",
       "      <td>28.0</td>\n",
       "      <td>21.973571</td>\n",
       "      <td>30.0</td>\n",
       "    </tr>\n",
       "  </tbody>\n",
       "</table>\n",
       "<p>4112 rows × 7 columns</p>\n",
       "</div>"
      ],
      "text/plain": [
       "             frequency_cal  recency_cal  T_cal  monetary_value_cal  \\\n",
       "customer                                                             \n",
       "C1000148617          101.0        117.0  119.0           32.093069   \n",
       "C100045114            61.0        149.0  149.0          143.750328   \n",
       "C1000699316           90.0        141.0  149.0           35.648000   \n",
       "C1001065306           18.0        123.0  128.0          311.356111   \n",
       "C1002658784          100.0        127.0  127.0           32.962100   \n",
       "...                    ...          ...    ...                 ...   \n",
       "C99729647            140.0        149.0  149.0           29.624929   \n",
       "C998690782           139.0        149.0  149.0           69.194101   \n",
       "C998987490           142.0        149.0  149.0           28.083451   \n",
       "C999393223           102.0        143.0  143.0           38.771569   \n",
       "C999723254            90.0        138.0  138.0           32.530667   \n",
       "\n",
       "             frequency_holdout  monetary_value_holdout  duration_holdout  \n",
       "customer                                                                  \n",
       "C1000148617               26.0               43.277500              30.0  \n",
       "C100045114                29.0               31.598485              30.0  \n",
       "C1000699316                2.0              116.660000              30.0  \n",
       "C1001065306                2.0              250.565000              30.0  \n",
       "C1002658784               27.0               36.802593              30.0  \n",
       "...                        ...                     ...               ...  \n",
       "C99729647                 28.0               50.685667              30.0  \n",
       "C998690782                28.0               26.744333              30.0  \n",
       "C998987490                27.0               54.573871              30.0  \n",
       "C999393223                27.0               41.043571              30.0  \n",
       "C999723254                28.0               21.973571              30.0  \n",
       "\n",
       "[4112 rows x 7 columns]"
      ]
     },
     "execution_count": 228,
     "metadata": {},
     "output_type": "execute_result"
    }
   ],
   "source": [
    "summary_cal_holdout"
   ]
  },
  {
   "cell_type": "code",
   "execution_count": 99,
   "metadata": {},
   "outputs": [],
   "source": [
    "from lifetimes.plotting import plot_calibration_purchases_vs_holdout_purchases"
   ]
  },
  {
   "cell_type": "code",
   "execution_count": 229,
   "metadata": {
    "scrolled": true
   },
   "outputs": [
    {
     "data": {
      "text/plain": [
       "<matplotlib.axes._subplots.AxesSubplot at 0x7f961e46fe80>"
      ]
     },
     "execution_count": 229,
     "metadata": {},
     "output_type": "execute_result"
    },
    {
     "data": {
      "image/png": "[encoded data removed]",
      "text/plain": [
       "<Figure size 432x288 with 1 Axes>"
      ]
     },
     "metadata": {
      "needs_background": "light"
     },
     "output_type": "display_data"
    }
   ],
   "source": [
    "bgf.fit(summary_cal_holdout['frequency_cal'],\n",
    "        summary_cal_holdout['recency_cal'],\n",
    "        summary_cal_holdout['T_cal'])\n",
    "plot_calibration_purchases_vs_holdout_purchases(bgf,\n",
    "                                                summary_cal_holdout)"
   ]
  },
  {
   "cell_type": "markdown",
   "metadata": {},
   "source": [
    "# Compare to baseline"
   ]
  },
  {
   "cell_type": "code",
   "execution_count": 230,
   "metadata": {},
   "outputs": [],
   "source": [
    "long_term_periods = 30"
   ]
  },
  {
   "cell_type": "code",
   "execution_count": 231,
   "metadata": {},
   "outputs": [
    {
     "data": {
      "text/html": [
       "<div>\n",
       "<style scoped>\n",
       "    .dataframe tbody tr th:only-of-type {\n",
       "        vertical-align: middle;\n",
       "    }\n",
       "\n",
       "    .dataframe tbody tr th {\n",
       "        vertical-align: top;\n",
       "    }\n",
       "\n",
       "    .dataframe thead th {\n",
       "        text-align: right;\n",
       "    }\n",
       "</style>\n",
       "<table border=\"1\" class=\"dataframe\">\n",
       "  <thead>\n",
       "    <tr style=\"text-align: right;\">\n",
       "      <th></th>\n",
       "      <th>frequency_cal</th>\n",
       "      <th>recency_cal</th>\n",
       "      <th>T_cal</th>\n",
       "      <th>monetary_value_cal</th>\n",
       "      <th>frequency_holdout</th>\n",
       "      <th>monetary_value_holdout</th>\n",
       "      <th>duration_holdout</th>\n",
       "      <th>predicted_purchases_30</th>\n",
       "    </tr>\n",
       "    <tr>\n",
       "      <th>customer</th>\n",
       "      <th></th>\n",
       "      <th></th>\n",
       "      <th></th>\n",
       "      <th></th>\n",
       "      <th></th>\n",
       "      <th></th>\n",
       "      <th></th>\n",
       "      <th></th>\n",
       "    </tr>\n",
       "  </thead>\n",
       "  <tbody>\n",
       "    <tr>\n",
       "      <th>C369046885</th>\n",
       "      <td>146.0</td>\n",
       "      <td>149.0</td>\n",
       "      <td>149.0</td>\n",
       "      <td>32.659452</td>\n",
       "      <td>29.0</td>\n",
       "      <td>31.046364</td>\n",
       "      <td>30.0</td>\n",
       "      <td>29.235200</td>\n",
       "    </tr>\n",
       "    <tr>\n",
       "      <th>C1155962240</th>\n",
       "      <td>147.0</td>\n",
       "      <td>149.0</td>\n",
       "      <td>149.0</td>\n",
       "      <td>32.920136</td>\n",
       "      <td>29.0</td>\n",
       "      <td>43.120333</td>\n",
       "      <td>30.0</td>\n",
       "      <td>29.431421</td>\n",
       "    </tr>\n",
       "    <tr>\n",
       "      <th>C1698085181</th>\n",
       "      <td>147.0</td>\n",
       "      <td>149.0</td>\n",
       "      <td>149.0</td>\n",
       "      <td>31.735918</td>\n",
       "      <td>27.0</td>\n",
       "      <td>31.842857</td>\n",
       "      <td>30.0</td>\n",
       "      <td>29.431421</td>\n",
       "    </tr>\n",
       "    <tr>\n",
       "      <th>C220904895</th>\n",
       "      <td>147.0</td>\n",
       "      <td>149.0</td>\n",
       "      <td>149.0</td>\n",
       "      <td>32.800544</td>\n",
       "      <td>26.0</td>\n",
       "      <td>22.560385</td>\n",
       "      <td>30.0</td>\n",
       "      <td>29.431421</td>\n",
       "    </tr>\n",
       "    <tr>\n",
       "      <th>C333484923</th>\n",
       "      <td>148.0</td>\n",
       "      <td>149.0</td>\n",
       "      <td>149.0</td>\n",
       "      <td>31.455676</td>\n",
       "      <td>28.0</td>\n",
       "      <td>39.420690</td>\n",
       "      <td>30.0</td>\n",
       "      <td>29.627642</td>\n",
       "    </tr>\n",
       "  </tbody>\n",
       "</table>\n",
       "</div>"
      ],
      "text/plain": [
       "             frequency_cal  recency_cal  T_cal  monetary_value_cal  \\\n",
       "customer                                                             \n",
       "C369046885           146.0        149.0  149.0           32.659452   \n",
       "C1155962240          147.0        149.0  149.0           32.920136   \n",
       "C1698085181          147.0        149.0  149.0           31.735918   \n",
       "C220904895           147.0        149.0  149.0           32.800544   \n",
       "C333484923           148.0        149.0  149.0           31.455676   \n",
       "\n",
       "             frequency_holdout  monetary_value_holdout  duration_holdout  \\\n",
       "customer                                                                   \n",
       "C369046885                29.0               31.046364              30.0   \n",
       "C1155962240               29.0               43.120333              30.0   \n",
       "C1698085181               27.0               31.842857              30.0   \n",
       "C220904895                26.0               22.560385              30.0   \n",
       "C333484923                28.0               39.420690              30.0   \n",
       "\n",
       "             predicted_purchases_30  \n",
       "customer                             \n",
       "C369046885                29.235200  \n",
       "C1155962240               29.431421  \n",
       "C1698085181               29.431421  \n",
       "C220904895                29.431421  \n",
       "C333484923                29.627642  "
      ]
     },
     "execution_count": 231,
     "metadata": {},
     "output_type": "execute_result"
    }
   ],
   "source": [
    "t = long_term_periods\n",
    "fn_pred_expected_purchases = bgf.conditional_expected_number_of_purchases_up_to_time\n",
    "ppt_name = f'predicted_purchases_{t}'\n",
    "summary_cal_holdout[ppt_name] = fn_pred_expected_purchases(\n",
    "    t,\n",
    "    summary_cal_holdout['frequency_cal'],\n",
    "    summary_cal_holdout['recency_cal'],\n",
    "    summary_cal_holdout['T_cal'])\n",
    "summary_cal_holdout.sort_values(by=ppt_name).tail(5)"
   ]
  },
  {
   "cell_type": "code",
   "execution_count": 232,
   "metadata": {},
   "outputs": [],
   "source": [
    "pvt_name = f'predicted_value_{t}'\n",
    "summary_cal_holdout[pvt_name] = (summary_cal_holdout[ppt_name]\n",
    "                                 * summary_cal_holdout['monetary_value_cal'])"
   ]
  },
  {
   "cell_type": "code",
   "execution_count": 233,
   "metadata": {},
   "outputs": [
    {
     "data": {
      "text/html": [
       "<div>\n",
       "<style scoped>\n",
       "    .dataframe tbody tr th:only-of-type {\n",
       "        vertical-align: middle;\n",
       "    }\n",
       "\n",
       "    .dataframe tbody tr th {\n",
       "        vertical-align: top;\n",
       "    }\n",
       "\n",
       "    .dataframe thead th {\n",
       "        text-align: right;\n",
       "    }\n",
       "</style>\n",
       "<table border=\"1\" class=\"dataframe\">\n",
       "  <thead>\n",
       "    <tr style=\"text-align: right;\">\n",
       "      <th></th>\n",
       "      <th>frequency_cal</th>\n",
       "      <th>recency_cal</th>\n",
       "      <th>T_cal</th>\n",
       "      <th>monetary_value_cal</th>\n",
       "      <th>frequency_holdout</th>\n",
       "      <th>monetary_value_holdout</th>\n",
       "      <th>duration_holdout</th>\n",
       "      <th>predicted_purchases_30</th>\n",
       "      <th>predicted_value_30</th>\n",
       "    </tr>\n",
       "    <tr>\n",
       "      <th>customer</th>\n",
       "      <th></th>\n",
       "      <th></th>\n",
       "      <th></th>\n",
       "      <th></th>\n",
       "      <th></th>\n",
       "      <th></th>\n",
       "      <th></th>\n",
       "      <th></th>\n",
       "      <th></th>\n",
       "    </tr>\n",
       "  </thead>\n",
       "  <tbody>\n",
       "    <tr>\n",
       "      <th>C806399525</th>\n",
       "      <td>106.0</td>\n",
       "      <td>118.0</td>\n",
       "      <td>118.0</td>\n",
       "      <td>746.732358</td>\n",
       "      <td>28.0</td>\n",
       "      <td>108.070000</td>\n",
       "      <td>30.0</td>\n",
       "      <td>2.682559e+01</td>\n",
       "      <td>2.003154e+04</td>\n",
       "    </tr>\n",
       "    <tr>\n",
       "      <th>C1849046345</th>\n",
       "      <td>81.0</td>\n",
       "      <td>137.0</td>\n",
       "      <td>137.0</td>\n",
       "      <td>710.681852</td>\n",
       "      <td>26.0</td>\n",
       "      <td>84.391563</td>\n",
       "      <td>30.0</td>\n",
       "      <td>1.788457e+01</td>\n",
       "      <td>1.271024e+04</td>\n",
       "    </tr>\n",
       "    <tr>\n",
       "      <th>C1572610482</th>\n",
       "      <td>66.0</td>\n",
       "      <td>147.0</td>\n",
       "      <td>147.0</td>\n",
       "      <td>872.977879</td>\n",
       "      <td>4.0</td>\n",
       "      <td>106.500000</td>\n",
       "      <td>30.0</td>\n",
       "      <td>1.371696e+01</td>\n",
       "      <td>1.197460e+04</td>\n",
       "    </tr>\n",
       "    <tr>\n",
       "      <th>C2004941826</th>\n",
       "      <td>74.0</td>\n",
       "      <td>138.0</td>\n",
       "      <td>138.0</td>\n",
       "      <td>728.775270</td>\n",
       "      <td>15.0</td>\n",
       "      <td>480.899091</td>\n",
       "      <td>30.0</td>\n",
       "      <td>1.627850e+01</td>\n",
       "      <td>1.186336e+04</td>\n",
       "    </tr>\n",
       "    <tr>\n",
       "      <th>C1350963410</th>\n",
       "      <td>90.0</td>\n",
       "      <td>137.0</td>\n",
       "      <td>137.0</td>\n",
       "      <td>563.016222</td>\n",
       "      <td>28.0</td>\n",
       "      <td>110.213958</td>\n",
       "      <td>30.0</td>\n",
       "      <td>1.980098e+01</td>\n",
       "      <td>1.114827e+04</td>\n",
       "    </tr>\n",
       "    <tr>\n",
       "      <th>...</th>\n",
       "      <td>...</td>\n",
       "      <td>...</td>\n",
       "      <td>...</td>\n",
       "      <td>...</td>\n",
       "      <td>...</td>\n",
       "      <td>...</td>\n",
       "      <td>...</td>\n",
       "      <td>...</td>\n",
       "      <td>...</td>\n",
       "    </tr>\n",
       "    <tr>\n",
       "      <th>C1607207670</th>\n",
       "      <td>86.0</td>\n",
       "      <td>106.0</td>\n",
       "      <td>149.0</td>\n",
       "      <td>36.902907</td>\n",
       "      <td>13.0</td>\n",
       "      <td>41.823571</td>\n",
       "      <td>30.0</td>\n",
       "      <td>1.832931e-07</td>\n",
       "      <td>6.764049e-06</td>\n",
       "    </tr>\n",
       "    <tr>\n",
       "      <th>C1683902488</th>\n",
       "      <td>56.0</td>\n",
       "      <td>88.0</td>\n",
       "      <td>149.0</td>\n",
       "      <td>38.226071</td>\n",
       "      <td>5.0</td>\n",
       "      <td>142.190000</td>\n",
       "      <td>30.0</td>\n",
       "      <td>4.129732e-08</td>\n",
       "      <td>1.578634e-06</td>\n",
       "    </tr>\n",
       "    <tr>\n",
       "      <th>C1058785965</th>\n",
       "      <td>50.0</td>\n",
       "      <td>82.0</td>\n",
       "      <td>149.0</td>\n",
       "      <td>46.876400</td>\n",
       "      <td>3.0</td>\n",
       "      <td>115.852500</td>\n",
       "      <td>30.0</td>\n",
       "      <td>1.959130e-08</td>\n",
       "      <td>9.183695e-07</td>\n",
       "    </tr>\n",
       "    <tr>\n",
       "      <th>C1787239285</th>\n",
       "      <td>57.0</td>\n",
       "      <td>79.0</td>\n",
       "      <td>148.0</td>\n",
       "      <td>36.662105</td>\n",
       "      <td>5.0</td>\n",
       "      <td>236.686667</td>\n",
       "      <td>30.0</td>\n",
       "      <td>7.895592e-11</td>\n",
       "      <td>2.894690e-09</td>\n",
       "    </tr>\n",
       "    <tr>\n",
       "      <th>C469767739</th>\n",
       "      <td>82.0</td>\n",
       "      <td>95.0</td>\n",
       "      <td>149.0</td>\n",
       "      <td>30.004634</td>\n",
       "      <td>7.0</td>\n",
       "      <td>26.971429</td>\n",
       "      <td>30.0</td>\n",
       "      <td>7.983034e-11</td>\n",
       "      <td>2.395280e-09</td>\n",
       "    </tr>\n",
       "  </tbody>\n",
       "</table>\n",
       "<p>4112 rows × 9 columns</p>\n",
       "</div>"
      ],
      "text/plain": [
       "             frequency_cal  recency_cal  T_cal  monetary_value_cal  \\\n",
       "customer                                                             \n",
       "C806399525           106.0        118.0  118.0          746.732358   \n",
       "C1849046345           81.0        137.0  137.0          710.681852   \n",
       "C1572610482           66.0        147.0  147.0          872.977879   \n",
       "C2004941826           74.0        138.0  138.0          728.775270   \n",
       "C1350963410           90.0        137.0  137.0          563.016222   \n",
       "...                    ...          ...    ...                 ...   \n",
       "C1607207670           86.0        106.0  149.0           36.902907   \n",
       "C1683902488           56.0         88.0  149.0           38.226071   \n",
       "C1058785965           50.0         82.0  149.0           46.876400   \n",
       "C1787239285           57.0         79.0  148.0           36.662105   \n",
       "C469767739            82.0         95.0  149.0           30.004634   \n",
       "\n",
       "             frequency_holdout  monetary_value_holdout  duration_holdout  \\\n",
       "customer                                                                   \n",
       "C806399525                28.0              108.070000              30.0   \n",
       "C1849046345               26.0               84.391563              30.0   \n",
       "C1572610482                4.0              106.500000              30.0   \n",
       "C2004941826               15.0              480.899091              30.0   \n",
       "C1350963410               28.0              110.213958              30.0   \n",
       "...                        ...                     ...               ...   \n",
       "C1607207670               13.0               41.823571              30.0   \n",
       "C1683902488                5.0              142.190000              30.0   \n",
       "C1058785965                3.0              115.852500              30.0   \n",
       "C1787239285                5.0              236.686667              30.0   \n",
       "C469767739                 7.0               26.971429              30.0   \n",
       "\n",
       "             predicted_purchases_30  predicted_value_30  \n",
       "customer                                                 \n",
       "C806399525             2.682559e+01        2.003154e+04  \n",
       "C1849046345            1.788457e+01        1.271024e+04  \n",
       "C1572610482            1.371696e+01        1.197460e+04  \n",
       "C2004941826            1.627850e+01        1.186336e+04  \n",
       "C1350963410            1.980098e+01        1.114827e+04  \n",
       "...                             ...                 ...  \n",
       "C1607207670            1.832931e-07        6.764049e-06  \n",
       "C1683902488            4.129732e-08        1.578634e-06  \n",
       "C1058785965            1.959130e-08        9.183695e-07  \n",
       "C1787239285            7.895592e-11        2.894690e-09  \n",
       "C469767739             7.983034e-11        2.395280e-09  \n",
       "\n",
       "[4112 rows x 9 columns]"
      ]
     },
     "execution_count": 233,
     "metadata": {},
     "output_type": "execute_result"
    }
   ],
   "source": [
    "summary_cal_holdout.sort_values([pvt_name], ascending=False)"
   ]
  },
  {
   "cell_type": "code",
   "execution_count": 234,
   "metadata": {},
   "outputs": [],
   "source": [
    "y_pred_bgf = summary_cal_holdout[pvt_name]"
   ]
  },
  {
   "cell_type": "code",
   "execution_count": 264,
   "metadata": {},
   "outputs": [],
   "source": [
    "y_df = y_df.join(y_pred_bgf).rename(columns={'predicted_value_30': 'y_pred_bgf'})"
   ]
  },
  {
   "cell_type": "code",
   "execution_count": 268,
   "metadata": {},
   "outputs": [],
   "source": [
    "mae_bgf = metrics.mean_absolute_error(y_df['y_holdout'],\n",
    "                                      y_df['y_pred_bgf'])"
   ]
  },
  {
   "cell_type": "code",
   "execution_count": 269,
   "metadata": {},
   "outputs": [],
   "source": [
    "delta = 1 - mae_bgf / mae_base"
   ]
  },
  {
   "cell_type": "code",
   "execution_count": 272,
   "metadata": {},
   "outputs": [
    {
     "name": "stdout",
     "output_type": "stream",
     "text": [
      "BGF model outperforms baseline by 8%\n"
     ]
    }
   ],
   "source": [
    "print(f\"BGF model outperforms baseline by {delta:,.0%}\")"
   ]
  },
  {
   "cell_type": "markdown",
   "metadata": {},
   "source": [
    "# Tune"
   ]
  },
  {
   "cell_type": "code",
   "execution_count": 115,
   "metadata": {},
   "outputs": [],
   "source": [
    "from hyperopt import fmin, tpe, hp, anneal, Trials"
   ]
  },
  {
   "cell_type": "code",
   "execution_count": 116,
   "metadata": {},
   "outputs": [],
   "source": [
    "from sklearn import metrics"
   ]
  },
  {
   "cell_type": "code",
   "execution_count": 126,
   "metadata": {},
   "outputs": [],
   "source": [
    "def get_results(summary, model, kind, n):\n",
    "    duration_holdout = summary.iloc[0][\"duration_holdout\"]\n",
    "\n",
    "    summary[\"model_predictions\"] = model.conditional_expected_number_of_purchases_up_to_time(\n",
    "            duration_holdout, summary[\"frequency_cal\"], summary[\"recency_cal\"], summary[\"T_cal\"])\n",
    "\n",
    "    results = (summary.groupby(kind)\n",
    "                      [[\"frequency_holdout\", \"model_predictions\"]]\n",
    "                      .mean().iloc[:n])\n",
    "    return results\n",
    "\n",
    "def tune(params, summary, n, random_state):\n",
    "    params = {'penalizer_coef': float(params['penalizer_coef'])}\n",
    "    kind = 'frequency_cal'\n",
    "    \n",
    "    model = BetaGeoFitter(**params)\n",
    "    model.fit(summary['frequency_cal'],\n",
    "              summary['recency_cal'],\n",
    "              summary['T_cal'])\n",
    "    \n",
    "    results = get_results(summary, model, kind, n)\n",
    "    y_true = results['model_predictions']\n",
    "    y_pred = results['frequency_holdout']\n",
    "    \n",
    "    score = np.sqrt(metrics.mean_squared_error(y_true, y_pred))\n",
    "\n",
    "    return score"
   ]
  },
  {
   "cell_type": "code",
   "execution_count": 131,
   "metadata": {},
   "outputs": [],
   "source": [
    "from functools import partial"
   ]
  },
  {
   "cell_type": "code",
   "execution_count": 169,
   "metadata": {
    "collapsed": true
   },
   "outputs": [
    {
     "name": "stdout",
     "output_type": "stream",
     "text": [
      "      fun: -430.94568428226347                                                                                   \n",
      " hess_inv: array([[ 9.81821988e-01,  1.03351894e+00, -2.13315387e-01,\n",
      "         7.43477554e-02],\n",
      "       [ 1.03351894e+00,  1.70632976e+00, -1.53251658e-01,\n",
      "         1.10293689e-01],\n",
      "       [-2.13315387e-01, -1.53251658e-01,  1.64539009e+02,\n",
      "         6.02513459e+01],\n",
      "       [ 7.43477554e-02,  1.10293689e-01,  6.02513459e+01,\n",
      "         9.46953604e+01]])\n",
      "      jac: array([-1.08561038e-07, -1.02851572e-07, -1.44036746e-08,  4.53243258e-09])\n",
      "  message: 'Desired error not necessarily achieved due to precision loss.'\n",
      "     nfev: 74\n",
      "      nit: 34\n",
      "     njev: 62\n",
      "   status: 2\n",
      "  success: False\n",
      "        x: array([ 0.41239379, -4.34197555, -7.21006653, -1.78457023])\n",
      "  0%|          | 5/9223372036854775807 [00:02<946534124314274:42:08,  2.71trial/s, best loss: 11.790038967385277]"
     ]
    },
    {
     "name": "stderr",
     "output_type": "stream",
     "text": [
      "job exception: \n",
      "The model did not converge. Try adding a larger penalizer to see if that helps convergence.\n",
      "\n",
      "\n"
     ]
    },
    {
     "name": "stdout",
     "output_type": "stream",
     "text": [
      "      fun: -431.0129615726557                                                                                     \n",
      " hess_inv: array([[ 1.05802148e+00,  1.06048710e+00,  3.68679953e-01,\n",
      "        -8.63824040e-02],\n",
      "       [ 1.06048710e+00,  1.58993811e+00,  9.23233676e-01,\n",
      "        -9.66926975e-02],\n",
      "       [ 3.68679953e-01,  9.23233676e-01,  1.52353886e+02,\n",
      "         5.63059182e+01],\n",
      "       [-8.63824040e-02, -9.66926975e-02,  5.63059182e+01,\n",
      "         9.80997243e+01]])\n",
      "      jac: array([ 1.01472815e-07, -1.62422761e-07,  1.39613341e-09,  4.03372065e-09])\n",
      "  message: 'Desired error not necessarily achieved due to precision loss.'\n",
      "     nfev: 82\n",
      "      nit: 33\n",
      "     njev: 70\n",
      "   status: 2\n",
      "  success: False\n",
      "        x: array([ 0.55532839, -4.19907973, -7.09944786, -1.6173834 ])\n",
      "  0%|          | 7/9223372036854775807 [00:03<1226910326143246:13:20,  2.09trial/s, best loss: 11.790038967385277]"
     ]
    },
    {
     "name": "stderr",
     "output_type": "stream",
     "text": [
      "job exception: \n",
      "The model did not converge. Try adding a larger penalizer to see if that helps convergence.\n",
      "\n",
      "\n"
     ]
    },
    {
     "name": "stdout",
     "output_type": "stream",
     "text": [
      "      fun: -431.1576157481337                                                                                     \n",
      " hess_inv: array([[  1.19938899,   1.24831711,   0.93135867,   0.24355573],\n",
      "       [  1.24831711,   1.65910399,   0.76638572,   0.33278391],\n",
      "       [  0.93135867,   0.76638572, 138.54428799,  53.22407693],\n",
      "       [  0.24355573,   0.33278391,  53.22407693, 110.07203271]])\n",
      "      jac: array([ 2.49924263e-07, -3.12182539e-07, -2.04814236e-08, -1.03715872e-09])\n",
      "  message: 'Desired error not necessarily achieved due to precision loss.'\n",
      "     nfev: 87\n",
      "      nit: 35\n",
      "     njev: 75\n",
      "   status: 2\n",
      "  success: False\n",
      "        x: array([ 0.89408355, -3.86044188, -6.83910152, -1.18679355])\n",
      "  0%|          | 22/9223372036854775807 [00:09<931761066131821:05:04,  2.75trial/s, best loss: 11.53015407727109]"
     ]
    },
    {
     "name": "stderr",
     "output_type": "stream",
     "text": [
      "job exception: \n",
      "The model did not converge. Try adding a larger penalizer to see if that helps convergence.\n",
      "\n",
      "\n"
     ]
    },
    {
     "name": "stdout",
     "output_type": "stream",
     "text": [
      "      fun: -431.34989071137466                                                                                    \n",
      " hess_inv: array([[ 1.90398998e+00,  1.89486044e+00,  3.67115695e-01,\n",
      "         1.50808653e-02],\n",
      "       [ 1.89486044e+00,  2.11966182e+00,  2.91266004e-01,\n",
      "        -1.01848006e-01],\n",
      "       [ 3.67115695e-01,  2.91266004e-01,  1.37484309e+02,\n",
      "         5.79927107e+01],\n",
      "       [ 1.50808653e-02, -1.01848006e-01,  5.79927107e+01,\n",
      "         1.60420645e+02]])\n",
      "      jac: array([-4.60274514e-07,  4.35057378e-07, -1.05915746e-08, -3.81942007e-09])\n",
      "  message: 'Desired error not necessarily achieved due to precision loss.'\n",
      "     nfev: 88\n",
      "      nit: 37\n",
      "     njev: 76\n",
      "   status: 2\n",
      "  success: False\n",
      "        x: array([ 1.47739756, -3.27745009, -6.25185012,  0.10205749])\n",
      "  0%|          | 25/9223372036854775807 [00:11<1160306951259035:26:56,  2.21trial/s, best loss: 11.53015407727109]"
     ]
    },
    {
     "name": "stderr",
     "output_type": "stream",
     "text": [
      "job exception: \n",
      "The model did not converge. Try adding a larger penalizer to see if that helps convergence.\n",
      "\n",
      "\n"
     ]
    },
    {
     "name": "stdout",
     "output_type": "stream",
     "text": [
      "      fun: -431.2490281623029                                                                                     \n",
      " hess_inv: array([[ 1.42597502e+00,  1.46062547e+00,  2.64060622e-02,\n",
      "         7.41462026e-02],\n",
      "       [ 1.46062547e+00,  1.79105718e+00,  2.34859368e-01,\n",
      "        -1.13507376e-01],\n",
      "       [ 2.64060622e-02,  2.34859368e-01,  1.44010653e+02,\n",
      "         5.31313531e+01],\n",
      "       [ 7.41462026e-02, -1.13507376e-01,  5.31313531e+01,\n",
      "         1.21239355e+02]])\n",
      "      jac: array([ 1.26468085e-07, -1.56001826e-07, -2.52035994e-09, -1.56027356e-09])\n",
      "  message: 'Desired error not necessarily achieved due to precision loss.'\n",
      "     nfev: 76\n",
      "      nit: 35\n",
      "     njev: 64\n",
      "   status: 2\n",
      "  success: False\n",
      "        x: array([ 1.14241065, -3.61222976, -6.63683523, -0.80549944])\n",
      "  0%|          | 32/9223372036854775807 [00:14<1092753033952782:04:48,  2.34trial/s, best loss: 11.53015407727109]"
     ]
    },
    {
     "name": "stderr",
     "output_type": "stream",
     "text": [
      "job exception: \n",
      "The model did not converge. Try adding a larger penalizer to see if that helps convergence.\n",
      "\n",
      "\n"
     ]
    },
    {
     "name": "stdout",
     "output_type": "stream",
     "text": [
      "      fun: -431.27882147556767                                                                                    \n",
      " hess_inv: array([[ 1.50247399e+00,  1.49141882e+00,  7.09783416e-03,\n",
      "         4.03154426e-01],\n",
      "       [ 1.49141882e+00,  1.75407888e+00, -3.73959710e-01,\n",
      "         5.96712793e-01],\n",
      "       [ 7.09783416e-03, -3.73959710e-01,  1.41496145e+02,\n",
      "         5.53704245e+01],\n",
      "       [ 4.03154426e-01,  5.96712793e-01,  5.53704245e+01,\n",
      "         1.28446128e+02]])\n",
      "      jac: array([-6.42161247e-08,  1.24790223e-07,  2.22210896e-12,  1.14856039e-09])\n",
      "  message: 'Desired error not necessarily achieved due to precision loss.'\n",
      "     nfev: 80\n",
      "      nit: 37\n",
      "     njev: 69\n",
      "   status: 2\n",
      "  success: False\n",
      "        x: array([ 1.23259592, -3.52209338, -6.55571934, -0.63677552])\n",
      "  0%|          | 35/9223372036854775807 [00:16<1183463003569940:37:20,  2.16trial/s, best loss: 11.53015407727109]"
     ]
    },
    {
     "name": "stderr",
     "output_type": "stream",
     "text": [
      "job exception: \n",
      "The model did not converge. Try adding a larger penalizer to see if that helps convergence.\n",
      "\n",
      "\n"
     ]
    },
    {
     "name": "stdout",
     "output_type": "stream",
     "text": [
      "      fun: -431.2712933318509                                                                                     \n",
      " hess_inv: array([[1.45018028e+00, 1.41071195e+00, 4.31690670e-01, 3.14197696e-02],\n",
      "       [1.41071195e+00, 1.62942871e+00, 1.75190694e-01, 1.15964674e-01],\n",
      "       [4.31690670e-01, 1.75190694e-01, 1.45257067e+02, 5.39506794e+01],\n",
      "       [3.14197696e-02, 1.15964674e-01, 5.39506794e+01, 1.28204816e+02]])\n",
      "      jac: array([-1.86341541e-07,  2.65660629e-07, -1.40558292e-08,  1.80839472e-08])\n",
      "  message: 'Desired error not necessarily achieved due to precision loss.'\n",
      "     nfev: 98\n",
      "      nit: 36\n",
      "     njev: 86\n",
      "   status: 2\n",
      "  success: False\n",
      "        x: array([ 1.20925468, -3.54542151, -6.57737791, -0.68286027])\n",
      "  0%|          | 35/9223372036854775807 [00:17<1183463003569940:37:20,  2.16trial/s, best loss: 11.53015407727109]"
     ]
    },
    {
     "name": "stderr",
     "output_type": "stream",
     "text": [
      "job exception: \n",
      "The model did not converge. Try adding a larger penalizer to see if that helps convergence.\n",
      "\n",
      "\n"
     ]
    },
    {
     "name": "stdout",
     "output_type": "stream",
     "text": [
      "      fun: -431.3466912842264                                                                                     \n",
      " hess_inv: array([[  1.66884999,   1.73249813,   1.23436181,  -1.11177147],\n",
      "       [  1.73249813,   1.98310551,   1.02583052,  -1.50904729],\n",
      "       [  1.23436181,   1.02583052, 136.59626687,  59.5104577 ],\n",
      "       [ -1.11177147,  -1.50904729,  59.5104577 , 144.8654025 ]])\n",
      "      jac: array([-5.33674793e-07,  2.41388869e-07,  1.65491974e-09,  8.32794088e-10])\n",
      "  message: 'Desired error not necessarily achieved due to precision loss.'\n",
      "     nfev: 91\n",
      "      nit: 35\n",
      "     njev: 79\n",
      "   status: 2\n",
      "  success: False\n",
      "        x: array([ 1.46525606, -3.28958243, -6.27471435,  0.04030883])\n",
      "  0%|          | 41/9223372036854775807 [00:20<1138824876792442:10:08,  2.25trial/s, best loss: 11.53015407727109]"
     ]
    },
    {
     "name": "stderr",
     "output_type": "stream",
     "text": [
      "job exception: \n",
      "The model did not converge. Try adding a larger penalizer to see if that helps convergence.\n",
      "\n",
      "\n"
     ]
    },
    {
     "name": "stdout",
     "output_type": "stream",
     "text": [
      "      fun: -431.12828666110414                                                                                    \n",
      " hess_inv: array([[1.11128766e+00, 1.16320437e+00, 9.35073967e-01, 8.98406855e-03],\n",
      "       [1.16320437e+00, 1.61693316e+00, 1.11542451e+00, 1.85868223e-01],\n",
      "       [9.35073967e-01, 1.11542451e+00, 1.48482033e+02, 5.70094155e+01],\n",
      "       [8.98406855e-03, 1.85868223e-01, 5.70094155e+01, 1.06716445e+02]])\n",
      "      jac: array([ 2.32796819e-07, -2.09005290e-07, -1.76410535e-08,  4.95863857e-09])\n",
      "  message: 'Desired error not necessarily achieved due to precision loss.'\n",
      "     nfev: 68\n",
      "      nit: 35\n",
      "     njev: 57\n",
      "   status: 2\n",
      "  success: False\n",
      "        x: array([ 0.82106106, -3.93343556, -6.8957681 , -1.28550729])\n",
      "  0%|          | 42/9223372036854775807 [00:20<1577769096824513:59:28,  1.62trial/s, best loss: 11.53015407727109]"
     ]
    },
    {
     "name": "stderr",
     "output_type": "stream",
     "text": [
      "job exception: \n",
      "The model did not converge. Try adding a larger penalizer to see if that helps convergence.\n",
      "\n",
      "\n"
     ]
    },
    {
     "name": "stdout",
     "output_type": "stream",
     "text": [
      "      fun: -431.2697787433565                                                                                     \n",
      " hess_inv: array([[1.45717234e+00, 1.42121873e+00, 4.59673930e-01, 5.78014252e-02],\n",
      "       [1.42121873e+00, 1.64195803e+00, 2.37820657e-01, 1.39686605e-01],\n",
      "       [4.59673930e-01, 2.37820657e-01, 1.45787395e+02, 5.37841171e+01],\n",
      "       [5.78014252e-02, 1.39686605e-01, 5.37841171e+01, 1.28185650e+02]])\n",
      "      jac: array([-1.08828132e-07,  1.64449348e-07, -1.01647732e-08,  1.28372069e-08])\n",
      "  message: 'Desired error not necessarily achieved due to precision loss.'\n",
      "     nfev: 79\n",
      "      nit: 36\n",
      "     njev: 67\n",
      "   status: 2\n",
      "  success: False\n",
      "        x: array([ 1.2046063 , -3.55006734, -6.58162801, -0.69181389])\n",
      "  0%|          | 43/9223372036854775807 [00:21<1791333151714714:44:16,  1.43trial/s, best loss: 11.53015407727109]"
     ]
    },
    {
     "name": "stderr",
     "output_type": "stream",
     "text": [
      "job exception: \n",
      "The model did not converge. Try adding a larger penalizer to see if that helps convergence.\n",
      "\n",
      "\n"
     ]
    },
    {
     "name": "stdout",
     "output_type": "stream",
     "text": [
      "      fun: -430.9358976798421                                                                                     \n",
      " hess_inv: array([[9.94266532e-01, 1.03513428e+00, 4.21234751e-01, 8.08885299e-02],\n",
      "       [1.03513428e+00, 1.69407528e+00, 5.67654117e-01, 8.04847427e-02],\n",
      "       [4.21234751e-01, 5.67654117e-01, 1.74234336e+02, 6.14410273e+01],\n",
      "       [8.08885299e-02, 8.04847427e-02, 6.14410273e+01, 9.43099198e+01]])\n",
      "      jac: array([-8.17222130e-08, -1.54676836e-07, -1.23048378e-08,  1.60211360e-09])\n",
      "  message: 'Desired error not necessarily achieved due to precision loss.'\n",
      "     nfev: 40\n",
      "      nit: 35\n",
      "     njev: 40\n",
      "   status: 2\n",
      "  success: False\n",
      "        x: array([ 0.39220138, -4.36216295, -7.22585845, -1.80777058])\n",
      "  0%|          | 55/9223372036854775807 [00:26<1012048398373105:29:36,  2.53trial/s, best loss: 11.53015407727109]"
     ]
    },
    {
     "name": "stderr",
     "output_type": "stream",
     "text": [
      "job exception: \n",
      "The model did not converge. Try adding a larger penalizer to see if that helps convergence.\n",
      "\n",
      "\n"
     ]
    },
    {
     "name": "stdout",
     "output_type": "stream",
     "text": [
      "      fun: -431.180950986821                                                                                      \n",
      " hess_inv: array([[  1.20878614,   1.24514858,   0.84731302,   0.15477997],\n",
      "       [  1.24514858,   1.63765454,   1.06731167,   0.26909854],\n",
      "       [  0.84731302,   1.06731167, 150.16481841,  54.58659688],\n",
      "       [  0.15477997,   0.26909854,  54.58659688, 112.65101584]])\n",
      "      jac: array([ 7.04650178e-08, -1.48606681e-07, -8.39710613e-09, -1.67653839e-09])\n",
      "  message: 'Desired error not necessarily achieved due to precision loss.'\n",
      "     nfev: 92\n",
      "      nit: 36\n",
      "     njev: 81\n",
      "   status: 2\n",
      "  success: False\n",
      "        x: array([ 0.95419931, -3.8003514 , -6.79180969, -1.10195515])\n",
      "  0%|          | 57/9223372036854775807 [00:28<1148955512912237:39:12,  2.23trial/s, best loss: 11.53015407727109]"
     ]
    },
    {
     "name": "stderr",
     "output_type": "stream",
     "text": [
      "job exception: \n",
      "The model did not converge. Try adding a larger penalizer to see if that helps convergence.\n",
      "\n",
      "\n"
     ]
    },
    {
     "name": "stdout",
     "output_type": "stream",
     "text": [
      "      fun: -431.16201754601974                                                                                    \n",
      " hess_inv: array([[ 1.14471639e+00,  1.17240588e+00,  5.28316391e-01,\n",
      "        -9.22943215e-02],\n",
      "       [ 1.17240588e+00,  1.57638144e+00,  9.27837155e-01,\n",
      "         7.26169284e-02],\n",
      "       [ 5.28316391e-01,  9.27837155e-01,  1.55777135e+02,\n",
      "         5.63536054e+01],\n",
      "       [-9.22943215e-02,  7.26169284e-02,  5.63536054e+01,\n",
      "         1.10181854e+02]])\n",
      "      jac: array([ 1.99972935e-07, -2.58499795e-07, -1.67815418e-08, -1.24156581e-09])\n",
      "  message: 'Desired error not necessarily achieved due to precision loss.'\n",
      "     nfev: 41\n",
      "      nit: 36\n",
      "     njev: 41\n",
      "   status: 2\n",
      "  success: False\n",
      "        x: array([ 0.90527873, -3.84925129, -6.83034547, -1.17126114])\n",
      "  0%|          | 71/9223372036854775807 [00:33<967985923012833:08:16,  2.65trial/s, best loss: 11.524353781533256]"
     ]
    },
    {
     "name": "stderr",
     "output_type": "stream",
     "text": [
      "job exception: \n",
      "The model did not converge. Try adding a larger penalizer to see if that helps convergence.\n",
      "\n",
      "\n"
     ]
    },
    {
     "name": "stdout",
     "output_type": "stream",
     "text": [
      "      fun: -431.2937051830075                                                                                      \n",
      " hess_inv: array([[1.59391280e+00, 1.59630038e+00, 5.37147215e-01, 8.58617547e-02],\n",
      "       [1.59630038e+00, 1.87954315e+00, 2.36213824e-01, 1.31353111e-01],\n",
      "       [5.37147215e-01, 2.36213824e-01, 1.33914924e+02, 5.64442776e+01],\n",
      "       [8.58617547e-02, 1.31353111e-01, 5.64442776e+01, 1.34291202e+02]])\n",
      "      jac: array([-1.38376492e-07,  1.31905036e-07, -1.49895186e-09,  8.34055459e-10])\n",
      "  message: 'Desired error not necessarily achieved due to precision loss.'\n",
      "     nfev: 92\n",
      "      nit: 38\n",
      "     njev: 77\n",
      "   status: 2\n",
      "  success: False\n",
      "        x: array([ 1.2799843 , -3.47473243, -6.50983224, -0.53645562])\n",
      "  0%|          | 74/9223372036854775807 [00:35<1072833866485618:54:56,  2.39trial/s, best loss: 11.524353781533256]"
     ]
    },
    {
     "name": "stderr",
     "output_type": "stream",
     "text": [
      "job exception: \n",
      "The model did not converge. Try adding a larger penalizer to see if that helps convergence.\n",
      "\n",
      "\n"
     ]
    },
    {
     "name": "stdout",
     "output_type": "stream",
     "text": [
      "      fun: -431.08198359098907                                                                                     \n",
      " hess_inv: array([[1.08094771e+00, 1.11792724e+00, 5.06881204e-01, 1.92732954e-02],\n",
      "       [1.11792724e+00, 1.60861308e+00, 7.87712430e-01, 7.27527128e-02],\n",
      "       [5.06881204e-01, 7.87712430e-01, 1.64186736e+02, 5.87896260e+01],\n",
      "       [1.92732954e-02, 7.27527128e-02, 5.87896260e+01, 1.03106092e+02]])\n",
      "      jac: array([ 6.76523684e-08, -1.95401985e-07, -1.55358475e-08,  2.16860595e-09])\n",
      "  message: 'Desired error not necessarily achieved due to precision loss.'\n",
      "     nfev: 43\n",
      "      nit: 35\n",
      "     njev: 43\n",
      "   status: 2\n",
      "  success: False\n",
      "        x: array([ 0.71069209, -4.04376488, -6.98049912, -1.42766835])\n",
      "  0%|          | 79/9223372036854775807 [00:37<1070691171559808:59:44,  2.39trial/s, best loss: 11.524353781533256]"
     ]
    },
    {
     "name": "stderr",
     "output_type": "stream",
     "text": [
      "job exception: \n",
      "The model did not converge. Try adding a larger penalizer to see if that helps convergence.\n",
      "\n",
      "\n"
     ]
    },
    {
     "name": "stdout",
     "output_type": "stream",
     "text": [
      "      fun: -431.18306952419715                                                                                     \n",
      " hess_inv: array([[  1.2753819 ,   1.31092492,   0.62537695,   0.29006327],\n",
      "       [  1.31092492,   1.68887805,   0.47115958,   0.31361493],\n",
      "       [  0.62537695,   0.47115958, 139.05374137,  51.30556573],\n",
      "       [  0.29006327,   0.31361493,  51.30556573, 112.55783248]])\n",
      "      jac: array([ 6.96348225e-08, -1.70548718e-07, -9.38135521e-09, -2.03148724e-09])\n",
      "  message: 'Desired error not necessarily achieved due to precision loss.'\n",
      "     nfev: 73\n",
      "      nit: 35\n",
      "     njev: 62\n",
      "   status: 2\n",
      "  success: False\n",
      "        x: array([ 0.95975421, -3.79479893, -6.78740235, -1.09392691])\n",
      "  0%|          | 94/9223372036854775807 [00:44<957874044998902:45:20,  2.67trial/s, best loss: 11.523773782551258]"
     ]
    },
    {
     "name": "stderr",
     "output_type": "stream",
     "text": [
      "job exception: \n",
      "The model did not converge. Try adding a larger penalizer to see if that helps convergence.\n",
      "\n",
      "\n"
     ]
    },
    {
     "name": "stdout",
     "output_type": "stream",
     "text": [
      "      fun: -430.99744542361105                                                                                     \n",
      " hess_inv: array([[ 1.03541290e+00,  1.06079332e+00,  1.26458478e-01,\n",
      "        -1.55277338e-01],\n",
      "       [ 1.06079332e+00,  1.63735565e+00, -3.34600784e-01,\n",
      "        -2.15883239e-01],\n",
      "       [ 1.26458478e-01, -3.34600784e-01,  1.56053306e+02,\n",
      "         5.99166449e+01],\n",
      "       [-1.55277338e-01, -2.15883239e-01,  5.99166449e+01,\n",
      "         9.82467581e+01]])\n",
      "      jac: array([-1.75591934e-07,  5.27375803e-08,  5.69860748e-09,  3.20725020e-09])\n",
      "  message: 'Desired error not necessarily achieved due to precision loss.'\n",
      "     nfev: 70\n",
      "      nit: 33\n",
      "     njev: 59\n",
      "   status: 2\n",
      "  success: False\n",
      "        x: array([ 0.52168552, -4.23271286, -7.12532912, -1.65726048])\n",
      "  0%|          | 96/9223372036854775807 [00:45<1416732171807926:36:48,  1.81trial/s, best loss: 11.523773782551258]"
     ]
    },
    {
     "name": "stderr",
     "output_type": "stream",
     "text": [
      "job exception: \n",
      "The model did not converge. Try adding a larger penalizer to see if that helps convergence.\n",
      "\n",
      "\n"
     ]
    },
    {
     "name": "stdout",
     "output_type": "stream",
     "text": [
      "      fun: -431.24853331978994                                                                                     \n",
      " hess_inv: array([[ 1.42942812e+00,  1.46572488e+00,  8.47708914e-03,\n",
      "         9.91439529e-02],\n",
      "       [ 1.46572488e+00,  1.79954703e+00,  1.61315026e-01,\n",
      "        -1.11570895e-01],\n",
      "       [ 8.47708914e-03,  1.61315026e-01,  1.42801885e+02,\n",
      "         5.30905184e+01],\n",
      "       [ 9.91439529e-02, -1.11570895e-01,  5.30905184e+01,\n",
      "         1.20849361e+02]])\n",
      "      jac: array([ 1.07799241e-07, -1.36332035e-07, -2.60195997e-09, -1.51657820e-09])\n",
      "  message: 'Desired error not necessarily achieved due to precision loss.'\n",
      "     nfev: 87\n",
      "      nit: 35\n",
      "     njev: 76\n",
      "   status: 2\n",
      "  success: False\n",
      "        x: array([ 1.14095944, -3.61368021, -6.63809117, -0.80803137])\n",
      "  0%|          | 99/9223372036854775807 [00:47<1294878978375577:18:56,  1.98trial/s, best loss: 11.523773782551258]"
     ]
    },
    {
     "name": "stderr",
     "output_type": "stream",
     "text": [
      "job exception: \n",
      "The model did not converge. Try adding a larger penalizer to see if that helps convergence.\n",
      "\n",
      "\n"
     ]
    },
    {
     "name": "stdout",
     "output_type": "stream",
     "text": [
      "      fun: -431.14477158396744                                                                                      \n",
      " hess_inv: array([[  1.1698868 ,   1.22383193,   0.96721912,   0.17407347],\n",
      "       [  1.22383193,   1.65229625,   0.8525751 ,   0.30417648],\n",
      "       [  0.96721912,   0.8525751 , 139.92983977,  54.55221814],\n",
      "       [  0.17407347,   0.30417648,  54.55221814, 108.6915623 ]])\n",
      "      jac: array([ 2.91218795e-07, -3.23793135e-07, -2.26128921e-08,  1.70987786e-09])\n",
      "  message: 'Desired error not necessarily achieved due to precision loss.'\n",
      "     nfev: 69\n",
      "      nit: 35\n",
      "     njev: 57\n",
      "   status: 2\n",
      "  success: False\n",
      "        x: array([ 0.86177796, -3.89273449, -6.86425756, -1.23099557])\n",
      "  0%|          | 111/9223372036854775807 [00:52<954590883351980:39:28,  2.68trial/s, best loss: 11.523773782551258]"
     ]
    },
    {
     "name": "stderr",
     "output_type": "stream",
     "text": [
      "job exception: \n",
      "The model did not converge. Try adding a larger penalizer to see if that helps convergence.\n",
      "\n",
      "\n"
     ]
    },
    {
     "name": "stdout",
     "output_type": "stream",
     "text": [
      "      fun: -431.049671179634                                                                                        \n",
      " hess_inv: array([[  0.97526886,   0.9615261 ,   0.73150023,   0.28464359],\n",
      "       [  0.9615261 ,   1.46346939,   0.73611899,   0.41793919],\n",
      "       [  0.73150023,   0.73611899, 155.63315216,  56.55777865],\n",
      "       [  0.28464359,   0.41793919,  56.55777865, 100.93482747]])\n",
      "      jac: array([-2.47771342e-07,  1.04484004e-09, -1.87173163e-08,  4.15873501e-08])\n",
      "  message: 'Desired error not necessarily achieved due to precision loss.'\n",
      "     nfev: 91\n",
      "      nit: 33\n",
      "     njev: 79\n",
      "   status: 2\n",
      "  success: False\n",
      "        x: array([ 0.63672768, -4.11770499, -7.03706714, -1.51924809])\n",
      "  0%|          | 114/9223372036854775807 [00:53<1122162049605910:45:20,  2.28trial/s, best loss: 11.523773782551258]"
     ]
    },
    {
     "name": "stderr",
     "output_type": "stream",
     "text": [
      "job exception: \n",
      "The model did not converge. Try adding a larger penalizer to see if that helps convergence.\n",
      "\n",
      "\n"
     ]
    },
    {
     "name": "stdout",
     "output_type": "stream",
     "text": [
      "      fun: -431.28681109681065                                                                                      \n",
      " hess_inv: array([[ 1.51624407e+00,  1.49818894e+00, -7.56423677e-02,\n",
      "         2.40942484e-01],\n",
      "       [ 1.49818894e+00,  1.74847480e+00, -5.30575043e-01,\n",
      "         4.03204044e-01],\n",
      "       [-7.56423677e-02, -5.30575043e-01,  1.38776978e+02,\n",
      "         5.55976954e+01],\n",
      "       [ 2.40942484e-01,  4.03204044e-01,  5.55976954e+01,\n",
      "         1.31074269e+02]])\n",
      "      jac: array([-1.97697375e-07,  2.83781925e-07, -8.75917877e-10,  2.19440171e-09])\n",
      "  message: 'Desired error not necessarily achieved due to precision loss.'\n",
      "     nfev: 81\n",
      "      nit: 37\n",
      "     njev: 70\n",
      "   status: 2\n",
      "  success: False\n",
      "        x: array([ 1.25782039, -3.49688331, -6.53165073, -0.58461898])\n",
      "  0%|          | 114/9223372036854775807 [00:54<1122162049605910:45:20,  2.28trial/s, best loss: 11.523773782551258]"
     ]
    },
    {
     "name": "stderr",
     "output_type": "stream",
     "text": [
      "job exception: \n",
      "The model did not converge. Try adding a larger penalizer to see if that helps convergence.\n",
      "\n",
      "\n"
     ]
    },
    {
     "name": "stdout",
     "output_type": "stream",
     "text": [
      "      fun: -431.34693675559                                                                                         \n",
      " hess_inv: array([[ 1.93628698e+00,  1.90026235e+00, -2.26680486e-02,\n",
      "         8.64957066e-03],\n",
      "       [ 1.90026235e+00,  2.07438395e+00, -8.25431993e-02,\n",
      "        -4.37705740e-01],\n",
      "       [-2.26680486e-02, -8.25431993e-02,  1.36833759e+02,\n",
      "         6.00224751e+01],\n",
      "       [ 8.64957066e-03, -4.37705740e-01,  6.00224751e+01,\n",
      "         1.45198258e+02]])\n",
      "      jac: array([-1.39468358e-07,  9.30305949e-08,  2.48790256e-09, -1.92073992e-09])\n",
      "  message: 'Desired error not necessarily achieved due to precision loss.'\n",
      "     nfev: 104\n",
      "      nit: 37\n",
      "     njev: 90\n",
      "   status: 2\n",
      "  success: False\n",
      "        x: array([ 1.46618435, -3.28865487, -6.27303459,  0.0448128 ])\n",
      "  0%|          | 121/9223372036854775807 [00:57<1012952048831723:31:12,  2.53trial/s, best loss: 11.523773782551258]"
     ]
    },
    {
     "name": "stderr",
     "output_type": "stream",
     "text": [
      "job exception: \n",
      "The model did not converge. Try adding a larger penalizer to see if that helps convergence.\n",
      "\n",
      "\n"
     ]
    },
    {
     "name": "stdout",
     "output_type": "stream",
     "text": [
      "  0%|          | 127/9223372036854775807 [01:00<1210726310260971:22:40,  2.12trial/s, best loss: 11.52174000324797] \n"
     ]
    }
   ],
   "source": [
    "params = {'penalizer_coef': hp.uniform(\"penalizer_coef\",\n",
    "                                       0.001, 0.1)}\n",
    "n = 30\n",
    "# n_iter = 2\n",
    "timeout = 60\n",
    "random_state = 42\n",
    "\n",
    "fn_tune = partial(tune, summary=summary_cal_holdout.copy(), n=30,\n",
    "                  random_state=random_state)\n",
    "\n",
    "trials = Trials()\n",
    "\n",
    "best=fmin(fn=fn_tune, # function to optimize\n",
    "          space=params,\n",
    "          algo=tpe.suggest, # optimization algorithm, hyperotp will select its parameters automatically\n",
    "#           max_evals=n_iter, # maximum number of iterations\n",
    "          timeout=timeout,\n",
    "          trials=trials, # logging\n",
    "          rstate=np.random.RandomState(random_state), # fixing random state for the reproducibility\n",
    "          catch_eval_exceptions=True\n",
    "         )"
   ]
  },
  {
   "cell_type": "markdown",
   "metadata": {},
   "source": [
    "#### Visualize"
   ]
  },
  {
   "cell_type": "code",
   "execution_count": 170,
   "metadata": {},
   "outputs": [],
   "source": [
    "tpe_results = np.array([[x['result']['loss'],\n",
    "                         x['misc']['vals']['penalizer_coef'][0]] for x in trials.trials])\n",
    "\n",
    "tpe_results_df = pd.DataFrame(tpe_results,\n",
    "                              columns=['score', 'penalizer_coef'])"
   ]
  },
  {
   "cell_type": "code",
   "execution_count": 171,
   "metadata": {
    "scrolled": true
   },
   "outputs": [
    {
     "data": {
      "text/plain": [
       "array([<matplotlib.axes._subplots.AxesSubplot object at 0x7f961e5d8a00>,\n",
       "       <matplotlib.axes._subplots.AxesSubplot object at 0x7f9610ab9bb0>],\n",
       "      dtype=object)"
      ]
     },
     "execution_count": 171,
     "metadata": {},
     "output_type": "execute_result"
    },
    {
     "data": {
      "image/png": "[encoded data removed]",
      "text/plain": [
       "<Figure size 720x720 with 2 Axes>"
      ]
     },
     "metadata": {
      "needs_background": "light"
     },
     "output_type": "display_data"
    }
   ],
   "source": [
    "tpe_results_df.plot(subplots=True,figsize=(10, 10))"
   ]
  },
  {
   "cell_type": "markdown",
   "metadata": {},
   "source": [
    "# Gamma-Gamma"
   ]
  },
  {
   "cell_type": "code",
   "execution_count": 173,
   "metadata": {},
   "outputs": [],
   "source": [
    "from lifetimes.datasets import load_cdnow_summary_data_with_monetary_value"
   ]
  },
  {
   "cell_type": "code",
   "execution_count": 178,
   "metadata": {},
   "outputs": [
    {
     "data": {
      "text/html": [
       "<div>\n",
       "<style scoped>\n",
       "    .dataframe tbody tr th:only-of-type {\n",
       "        vertical-align: middle;\n",
       "    }\n",
       "\n",
       "    .dataframe tbody tr th {\n",
       "        vertical-align: top;\n",
       "    }\n",
       "\n",
       "    .dataframe thead th {\n",
       "        text-align: right;\n",
       "    }\n",
       "</style>\n",
       "<table border=\"1\" class=\"dataframe\">\n",
       "  <thead>\n",
       "    <tr style=\"text-align: right;\">\n",
       "      <th></th>\n",
       "      <th>frequency</th>\n",
       "      <th>recency</th>\n",
       "      <th>T</th>\n",
       "      <th>monetary_value</th>\n",
       "    </tr>\n",
       "    <tr>\n",
       "      <th>customer</th>\n",
       "      <th></th>\n",
       "      <th></th>\n",
       "      <th></th>\n",
       "      <th></th>\n",
       "    </tr>\n",
       "  </thead>\n",
       "  <tbody>\n",
       "    <tr>\n",
       "      <th>C1000148617</th>\n",
       "      <td>127.0</td>\n",
       "      <td>149.0</td>\n",
       "      <td>149.0</td>\n",
       "      <td>35.064331</td>\n",
       "    </tr>\n",
       "    <tr>\n",
       "      <th>C100045114</th>\n",
       "      <td>90.0</td>\n",
       "      <td>179.0</td>\n",
       "      <td>179.0</td>\n",
       "      <td>109.016889</td>\n",
       "    </tr>\n",
       "    <tr>\n",
       "      <th>C1000699316</th>\n",
       "      <td>92.0</td>\n",
       "      <td>173.0</td>\n",
       "      <td>179.0</td>\n",
       "      <td>38.677174</td>\n",
       "    </tr>\n",
       "    <tr>\n",
       "      <th>C1001065306</th>\n",
       "      <td>20.0</td>\n",
       "      <td>134.0</td>\n",
       "      <td>158.0</td>\n",
       "      <td>305.277000</td>\n",
       "    </tr>\n",
       "    <tr>\n",
       "      <th>C1002658784</th>\n",
       "      <td>127.0</td>\n",
       "      <td>157.0</td>\n",
       "      <td>157.0</td>\n",
       "      <td>33.778583</td>\n",
       "    </tr>\n",
       "    <tr>\n",
       "      <th>...</th>\n",
       "      <td>...</td>\n",
       "      <td>...</td>\n",
       "      <td>...</td>\n",
       "      <td>...</td>\n",
       "    </tr>\n",
       "    <tr>\n",
       "      <th>C99729647</th>\n",
       "      <td>168.0</td>\n",
       "      <td>178.0</td>\n",
       "      <td>179.0</td>\n",
       "      <td>33.738452</td>\n",
       "    </tr>\n",
       "    <tr>\n",
       "      <th>C998690782</th>\n",
       "      <td>167.0</td>\n",
       "      <td>179.0</td>\n",
       "      <td>179.0</td>\n",
       "      <td>62.397066</td>\n",
       "    </tr>\n",
       "    <tr>\n",
       "      <th>C998987490</th>\n",
       "      <td>169.0</td>\n",
       "      <td>179.0</td>\n",
       "      <td>179.0</td>\n",
       "      <td>33.607337</td>\n",
       "    </tr>\n",
       "    <tr>\n",
       "      <th>C999393223</th>\n",
       "      <td>129.0</td>\n",
       "      <td>173.0</td>\n",
       "      <td>173.0</td>\n",
       "      <td>39.565271</td>\n",
       "    </tr>\n",
       "    <tr>\n",
       "      <th>C999723254</th>\n",
       "      <td>118.0</td>\n",
       "      <td>168.0</td>\n",
       "      <td>168.0</td>\n",
       "      <td>30.025593</td>\n",
       "    </tr>\n",
       "  </tbody>\n",
       "</table>\n",
       "<p>4112 rows × 4 columns</p>\n",
       "</div>"
      ],
      "text/plain": [
       "             frequency  recency      T  monetary_value\n",
       "customer                                              \n",
       "C1000148617      127.0    149.0  149.0       35.064331\n",
       "C100045114        90.0    179.0  179.0      109.016889\n",
       "C1000699316       92.0    173.0  179.0       38.677174\n",
       "C1001065306       20.0    134.0  158.0      305.277000\n",
       "C1002658784      127.0    157.0  157.0       33.778583\n",
       "...                ...      ...    ...             ...\n",
       "C99729647        168.0    178.0  179.0       33.738452\n",
       "C998690782       167.0    179.0  179.0       62.397066\n",
       "C998987490       169.0    179.0  179.0       33.607337\n",
       "C999393223       129.0    173.0  173.0       39.565271\n",
       "C999723254       118.0    168.0  168.0       30.025593\n",
       "\n",
       "[4112 rows x 4 columns]"
      ]
     },
     "execution_count": 178,
     "metadata": {},
     "output_type": "execute_result"
    }
   ],
   "source": [
    "summary_df"
   ]
  },
  {
   "cell_type": "code",
   "execution_count": 180,
   "metadata": {},
   "outputs": [],
   "source": [
    "returning_customers_summary = (summary_df[summary_df['frequency']>0])"
   ]
  },
  {
   "cell_type": "code",
   "execution_count": 181,
   "metadata": {},
   "outputs": [
    {
     "data": {
      "text/html": [
       "<div>\n",
       "<style scoped>\n",
       "    .dataframe tbody tr th:only-of-type {\n",
       "        vertical-align: middle;\n",
       "    }\n",
       "\n",
       "    .dataframe tbody tr th {\n",
       "        vertical-align: top;\n",
       "    }\n",
       "\n",
       "    .dataframe thead th {\n",
       "        text-align: right;\n",
       "    }\n",
       "</style>\n",
       "<table border=\"1\" class=\"dataframe\">\n",
       "  <thead>\n",
       "    <tr style=\"text-align: right;\">\n",
       "      <th></th>\n",
       "      <th>monetary_value</th>\n",
       "      <th>frequency</th>\n",
       "    </tr>\n",
       "  </thead>\n",
       "  <tbody>\n",
       "    <tr>\n",
       "      <th>monetary_value</th>\n",
       "      <td>1.000000</td>\n",
       "      <td>-0.531216</td>\n",
       "    </tr>\n",
       "    <tr>\n",
       "      <th>frequency</th>\n",
       "      <td>-0.531216</td>\n",
       "      <td>1.000000</td>\n",
       "    </tr>\n",
       "  </tbody>\n",
       "</table>\n",
       "</div>"
      ],
      "text/plain": [
       "                monetary_value  frequency\n",
       "monetary_value        1.000000  -0.531216\n",
       "frequency            -0.531216   1.000000"
      ]
     },
     "execution_count": 181,
     "metadata": {},
     "output_type": "execute_result"
    }
   ],
   "source": [
    "returning_customers_summary[['monetary_value', 'frequency']].corr()"
   ]
  },
  {
   "cell_type": "markdown",
   "metadata": {},
   "source": [
    "[According to lifetimes docs](https://lifetimes.readthedocs.io/en/latest/Quickstart.html#example-using-transactional-datasets):\n",
    ">The Gamma-Gamma submodel, in fact, assumes that there is no relationship between the monetary value and the purchase frequency. In practice we need to check whether the Pearson correlation between the two vectors is close to 0 in order to use this model.\n",
    "\n",
    "Our data has `monetary_value` and `frequency` are moderately negatively correlated, so we should not use Gamma-Gamma approach."
   ]
  },
  {
   "cell_type": "markdown",
   "metadata": {},
   "source": [
    "# Conclusion"
   ]
  },
  {
   "cell_type": "markdown",
   "metadata": {},
   "source": [
    "## Summary"
   ]
  },
  {
   "cell_type": "markdown",
   "metadata": {},
   "source": [
    "In this notebook, I approach the Customer Long-term Values problem by Probabilistic Model. Compared to a simple baseline of predicting next transaction"
   ]
  },
  {
   "cell_type": "markdown",
   "metadata": {},
   "source": [
    "## Next steps"
   ]
  },
  {
   "cell_type": "markdown",
   "metadata": {},
   "source": [
    "# Archive"
   ]
  },
  {
   "cell_type": "markdown",
   "metadata": {},
   "source": [
    "#### Using util function from `lifetimes`"
   ]
  },
  {
   "cell_type": "code",
   "execution_count": 182,
   "metadata": {},
   "outputs": [],
   "source": [
    "from lifetimes.utils import expected_cumulative_transactions"
   ]
  },
  {
   "cell_type": "code",
   "execution_count": 186,
   "metadata": {},
   "outputs": [
    {
     "data": {
      "text/html": [
       "<div>\n",
       "<style scoped>\n",
       "    .dataframe tbody tr th:only-of-type {\n",
       "        vertical-align: middle;\n",
       "    }\n",
       "\n",
       "    .dataframe tbody tr th {\n",
       "        vertical-align: top;\n",
       "    }\n",
       "\n",
       "    .dataframe thead th {\n",
       "        text-align: right;\n",
       "    }\n",
       "</style>\n",
       "<table border=\"1\" class=\"dataframe\">\n",
       "  <thead>\n",
       "    <tr style=\"text-align: right;\">\n",
       "      <th></th>\n",
       "      <th>actual</th>\n",
       "      <th>predicted</th>\n",
       "    </tr>\n",
       "  </thead>\n",
       "  <tbody>\n",
       "    <tr>\n",
       "      <th>0</th>\n",
       "      <td>0</td>\n",
       "      <td>1898.276528</td>\n",
       "    </tr>\n",
       "    <tr>\n",
       "      <th>1</th>\n",
       "      <td>2071</td>\n",
       "      <td>4058.745613</td>\n",
       "    </tr>\n",
       "    <tr>\n",
       "      <th>2</th>\n",
       "      <td>4355</td>\n",
       "      <td>6329.281579</td>\n",
       "    </tr>\n",
       "    <tr>\n",
       "      <th>3</th>\n",
       "      <td>6719</td>\n",
       "      <td>8676.521223</td>\n",
       "    </tr>\n",
       "    <tr>\n",
       "      <th>4</th>\n",
       "      <td>9108</td>\n",
       "      <td>11095.255750</td>\n",
       "    </tr>\n",
       "    <tr>\n",
       "      <th>5</th>\n",
       "      <td>11507</td>\n",
       "      <td>13574.627025</td>\n",
       "    </tr>\n",
       "    <tr>\n",
       "      <th>6</th>\n",
       "      <td>13949</td>\n",
       "      <td>16121.064853</td>\n",
       "    </tr>\n",
       "    <tr>\n",
       "      <th>7</th>\n",
       "      <td>16373</td>\n",
       "      <td>18718.084138</td>\n",
       "    </tr>\n",
       "    <tr>\n",
       "      <th>8</th>\n",
       "      <td>18838</td>\n",
       "      <td>21361.815170</td>\n",
       "    </tr>\n",
       "    <tr>\n",
       "      <th>9</th>\n",
       "      <td>21361</td>\n",
       "      <td>24052.311553</td>\n",
       "    </tr>\n",
       "    <tr>\n",
       "      <th>10</th>\n",
       "      <td>23874</td>\n",
       "      <td>26788.034189</td>\n",
       "    </tr>\n",
       "    <tr>\n",
       "      <th>11</th>\n",
       "      <td>26427</td>\n",
       "      <td>29554.823366</td>\n",
       "    </tr>\n",
       "    <tr>\n",
       "      <th>12</th>\n",
       "      <td>28992</td>\n",
       "      <td>32351.933494</td>\n",
       "    </tr>\n",
       "    <tr>\n",
       "      <th>13</th>\n",
       "      <td>31563</td>\n",
       "      <td>35186.489544</td>\n",
       "    </tr>\n",
       "    <tr>\n",
       "      <th>14</th>\n",
       "      <td>34180</td>\n",
       "      <td>38048.255470</td>\n",
       "    </tr>\n",
       "    <tr>\n",
       "      <th>15</th>\n",
       "      <td>36782</td>\n",
       "      <td>40934.892466</td>\n",
       "    </tr>\n",
       "    <tr>\n",
       "      <th>16</th>\n",
       "      <td>39374</td>\n",
       "      <td>43845.633990</td>\n",
       "    </tr>\n",
       "    <tr>\n",
       "      <th>17</th>\n",
       "      <td>41989</td>\n",
       "      <td>46777.343969</td>\n",
       "    </tr>\n",
       "    <tr>\n",
       "      <th>18</th>\n",
       "      <td>44650</td>\n",
       "      <td>49725.310298</td>\n",
       "    </tr>\n",
       "    <tr>\n",
       "      <th>19</th>\n",
       "      <td>47294</td>\n",
       "      <td>52690.341376</td>\n",
       "    </tr>\n",
       "    <tr>\n",
       "      <th>20</th>\n",
       "      <td>49968</td>\n",
       "      <td>55671.662277</td>\n",
       "    </tr>\n",
       "    <tr>\n",
       "      <th>21</th>\n",
       "      <td>52662</td>\n",
       "      <td>58674.014841</td>\n",
       "    </tr>\n",
       "    <tr>\n",
       "      <th>22</th>\n",
       "      <td>55363</td>\n",
       "      <td>61697.402039</td>\n",
       "    </tr>\n",
       "    <tr>\n",
       "      <th>23</th>\n",
       "      <td>58067</td>\n",
       "      <td>64733.156747</td>\n",
       "    </tr>\n",
       "    <tr>\n",
       "      <th>24</th>\n",
       "      <td>60778</td>\n",
       "      <td>67786.025759</td>\n",
       "    </tr>\n",
       "    <tr>\n",
       "      <th>25</th>\n",
       "      <td>63543</td>\n",
       "      <td>70852.072078</td>\n",
       "    </tr>\n",
       "    <tr>\n",
       "      <th>26</th>\n",
       "      <td>66328</td>\n",
       "      <td>73924.211245</td>\n",
       "    </tr>\n",
       "    <tr>\n",
       "      <th>27</th>\n",
       "      <td>69131</td>\n",
       "      <td>77010.344211</td>\n",
       "    </tr>\n",
       "    <tr>\n",
       "      <th>28</th>\n",
       "      <td>71902</td>\n",
       "      <td>80107.318417</td>\n",
       "    </tr>\n",
       "    <tr>\n",
       "      <th>29</th>\n",
       "      <td>74684</td>\n",
       "      <td>83211.987775</td>\n",
       "    </tr>\n",
       "  </tbody>\n",
       "</table>\n",
       "</div>"
      ],
      "text/plain": [
       "    actual     predicted\n",
       "0        0   1898.276528\n",
       "1     2071   4058.745613\n",
       "2     4355   6329.281579\n",
       "3     6719   8676.521223\n",
       "4     9108  11095.255750\n",
       "5    11507  13574.627025\n",
       "6    13949  16121.064853\n",
       "7    16373  18718.084138\n",
       "8    18838  21361.815170\n",
       "9    21361  24052.311553\n",
       "10   23874  26788.034189\n",
       "11   26427  29554.823366\n",
       "12   28992  32351.933494\n",
       "13   31563  35186.489544\n",
       "14   34180  38048.255470\n",
       "15   36782  40934.892466\n",
       "16   39374  43845.633990\n",
       "17   41989  46777.343969\n",
       "18   44650  49725.310298\n",
       "19   47294  52690.341376\n",
       "20   49968  55671.662277\n",
       "21   52662  58674.014841\n",
       "22   55363  61697.402039\n",
       "23   58067  64733.156747\n",
       "24   60778  67786.025759\n",
       "25   63543  70852.072078\n",
       "26   66328  73924.211245\n",
       "27   69131  77010.344211\n",
       "28   71902  80107.318417\n",
       "29   74684  83211.987775"
      ]
     },
     "execution_count": 186,
     "metadata": {},
     "output_type": "execute_result"
    }
   ],
   "source": [
    "expected_cumulative_transactions(model=bgf,\n",
    "                                 transactions=raw_df,\n",
    "                                 datetime_col='pseudo_date',\n",
    "                                 customer_id_col='customer',\n",
    "                                 t=30)"
   ]
  },
  {
   "cell_type": "code",
   "execution_count": null,
   "metadata": {},
   "outputs": [],
   "source": []
  }
 ],
 "metadata": {
  "kernelspec": {
   "display_name": "Python 3",
   "language": "python",
   "name": "python3"
  },
  "language_info": {
   "codemirror_mode": {
    "name": "ipython",
    "version": 3
   },
   "file_extension": ".py",
   "mimetype": "text/x-python",
   "name": "python",
   "nbconvert_exporter": "python",
   "pygments_lexer": "ipython3",
   "version": "3.8.3"
  }
 },
 "nbformat": 4,
 "nbformat_minor": 4
}
