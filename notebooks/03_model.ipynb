{
 "cells": [
  {
   "cell_type": "code",
   "execution_count": 1,
   "metadata": {},
   "outputs": [],
   "source": [
    "import sys\n",
    "import os\n",
    "\n",
    "%load_ext autoreload\n",
    "%autoreload 2\n",
    "%matplotlib inline\n",
    "\n",
    "import pandas as pd\n",
    "import numpy as np\n",
    "from matplotlib import pyplot as plt\n",
    "\n",
    "import seaborn as sns"
   ]
  },
  {
   "cell_type": "code",
   "execution_count": 2,
   "metadata": {},
   "outputs": [],
   "source": [
    "from sklearn.preprocessing import PowerTransformer\n",
    "from sklearn.preprocessing import StandardScaler\n",
    "from sklearn.preprocessing import LabelEncoder\n",
    "\n",
    "from sklearn.linear_model import LogisticRegression\n",
    "from sklearn.linear_model import LogisticRegressionCV\n",
    "\n",
    "from sklearn.model_selection import cross_validate\n",
    "\n",
    "from sklearn.pipeline import make_pipeline\n",
    "\n",
    "from sklearn import metrics"
   ]
  },
  {
   "cell_type": "code",
   "execution_count": 3,
   "metadata": {},
   "outputs": [],
   "source": [
    "import mlflow\n",
    "local_tracking_uri = os.path.abspath('../' + 'mlruns')\n",
    "mlflow.set_tracking_uri(local_tracking_uri)\n",
    "\n",
    "mlflow_client = mlflow.tracking.MlflowClient()"
   ]
  },
  {
   "cell_type": "code",
   "execution_count": 4,
   "metadata": {},
   "outputs": [],
   "source": [
    "# Custom modules\n",
    "\n",
    "import sys\n",
    "import os\n",
    "ROOT_DIR = os.path.abspath('../')\n",
    "sys.path.insert(0, ROOT_DIR + \"/src\")"
   ]
  },
  {
   "cell_type": "markdown",
   "metadata": {},
   "source": [
    "# Approach"
   ]
  },
  {
   "cell_type": "markdown",
   "metadata": {},
   "source": [
    "- Based on EDA results from notebook `01_eda`, the baseline we're going to use is 55% accuracy by predicting all customers being female.\n",
    "- Given this dataset and a timeline of a few days, a reasonable goal is to build a classifier with 70% accuracy."
   ]
  },
  {
   "cell_type": "markdown",
   "metadata": {},
   "source": [
    "# Constants"
   ]
  },
  {
   "cell_type": "code",
   "execution_count": 5,
   "metadata": {},
   "outputs": [],
   "source": [
    "TRAIN_INPUT_PATH = '../data/process/train_agg.csv'\n",
    "TEST_INPUT_PATH = '../data/process/test_agg.csv'\n",
    "LABEL_COL = 'gender_first'"
   ]
  },
  {
   "cell_type": "code",
   "execution_count": 6,
   "metadata": {},
   "outputs": [],
   "source": [
    "SCORING = ['roc_auc', 'f1_micro', 'f1_weighted', 'precision', 'recall']"
   ]
  },
  {
   "cell_type": "markdown",
   "metadata": {},
   "source": [
    "# Load input"
   ]
  },
  {
   "cell_type": "code",
   "execution_count": 7,
   "metadata": {},
   "outputs": [],
   "source": [
    "train_df = pd.read_csv(TRAIN_INPUT_PATH)"
   ]
  },
  {
   "cell_type": "code",
   "execution_count": 8,
   "metadata": {},
   "outputs": [],
   "source": [
    "test_df = pd.read_csv(TEST_INPUT_PATH)"
   ]
  },
  {
   "cell_type": "code",
   "execution_count": 9,
   "metadata": {},
   "outputs": [
    {
     "data": {
      "text/html": [
       "<div>\n",
       "<style scoped>\n",
       "    .dataframe tbody tr th:only-of-type {\n",
       "        vertical-align: middle;\n",
       "    }\n",
       "\n",
       "    .dataframe tbody tr th {\n",
       "        vertical-align: top;\n",
       "    }\n",
       "\n",
       "    .dataframe thead th {\n",
       "        text-align: right;\n",
       "    }\n",
       "</style>\n",
       "<table border=\"1\" class=\"dataframe\">\n",
       "  <thead>\n",
       "    <tr style=\"text-align: right;\">\n",
       "      <th></th>\n",
       "      <th>step_count</th>\n",
       "      <th>step_mean</th>\n",
       "      <th>step_median</th>\n",
       "      <th>age_first</th>\n",
       "      <th>merchant_nunique</th>\n",
       "      <th>category_nunique</th>\n",
       "      <th>amount_mean</th>\n",
       "      <th>amount_median</th>\n",
       "      <th>amount_max</th>\n",
       "      <th>amount_min</th>\n",
       "      <th>amount_std</th>\n",
       "      <th>fraud_sum</th>\n",
       "      <th>fraud_mean</th>\n",
       "      <th>gender_first</th>\n",
       "    </tr>\n",
       "  </thead>\n",
       "  <tbody>\n",
       "    <tr>\n",
       "      <th>0</th>\n",
       "      <td>131</td>\n",
       "      <td>107.786260</td>\n",
       "      <td>106.0</td>\n",
       "      <td>5</td>\n",
       "      <td>14</td>\n",
       "      <td>10</td>\n",
       "      <td>35.091908</td>\n",
       "      <td>26.14</td>\n",
       "      <td>323.64</td>\n",
       "      <td>0.80</td>\n",
       "      <td>36.863536</td>\n",
       "      <td>1</td>\n",
       "      <td>0.007634</td>\n",
       "      <td>M</td>\n",
       "    </tr>\n",
       "    <tr>\n",
       "      <th>1</th>\n",
       "      <td>109</td>\n",
       "      <td>124.532110</td>\n",
       "      <td>134.0</td>\n",
       "      <td>4</td>\n",
       "      <td>22</td>\n",
       "      <td>11</td>\n",
       "      <td>90.336239</td>\n",
       "      <td>35.13</td>\n",
       "      <td>3902.93</td>\n",
       "      <td>1.37</td>\n",
       "      <td>381.812802</td>\n",
       "      <td>5</td>\n",
       "      <td>0.045872</td>\n",
       "      <td>M</td>\n",
       "    </tr>\n",
       "    <tr>\n",
       "      <th>2</th>\n",
       "      <td>94</td>\n",
       "      <td>51.436170</td>\n",
       "      <td>49.5</td>\n",
       "      <td>4</td>\n",
       "      <td>10</td>\n",
       "      <td>7</td>\n",
       "      <td>38.154894</td>\n",
       "      <td>28.32</td>\n",
       "      <td>326.34</td>\n",
       "      <td>0.99</td>\n",
       "      <td>41.544414</td>\n",
       "      <td>0</td>\n",
       "      <td>0.000000</td>\n",
       "      <td>M</td>\n",
       "    </tr>\n",
       "    <tr>\n",
       "      <th>3</th>\n",
       "      <td>30</td>\n",
       "      <td>91.833333</td>\n",
       "      <td>94.5</td>\n",
       "      <td>1</td>\n",
       "      <td>11</td>\n",
       "      <td>6</td>\n",
       "      <td>204.754667</td>\n",
       "      <td>103.68</td>\n",
       "      <td>1260.94</td>\n",
       "      <td>1.05</td>\n",
       "      <td>306.240251</td>\n",
       "      <td>11</td>\n",
       "      <td>0.366667</td>\n",
       "      <td>M</td>\n",
       "    </tr>\n",
       "    <tr>\n",
       "      <th>4</th>\n",
       "      <td>131</td>\n",
       "      <td>107.702290</td>\n",
       "      <td>109.0</td>\n",
       "      <td>3</td>\n",
       "      <td>17</td>\n",
       "      <td>12</td>\n",
       "      <td>34.253282</td>\n",
       "      <td>29.94</td>\n",
       "      <td>197.30</td>\n",
       "      <td>0.59</td>\n",
       "      <td>27.820062</td>\n",
       "      <td>0</td>\n",
       "      <td>0.000000</td>\n",
       "      <td>M</td>\n",
       "    </tr>\n",
       "    <tr>\n",
       "      <th>...</th>\n",
       "      <td>...</td>\n",
       "      <td>...</td>\n",
       "      <td>...</td>\n",
       "      <td>...</td>\n",
       "      <td>...</td>\n",
       "      <td>...</td>\n",
       "      <td>...</td>\n",
       "      <td>...</td>\n",
       "      <td>...</td>\n",
       "      <td>...</td>\n",
       "      <td>...</td>\n",
       "      <td>...</td>\n",
       "      <td>...</td>\n",
       "      <td>...</td>\n",
       "    </tr>\n",
       "    <tr>\n",
       "      <th>3275</th>\n",
       "      <td>175</td>\n",
       "      <td>89.891429</td>\n",
       "      <td>91.0</td>\n",
       "      <td>3</td>\n",
       "      <td>14</td>\n",
       "      <td>9</td>\n",
       "      <td>32.555771</td>\n",
       "      <td>26.63</td>\n",
       "      <td>241.58</td>\n",
       "      <td>0.17</td>\n",
       "      <td>30.641718</td>\n",
       "      <td>0</td>\n",
       "      <td>0.000000</td>\n",
       "      <td>M</td>\n",
       "    </tr>\n",
       "    <tr>\n",
       "      <th>3276</th>\n",
       "      <td>171</td>\n",
       "      <td>89.005848</td>\n",
       "      <td>89.0</td>\n",
       "      <td>2</td>\n",
       "      <td>11</td>\n",
       "      <td>10</td>\n",
       "      <td>61.211637</td>\n",
       "      <td>26.22</td>\n",
       "      <td>5527.37</td>\n",
       "      <td>0.41</td>\n",
       "      <td>421.233339</td>\n",
       "      <td>2</td>\n",
       "      <td>0.011696</td>\n",
       "      <td>M</td>\n",
       "    </tr>\n",
       "    <tr>\n",
       "      <th>3277</th>\n",
       "      <td>177</td>\n",
       "      <td>90.107345</td>\n",
       "      <td>91.0</td>\n",
       "      <td>2</td>\n",
       "      <td>8</td>\n",
       "      <td>6</td>\n",
       "      <td>32.273107</td>\n",
       "      <td>26.20</td>\n",
       "      <td>219.99</td>\n",
       "      <td>0.54</td>\n",
       "      <td>30.122381</td>\n",
       "      <td>0</td>\n",
       "      <td>0.000000</td>\n",
       "      <td>F</td>\n",
       "    </tr>\n",
       "    <tr>\n",
       "      <th>3278</th>\n",
       "      <td>142</td>\n",
       "      <td>104.992958</td>\n",
       "      <td>107.5</td>\n",
       "      <td>1</td>\n",
       "      <td>16</td>\n",
       "      <td>8</td>\n",
       "      <td>36.018944</td>\n",
       "      <td>26.00</td>\n",
       "      <td>476.43</td>\n",
       "      <td>0.12</td>\n",
       "      <td>48.619220</td>\n",
       "      <td>2</td>\n",
       "      <td>0.014085</td>\n",
       "      <td>F</td>\n",
       "    </tr>\n",
       "    <tr>\n",
       "      <th>3279</th>\n",
       "      <td>122</td>\n",
       "      <td>111.745902</td>\n",
       "      <td>111.5</td>\n",
       "      <td>2</td>\n",
       "      <td>11</td>\n",
       "      <td>7</td>\n",
       "      <td>29.184016</td>\n",
       "      <td>24.54</td>\n",
       "      <td>268.60</td>\n",
       "      <td>0.19</td>\n",
       "      <td>35.059192</td>\n",
       "      <td>1</td>\n",
       "      <td>0.008197</td>\n",
       "      <td>M</td>\n",
       "    </tr>\n",
       "  </tbody>\n",
       "</table>\n",
       "<p>3280 rows × 14 columns</p>\n",
       "</div>"
      ],
      "text/plain": [
       "      step_count   step_mean  step_median  age_first  merchant_nunique  \\\n",
       "0            131  107.786260        106.0          5                14   \n",
       "1            109  124.532110        134.0          4                22   \n",
       "2             94   51.436170         49.5          4                10   \n",
       "3             30   91.833333         94.5          1                11   \n",
       "4            131  107.702290        109.0          3                17   \n",
       "...          ...         ...          ...        ...               ...   \n",
       "3275         175   89.891429         91.0          3                14   \n",
       "3276         171   89.005848         89.0          2                11   \n",
       "3277         177   90.107345         91.0          2                 8   \n",
       "3278         142  104.992958        107.5          1                16   \n",
       "3279         122  111.745902        111.5          2                11   \n",
       "\n",
       "      category_nunique  amount_mean  amount_median  amount_max  amount_min  \\\n",
       "0                   10    35.091908          26.14      323.64        0.80   \n",
       "1                   11    90.336239          35.13     3902.93        1.37   \n",
       "2                    7    38.154894          28.32      326.34        0.99   \n",
       "3                    6   204.754667         103.68     1260.94        1.05   \n",
       "4                   12    34.253282          29.94      197.30        0.59   \n",
       "...                ...          ...            ...         ...         ...   \n",
       "3275                 9    32.555771          26.63      241.58        0.17   \n",
       "3276                10    61.211637          26.22     5527.37        0.41   \n",
       "3277                 6    32.273107          26.20      219.99        0.54   \n",
       "3278                 8    36.018944          26.00      476.43        0.12   \n",
       "3279                 7    29.184016          24.54      268.60        0.19   \n",
       "\n",
       "      amount_std  fraud_sum  fraud_mean gender_first  \n",
       "0      36.863536          1    0.007634            M  \n",
       "1     381.812802          5    0.045872            M  \n",
       "2      41.544414          0    0.000000            M  \n",
       "3     306.240251         11    0.366667            M  \n",
       "4      27.820062          0    0.000000            M  \n",
       "...          ...        ...         ...          ...  \n",
       "3275   30.641718          0    0.000000            M  \n",
       "3276  421.233339          2    0.011696            M  \n",
       "3277   30.122381          0    0.000000            F  \n",
       "3278   48.619220          2    0.014085            F  \n",
       "3279   35.059192          1    0.008197            M  \n",
       "\n",
       "[3280 rows x 14 columns]"
      ]
     },
     "execution_count": 9,
     "metadata": {},
     "output_type": "execute_result"
    }
   ],
   "source": [
    "train_df"
   ]
  },
  {
   "cell_type": "markdown",
   "metadata": {},
   "source": [
    "# Generate X, y"
   ]
  },
  {
   "cell_type": "code",
   "execution_count": 10,
   "metadata": {},
   "outputs": [],
   "source": [
    "le = LabelEncoder()"
   ]
  },
  {
   "cell_type": "code",
   "execution_count": 11,
   "metadata": {},
   "outputs": [],
   "source": [
    "X_train, y_train = train_df.drop(columns=[LABEL_COL]), le.fit_transform(train_df[LABEL_COL])\n",
    "X_test, y_test = test_df.drop(columns=[LABEL_COL]), le.transform(test_df[LABEL_COL])"
   ]
  },
  {
   "cell_type": "markdown",
   "metadata": {},
   "source": [
    "# Transform"
   ]
  },
  {
   "cell_type": "code",
   "execution_count": 25,
   "metadata": {},
   "outputs": [],
   "source": [
    "scaler = StandardScaler()"
   ]
  },
  {
   "cell_type": "markdown",
   "metadata": {},
   "source": [
    "# Fit"
   ]
  },
  {
   "cell_type": "code",
   "execution_count": 26,
   "metadata": {},
   "outputs": [],
   "source": [
    "clf_params = {'max_iter': 2000}"
   ]
  },
  {
   "cell_type": "code",
   "execution_count": 27,
   "metadata": {},
   "outputs": [],
   "source": [
    "clf = LogisticRegression(**clf_params)"
   ]
  },
  {
   "cell_type": "code",
   "execution_count": 28,
   "metadata": {},
   "outputs": [],
   "source": [
    "pipeline = make_pipeline(scaler, clf)"
   ]
  },
  {
   "cell_type": "code",
   "execution_count": 29,
   "metadata": {},
   "outputs": [
    {
     "data": {
      "text/plain": [
       "Pipeline(steps=[('standardscaler', StandardScaler()),\n",
       "                ('logisticregression', LogisticRegression(max_iter=2000))])"
      ]
     },
     "execution_count": 29,
     "metadata": {},
     "output_type": "execute_result"
    }
   ],
   "source": [
    "pipeline.fit(X_train, y_train)"
   ]
  },
  {
   "cell_type": "markdown",
   "metadata": {},
   "source": [
    "# Evaluate"
   ]
  },
  {
   "cell_type": "markdown",
   "metadata": {},
   "source": [
    "## Cross Validation"
   ]
  },
  {
   "cell_type": "code",
   "execution_count": 30,
   "metadata": {
    "scrolled": true
   },
   "outputs": [],
   "source": [
    "train_score = cross_validate(pipeline, X_train, y_train, scoring=SCORING,\n",
    "                             cv=5, return_train_score=True)"
   ]
  },
  {
   "cell_type": "code",
   "execution_count": 31,
   "metadata": {},
   "outputs": [
    {
     "data": {
      "text/html": [
       "<div>\n",
       "<style scoped>\n",
       "    .dataframe tbody tr th:only-of-type {\n",
       "        vertical-align: middle;\n",
       "    }\n",
       "\n",
       "    .dataframe tbody tr th {\n",
       "        vertical-align: top;\n",
       "    }\n",
       "\n",
       "    .dataframe thead th {\n",
       "        text-align: right;\n",
       "    }\n",
       "</style>\n",
       "<table border=\"1\" class=\"dataframe\">\n",
       "  <thead>\n",
       "    <tr style=\"text-align: right;\">\n",
       "      <th></th>\n",
       "      <th>fit_time</th>\n",
       "      <th>score_time</th>\n",
       "      <th>test_roc_auc</th>\n",
       "      <th>train_roc_auc</th>\n",
       "      <th>test_f1_micro</th>\n",
       "      <th>train_f1_micro</th>\n",
       "      <th>test_f1_weighted</th>\n",
       "      <th>train_f1_weighted</th>\n",
       "      <th>test_precision</th>\n",
       "      <th>train_precision</th>\n",
       "      <th>test_recall</th>\n",
       "      <th>train_recall</th>\n",
       "    </tr>\n",
       "  </thead>\n",
       "  <tbody>\n",
       "    <tr>\n",
       "      <th>0</th>\n",
       "      <td>0.021900</td>\n",
       "      <td>0.008599</td>\n",
       "      <td>0.471145</td>\n",
       "      <td>0.548270</td>\n",
       "      <td>0.538110</td>\n",
       "      <td>0.553735</td>\n",
       "      <td>0.412760</td>\n",
       "      <td>0.435556</td>\n",
       "      <td>0.354839</td>\n",
       "      <td>0.518519</td>\n",
       "      <td>0.037415</td>\n",
       "      <td>0.059524</td>\n",
       "    </tr>\n",
       "    <tr>\n",
       "      <th>1</th>\n",
       "      <td>0.018854</td>\n",
       "      <td>0.008651</td>\n",
       "      <td>0.510477</td>\n",
       "      <td>0.537560</td>\n",
       "      <td>0.548780</td>\n",
       "      <td>0.559070</td>\n",
       "      <td>0.423026</td>\n",
       "      <td>0.436996</td>\n",
       "      <td>0.464286</td>\n",
       "      <td>0.582609</td>\n",
       "      <td>0.044218</td>\n",
       "      <td>0.056973</td>\n",
       "    </tr>\n",
       "    <tr>\n",
       "      <th>2</th>\n",
       "      <td>0.016830</td>\n",
       "      <td>0.007069</td>\n",
       "      <td>0.540957</td>\n",
       "      <td>0.530886</td>\n",
       "      <td>0.551829</td>\n",
       "      <td>0.553354</td>\n",
       "      <td>0.405622</td>\n",
       "      <td>0.409525</td>\n",
       "      <td>0.500000</td>\n",
       "      <td>0.543478</td>\n",
       "      <td>0.017007</td>\n",
       "      <td>0.021259</td>\n",
       "    </tr>\n",
       "    <tr>\n",
       "      <th>3</th>\n",
       "      <td>0.015446</td>\n",
       "      <td>0.006794</td>\n",
       "      <td>0.503777</td>\n",
       "      <td>0.543858</td>\n",
       "      <td>0.541159</td>\n",
       "      <td>0.550305</td>\n",
       "      <td>0.446438</td>\n",
       "      <td>0.448437</td>\n",
       "      <td>0.442623</td>\n",
       "      <td>0.490196</td>\n",
       "      <td>0.091837</td>\n",
       "      <td>0.085034</td>\n",
       "    </tr>\n",
       "    <tr>\n",
       "      <th>4</th>\n",
       "      <td>0.021113</td>\n",
       "      <td>0.008277</td>\n",
       "      <td>0.521094</td>\n",
       "      <td>0.531984</td>\n",
       "      <td>0.548780</td>\n",
       "      <td>0.551448</td>\n",
       "      <td>0.416197</td>\n",
       "      <td>0.417611</td>\n",
       "      <td>0.454545</td>\n",
       "      <td>0.493827</td>\n",
       "      <td>0.034014</td>\n",
       "      <td>0.034014</td>\n",
       "    </tr>\n",
       "  </tbody>\n",
       "</table>\n",
       "</div>"
      ],
      "text/plain": [
       "   fit_time  score_time  test_roc_auc  train_roc_auc  test_f1_micro  \\\n",
       "0  0.021900    0.008599      0.471145       0.548270       0.538110   \n",
       "1  0.018854    0.008651      0.510477       0.537560       0.548780   \n",
       "2  0.016830    0.007069      0.540957       0.530886       0.551829   \n",
       "3  0.015446    0.006794      0.503777       0.543858       0.541159   \n",
       "4  0.021113    0.008277      0.521094       0.531984       0.548780   \n",
       "\n",
       "   train_f1_micro  test_f1_weighted  train_f1_weighted  test_precision  \\\n",
       "0        0.553735          0.412760           0.435556        0.354839   \n",
       "1        0.559070          0.423026           0.436996        0.464286   \n",
       "2        0.553354          0.405622           0.409525        0.500000   \n",
       "3        0.550305          0.446438           0.448437        0.442623   \n",
       "4        0.551448          0.416197           0.417611        0.454545   \n",
       "\n",
       "   train_precision  test_recall  train_recall  \n",
       "0         0.518519     0.037415      0.059524  \n",
       "1         0.582609     0.044218      0.056973  \n",
       "2         0.543478     0.017007      0.021259  \n",
       "3         0.490196     0.091837      0.085034  \n",
       "4         0.493827     0.034014      0.034014  "
      ]
     },
     "execution_count": 31,
     "metadata": {},
     "output_type": "execute_result"
    }
   ],
   "source": [
    "train_score_df = pd.DataFrame(train_score)\n",
    "train_score_df"
   ]
  },
  {
   "cell_type": "code",
   "execution_count": 32,
   "metadata": {},
   "outputs": [],
   "source": [
    "train_score_agg_dict = train_score_df.mean(axis=0).to_dict()"
   ]
  },
  {
   "cell_type": "code",
   "execution_count": 33,
   "metadata": {},
   "outputs": [
    {
     "data": {
      "text/plain": [
       "{'fit_time': 0.018828630447387695,\n",
       " 'score_time': 0.007877874374389648,\n",
       " 'test_roc_auc': 0.5094899838388394,\n",
       " 'train_roc_auc': 0.5385115993911377,\n",
       " 'test_f1_micro': 0.5457317073170731,\n",
       " 'train_f1_micro': 0.5535823170731706,\n",
       " 'test_f1_weighted': 0.4208084904923418,\n",
       " 'train_f1_weighted': 0.4296248164310878,\n",
       " 'test_precision': 0.4432585658656521,\n",
       " 'train_precision': 0.5257257427930914,\n",
       " 'test_recall': 0.04489795918367347,\n",
       " 'train_recall': 0.051360544217687064}"
      ]
     },
     "execution_count": 33,
     "metadata": {},
     "output_type": "execute_result"
    }
   ],
   "source": [
    "train_score_agg_dict"
   ]
  },
  {
   "cell_type": "markdown",
   "metadata": {},
   "source": [
    "## Holdout"
   ]
  },
  {
   "cell_type": "code",
   "execution_count": 34,
   "metadata": {},
   "outputs": [],
   "source": [
    "holdout_score_agg_dict = dict()\n",
    "for scorer_name in SCORING:\n",
    "    scorer = metrics.get_scorer(scorer_name)\n",
    "    score = scorer(pipeline, X_test, y_test)\n",
    "    holdout_score_agg_dict[f\"holdout_{scorer_name}\"] = score    "
   ]
  },
  {
   "cell_type": "code",
   "execution_count": 35,
   "metadata": {},
   "outputs": [
    {
     "data": {
      "text/plain": [
       "{'holdout_roc_auc': 0.5231769022325603,\n",
       " 'holdout_f1_micro': 0.5329268292682927,\n",
       " 'holdout_f1_weighted': 0.39239627148870937,\n",
       " 'holdout_precision': 0.30434782608695654,\n",
       " 'holdout_recall': 0.01871657754010695}"
      ]
     },
     "execution_count": 35,
     "metadata": {},
     "output_type": "execute_result"
    }
   ],
   "source": [
    "holdout_score_agg_dict"
   ]
  },
  {
   "cell_type": "markdown",
   "metadata": {},
   "source": [
    "### Store run info in MLflow"
   ]
  },
  {
   "cell_type": "code",
   "execution_count": 36,
   "metadata": {},
   "outputs": [],
   "source": [
    "with mlflow.start_run():\n",
    "    mlflow.log_param('data', 'fe1')\n",
    "    mlflow.log_param('num_tf', 'StandardScaler')\n",
    "    mlflow.log_param('clf', 'LogisticRegression')\n",
    "    mlflow.log_params(clf_params)\n",
    "    mlflow.log_metrics({**train_score_agg_dict, **holdout_score_agg_dict})\n",
    "    mlflow.set_tag(\"issue\", \"7\")"
   ]
  },
  {
   "cell_type": "markdown",
   "metadata": {},
   "source": [
    "# Archive"
   ]
  },
  {
   "cell_type": "code",
   "execution_count": 52,
   "metadata": {},
   "outputs": [
    {
     "data": {
      "text/plain": [
       "['accuracy',\n",
       " 'adjusted_mutual_info_score',\n",
       " 'adjusted_rand_score',\n",
       " 'average_precision',\n",
       " 'balanced_accuracy',\n",
       " 'completeness_score',\n",
       " 'explained_variance',\n",
       " 'f1',\n",
       " 'f1_macro',\n",
       " 'f1_micro',\n",
       " 'f1_samples',\n",
       " 'f1_weighted',\n",
       " 'fowlkes_mallows_score',\n",
       " 'homogeneity_score',\n",
       " 'jaccard',\n",
       " 'jaccard_macro',\n",
       " 'jaccard_micro',\n",
       " 'jaccard_samples',\n",
       " 'jaccard_weighted',\n",
       " 'max_error',\n",
       " 'mutual_info_score',\n",
       " 'neg_brier_score',\n",
       " 'neg_log_loss',\n",
       " 'neg_mean_absolute_error',\n",
       " 'neg_mean_gamma_deviance',\n",
       " 'neg_mean_poisson_deviance',\n",
       " 'neg_mean_squared_error',\n",
       " 'neg_mean_squared_log_error',\n",
       " 'neg_median_absolute_error',\n",
       " 'neg_root_mean_squared_error',\n",
       " 'normalized_mutual_info_score',\n",
       " 'precision',\n",
       " 'precision_macro',\n",
       " 'precision_micro',\n",
       " 'precision_samples',\n",
       " 'precision_weighted',\n",
       " 'r2',\n",
       " 'recall',\n",
       " 'recall_macro',\n",
       " 'recall_micro',\n",
       " 'recall_samples',\n",
       " 'recall_weighted',\n",
       " 'roc_auc',\n",
       " 'roc_auc_ovo',\n",
       " 'roc_auc_ovo_weighted',\n",
       " 'roc_auc_ovr',\n",
       " 'roc_auc_ovr_weighted',\n",
       " 'v_measure_score']"
      ]
     },
     "execution_count": 52,
     "metadata": {},
     "output_type": "execute_result"
    }
   ],
   "source": [
    "from sklearn.metrics import SCORERS\n",
    "sorted(SCORERS.keys())"
   ]
  },
  {
   "cell_type": "markdown",
   "metadata": {},
   "source": [
    "# MLflow"
   ]
  },
  {
   "cell_type": "code",
   "execution_count": 167,
   "metadata": {},
   "outputs": [
    {
     "data": {
      "text/html": [
       "<div>\n",
       "<style scoped>\n",
       "    .dataframe tbody tr th:only-of-type {\n",
       "        vertical-align: middle;\n",
       "    }\n",
       "\n",
       "    .dataframe tbody tr th {\n",
       "        vertical-align: top;\n",
       "    }\n",
       "\n",
       "    .dataframe thead th {\n",
       "        text-align: right;\n",
       "    }\n",
       "</style>\n",
       "<table border=\"1\" class=\"dataframe\">\n",
       "  <thead>\n",
       "    <tr style=\"text-align: right;\">\n",
       "      <th></th>\n",
       "      <th>run_id</th>\n",
       "      <th>experiment_id</th>\n",
       "      <th>status</th>\n",
       "      <th>artifact_uri</th>\n",
       "      <th>start_time</th>\n",
       "      <th>end_time</th>\n",
       "      <th>metrics.holdout_precision</th>\n",
       "      <th>metrics.train_precision</th>\n",
       "      <th>metrics.holdout_f1_weighted</th>\n",
       "      <th>metrics.score_time</th>\n",
       "      <th>...</th>\n",
       "      <th>params.clf</th>\n",
       "      <th>params.data</th>\n",
       "      <th>params.max_iter</th>\n",
       "      <th>params.num_tf</th>\n",
       "      <th>params.cv</th>\n",
       "      <th>tags.mlflow.source.name</th>\n",
       "      <th>tags.mlflow.source.type</th>\n",
       "      <th>tags.mlflow.user</th>\n",
       "      <th>tags.mlflow.note.content</th>\n",
       "      <th>tags.eval_set</th>\n",
       "    </tr>\n",
       "  </thead>\n",
       "  <tbody>\n",
       "    <tr>\n",
       "      <th>0</th>\n",
       "      <td>cfe84ff3ee5341cc889f79ba61d8acda</td>\n",
       "      <td>0</td>\n",
       "      <td>FINISHED</td>\n",
       "      <td>/home/quydv1/frostmourne/lich/banksim/mlruns/0...</td>\n",
       "      <td>2020-07-14 17:34:04.895000+00:00</td>\n",
       "      <td>2020-07-14 17:34:05.056000+00:00</td>\n",
       "      <td>0.479592</td>\n",
       "      <td>0.556411</td>\n",
       "      <td>0.500156</td>\n",
       "      <td>0.021375</td>\n",
       "      <td>...</td>\n",
       "      <td>LogisticRegression</td>\n",
       "      <td>fe2</td>\n",
       "      <td>2000</td>\n",
       "      <td>PowerTransformer</td>\n",
       "      <td>None</td>\n",
       "      <td>/home/quydv1/anaconda3/envs/banksim/lib/python...</td>\n",
       "      <td>LOCAL</td>\n",
       "      <td>quydv1</td>\n",
       "      <td>None</td>\n",
       "      <td>None</td>\n",
       "    </tr>\n",
       "    <tr>\n",
       "      <th>1</th>\n",
       "      <td>a1448fafcd924ea385ed2b33e2717a04</td>\n",
       "      <td>0</td>\n",
       "      <td>FINISHED</td>\n",
       "      <td>/home/quydv1/frostmourne/lich/banksim/mlruns/0...</td>\n",
       "      <td>2020-07-14 17:28:26.927000+00:00</td>\n",
       "      <td>2020-07-14 17:28:27.089000+00:00</td>\n",
       "      <td>0.460432</td>\n",
       "      <td>0.544958</td>\n",
       "      <td>0.471899</td>\n",
       "      <td>0.009517</td>\n",
       "      <td>...</td>\n",
       "      <td>LogisticRegression</td>\n",
       "      <td>fe2</td>\n",
       "      <td>2000</td>\n",
       "      <td>StandardScaler</td>\n",
       "      <td>None</td>\n",
       "      <td>/home/quydv1/anaconda3/envs/banksim/lib/python...</td>\n",
       "      <td>LOCAL</td>\n",
       "      <td>quydv1</td>\n",
       "      <td>None</td>\n",
       "      <td>None</td>\n",
       "    </tr>\n",
       "    <tr>\n",
       "      <th>2</th>\n",
       "      <td>41b94130e16048d88fa703a44f39ff8f</td>\n",
       "      <td>0</td>\n",
       "      <td>FINISHED</td>\n",
       "      <td>/home/quydv1/frostmourne/lich/banksim/mlruns/0...</td>\n",
       "      <td>2020-07-14 16:26:50.776000+00:00</td>\n",
       "      <td>2020-07-14 16:26:50.840000+00:00</td>\n",
       "      <td>NaN</td>\n",
       "      <td>NaN</td>\n",
       "      <td>NaN</td>\n",
       "      <td>NaN</td>\n",
       "      <td>...</td>\n",
       "      <td>None</td>\n",
       "      <td>None</td>\n",
       "      <td>None</td>\n",
       "      <td>None</td>\n",
       "      <td>None</td>\n",
       "      <td>/home/quydv1/anaconda3/envs/banksim/lib/python...</td>\n",
       "      <td>LOCAL</td>\n",
       "      <td>quydv1</td>\n",
       "      <td>None</td>\n",
       "      <td>None</td>\n",
       "    </tr>\n",
       "    <tr>\n",
       "      <th>3</th>\n",
       "      <td>2b054f5f9ec7457fbbdcc66fb1212b7e</td>\n",
       "      <td>0</td>\n",
       "      <td>FINISHED</td>\n",
       "      <td>/home/quydv1/frostmourne/lich/banksim/mlruns/0...</td>\n",
       "      <td>2020-07-14 16:06:36.456000+00:00</td>\n",
       "      <td>2020-07-14 16:06:36.604000+00:00</td>\n",
       "      <td>NaN</td>\n",
       "      <td>0.200000</td>\n",
       "      <td>NaN</td>\n",
       "      <td>0.012698</td>\n",
       "      <td>...</td>\n",
       "      <td>LogisticRegressionCV</td>\n",
       "      <td>fe1</td>\n",
       "      <td>1000</td>\n",
       "      <td>PowerTransformer</td>\n",
       "      <td>5</td>\n",
       "      <td>/home/quydv1/anaconda3/envs/banksim/lib/python...</td>\n",
       "      <td>LOCAL</td>\n",
       "      <td>quydv1</td>\n",
       "      <td>Ignore results due to a bug at https://github....</td>\n",
       "      <td>train</td>\n",
       "    </tr>\n",
       "  </tbody>\n",
       "</table>\n",
       "<p>4 rows × 33 columns</p>\n",
       "</div>"
      ],
      "text/plain": [
       "                             run_id experiment_id    status  \\\n",
       "0  cfe84ff3ee5341cc889f79ba61d8acda             0  FINISHED   \n",
       "1  a1448fafcd924ea385ed2b33e2717a04             0  FINISHED   \n",
       "2  41b94130e16048d88fa703a44f39ff8f             0  FINISHED   \n",
       "3  2b054f5f9ec7457fbbdcc66fb1212b7e             0  FINISHED   \n",
       "\n",
       "                                        artifact_uri  \\\n",
       "0  /home/quydv1/frostmourne/lich/banksim/mlruns/0...   \n",
       "1  /home/quydv1/frostmourne/lich/banksim/mlruns/0...   \n",
       "2  /home/quydv1/frostmourne/lich/banksim/mlruns/0...   \n",
       "3  /home/quydv1/frostmourne/lich/banksim/mlruns/0...   \n",
       "\n",
       "                        start_time                         end_time  \\\n",
       "0 2020-07-14 17:34:04.895000+00:00 2020-07-14 17:34:05.056000+00:00   \n",
       "1 2020-07-14 17:28:26.927000+00:00 2020-07-14 17:28:27.089000+00:00   \n",
       "2 2020-07-14 16:26:50.776000+00:00 2020-07-14 16:26:50.840000+00:00   \n",
       "3 2020-07-14 16:06:36.456000+00:00 2020-07-14 16:06:36.604000+00:00   \n",
       "\n",
       "   metrics.holdout_precision  metrics.train_precision  \\\n",
       "0                   0.479592                 0.556411   \n",
       "1                   0.460432                 0.544958   \n",
       "2                        NaN                      NaN   \n",
       "3                        NaN                 0.200000   \n",
       "\n",
       "   metrics.holdout_f1_weighted  metrics.score_time  ...            params.clf  \\\n",
       "0                     0.500156            0.021375  ...    LogisticRegression   \n",
       "1                     0.471899            0.009517  ...    LogisticRegression   \n",
       "2                          NaN                 NaN  ...                  None   \n",
       "3                          NaN            0.012698  ...  LogisticRegressionCV   \n",
       "\n",
       "   params.data  params.max_iter     params.num_tf  params.cv  \\\n",
       "0          fe2             2000  PowerTransformer       None   \n",
       "1          fe2             2000    StandardScaler       None   \n",
       "2         None             None              None       None   \n",
       "3          fe1             1000  PowerTransformer          5   \n",
       "\n",
       "                             tags.mlflow.source.name  tags.mlflow.source.type  \\\n",
       "0  /home/quydv1/anaconda3/envs/banksim/lib/python...                    LOCAL   \n",
       "1  /home/quydv1/anaconda3/envs/banksim/lib/python...                    LOCAL   \n",
       "2  /home/quydv1/anaconda3/envs/banksim/lib/python...                    LOCAL   \n",
       "3  /home/quydv1/anaconda3/envs/banksim/lib/python...                    LOCAL   \n",
       "\n",
       "   tags.mlflow.user                           tags.mlflow.note.content  \\\n",
       "0            quydv1                                               None   \n",
       "1            quydv1                                               None   \n",
       "2            quydv1                                               None   \n",
       "3            quydv1  Ignore results due to a bug at https://github....   \n",
       "\n",
       "   tags.eval_set  \n",
       "0           None  \n",
       "1           None  \n",
       "2           None  \n",
       "3          train  \n",
       "\n",
       "[4 rows x 33 columns]"
      ]
     },
     "execution_count": 167,
     "metadata": {},
     "output_type": "execute_result"
    }
   ],
   "source": [
    "mlflow.search_runs()"
   ]
  },
  {
   "cell_type": "code",
   "execution_count": 168,
   "metadata": {},
   "outputs": [],
   "source": [
    "run_obj = mlflow_client.get_run('cfe84ff3ee5341cc889f79ba61d8acda')"
   ]
  },
  {
   "cell_type": "code",
   "execution_count": 169,
   "metadata": {},
   "outputs": [],
   "source": [
    "mlflow_client.set_tag(run_obj.info.run_id, \"issue\", \"9\")"
   ]
  },
  {
   "cell_type": "code",
   "execution_count": null,
   "metadata": {},
   "outputs": [],
   "source": [
    "run_obj.data"
   ]
  }
 ],
 "metadata": {
  "kernelspec": {
   "display_name": "Python 3",
   "language": "python",
   "name": "python3"
  },
  "language_info": {
   "codemirror_mode": {
    "name": "ipython",
    "version": 3
   },
   "file_extension": ".py",
   "mimetype": "text/x-python",
   "name": "python",
   "nbconvert_exporter": "python",
   "pygments_lexer": "ipython3",
   "version": "3.8.3"
  }
 },
 "nbformat": 4,
 "nbformat_minor": 4
}
