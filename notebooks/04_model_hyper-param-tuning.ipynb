{
 "cells": [
  {
   "cell_type": "code",
   "execution_count": 1,
   "metadata": {},
   "outputs": [],
   "source": [
    "import sys\n",
    "import os\n",
    "\n",
    "%load_ext autoreload\n",
    "%autoreload 2\n",
    "%matplotlib inline\n",
    "\n",
    "import pandas as pd\n",
    "import numpy as np\n",
    "from matplotlib import pyplot as plt\n",
    "\n",
    "import seaborn as sns\n",
    "\n",
    "from sklearn.preprocessing import PowerTransformer\n",
    "from sklearn.preprocessing import StandardScaler\n",
    "from sklearn.preprocessing import LabelEncoder\n",
    "\n",
    "from sklearn.ensemble import RandomForestClassifier\n",
    "\n",
    "from sklearn.feature_selection import SelectFromModel\n",
    "\n",
    "from sklearn.model_selection import cross_validate\n",
    "from sklearn.model_selection import KFold, cross_val_score\n",
    "\n",
    "from sklearn.pipeline import make_pipeline\n",
    "\n",
    "from sklearn import metrics\n",
    "\n",
    "import mlflow\n",
    "local_tracking_uri = os.path.abspath('../' + 'mlruns')\n",
    "mlflow.set_tracking_uri(local_tracking_uri)\n",
    "\n",
    "mlflow_client = mlflow.tracking.MlflowClient()\n",
    "\n",
    "# Custom modules\n",
    "\n",
    "import sys\n",
    "import os\n",
    "ROOT_DIR = os.path.abspath('../')\n",
    "sys.path.insert(0, ROOT_DIR + \"/src\")\n",
    "\n",
    "import utils"
   ]
  },
  {
   "cell_type": "markdown",
   "metadata": {},
   "source": [
    "# Approach"
   ]
  },
  {
   "cell_type": "markdown",
   "metadata": {},
   "source": [
    "- Based on EDA results from notebook `01_eda`, the baseline we're going to use is 55% accuracy by predicting all customers being female.\n",
    "- Given this dataset and a timeline of a few days, a reasonable goal is to build a classifier with 70% accuracy."
   ]
  },
  {
   "cell_type": "markdown",
   "metadata": {},
   "source": [
    "# Constants"
   ]
  },
  {
   "cell_type": "code",
   "execution_count": 63,
   "metadata": {},
   "outputs": [],
   "source": [
    "TRAIN_INPUT_PATH = '../data/process/train_data_fe32.csv'\n",
    "TEST_INPUT_PATH = '../data/process/test_data_fe32.csv'\n",
    "LABEL_COL = 'gender'\n",
    "\n",
    "SCORING = ['roc_auc', 'f1_micro', 'f1_weighted', 'precision', 'recall']"
   ]
  },
  {
   "cell_type": "markdown",
   "metadata": {},
   "source": [
    "# Load input"
   ]
  },
  {
   "cell_type": "code",
   "execution_count": 64,
   "metadata": {},
   "outputs": [],
   "source": [
    "train_df = pd.read_csv(TRAIN_INPUT_PATH)\n",
    "test_df = pd.read_csv(TEST_INPUT_PATH)"
   ]
  },
  {
   "cell_type": "code",
   "execution_count": 65,
   "metadata": {},
   "outputs": [
    {
     "data": {
      "text/html": [
       "<div>\n",
       "<style scoped>\n",
       "    .dataframe tbody tr th:only-of-type {\n",
       "        vertical-align: middle;\n",
       "    }\n",
       "\n",
       "    .dataframe tbody tr th {\n",
       "        vertical-align: top;\n",
       "    }\n",
       "\n",
       "    .dataframe thead th {\n",
       "        text-align: right;\n",
       "    }\n",
       "</style>\n",
       "<table border=\"1\" class=\"dataframe\">\n",
       "  <thead>\n",
       "    <tr style=\"text-align: right;\">\n",
       "      <th></th>\n",
       "      <th>age = 2</th>\n",
       "      <th>age = 3</th>\n",
       "      <th>age = 4</th>\n",
       "      <th>age = 5</th>\n",
       "      <th>age = 1</th>\n",
       "      <th>age = 6</th>\n",
       "      <th>age = 0</th>\n",
       "      <th>age is unknown</th>\n",
       "      <th>SUM(txn_logs.amount)</th>\n",
       "      <th>SUM(txn_logs.step)</th>\n",
       "      <th>...</th>\n",
       "      <th>MODE(txn_logs.merchants.MODE(txn_logs.customer)) = C747590731</th>\n",
       "      <th>MODE(txn_logs.merchants.MODE(txn_logs.customer)) = C1175850429</th>\n",
       "      <th>MODE(txn_logs.merchants.MODE(txn_logs.customer)) = C1275518867</th>\n",
       "      <th>MODE(txn_logs.merchants.MODE(txn_logs.customer)) = C16723337</th>\n",
       "      <th>MODE(txn_logs.merchants.MODE(txn_logs.customer)) = C483912131</th>\n",
       "      <th>MODE(txn_logs.merchants.MODE(txn_logs.customer)) = C1472480119</th>\n",
       "      <th>MODE(txn_logs.merchants.MODE(txn_logs.customer)) = C1978250683</th>\n",
       "      <th>MODE(txn_logs.merchants.MODE(txn_logs.customer)) = C1817318774</th>\n",
       "      <th>MODE(txn_logs.merchants.MODE(txn_logs.customer)) is unknown</th>\n",
       "      <th>gender</th>\n",
       "    </tr>\n",
       "  </thead>\n",
       "  <tbody>\n",
       "    <tr>\n",
       "      <th>0</th>\n",
       "      <td>0</td>\n",
       "      <td>0</td>\n",
       "      <td>1</td>\n",
       "      <td>0</td>\n",
       "      <td>0</td>\n",
       "      <td>0</td>\n",
       "      <td>0</td>\n",
       "      <td>0</td>\n",
       "      <td>4716.20</td>\n",
       "      <td>14681</td>\n",
       "      <td>...</td>\n",
       "      <td>1</td>\n",
       "      <td>0</td>\n",
       "      <td>0</td>\n",
       "      <td>0</td>\n",
       "      <td>0</td>\n",
       "      <td>0</td>\n",
       "      <td>0</td>\n",
       "      <td>0</td>\n",
       "      <td>0</td>\n",
       "      <td>M</td>\n",
       "    </tr>\n",
       "    <tr>\n",
       "      <th>1</th>\n",
       "      <td>1</td>\n",
       "      <td>0</td>\n",
       "      <td>0</td>\n",
       "      <td>0</td>\n",
       "      <td>0</td>\n",
       "      <td>0</td>\n",
       "      <td>0</td>\n",
       "      <td>0</td>\n",
       "      <td>5519.77</td>\n",
       "      <td>15401</td>\n",
       "      <td>...</td>\n",
       "      <td>0</td>\n",
       "      <td>0</td>\n",
       "      <td>0</td>\n",
       "      <td>0</td>\n",
       "      <td>0</td>\n",
       "      <td>0</td>\n",
       "      <td>0</td>\n",
       "      <td>0</td>\n",
       "      <td>0</td>\n",
       "      <td>M</td>\n",
       "    </tr>\n",
       "    <tr>\n",
       "      <th>2</th>\n",
       "      <td>0</td>\n",
       "      <td>0</td>\n",
       "      <td>1</td>\n",
       "      <td>0</td>\n",
       "      <td>0</td>\n",
       "      <td>0</td>\n",
       "      <td>0</td>\n",
       "      <td>0</td>\n",
       "      <td>2693.84</td>\n",
       "      <td>2494</td>\n",
       "      <td>...</td>\n",
       "      <td>1</td>\n",
       "      <td>0</td>\n",
       "      <td>0</td>\n",
       "      <td>0</td>\n",
       "      <td>0</td>\n",
       "      <td>0</td>\n",
       "      <td>0</td>\n",
       "      <td>0</td>\n",
       "      <td>0</td>\n",
       "      <td>F</td>\n",
       "    </tr>\n",
       "    <tr>\n",
       "      <th>3</th>\n",
       "      <td>0</td>\n",
       "      <td>0</td>\n",
       "      <td>0</td>\n",
       "      <td>1</td>\n",
       "      <td>0</td>\n",
       "      <td>0</td>\n",
       "      <td>0</td>\n",
       "      <td>0</td>\n",
       "      <td>4596.03</td>\n",
       "      <td>14099</td>\n",
       "      <td>...</td>\n",
       "      <td>1</td>\n",
       "      <td>0</td>\n",
       "      <td>0</td>\n",
       "      <td>0</td>\n",
       "      <td>0</td>\n",
       "      <td>0</td>\n",
       "      <td>0</td>\n",
       "      <td>0</td>\n",
       "      <td>0</td>\n",
       "      <td>M</td>\n",
       "    </tr>\n",
       "    <tr>\n",
       "      <th>4</th>\n",
       "      <td>0</td>\n",
       "      <td>1</td>\n",
       "      <td>0</td>\n",
       "      <td>0</td>\n",
       "      <td>0</td>\n",
       "      <td>0</td>\n",
       "      <td>0</td>\n",
       "      <td>0</td>\n",
       "      <td>5739.56</td>\n",
       "      <td>15827</td>\n",
       "      <td>...</td>\n",
       "      <td>0</td>\n",
       "      <td>0</td>\n",
       "      <td>0</td>\n",
       "      <td>0</td>\n",
       "      <td>0</td>\n",
       "      <td>0</td>\n",
       "      <td>0</td>\n",
       "      <td>0</td>\n",
       "      <td>0</td>\n",
       "      <td>F</td>\n",
       "    </tr>\n",
       "    <tr>\n",
       "      <th>...</th>\n",
       "      <td>...</td>\n",
       "      <td>...</td>\n",
       "      <td>...</td>\n",
       "      <td>...</td>\n",
       "      <td>...</td>\n",
       "      <td>...</td>\n",
       "      <td>...</td>\n",
       "      <td>...</td>\n",
       "      <td>...</td>\n",
       "      <td>...</td>\n",
       "      <td>...</td>\n",
       "      <td>...</td>\n",
       "      <td>...</td>\n",
       "      <td>...</td>\n",
       "      <td>...</td>\n",
       "      <td>...</td>\n",
       "      <td>...</td>\n",
       "      <td>...</td>\n",
       "      <td>...</td>\n",
       "      <td>...</td>\n",
       "      <td>...</td>\n",
       "    </tr>\n",
       "    <tr>\n",
       "      <th>3275</th>\n",
       "      <td>0</td>\n",
       "      <td>1</td>\n",
       "      <td>0</td>\n",
       "      <td>0</td>\n",
       "      <td>0</td>\n",
       "      <td>0</td>\n",
       "      <td>0</td>\n",
       "      <td>0</td>\n",
       "      <td>2917.90</td>\n",
       "      <td>963</td>\n",
       "      <td>...</td>\n",
       "      <td>0</td>\n",
       "      <td>0</td>\n",
       "      <td>0</td>\n",
       "      <td>0</td>\n",
       "      <td>0</td>\n",
       "      <td>0</td>\n",
       "      <td>1</td>\n",
       "      <td>0</td>\n",
       "      <td>0</td>\n",
       "      <td>M</td>\n",
       "    </tr>\n",
       "    <tr>\n",
       "      <th>3276</th>\n",
       "      <td>1</td>\n",
       "      <td>0</td>\n",
       "      <td>0</td>\n",
       "      <td>0</td>\n",
       "      <td>0</td>\n",
       "      <td>0</td>\n",
       "      <td>0</td>\n",
       "      <td>0</td>\n",
       "      <td>2854.58</td>\n",
       "      <td>9566</td>\n",
       "      <td>...</td>\n",
       "      <td>1</td>\n",
       "      <td>0</td>\n",
       "      <td>0</td>\n",
       "      <td>0</td>\n",
       "      <td>0</td>\n",
       "      <td>0</td>\n",
       "      <td>0</td>\n",
       "      <td>0</td>\n",
       "      <td>0</td>\n",
       "      <td>F</td>\n",
       "    </tr>\n",
       "    <tr>\n",
       "      <th>3277</th>\n",
       "      <td>0</td>\n",
       "      <td>0</td>\n",
       "      <td>0</td>\n",
       "      <td>0</td>\n",
       "      <td>1</td>\n",
       "      <td>0</td>\n",
       "      <td>0</td>\n",
       "      <td>0</td>\n",
       "      <td>2008.11</td>\n",
       "      <td>10407</td>\n",
       "      <td>...</td>\n",
       "      <td>0</td>\n",
       "      <td>0</td>\n",
       "      <td>0</td>\n",
       "      <td>0</td>\n",
       "      <td>0</td>\n",
       "      <td>0</td>\n",
       "      <td>0</td>\n",
       "      <td>0</td>\n",
       "      <td>0</td>\n",
       "      <td>F</td>\n",
       "    </tr>\n",
       "    <tr>\n",
       "      <th>3278</th>\n",
       "      <td>0</td>\n",
       "      <td>0</td>\n",
       "      <td>1</td>\n",
       "      <td>0</td>\n",
       "      <td>0</td>\n",
       "      <td>0</td>\n",
       "      <td>0</td>\n",
       "      <td>0</td>\n",
       "      <td>390.57</td>\n",
       "      <td>960</td>\n",
       "      <td>...</td>\n",
       "      <td>0</td>\n",
       "      <td>0</td>\n",
       "      <td>1</td>\n",
       "      <td>0</td>\n",
       "      <td>0</td>\n",
       "      <td>0</td>\n",
       "      <td>0</td>\n",
       "      <td>0</td>\n",
       "      <td>0</td>\n",
       "      <td>F</td>\n",
       "    </tr>\n",
       "    <tr>\n",
       "      <th>3279</th>\n",
       "      <td>0</td>\n",
       "      <td>1</td>\n",
       "      <td>0</td>\n",
       "      <td>0</td>\n",
       "      <td>0</td>\n",
       "      <td>0</td>\n",
       "      <td>0</td>\n",
       "      <td>0</td>\n",
       "      <td>1351.55</td>\n",
       "      <td>740</td>\n",
       "      <td>...</td>\n",
       "      <td>0</td>\n",
       "      <td>0</td>\n",
       "      <td>1</td>\n",
       "      <td>0</td>\n",
       "      <td>0</td>\n",
       "      <td>0</td>\n",
       "      <td>0</td>\n",
       "      <td>0</td>\n",
       "      <td>0</td>\n",
       "      <td>F</td>\n",
       "    </tr>\n",
       "  </tbody>\n",
       "</table>\n",
       "<p>3280 rows × 416 columns</p>\n",
       "</div>"
      ],
      "text/plain": [
       "      age = 2  age = 3  age = 4  age = 5  age = 1  age = 6  age = 0  \\\n",
       "0           0        0        1        0        0        0        0   \n",
       "1           1        0        0        0        0        0        0   \n",
       "2           0        0        1        0        0        0        0   \n",
       "3           0        0        0        1        0        0        0   \n",
       "4           0        1        0        0        0        0        0   \n",
       "...       ...      ...      ...      ...      ...      ...      ...   \n",
       "3275        0        1        0        0        0        0        0   \n",
       "3276        1        0        0        0        0        0        0   \n",
       "3277        0        0        0        0        1        0        0   \n",
       "3278        0        0        1        0        0        0        0   \n",
       "3279        0        1        0        0        0        0        0   \n",
       "\n",
       "      age is unknown  SUM(txn_logs.amount)  SUM(txn_logs.step)  ...  \\\n",
       "0                  0               4716.20               14681  ...   \n",
       "1                  0               5519.77               15401  ...   \n",
       "2                  0               2693.84                2494  ...   \n",
       "3                  0               4596.03               14099  ...   \n",
       "4                  0               5739.56               15827  ...   \n",
       "...              ...                   ...                 ...  ...   \n",
       "3275               0               2917.90                 963  ...   \n",
       "3276               0               2854.58                9566  ...   \n",
       "3277               0               2008.11               10407  ...   \n",
       "3278               0                390.57                 960  ...   \n",
       "3279               0               1351.55                 740  ...   \n",
       "\n",
       "      MODE(txn_logs.merchants.MODE(txn_logs.customer)) = C747590731  \\\n",
       "0                                                     1               \n",
       "1                                                     0               \n",
       "2                                                     1               \n",
       "3                                                     1               \n",
       "4                                                     0               \n",
       "...                                                 ...               \n",
       "3275                                                  0               \n",
       "3276                                                  1               \n",
       "3277                                                  0               \n",
       "3278                                                  0               \n",
       "3279                                                  0               \n",
       "\n",
       "      MODE(txn_logs.merchants.MODE(txn_logs.customer)) = C1175850429  \\\n",
       "0                                                     0                \n",
       "1                                                     0                \n",
       "2                                                     0                \n",
       "3                                                     0                \n",
       "4                                                     0                \n",
       "...                                                 ...                \n",
       "3275                                                  0                \n",
       "3276                                                  0                \n",
       "3277                                                  0                \n",
       "3278                                                  0                \n",
       "3279                                                  0                \n",
       "\n",
       "      MODE(txn_logs.merchants.MODE(txn_logs.customer)) = C1275518867  \\\n",
       "0                                                     0                \n",
       "1                                                     0                \n",
       "2                                                     0                \n",
       "3                                                     0                \n",
       "4                                                     0                \n",
       "...                                                 ...                \n",
       "3275                                                  0                \n",
       "3276                                                  0                \n",
       "3277                                                  0                \n",
       "3278                                                  1                \n",
       "3279                                                  1                \n",
       "\n",
       "      MODE(txn_logs.merchants.MODE(txn_logs.customer)) = C16723337  \\\n",
       "0                                                     0              \n",
       "1                                                     0              \n",
       "2                                                     0              \n",
       "3                                                     0              \n",
       "4                                                     0              \n",
       "...                                                 ...              \n",
       "3275                                                  0              \n",
       "3276                                                  0              \n",
       "3277                                                  0              \n",
       "3278                                                  0              \n",
       "3279                                                  0              \n",
       "\n",
       "      MODE(txn_logs.merchants.MODE(txn_logs.customer)) = C483912131  \\\n",
       "0                                                     0               \n",
       "1                                                     0               \n",
       "2                                                     0               \n",
       "3                                                     0               \n",
       "4                                                     0               \n",
       "...                                                 ...               \n",
       "3275                                                  0               \n",
       "3276                                                  0               \n",
       "3277                                                  0               \n",
       "3278                                                  0               \n",
       "3279                                                  0               \n",
       "\n",
       "      MODE(txn_logs.merchants.MODE(txn_logs.customer)) = C1472480119  \\\n",
       "0                                                     0                \n",
       "1                                                     0                \n",
       "2                                                     0                \n",
       "3                                                     0                \n",
       "4                                                     0                \n",
       "...                                                 ...                \n",
       "3275                                                  0                \n",
       "3276                                                  0                \n",
       "3277                                                  0                \n",
       "3278                                                  0                \n",
       "3279                                                  0                \n",
       "\n",
       "      MODE(txn_logs.merchants.MODE(txn_logs.customer)) = C1978250683  \\\n",
       "0                                                     0                \n",
       "1                                                     0                \n",
       "2                                                     0                \n",
       "3                                                     0                \n",
       "4                                                     0                \n",
       "...                                                 ...                \n",
       "3275                                                  1                \n",
       "3276                                                  0                \n",
       "3277                                                  0                \n",
       "3278                                                  0                \n",
       "3279                                                  0                \n",
       "\n",
       "      MODE(txn_logs.merchants.MODE(txn_logs.customer)) = C1817318774  \\\n",
       "0                                                     0                \n",
       "1                                                     0                \n",
       "2                                                     0                \n",
       "3                                                     0                \n",
       "4                                                     0                \n",
       "...                                                 ...                \n",
       "3275                                                  0                \n",
       "3276                                                  0                \n",
       "3277                                                  0                \n",
       "3278                                                  0                \n",
       "3279                                                  0                \n",
       "\n",
       "      MODE(txn_logs.merchants.MODE(txn_logs.customer)) is unknown  gender  \n",
       "0                                                     0                 M  \n",
       "1                                                     0                 M  \n",
       "2                                                     0                 F  \n",
       "3                                                     0                 M  \n",
       "4                                                     0                 F  \n",
       "...                                                 ...               ...  \n",
       "3275                                                  0                 M  \n",
       "3276                                                  0                 F  \n",
       "3277                                                  0                 F  \n",
       "3278                                                  0                 F  \n",
       "3279                                                  0                 F  \n",
       "\n",
       "[3280 rows x 416 columns]"
      ]
     },
     "execution_count": 65,
     "metadata": {},
     "output_type": "execute_result"
    }
   ],
   "source": [
    "train_df"
   ]
  },
  {
   "cell_type": "code",
   "execution_count": 66,
   "metadata": {},
   "outputs": [],
   "source": [
    "all_df = pd.concat([train_df, test_df], axis=0)"
   ]
  },
  {
   "cell_type": "markdown",
   "metadata": {},
   "source": [
    "# Generate X, y"
   ]
  },
  {
   "cell_type": "code",
   "execution_count": 67,
   "metadata": {},
   "outputs": [],
   "source": [
    "le = LabelEncoder()"
   ]
  },
  {
   "cell_type": "code",
   "execution_count": 68,
   "metadata": {},
   "outputs": [],
   "source": [
    "X_train, y_train = train_df.drop(columns=[LABEL_COL]), le.fit_transform(train_df[LABEL_COL])\n",
    "X_test, y_test = test_df.drop(columns=[LABEL_COL]), le.transform(test_df[LABEL_COL])\n",
    "X_all, y_all = all_df.drop(columns=[LABEL_COL]), le.transform(all_df[LABEL_COL])"
   ]
  },
  {
   "cell_type": "markdown",
   "metadata": {},
   "source": [
    "# Feature selection"
   ]
  },
  {
   "cell_type": "code",
   "execution_count": 69,
   "metadata": {},
   "outputs": [
    {
     "data": {
      "text/plain": [
       "(3280, 415)"
      ]
     },
     "execution_count": 69,
     "metadata": {},
     "output_type": "execute_result"
    }
   ],
   "source": [
    "X_train.shape"
   ]
  },
  {
   "cell_type": "code",
   "execution_count": 70,
   "metadata": {},
   "outputs": [
    {
     "name": "stdout",
     "output_type": "stream",
     "text": [
      "Original shape:  (3280, 415)\n",
      "0 missing columns with threshold: 90.\n",
      "12 zero variance columns.\n",
      "240 collinear columns removed with threshold: 0.95.\n",
      "Total columns removed:  252\n",
      "Shape after feature selection: (3280, 163).\n"
     ]
    }
   ],
   "source": [
    "X_train = utils.feature_selection(X_train)"
   ]
  },
  {
   "cell_type": "code",
   "execution_count": 71,
   "metadata": {},
   "outputs": [],
   "source": [
    "X_test = X_test[X_train.columns]\n",
    "X_all = X_all[X_train.columns]"
   ]
  },
  {
   "cell_type": "markdown",
   "metadata": {},
   "source": [
    "# Hyperparm tuning"
   ]
  },
  {
   "cell_type": "code",
   "execution_count": 72,
   "metadata": {},
   "outputs": [],
   "source": [
    "random_state = 42\n",
    "num_folds = 3"
   ]
  },
  {
   "cell_type": "code",
   "execution_count": 73,
   "metadata": {},
   "outputs": [],
   "source": [
    "kf = KFold(n_splits=num_folds, shuffle=True, random_state=random_state)"
   ]
  },
  {
   "cell_type": "code",
   "execution_count": 74,
   "metadata": {},
   "outputs": [],
   "source": [
    "cnt_features = X_all.shape[1]"
   ]
  },
  {
   "cell_type": "markdown",
   "metadata": {},
   "source": [
    "## Hyperopt"
   ]
  },
  {
   "cell_type": "markdown",
   "metadata": {},
   "source": [
    "Reference: https://www.kaggle.com/ilialar/hyperparameters-tunning-with-hyperopt"
   ]
  },
  {
   "cell_type": "code",
   "execution_count": 75,
   "metadata": {},
   "outputs": [],
   "source": [
    "from hyperopt import fmin, tpe, hp, anneal, Trials"
   ]
  },
  {
   "cell_type": "code",
   "execution_count": 76,
   "metadata": {},
   "outputs": [],
   "source": [
    "def rf_f1_cv(params, random_state=random_state, cv=kf, X=X_all, y=y_all):\n",
    "    params = {'n_estimators': int(params['n_estimators']), \n",
    "              'max_depth': int(params['max_depth']),\n",
    "              'min_samples_split': int(params['min_samples_split']),\n",
    "              'min_samples_leaf': int(params['min_samples_leaf']),\n",
    "              'max_features': int(params['max_features']),\n",
    "              'bootstrap': bool(params['bootstrap'])\n",
    "             }\n",
    "    \n",
    "    model = RandomForestClassifier(random_state=random_state, **params)\n",
    "    \n",
    "    score = -cross_val_score(model, X, y, cv=cv, scoring=\"f1_micro\", n_jobs=-1).mean()\n",
    "\n",
    "    return score"
   ]
  },
  {
   "cell_type": "code",
   "execution_count": 77,
   "metadata": {
    "scrolled": true
   },
   "outputs": [
    {
     "name": "stdout",
     "output_type": "stream",
     "text": [
      "  0%|          | 33/9223372036854775807 [30:08<140441479334232191:25:52, 54.82s/trial, best loss: -0.5504881679039109]\n"
     ]
    }
   ],
   "source": [
    "space={'n_estimators': hp.quniform('n_estimators', 100, 2000, 1),\n",
    "       'max_depth' : hp.quniform('max_depth', 2, 20, 1),\n",
    "       'min_samples_split': hp.quniform('min_samples_split', 3, 50, 1),\n",
    "       'min_samples_leaf': hp.quniform('min_samples_leaf', 3, 50, 1),\n",
    "       'max_features': hp.quniform('max_features', 3, cnt_features, 1),\n",
    "       'bootstrap': hp.choice('bootstrap', (True, False))\n",
    "      }\n",
    "# n_iter = 2\n",
    "timeout = 1800\n",
    "\n",
    "trials = Trials()\n",
    "\n",
    "best=fmin(fn=rf_f1_cv, # function to optimize\n",
    "          space=space,\n",
    "          algo=tpe.suggest, # optimization algorithm, hyperotp will select its parameters automatically\n",
    "#           max_evals=n_iter, # maximum number of iterations\n",
    "          timeout=timeout,\n",
    "          trials=trials, # logging\n",
    "          rstate=np.random.RandomState(random_state), # fixing random state for the reproducibility\n",
    "         )"
   ]
  },
  {
   "cell_type": "code",
   "execution_count": 78,
   "metadata": {
    "scrolled": true
   },
   "outputs": [
    {
     "data": {
      "text/plain": [
       "{'bootstrap': 0,\n",
       " 'max_depth': 4.0,\n",
       " 'max_features': 5.0,\n",
       " 'min_samples_leaf': 36.0,\n",
       " 'min_samples_split': 27.0,\n",
       " 'n_estimators': 152.0}"
      ]
     },
     "execution_count": 78,
     "metadata": {},
     "output_type": "execute_result"
    }
   ],
   "source": [
    "best"
   ]
  },
  {
   "cell_type": "code",
   "execution_count": 15,
   "metadata": {},
   "outputs": [
    {
     "name": "stdout",
     "output_type": "stream",
     "text": [
      "  0%|          | 90/9223372036854775807 [15:02<25698253151841999:04:32, 10.03s/trial, best loss: -0.550976032342931] \n"
     ]
    }
   ],
   "source": [
    "best=fmin(fn=rf_f1_cv, # function to optimize\n",
    "          space=space,\n",
    "          algo=tpe.suggest, # optimization algorithm, hyperotp will select its parameters automatically\n",
    "#           max_evals=n_iter, # maximum number of iterations\n",
    "          timeout=900,\n",
    "          trials=trials, # logging\n",
    "          rstate=np.random.RandomState(random_state), # fixing random state for the reproducibility\n",
    "         )"
   ]
  },
  {
   "cell_type": "markdown",
   "metadata": {},
   "source": [
    "#### Visualize"
   ]
  },
  {
   "cell_type": "code",
   "execution_count": 84,
   "metadata": {},
   "outputs": [],
   "source": [
    "tpe_results = np.array([[x['result']['loss'],\n",
    "                         x['misc']['vals']['min_samples_split'][0],\n",
    "                         x['misc']['vals']['min_samples_leaf'][0],\n",
    "                         x['misc']['vals']['max_depth'][0],\n",
    "                         x['misc']['vals']['n_estimators'][0]] for x in trials.trials])\n",
    "\n",
    "tpe_results_df = pd.DataFrame(tpe_results,\n",
    "                              columns=['score', 'min_samples_split',\n",
    "                                     'min_samples_leaf', 'max_depth',\n",
    "                                     'n_estimators'])"
   ]
  },
  {
   "cell_type": "code",
   "execution_count": 85,
   "metadata": {
    "scrolled": false
   },
   "outputs": [
    {
     "data": {
      "text/plain": [
       "array([<matplotlib.axes._subplots.AxesSubplot object at 0x7fc470cce850>,\n",
       "       <matplotlib.axes._subplots.AxesSubplot object at 0x7fc470ce9bb0>,\n",
       "       <matplotlib.axes._subplots.AxesSubplot object at 0x7fc470d1ee20>,\n",
       "       <matplotlib.axes._subplots.AxesSubplot object at 0x7fc470d0d040>,\n",
       "       <matplotlib.axes._subplots.AxesSubplot object at 0x7fc470ecc190>],\n",
       "      dtype=object)"
      ]
     },
     "execution_count": 85,
     "metadata": {},
     "output_type": "execute_result"
    },
    {
     "data": {
      "image/png": "[encoded data removed]",
      "text/plain": [
       "<Figure size 720x720 with 5 Axes>"
      ]
     },
     "metadata": {
      "needs_background": "light"
     },
     "output_type": "display_data"
    }
   ],
   "source": [
    "tpe_results_df.plot(subplots=True,figsize=(10, 10))"
   ]
  },
  {
   "cell_type": "markdown",
   "metadata": {},
   "source": [
    "#### Persist trials"
   ]
  },
  {
   "cell_type": "code",
   "execution_count": 86,
   "metadata": {},
   "outputs": [],
   "source": [
    "TRIAL_PERSIST_DIR = '../data/process/'"
   ]
  },
  {
   "cell_type": "code",
   "execution_count": 87,
   "metadata": {},
   "outputs": [],
   "source": [
    "import pickle\n",
    "\n",
    "filename = f\"{TRIAL_PERSIST_DIR}/8-featuretools-fe32-rf.pkl\"\n",
    "\n",
    "# The trials database now contains 100 entries, it can be saved/reloaded with pickle or another method\n",
    "pickle.dump(trials, open(filename, \"wb\"))\n",
    "trials = pickle.load(open(filename, \"rb\"))"
   ]
  },
  {
   "cell_type": "markdown",
   "metadata": {},
   "source": [
    "# Fit"
   ]
  },
  {
   "cell_type": "code",
   "execution_count": 88,
   "metadata": {},
   "outputs": [],
   "source": [
    "clf_name = \"RandomForest\""
   ]
  },
  {
   "cell_type": "code",
   "execution_count": 89,
   "metadata": {},
   "outputs": [
    {
     "data": {
      "text/plain": [
       "{'bootstrap': 0,\n",
       " 'max_depth': 4.0,\n",
       " 'max_features': 5.0,\n",
       " 'min_samples_leaf': 36.0,\n",
       " 'min_samples_split': 27.0,\n",
       " 'n_estimators': 152.0}"
      ]
     },
     "execution_count": 89,
     "metadata": {},
     "output_type": "execute_result"
    }
   ],
   "source": [
    "best"
   ]
  },
  {
   "cell_type": "code",
   "execution_count": 90,
   "metadata": {},
   "outputs": [],
   "source": [
    "clf_params = {}\n",
    "for k, v in best.items():\n",
    "    if k in ('bootstrap'):\n",
    "        v = bool(v)\n",
    "    else:\n",
    "        v = int(v)\n",
    "    clf_params[k] = v"
   ]
  },
  {
   "cell_type": "code",
   "execution_count": 91,
   "metadata": {},
   "outputs": [],
   "source": [
    "clf = RandomForestClassifier(**clf_params)"
   ]
  },
  {
   "cell_type": "code",
   "execution_count": 92,
   "metadata": {},
   "outputs": [],
   "source": [
    "pipeline = make_pipeline(clf)"
   ]
  },
  {
   "cell_type": "code",
   "execution_count": 93,
   "metadata": {},
   "outputs": [
    {
     "data": {
      "text/plain": [
       "Pipeline(steps=[('randomforestclassifier',\n",
       "                 RandomForestClassifier(bootstrap=False, max_depth=4,\n",
       "                                        max_features=5, min_samples_leaf=36,\n",
       "                                        min_samples_split=27,\n",
       "                                        n_estimators=152))])"
      ]
     },
     "execution_count": 93,
     "metadata": {},
     "output_type": "execute_result"
    }
   ],
   "source": [
    "pipeline.fit(X_train, y_train)"
   ]
  },
  {
   "cell_type": "markdown",
   "metadata": {},
   "source": [
    "# Evaluate"
   ]
  },
  {
   "cell_type": "markdown",
   "metadata": {},
   "source": [
    "## Cross Validation"
   ]
  },
  {
   "cell_type": "code",
   "execution_count": 95,
   "metadata": {
    "scrolled": true
   },
   "outputs": [
    {
     "data": {
      "text/html": [
       "<div>\n",
       "<style scoped>\n",
       "    .dataframe tbody tr th:only-of-type {\n",
       "        vertical-align: middle;\n",
       "    }\n",
       "\n",
       "    .dataframe tbody tr th {\n",
       "        vertical-align: top;\n",
       "    }\n",
       "\n",
       "    .dataframe thead th {\n",
       "        text-align: right;\n",
       "    }\n",
       "</style>\n",
       "<table border=\"1\" class=\"dataframe\">\n",
       "  <thead>\n",
       "    <tr style=\"text-align: right;\">\n",
       "      <th></th>\n",
       "      <th>fit_time</th>\n",
       "      <th>score_time</th>\n",
       "      <th>test_roc_auc</th>\n",
       "      <th>train_roc_auc</th>\n",
       "      <th>test_f1_micro</th>\n",
       "      <th>train_f1_micro</th>\n",
       "      <th>test_f1_weighted</th>\n",
       "      <th>train_f1_weighted</th>\n",
       "      <th>test_precision</th>\n",
       "      <th>train_precision</th>\n",
       "      <th>test_recall</th>\n",
       "      <th>train_recall</th>\n",
       "    </tr>\n",
       "  </thead>\n",
       "  <tbody>\n",
       "    <tr>\n",
       "      <th>0</th>\n",
       "      <td>0.502209</td>\n",
       "      <td>0.042717</td>\n",
       "      <td>0.552028</td>\n",
       "      <td>0.675884</td>\n",
       "      <td>0.545122</td>\n",
       "      <td>0.565244</td>\n",
       "      <td>0.388082</td>\n",
       "      <td>0.429647</td>\n",
       "      <td>0.000000</td>\n",
       "      <td>0.826667</td>\n",
       "      <td>0.000000</td>\n",
       "      <td>0.042034</td>\n",
       "    </tr>\n",
       "    <tr>\n",
       "      <th>1</th>\n",
       "      <td>0.585321</td>\n",
       "      <td>0.045972</td>\n",
       "      <td>0.540858</td>\n",
       "      <td>0.671447</td>\n",
       "      <td>0.553659</td>\n",
       "      <td>0.567988</td>\n",
       "      <td>0.414733</td>\n",
       "      <td>0.436719</td>\n",
       "      <td>0.578947</td>\n",
       "      <td>0.822222</td>\n",
       "      <td>0.029810</td>\n",
       "      <td>0.050169</td>\n",
       "    </tr>\n",
       "    <tr>\n",
       "      <th>2</th>\n",
       "      <td>0.534278</td>\n",
       "      <td>0.039560</td>\n",
       "      <td>0.495863</td>\n",
       "      <td>0.667628</td>\n",
       "      <td>0.547561</td>\n",
       "      <td>0.572866</td>\n",
       "      <td>0.422555</td>\n",
       "      <td>0.460145</td>\n",
       "      <td>0.472222</td>\n",
       "      <td>0.717647</td>\n",
       "      <td>0.046070</td>\n",
       "      <td>0.082712</td>\n",
       "    </tr>\n",
       "    <tr>\n",
       "      <th>3</th>\n",
       "      <td>0.467638</td>\n",
       "      <td>0.036737</td>\n",
       "      <td>0.530360</td>\n",
       "      <td>0.688648</td>\n",
       "      <td>0.552439</td>\n",
       "      <td>0.574390</td>\n",
       "      <td>0.397925</td>\n",
       "      <td>0.449292</td>\n",
       "      <td>0.750000</td>\n",
       "      <td>0.862385</td>\n",
       "      <td>0.008130</td>\n",
       "      <td>0.063729</td>\n",
       "    </tr>\n",
       "    <tr>\n",
       "      <th>4</th>\n",
       "      <td>0.447732</td>\n",
       "      <td>0.042036</td>\n",
       "      <td>0.529092</td>\n",
       "      <td>0.678280</td>\n",
       "      <td>0.512195</td>\n",
       "      <td>0.561890</td>\n",
       "      <td>0.497336</td>\n",
       "      <td>0.419981</td>\n",
       "      <td>0.471326</td>\n",
       "      <td>0.867925</td>\n",
       "      <td>0.714674</td>\n",
       "      <td>0.031165</td>\n",
       "    </tr>\n",
       "  </tbody>\n",
       "</table>\n",
       "</div>"
      ],
      "text/plain": [
       "   fit_time  score_time  test_roc_auc  train_roc_auc  test_f1_micro  \\\n",
       "0  0.502209    0.042717      0.552028       0.675884       0.545122   \n",
       "1  0.585321    0.045972      0.540858       0.671447       0.553659   \n",
       "2  0.534278    0.039560      0.495863       0.667628       0.547561   \n",
       "3  0.467638    0.036737      0.530360       0.688648       0.552439   \n",
       "4  0.447732    0.042036      0.529092       0.678280       0.512195   \n",
       "\n",
       "   train_f1_micro  test_f1_weighted  train_f1_weighted  test_precision  \\\n",
       "0        0.565244          0.388082           0.429647        0.000000   \n",
       "1        0.567988          0.414733           0.436719        0.578947   \n",
       "2        0.572866          0.422555           0.460145        0.472222   \n",
       "3        0.574390          0.397925           0.449292        0.750000   \n",
       "4        0.561890          0.497336           0.419981        0.471326   \n",
       "\n",
       "   train_precision  test_recall  train_recall  \n",
       "0         0.826667     0.000000      0.042034  \n",
       "1         0.822222     0.029810      0.050169  \n",
       "2         0.717647     0.046070      0.082712  \n",
       "3         0.862385     0.008130      0.063729  \n",
       "4         0.867925     0.714674      0.031165  "
      ]
     },
     "metadata": {},
     "output_type": "display_data"
    },
    {
     "data": {
      "text/plain": [
       "{'fit_time': 0.5074355602264404,\n",
       " 'score_time': 0.04140424728393555,\n",
       " 'test_roc_auc': 0.5296401427872915,\n",
       " 'train_roc_auc': 0.6763772079996447,\n",
       " 'test_f1_micro': 0.5421951219512195,\n",
       " 'train_f1_micro': 0.5684756097560976,\n",
       " 'test_f1_weighted': 0.42412621229282677,\n",
       " 'train_f1_weighted': 0.4391567328002104,\n",
       " 'test_precision': 0.4544991511035654,\n",
       " 'train_precision': 0.8193691594230446,\n",
       " 'test_recall': 0.15973695063037588,\n",
       " 'train_recall': 0.053961875889945346}"
      ]
     },
     "execution_count": 95,
     "metadata": {},
     "output_type": "execute_result"
    }
   ],
   "source": [
    "train_score = cross_validate(pipeline, X_all, y_all, scoring=SCORING,\n",
    "                             cv=5, return_train_score=True)\n",
    "\n",
    "train_score_df = pd.DataFrame(train_score)\n",
    "display(train_score_df)\n",
    "\n",
    "train_score_agg_dict = train_score_df.mean(axis=0).to_dict()\n",
    "\n",
    "train_score_agg_dict"
   ]
  },
  {
   "cell_type": "markdown",
   "metadata": {},
   "source": [
    "## Holdout"
   ]
  },
  {
   "cell_type": "code",
   "execution_count": 96,
   "metadata": {},
   "outputs": [
    {
     "name": "stderr",
     "output_type": "stream",
     "text": [
      "/home/quydv1/anaconda3/envs/banksim/lib/python3.8/site-packages/sklearn/metrics/_classification.py:1221: UndefinedMetricWarning: Precision is ill-defined and being set to 0.0 due to no predicted samples. Use `zero_division` parameter to control this behavior.\n",
      "  _warn_prf(average, modifier, msg_start, len(result))\n"
     ]
    }
   ],
   "source": [
    "holdout_score_agg_dict = dict()\n",
    "for scorer_name in SCORING:\n",
    "    scorer = metrics.get_scorer(scorer_name)\n",
    "    score = scorer(pipeline, X_test, y_test)\n",
    "    holdout_score_agg_dict[f\"holdout_{scorer_name}\"] = score    "
   ]
  },
  {
   "cell_type": "code",
   "execution_count": 97,
   "metadata": {},
   "outputs": [
    {
     "data": {
      "text/plain": [
       "{'holdout_roc_auc': 0.5051401311866428,\n",
       " 'holdout_f1_micro': 0.524390243902439,\n",
       " 'holdout_f1_weighted': 0.3607804878048781,\n",
       " 'holdout_precision': 0.0,\n",
       " 'holdout_recall': 0.0}"
      ]
     },
     "execution_count": 97,
     "metadata": {},
     "output_type": "execute_result"
    }
   ],
   "source": [
    "holdout_score_agg_dict"
   ]
  },
  {
   "cell_type": "markdown",
   "metadata": {},
   "source": [
    "### Store run info in MLflow"
   ]
  },
  {
   "cell_type": "code",
   "execution_count": 98,
   "metadata": {},
   "outputs": [],
   "source": [
    "experiment = mlflow.set_experiment(\"8-featuretools\")"
   ]
  },
  {
   "cell_type": "code",
   "execution_count": 99,
   "metadata": {},
   "outputs": [],
   "source": [
    "with mlflow.start_run(experiment_id=experiment):\n",
    "    mlflow.log_param('data', 'fe32')\n",
    "    mlflow.log_param('num_tf', None)\n",
    "    mlflow.log_param('clf', clf_name)\n",
    "    mlflow.log_param('cnt_features', X_train.shape[1])\n",
    "    mlflow.log_params(clf_params)\n",
    "    mlflow.log_metrics({**train_score_agg_dict, **holdout_score_agg_dict})\n",
    "    mlflow.set_tag(\"issue\", \"8\")"
   ]
  },
  {
   "cell_type": "markdown",
   "metadata": {},
   "source": [
    "# Feature importance"
   ]
  },
  {
   "cell_type": "code",
   "execution_count": 100,
   "metadata": {},
   "outputs": [
    {
     "data": {
      "text/html": [
       "<style  type=\"text/css\" >\n",
       "    #T_ad52a754_c741_11ea_93bc_3b862cb5fdd8row0_col0 {\n",
       "            width:  10em;\n",
       "             height:  80%;\n",
       "            background:  linear-gradient(90deg,#d65f5f 100.0%, transparent 100.0%);\n",
       "        }    #T_ad52a754_c741_11ea_93bc_3b862cb5fdd8row1_col0 {\n",
       "            width:  10em;\n",
       "             height:  80%;\n",
       "            background:  linear-gradient(90deg,#d65f5f 46.1%, transparent 46.1%);\n",
       "        }    #T_ad52a754_c741_11ea_93bc_3b862cb5fdd8row2_col0 {\n",
       "            width:  10em;\n",
       "             height:  80%;\n",
       "            background:  linear-gradient(90deg,#d65f5f 36.1%, transparent 36.1%);\n",
       "        }    #T_ad52a754_c741_11ea_93bc_3b862cb5fdd8row3_col0 {\n",
       "            width:  10em;\n",
       "             height:  80%;\n",
       "            background:  linear-gradient(90deg,#d65f5f 31.8%, transparent 31.8%);\n",
       "        }    #T_ad52a754_c741_11ea_93bc_3b862cb5fdd8row4_col0 {\n",
       "            width:  10em;\n",
       "             height:  80%;\n",
       "            background:  linear-gradient(90deg,#d65f5f 29.3%, transparent 29.3%);\n",
       "        }    #T_ad52a754_c741_11ea_93bc_3b862cb5fdd8row5_col0 {\n",
       "            width:  10em;\n",
       "             height:  80%;\n",
       "            background:  linear-gradient(90deg,#d65f5f 24.3%, transparent 24.3%);\n",
       "        }    #T_ad52a754_c741_11ea_93bc_3b862cb5fdd8row6_col0 {\n",
       "            width:  10em;\n",
       "             height:  80%;\n",
       "            background:  linear-gradient(90deg,#d65f5f 23.2%, transparent 23.2%);\n",
       "        }    #T_ad52a754_c741_11ea_93bc_3b862cb5fdd8row7_col0 {\n",
       "            width:  10em;\n",
       "             height:  80%;\n",
       "            background:  linear-gradient(90deg,#d65f5f 19.0%, transparent 19.0%);\n",
       "        }    #T_ad52a754_c741_11ea_93bc_3b862cb5fdd8row8_col0 {\n",
       "            width:  10em;\n",
       "             height:  80%;\n",
       "            background:  linear-gradient(90deg,#d65f5f 16.0%, transparent 16.0%);\n",
       "        }    #T_ad52a754_c741_11ea_93bc_3b862cb5fdd8row9_col0 {\n",
       "            width:  10em;\n",
       "             height:  80%;\n",
       "            background:  linear-gradient(90deg,#d65f5f 12.1%, transparent 12.1%);\n",
       "        }    #T_ad52a754_c741_11ea_93bc_3b862cb5fdd8row10_col0 {\n",
       "            width:  10em;\n",
       "             height:  80%;\n",
       "            background:  linear-gradient(90deg,#d65f5f 11.5%, transparent 11.5%);\n",
       "        }    #T_ad52a754_c741_11ea_93bc_3b862cb5fdd8row11_col0 {\n",
       "            width:  10em;\n",
       "             height:  80%;\n",
       "            background:  linear-gradient(90deg,#d65f5f 10.9%, transparent 10.9%);\n",
       "        }    #T_ad52a754_c741_11ea_93bc_3b862cb5fdd8row12_col0 {\n",
       "            width:  10em;\n",
       "             height:  80%;\n",
       "            background:  linear-gradient(90deg,#d65f5f 9.1%, transparent 9.1%);\n",
       "        }    #T_ad52a754_c741_11ea_93bc_3b862cb5fdd8row13_col0 {\n",
       "            width:  10em;\n",
       "             height:  80%;\n",
       "            background:  linear-gradient(90deg,#d65f5f 8.3%, transparent 8.3%);\n",
       "        }    #T_ad52a754_c741_11ea_93bc_3b862cb5fdd8row14_col0 {\n",
       "            width:  10em;\n",
       "             height:  80%;\n",
       "            background:  linear-gradient(90deg,#d65f5f 4.6%, transparent 4.6%);\n",
       "        }    #T_ad52a754_c741_11ea_93bc_3b862cb5fdd8row15_col0 {\n",
       "            width:  10em;\n",
       "             height:  80%;\n",
       "            background:  linear-gradient(90deg,#d65f5f 2.9%, transparent 2.9%);\n",
       "        }    #T_ad52a754_c741_11ea_93bc_3b862cb5fdd8row16_col0 {\n",
       "            width:  10em;\n",
       "             height:  80%;\n",
       "            background:  linear-gradient(90deg,#d65f5f 1.8%, transparent 1.8%);\n",
       "        }    #T_ad52a754_c741_11ea_93bc_3b862cb5fdd8row17_col0 {\n",
       "            width:  10em;\n",
       "             height:  80%;\n",
       "            background:  linear-gradient(90deg,#d65f5f 1.2%, transparent 1.2%);\n",
       "        }    #T_ad52a754_c741_11ea_93bc_3b862cb5fdd8row18_col0 {\n",
       "            width:  10em;\n",
       "             height:  80%;\n",
       "            background:  linear-gradient(90deg,#d65f5f 0.5%, transparent 0.5%);\n",
       "        }    #T_ad52a754_c741_11ea_93bc_3b862cb5fdd8row19_col0 {\n",
       "            width:  10em;\n",
       "             height:  80%;\n",
       "        }</style><table id=\"T_ad52a754_c741_11ea_93bc_3b862cb5fdd8\" ><thead>    <tr>        <th class=\"blank level0\" ></th>        <th class=\"col_heading level0 col0\" >fi</th>    </tr></thead><tbody>\n",
       "                <tr>\n",
       "                        <th id=\"T_ad52a754_c741_11ea_93bc_3b862cb5fdd8level0_row0\" class=\"row_heading level0 row0\" >SUM(txn_logs.step WHERE merchants.category = es_health)</th>\n",
       "                        <td id=\"T_ad52a754_c741_11ea_93bc_3b862cb5fdd8row0_col0\" class=\"data row0 col0\" >0.037643</td>\n",
       "            </tr>\n",
       "            <tr>\n",
       "                        <th id=\"T_ad52a754_c741_11ea_93bc_3b862cb5fdd8level0_row1\" class=\"row_heading level0 row1\" >SUM(txn_logs.amount WHERE merchants.category = es_wellnessandbeauty)</th>\n",
       "                        <td id=\"T_ad52a754_c741_11ea_93bc_3b862cb5fdd8row1_col0\" class=\"data row1 col0\" >0.025499</td>\n",
       "            </tr>\n",
       "            <tr>\n",
       "                        <th id=\"T_ad52a754_c741_11ea_93bc_3b862cb5fdd8level0_row2\" class=\"row_heading level0 row2\" >SUM(txn_logs.merchants.MAX(txn_logs.step) WHERE merchants.category = es_health)</th>\n",
       "                        <td id=\"T_ad52a754_c741_11ea_93bc_3b862cb5fdd8row2_col0\" class=\"data row2 col0\" >0.023252</td>\n",
       "            </tr>\n",
       "            <tr>\n",
       "                        <th id=\"T_ad52a754_c741_11ea_93bc_3b862cb5fdd8level0_row3\" class=\"row_heading level0 row3\" >MEAN(txn_logs.merchants.merchant_female_perc)</th>\n",
       "                        <td id=\"T_ad52a754_c741_11ea_93bc_3b862cb5fdd8row3_col0\" class=\"data row3 col0\" >0.022290</td>\n",
       "            </tr>\n",
       "            <tr>\n",
       "                        <th id=\"T_ad52a754_c741_11ea_93bc_3b862cb5fdd8level0_row4\" class=\"row_heading level0 row4\" >SKEW(txn_logs.merchants.MIN(txn_logs.amount))</th>\n",
       "                        <td id=\"T_ad52a754_c741_11ea_93bc_3b862cb5fdd8row4_col0\" class=\"data row4 col0\" >0.021725</td>\n",
       "            </tr>\n",
       "            <tr>\n",
       "                        <th id=\"T_ad52a754_c741_11ea_93bc_3b862cb5fdd8level0_row5\" class=\"row_heading level0 row5\" >SUM(txn_logs.merchants.SKEW(txn_logs.step) WHERE merchants.category = es_health)</th>\n",
       "                        <td id=\"T_ad52a754_c741_11ea_93bc_3b862cb5fdd8row5_col0\" class=\"data row5 col0\" >0.020590</td>\n",
       "            </tr>\n",
       "            <tr>\n",
       "                        <th id=\"T_ad52a754_c741_11ea_93bc_3b862cb5fdd8level0_row6\" class=\"row_heading level0 row6\" >SUM(txn_logs.merchants.SKEW(txn_logs.step) WHERE merchants.category = es_wellnessandbeauty)</th>\n",
       "                        <td id=\"T_ad52a754_c741_11ea_93bc_3b862cb5fdd8row6_col0\" class=\"data row6 col0\" >0.020347</td>\n",
       "            </tr>\n",
       "            <tr>\n",
       "                        <th id=\"T_ad52a754_c741_11ea_93bc_3b862cb5fdd8level0_row7\" class=\"row_heading level0 row7\" >SUM(txn_logs.merchants.MIN(txn_logs.amount) WHERE merchants.category = es_health)</th>\n",
       "                        <td id=\"T_ad52a754_c741_11ea_93bc_3b862cb5fdd8row7_col0\" class=\"data row7 col0\" >0.019391</td>\n",
       "            </tr>\n",
       "            <tr>\n",
       "                        <th id=\"T_ad52a754_c741_11ea_93bc_3b862cb5fdd8level0_row8\" class=\"row_heading level0 row8\" >SUM(txn_logs.merchants.SKEW(txn_logs.amount))</th>\n",
       "                        <td id=\"T_ad52a754_c741_11ea_93bc_3b862cb5fdd8row8_col0\" class=\"data row8 col0\" >0.018717</td>\n",
       "            </tr>\n",
       "            <tr>\n",
       "                        <th id=\"T_ad52a754_c741_11ea_93bc_3b862cb5fdd8level0_row9\" class=\"row_heading level0 row9\" >SUM(txn_logs.merchants.PERCENT_TRUE(txn_logs.fraud) WHERE merchants.category = es_wellnessandbeauty)</th>\n",
       "                        <td id=\"T_ad52a754_c741_11ea_93bc_3b862cb5fdd8row9_col0\" class=\"data row9 col0\" >0.017838</td>\n",
       "            </tr>\n",
       "            <tr>\n",
       "                        <th id=\"T_ad52a754_c741_11ea_93bc_3b862cb5fdd8level0_row10\" class=\"row_heading level0 row10\" >SKEW(txn_logs.merchants.SKEW(txn_logs.amount))</th>\n",
       "                        <td id=\"T_ad52a754_c741_11ea_93bc_3b862cb5fdd8row10_col0\" class=\"data row10 col0\" >0.017705</td>\n",
       "            </tr>\n",
       "            <tr>\n",
       "                        <th id=\"T_ad52a754_c741_11ea_93bc_3b862cb5fdd8level0_row11\" class=\"row_heading level0 row11\" >SUM(txn_logs.amount WHERE merchants.category = es_health)</th>\n",
       "                        <td id=\"T_ad52a754_c741_11ea_93bc_3b862cb5fdd8row11_col0\" class=\"data row11 col0\" >0.017578</td>\n",
       "            </tr>\n",
       "            <tr>\n",
       "                        <th id=\"T_ad52a754_c741_11ea_93bc_3b862cb5fdd8level0_row12\" class=\"row_heading level0 row12\" >MAX(txn_logs.merchants.SKEW(txn_logs.step))</th>\n",
       "                        <td id=\"T_ad52a754_c741_11ea_93bc_3b862cb5fdd8row12_col0\" class=\"data row12 col0\" >0.017154</td>\n",
       "            </tr>\n",
       "            <tr>\n",
       "                        <th id=\"T_ad52a754_c741_11ea_93bc_3b862cb5fdd8level0_row13\" class=\"row_heading level0 row13\" >STD(txn_logs.merchants.STD(txn_logs.step))</th>\n",
       "                        <td id=\"T_ad52a754_c741_11ea_93bc_3b862cb5fdd8row13_col0\" class=\"data row13 col0\" >0.016988</td>\n",
       "            </tr>\n",
       "            <tr>\n",
       "                        <th id=\"T_ad52a754_c741_11ea_93bc_3b862cb5fdd8level0_row14\" class=\"row_heading level0 row14\" >MEAN(txn_logs.step)</th>\n",
       "                        <td id=\"T_ad52a754_c741_11ea_93bc_3b862cb5fdd8row14_col0\" class=\"data row14 col0\" >0.016160</td>\n",
       "            </tr>\n",
       "            <tr>\n",
       "                        <th id=\"T_ad52a754_c741_11ea_93bc_3b862cb5fdd8level0_row15\" class=\"row_heading level0 row15\" >SUM(txn_logs.merchants.SKEW(txn_logs.step) WHERE merchants.category = es_sportsandtoys)</th>\n",
       "                        <td id=\"T_ad52a754_c741_11ea_93bc_3b862cb5fdd8row15_col0\" class=\"data row15 col0\" >0.015776</td>\n",
       "            </tr>\n",
       "            <tr>\n",
       "                        <th id=\"T_ad52a754_c741_11ea_93bc_3b862cb5fdd8level0_row16\" class=\"row_heading level0 row16\" >MEAN(txn_logs.merchants.NUM_UNIQUE(txn_logs.customer))</th>\n",
       "                        <td id=\"T_ad52a754_c741_11ea_93bc_3b862cb5fdd8row16_col0\" class=\"data row16 col0\" >0.015515</td>\n",
       "            </tr>\n",
       "            <tr>\n",
       "                        <th id=\"T_ad52a754_c741_11ea_93bc_3b862cb5fdd8level0_row17\" class=\"row_heading level0 row17\" >SUM(txn_logs.amount)</th>\n",
       "                        <td id=\"T_ad52a754_c741_11ea_93bc_3b862cb5fdd8row17_col0\" class=\"data row17 col0\" >0.015377</td>\n",
       "            </tr>\n",
       "            <tr>\n",
       "                        <th id=\"T_ad52a754_c741_11ea_93bc_3b862cb5fdd8level0_row18\" class=\"row_heading level0 row18\" >SKEW(txn_logs.merchants.COUNT(txn_logs))</th>\n",
       "                        <td id=\"T_ad52a754_c741_11ea_93bc_3b862cb5fdd8row18_col0\" class=\"data row18 col0\" >0.015237</td>\n",
       "            </tr>\n",
       "            <tr>\n",
       "                        <th id=\"T_ad52a754_c741_11ea_93bc_3b862cb5fdd8level0_row19\" class=\"row_heading level0 row19\" >STD(txn_logs.merchants.MEAN(txn_logs.amount))</th>\n",
       "                        <td id=\"T_ad52a754_c741_11ea_93bc_3b862cb5fdd8row19_col0\" class=\"data row19 col0\" >0.015115</td>\n",
       "            </tr>\n",
       "    </tbody></table>"
      ],
      "text/plain": [
       "<pandas.io.formats.style.Styler at 0x7fc4710a72b0>"
      ]
     },
     "execution_count": 100,
     "metadata": {},
     "output_type": "execute_result"
    }
   ],
   "source": [
    "fi_df = pd.DataFrame({'fi': clf.feature_importances_}, index=X_train.columns)\n",
    "fi_df.sort_values(['fi'], ascending=False).head(20) \\\n",
    "    .style.bar()"
   ]
  },
  {
   "cell_type": "markdown",
   "metadata": {},
   "source": [
    "# Learning curve"
   ]
  },
  {
   "cell_type": "code",
   "execution_count": 101,
   "metadata": {},
   "outputs": [
    {
     "data": {
      "image/png": "[encoded data removed]",
      "text/plain": [
       "<Figure size 720x1080 with 6 Axes>"
      ]
     },
     "metadata": {
      "needs_background": "light"
     },
     "output_type": "display_data"
    }
   ],
   "source": [
    "fig, axes = plt.subplots(3, 2, figsize=(10, 15))\n",
    "cv = 5\n",
    "title = f\"Learning Curves {clf_name} (ROC-AUC)\"\n",
    "train_sizes, train_scores, test_scores = \\\n",
    "    utils.plot_learning_curve(clf, title, X_all, y_all, axes=axes[:, 0], ylim=(0.7, 1.01),\n",
    "                              cv=cv, n_jobs=8, scoring='roc_auc')\n",
    "\n",
    "title = f\"Learning Curves {clf_name} (F1-micro)\"\n",
    "train_sizes, train_scores, test_scores = \\\n",
    "    utils.plot_learning_curve(clf, title, X_all, y_all, axes=axes[:, 1], ylim=(0.7, 1.01),\n",
    "                              cv=cv, n_jobs=8, scoring='f1_micro')\n",
    "\n",
    "plt.show()"
   ]
  },
  {
   "cell_type": "markdown",
   "metadata": {},
   "source": [
    "# SelectFromModel"
   ]
  },
  {
   "cell_type": "code",
   "execution_count": 102,
   "metadata": {},
   "outputs": [
    {
     "data": {
      "text/plain": [
       "(4100, 70)"
      ]
     },
     "execution_count": 102,
     "metadata": {},
     "output_type": "execute_result"
    }
   ],
   "source": [
    "clf = pipeline.named_steps['randomforestclassifier']\n",
    "\n",
    "fs = SelectFromModel(clf, prefit=True)\n",
    "\n",
    "X_fs = fs.transform(X_all)\n",
    "\n",
    "X_fs.shape"
   ]
  },
  {
   "cell_type": "code",
   "execution_count": 103,
   "metadata": {
    "scrolled": true
   },
   "outputs": [
    {
     "data": {
      "text/html": [
       "<div>\n",
       "<style scoped>\n",
       "    .dataframe tbody tr th:only-of-type {\n",
       "        vertical-align: middle;\n",
       "    }\n",
       "\n",
       "    .dataframe tbody tr th {\n",
       "        vertical-align: top;\n",
       "    }\n",
       "\n",
       "    .dataframe thead th {\n",
       "        text-align: right;\n",
       "    }\n",
       "</style>\n",
       "<table border=\"1\" class=\"dataframe\">\n",
       "  <thead>\n",
       "    <tr style=\"text-align: right;\">\n",
       "      <th></th>\n",
       "      <th>fit_time</th>\n",
       "      <th>score_time</th>\n",
       "      <th>test_roc_auc</th>\n",
       "      <th>train_roc_auc</th>\n",
       "      <th>test_f1_micro</th>\n",
       "      <th>train_f1_micro</th>\n",
       "      <th>test_f1_weighted</th>\n",
       "      <th>train_f1_weighted</th>\n",
       "      <th>test_precision</th>\n",
       "      <th>train_precision</th>\n",
       "      <th>test_recall</th>\n",
       "      <th>train_recall</th>\n",
       "    </tr>\n",
       "  </thead>\n",
       "  <tbody>\n",
       "    <tr>\n",
       "      <th>0</th>\n",
       "      <td>0.772220</td>\n",
       "      <td>0.035428</td>\n",
       "      <td>0.549505</td>\n",
       "      <td>0.684495</td>\n",
       "      <td>0.556098</td>\n",
       "      <td>0.584451</td>\n",
       "      <td>0.452108</td>\n",
       "      <td>0.480150</td>\n",
       "      <td>0.542373</td>\n",
       "      <td>0.782828</td>\n",
       "      <td>0.086721</td>\n",
       "      <td>0.105085</td>\n",
       "    </tr>\n",
       "    <tr>\n",
       "      <th>1</th>\n",
       "      <td>0.823475</td>\n",
       "      <td>0.036017</td>\n",
       "      <td>0.543874</td>\n",
       "      <td>0.680980</td>\n",
       "      <td>0.560976</td>\n",
       "      <td>0.581707</td>\n",
       "      <td>0.445558</td>\n",
       "      <td>0.478405</td>\n",
       "      <td>0.604651</td>\n",
       "      <td>0.748792</td>\n",
       "      <td>0.070461</td>\n",
       "      <td>0.105085</td>\n",
       "    </tr>\n",
       "    <tr>\n",
       "      <th>2</th>\n",
       "      <td>0.781329</td>\n",
       "      <td>0.033591</td>\n",
       "      <td>0.494391</td>\n",
       "      <td>0.674874</td>\n",
       "      <td>0.547561</td>\n",
       "      <td>0.579878</td>\n",
       "      <td>0.442342</td>\n",
       "      <td>0.494833</td>\n",
       "      <td>0.483333</td>\n",
       "      <td>0.653968</td>\n",
       "      <td>0.078591</td>\n",
       "      <td>0.139661</td>\n",
       "    </tr>\n",
       "    <tr>\n",
       "      <th>3</th>\n",
       "      <td>0.829209</td>\n",
       "      <td>0.038330</td>\n",
       "      <td>0.538064</td>\n",
       "      <td>0.689765</td>\n",
       "      <td>0.554878</td>\n",
       "      <td>0.591463</td>\n",
       "      <td>0.435332</td>\n",
       "      <td>0.503012</td>\n",
       "      <td>0.550000</td>\n",
       "      <td>0.741935</td>\n",
       "      <td>0.059621</td>\n",
       "      <td>0.140339</td>\n",
       "    </tr>\n",
       "    <tr>\n",
       "      <th>4</th>\n",
       "      <td>0.907537</td>\n",
       "      <td>0.049443</td>\n",
       "      <td>0.524258</td>\n",
       "      <td>0.678865</td>\n",
       "      <td>0.489024</td>\n",
       "      <td>0.569512</td>\n",
       "      <td>0.426959</td>\n",
       "      <td>0.441457</td>\n",
       "      <td>0.462882</td>\n",
       "      <td>0.813725</td>\n",
       "      <td>0.864130</td>\n",
       "      <td>0.056233</td>\n",
       "    </tr>\n",
       "  </tbody>\n",
       "</table>\n",
       "</div>"
      ],
      "text/plain": [
       "   fit_time  score_time  test_roc_auc  train_roc_auc  test_f1_micro  \\\n",
       "0  0.772220    0.035428      0.549505       0.684495       0.556098   \n",
       "1  0.823475    0.036017      0.543874       0.680980       0.560976   \n",
       "2  0.781329    0.033591      0.494391       0.674874       0.547561   \n",
       "3  0.829209    0.038330      0.538064       0.689765       0.554878   \n",
       "4  0.907537    0.049443      0.524258       0.678865       0.489024   \n",
       "\n",
       "   train_f1_micro  test_f1_weighted  train_f1_weighted  test_precision  \\\n",
       "0        0.584451          0.452108           0.480150        0.542373   \n",
       "1        0.581707          0.445558           0.478405        0.604651   \n",
       "2        0.579878          0.442342           0.494833        0.483333   \n",
       "3        0.591463          0.435332           0.503012        0.550000   \n",
       "4        0.569512          0.426959           0.441457        0.462882   \n",
       "\n",
       "   train_precision  test_recall  train_recall  \n",
       "0         0.782828     0.086721      0.105085  \n",
       "1         0.748792     0.070461      0.105085  \n",
       "2         0.653968     0.078591      0.139661  \n",
       "3         0.741935     0.059621      0.140339  \n",
       "4         0.813725     0.864130      0.056233  "
      ]
     },
     "metadata": {},
     "output_type": "display_data"
    },
    {
     "data": {
      "text/plain": [
       "{'fit_time': 0.8227539539337159,\n",
       " 'score_time': 0.038561773300170896,\n",
       " 'test_roc_auc': 0.5300182231892205,\n",
       " 'train_roc_auc': 0.681795513666037,\n",
       " 'test_f1_micro': 0.5417073170731708,\n",
       " 'train_f1_micro': 0.5814024390243901,\n",
       " 'test_f1_weighted': 0.44045988312156237,\n",
       " 'train_f1_weighted': 0.47957155806031626,\n",
       " 'test_precision': 0.5286478947099665,\n",
       " 'train_precision': 0.7482499562789968,\n",
       " 'test_recall': 0.23190467774242957,\n",
       " 'train_recall': 0.10928051077120941}"
      ]
     },
     "execution_count": 103,
     "metadata": {},
     "output_type": "execute_result"
    }
   ],
   "source": [
    "fs_score = cross_validate(pipeline, X_fs, y_all, scoring=SCORING,\n",
    "                          cv=5, return_train_score=True)\n",
    "\n",
    "fs_score_df = pd.DataFrame(fs_score)\n",
    "display(fs_score_df)\n",
    "\n",
    "fs_score_agg_dict = fs_score_df.mean(axis=0).to_dict()\n",
    "\n",
    "fs_score_agg_dict"
   ]
  },
  {
   "cell_type": "code",
   "execution_count": 104,
   "metadata": {},
   "outputs": [],
   "source": [
    "with mlflow.start_run(experiment_id=experiment):\n",
    "    mlflow.log_param('data', 'fe32')\n",
    "    mlflow.log_param('num_tf', None)\n",
    "    mlflow.log_param('clf', clf_name)\n",
    "    mlflow.log_param('cnt_features', X_fs.shape[1])\n",
    "    mlflow.log_params(clf_params)\n",
    "    mlflow.log_metrics(fs_score_agg_dict)\n",
    "    mlflow.set_tag(\"issue\", \"8\")"
   ]
  },
  {
   "cell_type": "markdown",
   "metadata": {},
   "source": [
    "Reducing from 86 features to 30 features does not affect model's performance. In production, this will be a huge advantages because of less complexity, less time required to produce and maintain the features."
   ]
  },
  {
   "cell_type": "markdown",
   "metadata": {},
   "source": [
    "# Archive"
   ]
  },
  {
   "cell_type": "code",
   "execution_count": 52,
   "metadata": {},
   "outputs": [
    {
     "data": {
      "text/plain": [
       "['accuracy',\n",
       " 'adjusted_mutual_info_score',\n",
       " 'adjusted_rand_score',\n",
       " 'average_precision',\n",
       " 'balanced_accuracy',\n",
       " 'completeness_score',\n",
       " 'explained_variance',\n",
       " 'f1',\n",
       " 'f1_macro',\n",
       " 'f1_micro',\n",
       " 'f1_samples',\n",
       " 'f1_weighted',\n",
       " 'fowlkes_mallows_score',\n",
       " 'homogeneity_score',\n",
       " 'jaccard',\n",
       " 'jaccard_macro',\n",
       " 'jaccard_micro',\n",
       " 'jaccard_samples',\n",
       " 'jaccard_weighted',\n",
       " 'max_error',\n",
       " 'mutual_info_score',\n",
       " 'neg_brier_score',\n",
       " 'neg_log_loss',\n",
       " 'neg_mean_absolute_error',\n",
       " 'neg_mean_gamma_deviance',\n",
       " 'neg_mean_poisson_deviance',\n",
       " 'neg_mean_squared_error',\n",
       " 'neg_mean_squared_log_error',\n",
       " 'neg_median_absolute_error',\n",
       " 'neg_root_mean_squared_error',\n",
       " 'normalized_mutual_info_score',\n",
       " 'precision',\n",
       " 'precision_macro',\n",
       " 'precision_micro',\n",
       " 'precision_samples',\n",
       " 'precision_weighted',\n",
       " 'r2',\n",
       " 'recall',\n",
       " 'recall_macro',\n",
       " 'recall_micro',\n",
       " 'recall_samples',\n",
       " 'recall_weighted',\n",
       " 'roc_auc',\n",
       " 'roc_auc_ovo',\n",
       " 'roc_auc_ovo_weighted',\n",
       " 'roc_auc_ovr',\n",
       " 'roc_auc_ovr_weighted',\n",
       " 'v_measure_score']"
      ]
     },
     "execution_count": 52,
     "metadata": {},
     "output_type": "execute_result"
    }
   ],
   "source": [
    "from sklearn.metrics import SCORERS\n",
    "sorted(SCORERS.keys())"
   ]
  },
  {
   "cell_type": "markdown",
   "metadata": {},
   "source": [
    "# MLflow"
   ]
  },
  {
   "cell_type": "code",
   "execution_count": 167,
   "metadata": {},
   "outputs": [
    {
     "data": {
      "text/html": [
       "<div>\n",
       "<style scoped>\n",
       "    .dataframe tbody tr th:only-of-type {\n",
       "        vertical-align: middle;\n",
       "    }\n",
       "\n",
       "    .dataframe tbody tr th {\n",
       "        vertical-align: top;\n",
       "    }\n",
       "\n",
       "    .dataframe thead th {\n",
       "        text-align: right;\n",
       "    }\n",
       "</style>\n",
       "<table border=\"1\" class=\"dataframe\">\n",
       "  <thead>\n",
       "    <tr style=\"text-align: right;\">\n",
       "      <th></th>\n",
       "      <th>run_id</th>\n",
       "      <th>experiment_id</th>\n",
       "      <th>status</th>\n",
       "      <th>artifact_uri</th>\n",
       "      <th>start_time</th>\n",
       "      <th>end_time</th>\n",
       "      <th>metrics.holdout_precision</th>\n",
       "      <th>metrics.train_precision</th>\n",
       "      <th>metrics.holdout_f1_weighted</th>\n",
       "      <th>metrics.score_time</th>\n",
       "      <th>...</th>\n",
       "      <th>params.clf</th>\n",
       "      <th>params.data</th>\n",
       "      <th>params.max_iter</th>\n",
       "      <th>params.num_tf</th>\n",
       "      <th>params.cv</th>\n",
       "      <th>tags.mlflow.source.name</th>\n",
       "      <th>tags.mlflow.source.type</th>\n",
       "      <th>tags.mlflow.user</th>\n",
       "      <th>tags.mlflow.note.content</th>\n",
       "      <th>tags.eval_set</th>\n",
       "    </tr>\n",
       "  </thead>\n",
       "  <tbody>\n",
       "    <tr>\n",
       "      <th>0</th>\n",
       "      <td>cfe84ff3ee5341cc889f79ba61d8acda</td>\n",
       "      <td>0</td>\n",
       "      <td>FINISHED</td>\n",
       "      <td>/home/quydv1/frostmourne/lich/banksim/mlruns/0...</td>\n",
       "      <td>2020-07-14 17:34:04.895000+00:00</td>\n",
       "      <td>2020-07-14 17:34:05.056000+00:00</td>\n",
       "      <td>0.479592</td>\n",
       "      <td>0.556411</td>\n",
       "      <td>0.500156</td>\n",
       "      <td>0.021375</td>\n",
       "      <td>...</td>\n",
       "      <td>LogisticRegression</td>\n",
       "      <td>fe2</td>\n",
       "      <td>2000</td>\n",
       "      <td>PowerTransformer</td>\n",
       "      <td>None</td>\n",
       "      <td>/home/quydv1/anaconda3/envs/banksim/lib/python...</td>\n",
       "      <td>LOCAL</td>\n",
       "      <td>quydv1</td>\n",
       "      <td>None</td>\n",
       "      <td>None</td>\n",
       "    </tr>\n",
       "    <tr>\n",
       "      <th>1</th>\n",
       "      <td>a1448fafcd924ea385ed2b33e2717a04</td>\n",
       "      <td>0</td>\n",
       "      <td>FINISHED</td>\n",
       "      <td>/home/quydv1/frostmourne/lich/banksim/mlruns/0...</td>\n",
       "      <td>2020-07-14 17:28:26.927000+00:00</td>\n",
       "      <td>2020-07-14 17:28:27.089000+00:00</td>\n",
       "      <td>0.460432</td>\n",
       "      <td>0.544958</td>\n",
       "      <td>0.471899</td>\n",
       "      <td>0.009517</td>\n",
       "      <td>...</td>\n",
       "      <td>LogisticRegression</td>\n",
       "      <td>fe2</td>\n",
       "      <td>2000</td>\n",
       "      <td>StandardScaler</td>\n",
       "      <td>None</td>\n",
       "      <td>/home/quydv1/anaconda3/envs/banksim/lib/python...</td>\n",
       "      <td>LOCAL</td>\n",
       "      <td>quydv1</td>\n",
       "      <td>None</td>\n",
       "      <td>None</td>\n",
       "    </tr>\n",
       "    <tr>\n",
       "      <th>2</th>\n",
       "      <td>41b94130e16048d88fa703a44f39ff8f</td>\n",
       "      <td>0</td>\n",
       "      <td>FINISHED</td>\n",
       "      <td>/home/quydv1/frostmourne/lich/banksim/mlruns/0...</td>\n",
       "      <td>2020-07-14 16:26:50.776000+00:00</td>\n",
       "      <td>2020-07-14 16:26:50.840000+00:00</td>\n",
       "      <td>NaN</td>\n",
       "      <td>NaN</td>\n",
       "      <td>NaN</td>\n",
       "      <td>NaN</td>\n",
       "      <td>...</td>\n",
       "      <td>None</td>\n",
       "      <td>None</td>\n",
       "      <td>None</td>\n",
       "      <td>None</td>\n",
       "      <td>None</td>\n",
       "      <td>/home/quydv1/anaconda3/envs/banksim/lib/python...</td>\n",
       "      <td>LOCAL</td>\n",
       "      <td>quydv1</td>\n",
       "      <td>None</td>\n",
       "      <td>None</td>\n",
       "    </tr>\n",
       "    <tr>\n",
       "      <th>3</th>\n",
       "      <td>2b054f5f9ec7457fbbdcc66fb1212b7e</td>\n",
       "      <td>0</td>\n",
       "      <td>FINISHED</td>\n",
       "      <td>/home/quydv1/frostmourne/lich/banksim/mlruns/0...</td>\n",
       "      <td>2020-07-14 16:06:36.456000+00:00</td>\n",
       "      <td>2020-07-14 16:06:36.604000+00:00</td>\n",
       "      <td>NaN</td>\n",
       "      <td>0.200000</td>\n",
       "      <td>NaN</td>\n",
       "      <td>0.012698</td>\n",
       "      <td>...</td>\n",
       "      <td>LogisticRegressionCV</td>\n",
       "      <td>fe1</td>\n",
       "      <td>1000</td>\n",
       "      <td>PowerTransformer</td>\n",
       "      <td>5</td>\n",
       "      <td>/home/quydv1/anaconda3/envs/banksim/lib/python...</td>\n",
       "      <td>LOCAL</td>\n",
       "      <td>quydv1</td>\n",
       "      <td>Ignore results due to a bug at https://github....</td>\n",
       "      <td>train</td>\n",
       "    </tr>\n",
       "  </tbody>\n",
       "</table>\n",
       "<p>4 rows × 33 columns</p>\n",
       "</div>"
      ],
      "text/plain": [
       "                             run_id experiment_id    status  \\\n",
       "0  cfe84ff3ee5341cc889f79ba61d8acda             0  FINISHED   \n",
       "1  a1448fafcd924ea385ed2b33e2717a04             0  FINISHED   \n",
       "2  41b94130e16048d88fa703a44f39ff8f             0  FINISHED   \n",
       "3  2b054f5f9ec7457fbbdcc66fb1212b7e             0  FINISHED   \n",
       "\n",
       "                                        artifact_uri  \\\n",
       "0  /home/quydv1/frostmourne/lich/banksim/mlruns/0...   \n",
       "1  /home/quydv1/frostmourne/lich/banksim/mlruns/0...   \n",
       "2  /home/quydv1/frostmourne/lich/banksim/mlruns/0...   \n",
       "3  /home/quydv1/frostmourne/lich/banksim/mlruns/0...   \n",
       "\n",
       "                        start_time                         end_time  \\\n",
       "0 2020-07-14 17:34:04.895000+00:00 2020-07-14 17:34:05.056000+00:00   \n",
       "1 2020-07-14 17:28:26.927000+00:00 2020-07-14 17:28:27.089000+00:00   \n",
       "2 2020-07-14 16:26:50.776000+00:00 2020-07-14 16:26:50.840000+00:00   \n",
       "3 2020-07-14 16:06:36.456000+00:00 2020-07-14 16:06:36.604000+00:00   \n",
       "\n",
       "   metrics.holdout_precision  metrics.train_precision  \\\n",
       "0                   0.479592                 0.556411   \n",
       "1                   0.460432                 0.544958   \n",
       "2                        NaN                      NaN   \n",
       "3                        NaN                 0.200000   \n",
       "\n",
       "   metrics.holdout_f1_weighted  metrics.score_time  ...            params.clf  \\\n",
       "0                     0.500156            0.021375  ...    LogisticRegression   \n",
       "1                     0.471899            0.009517  ...    LogisticRegression   \n",
       "2                          NaN                 NaN  ...                  None   \n",
       "3                          NaN            0.012698  ...  LogisticRegressionCV   \n",
       "\n",
       "   params.data  params.max_iter     params.num_tf  params.cv  \\\n",
       "0          fe2             2000  PowerTransformer       None   \n",
       "1          fe2             2000    StandardScaler       None   \n",
       "2         None             None              None       None   \n",
       "3          fe1             1000  PowerTransformer          5   \n",
       "\n",
       "                             tags.mlflow.source.name  tags.mlflow.source.type  \\\n",
       "0  /home/quydv1/anaconda3/envs/banksim/lib/python...                    LOCAL   \n",
       "1  /home/quydv1/anaconda3/envs/banksim/lib/python...                    LOCAL   \n",
       "2  /home/quydv1/anaconda3/envs/banksim/lib/python...                    LOCAL   \n",
       "3  /home/quydv1/anaconda3/envs/banksim/lib/python...                    LOCAL   \n",
       "\n",
       "   tags.mlflow.user                           tags.mlflow.note.content  \\\n",
       "0            quydv1                                               None   \n",
       "1            quydv1                                               None   \n",
       "2            quydv1                                               None   \n",
       "3            quydv1  Ignore results due to a bug at https://github....   \n",
       "\n",
       "   tags.eval_set  \n",
       "0           None  \n",
       "1           None  \n",
       "2           None  \n",
       "3          train  \n",
       "\n",
       "[4 rows x 33 columns]"
      ]
     },
     "execution_count": 167,
     "metadata": {},
     "output_type": "execute_result"
    }
   ],
   "source": [
    "mlflow.search_runs()"
   ]
  },
  {
   "cell_type": "code",
   "execution_count": 168,
   "metadata": {},
   "outputs": [],
   "source": [
    "run_obj = mlflow_client.get_run('cfe84ff3ee5341cc889f79ba61d8acda')"
   ]
  },
  {
   "cell_type": "code",
   "execution_count": 169,
   "metadata": {},
   "outputs": [],
   "source": [
    "mlflow_client.set_tag(run_obj.info.run_id, \"issue\", \"9\")"
   ]
  },
  {
   "cell_type": "code",
   "execution_count": null,
   "metadata": {},
   "outputs": [],
   "source": [
    "run_obj.data"
   ]
  }
 ],
 "metadata": {
  "kernelspec": {
   "display_name": "Python 3",
   "language": "python",
   "name": "python3"
  },
  "language_info": {
   "codemirror_mode": {
    "name": "ipython",
    "version": 3
   },
   "file_extension": ".py",
   "mimetype": "text/x-python",
   "name": "python",
   "nbconvert_exporter": "python",
   "pygments_lexer": "ipython3",
   "version": "3.8.3"
  }
 },
 "nbformat": 4,
 "nbformat_minor": 4
}
