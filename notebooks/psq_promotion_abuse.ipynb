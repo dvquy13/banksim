{
 "cells": [
  {
   "cell_type": "markdown",
   "metadata": {},
   "source": [
    "# Problem set"
   ]
  },
  {
   "cell_type": "markdown",
   "metadata": {},
   "source": [
    "VNPay has been giving out a promotion to encourage customers to try the service: for all new customers, customers get a random chance to receive 30-50% off capped at 50,000VND. The goal is to maximize the company budget and minimise fraudulent abuses.\n",
    "\n",
    "Questions:\n",
    "1. What are the potential fraudulent abuses for this promotion design?\n",
    "2. How would you design a better campaign?"
   ]
  },
  {
   "cell_type": "markdown",
   "metadata": {},
   "source": [
    "# Adding information to the problem"
   ]
  },
  {
   "cell_type": "markdown",
   "metadata": {},
   "source": [
    "1. [VNPay](https://vnpay.vn) is a payment method allowing users to use their Mobile Banking app to pay by scanning the VNPay QR code set up at merchants.\n",
    "2. The campaign targets specifically new customers"
   ]
  },
  {
   "cell_type": "markdown",
   "metadata": {},
   "source": [
    "# Q1: Potential fraudulent abuses"
   ]
  },
  {
   "cell_type": "markdown",
   "metadata": {},
   "source": [
    "An abuse happens when a user hacks the system to benefit more than he's intended. In this case, a customer can fake multiple new-customer identities for themselves to collect more rewards.\n",
    "\n",
    "In Vietnam, a customer can use one identification card to register at multiple banks. Each bank will have a different system to manage the customers. It's likely that this information is private between banks and with VNPay, so it can be difficult to identify whether a new identity is actually a new customer instead of an existing one using different bank account.\n",
    "\n",
    "This type of action should be prevented because it is costly to the company, damages the marketing plan (actual CAC will be 2-3 times higher because [a typical adult in Vietnam opens account at 2 - 3 different banks](https://thebank.vn/blog/7441-moi-nguoi-nen-co-toi-da-bao-nhieu-the-ngan-hang.html)) and affects company reputation.\n",
    "\n",
    "An even worse scenario is that the customers take fraud actions professionally. For example, if VNPay allows multiple users link to one banking account, a thief can programmatically fake their IPs and generate virtual mobile devices on their computers. As this happens systematically and in large scale, the damage can be uncontrollable."
   ]
  },
  {
   "cell_type": "markdown",
   "metadata": {},
   "source": [
    "# Q2: Design better campaign"
   ]
  },
  {
   "cell_type": "markdown",
   "metadata": {},
   "source": [
    "A better campaign will yield the biggest long-term profit to the company. This translates to higher CLV (Customer Lifetime Value) customers and a lower CAC (Customer Acquisition Cost)."
   ]
  },
  {
   "cell_type": "markdown",
   "metadata": {},
   "source": [
    "## Higher CLV"
   ]
  },
  {
   "cell_type": "markdown",
   "metadata": {},
   "source": [
    "We can start with profiling our current customers. Identifying high-value customers and combining with external data sources such as Facebook connections can help us to build look-alikem models. These models prioritize which customers to give promotions, therefore ultimately increase the average CLV of new customers. "
   ]
  },
  {
   "cell_type": "markdown",
   "metadata": {},
   "source": [
    "## Lower CAC"
   ]
  },
  {
   "cell_type": "markdown",
   "metadata": {},
   "source": [
    "## Better fraud detection"
   ]
  },
  {
   "cell_type": "markdown",
   "metadata": {},
   "source": [
    "We can set a total budget on the number of promotions to control damage. However, this will not lower the CAC while restricting the potential new customers that VNPay wants to reach."
   ]
  },
  {
   "cell_type": "markdown",
   "metadata": {},
   "source": [
    "Instead, I propose that VNPay build a fraud detection system that can alert given patterns while a new account being registered. This should be a typical imbalanced-class supervised classification problem powered by historicall fraud data that VNPay already possesses. A successful attempt will decrease the true CAC as it will allow less fake users enter the system."
   ]
  },
  {
   "cell_type": "markdown",
   "metadata": {},
   "source": [
    "## Generate diversed data points for data-driven automated offering"
   ]
  },
  {
   "cell_type": "markdown",
   "metadata": {},
   "source": [
    "Another thing to improve is the `random chance` a customer receive a promotion. The only reason there should be randomness is when we are trying to generate data points for later automated decision making or control bias of the learning algorithm. After this `explore` process, we can `exploit` the data and build a marketing uplift model to decide how much should the chance be."
   ]
  },
  {
   "cell_type": "markdown",
   "metadata": {},
   "source": [
    "Finally, we also do not have to stay fixed at the 30-50% range and the capped of 50,000VND. Aligning with the above idea of `explore`, we should define a more diversed scheme to generate the random values."
   ]
  },
  {
   "cell_type": "code",
   "execution_count": null,
   "metadata": {},
   "outputs": [],
   "source": []
  }
 ],
 "metadata": {
  "kernelspec": {
   "display_name": "Python 3",
   "language": "python",
   "name": "python3"
  },
  "language_info": {
   "codemirror_mode": {
    "name": "ipython",
    "version": 3
   },
   "file_extension": ".py",
   "mimetype": "text/x-python",
   "name": "python",
   "nbconvert_exporter": "python",
   "pygments_lexer": "ipython3",
   "version": "3.8.3"
  }
 },
 "nbformat": 4,
 "nbformat_minor": 4
}
