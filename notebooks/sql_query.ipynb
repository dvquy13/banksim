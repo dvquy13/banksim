{
 "cells": [
  {
   "cell_type": "markdown",
   "metadata": {},
   "source": [
    "# Problem set"
   ]
  },
  {
   "cell_type": "markdown",
   "metadata": {},
   "source": [
    "Question 1: Find customers who use multiple service categories, listing all of their service categories and merchants in that category.\n",
    "\n",
    "Question 2: Rank customers by the number of unique merchants they have used in the last 30 days."
   ]
  },
  {
   "cell_type": "markdown",
   "metadata": {},
   "source": [
    "# Steps"
   ]
  },
  {
   "cell_type": "markdown",
   "metadata": {},
   "source": [
    "I pulled the mysql/latest docker image, create a container, push data there and run SQL.\n",
    "\n",
    "Check out [this](https://github.com/dvquy13/banksim/tree/48456a26feb11af817883e811ee4583ec84f5345) to find the necessary attachments."
   ]
  },
  {
   "cell_type": "markdown",
   "metadata": {},
   "source": [
    "#### [Answer of Question 1](https://github.com/dvquy13/banksim/blob/48456a26feb11af817883e811ee4583ec84f5345/sql/03_q1) is in: `sql/03_q1`. Detail:"
   ]
  },
  {
   "cell_type": "markdown",
   "metadata": {},
   "source": [
    "```\n",
    "-- MySQL 8.0.20\n",
    "-- Find customers who use multiple service categories, listing all of their service categories and merchants in that category.\n",
    "\n",
    "with\n",
    "  valid_customers as (\n",
    "    select\n",
    "      customer,\n",
    "      count(distinct category) as cnt_cate\n",
    "    from\n",
    "      banksim.transaction\n",
    "    group by\n",
    "      1\n",
    "    having\n",
    "      cnt_cate > 1\n",
    "  )\n",
    "\n",
    "select distinct\n",
    "  vc.customer,\n",
    "  vc.cnt_cate,\n",
    "  bt.category,\n",
    "  bt.merchant\n",
    "from\n",
    "  banksim.transaction as bt\n",
    "join\n",
    "  valid_customers as vc\n",
    "using\n",
    "  (customer);\n",
    "```"
   ]
  },
  {
   "cell_type": "markdown",
   "metadata": {},
   "source": [
    "#### [Answer of Question 2](https://github.com/dvquy13/banksim/blob/48456a26feb11af817883e811ee4583ec84f5345/sql/04_q2) is in: `sql/04_q2`. Detail:"
   ]
  },
  {
   "cell_type": "markdown",
   "metadata": {},
   "source": [
    "```\n",
    "-- MySQL 8.0.20\n",
    "-- Rank customers by the number of unique merchants they have used in the last 30 days\n",
    "\n",
    "use banksim;\n",
    "set @interval = 30;\n",
    "-- to remove ONLY_FULL_GROUP_BY\n",
    "set sql_mode='';\n",
    "\n",
    "with\n",
    "  agg_stats as (\n",
    "    select\n",
    "      max(step) as max_step\n",
    "    from\n",
    "      transaction\n",
    "  )\n",
    "\n",
    "select\n",
    "  customer,\n",
    "  count(distinct merchant) as cnt_mc\n",
    "from\n",
    "  transaction,\n",
    "  agg_stats\n",
    "where\n",
    "  -- last 30 days means from 151 to 180 inclusive so we add 1\n",
    "  step >= (agg_stats.max_step - @interval + 1)\n",
    "group by\n",
    "  1\n",
    "order by\n",
    "  2 desc;\n",
    "```"
   ]
  },
  {
   "cell_type": "code",
   "execution_count": null,
   "metadata": {},
   "outputs": [],
   "source": []
  }
 ],
 "metadata": {
  "kernelspec": {
   "display_name": "Python 3",
   "language": "python",
   "name": "python3"
  },
  "language_info": {
   "codemirror_mode": {
    "name": "ipython",
    "version": 3
   },
   "file_extension": ".py",
   "mimetype": "text/x-python",
   "name": "python",
   "nbconvert_exporter": "python",
   "pygments_lexer": "ipython3",
   "version": "3.8.3"
  }
 },
 "nbformat": 4,
 "nbformat_minor": 4
}
